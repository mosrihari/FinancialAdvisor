{
 "cells": [
  {
   "cell_type": "markdown",
   "metadata": {},
   "source": [
    "# Check gradio working"
   ]
  },
  {
   "cell_type": "code",
   "execution_count": 5,
   "metadata": {},
   "outputs": [
    {
     "name": "stdout",
     "output_type": "stream",
     "text": [
      "Running on local URL:  http://127.0.0.1:7863\n",
      "\n",
      "To create a public link, set `share=True` in `launch()`.\n"
     ]
    },
    {
     "data": {
      "text/html": [
       "<div><iframe src=\"http://127.0.0.1:7863/\" width=\"100%\" height=\"500\" allow=\"autoplay; camera; microphone; clipboard-read; clipboard-write;\" frameborder=\"0\" allowfullscreen></iframe></div>"
      ],
      "text/plain": [
       "<IPython.core.display.HTML object>"
      ]
     },
     "metadata": {},
     "output_type": "display_data"
    },
    {
     "data": {
      "text/plain": []
     },
     "execution_count": 5,
     "metadata": {},
     "output_type": "execute_result"
    }
   ],
   "source": [
    "import random\n",
    "import gradio as gr\n",
    "\n",
    "def alternatingly_agree(message, history):\n",
    "    if len(history) % 2 == 0:\n",
    "        return f\"Yes, I do think that '{message}'\"\n",
    "    else:\n",
    "        return \"I don't think so\"\n",
    "\n",
    "iface = gr.ChatInterface(alternatingly_agree)\n",
    "iface.launch()"
   ]
  },
  {
   "cell_type": "code",
   "execution_count": 6,
   "metadata": {},
   "outputs": [
    {
     "name": "stdout",
     "output_type": "stream",
     "text": [
      "Closing server running on port: 7863\n"
     ]
    }
   ],
   "source": [
    "iface.close()"
   ]
  },
  {
   "cell_type": "markdown",
   "metadata": {},
   "source": [
    "# Combining all to gradio"
   ]
  },
  {
   "cell_type": "code",
   "execution_count": 1,
   "metadata": {},
   "outputs": [
    {
     "name": "stderr",
     "output_type": "stream",
     "text": [
      "d:\\Raghu Studies\\FinancialAdvisor\\.src_financial_advisor\\Lib\\site-packages\\tqdm\\auto.py:21: TqdmWarning: IProgress not found. Please update jupyter and ipywidgets. See https://ipywidgets.readthedocs.io/en/stable/user_install.html\n",
      "  from .autonotebook import tqdm as notebook_tqdm\n"
     ]
    }
   ],
   "source": [
    "import gradio as gr\n",
    "import ollama"
   ]
  },
  {
   "cell_type": "code",
   "execution_count": 5,
   "metadata": {},
   "outputs": [
    {
     "name": "stdout",
     "output_type": "stream",
     "text": [
      "showing info https://raw.githubusercontent.com/nltk/nltk_data/gh-pages/index.xml\n"
     ]
    },
    {
     "data": {
      "text/plain": [
       "True"
      ]
     },
     "execution_count": 5,
     "metadata": {},
     "output_type": "execute_result"
    }
   ],
   "source": [
    "import nltk\n",
    "nltk.download()"
   ]
  },
  {
   "cell_type": "code",
   "execution_count": 14,
   "metadata": {},
   "outputs": [],
   "source": [
    "from nltk.tokenize import word_tokenize\n",
    "question_words = [\"what\", \"why\", \"when\", \"where\", \n",
    "             \"name\", \"is\", \"how\", \"do\", \"does\", \n",
    "             \"which\", \"are\", \"could\", \"would\", \n",
    "             \"should\", \"has\", \"have\", \"whom\", \"whose\", \"don't\"]\n",
    "\n",
    "def check_question(question):\n",
    "    question = question.lower()\n",
    "    question = word_tokenize(question)\n",
    "    if any(x in question for x in question_words):\n",
    "        return 1\n",
    "    else:\n",
    "        return 0"
   ]
  },
  {
   "cell_type": "code",
   "execution_count": 19,
   "metadata": {},
   "outputs": [
    {
     "data": {
      "text/plain": [
       "'I am 30 years old Should I invest in CDSL?'"
      ]
     },
     "execution_count": 19,
     "metadata": {},
     "output_type": "execute_result"
    }
   ],
   "source": []
  },
  {
   "cell_type": "code",
   "execution_count": 21,
   "metadata": {},
   "outputs": [
    {
     "name": "stdout",
     "output_type": "stream",
     "text": [
      "Running on local URL:  http://127.0.0.1:7862\n",
      "\n",
      "To create a public link, set `share=True` in `launch()`.\n"
     ]
    },
    {
     "data": {
      "text/html": [
       "<div><iframe src=\"http://127.0.0.1:7862/\" width=\"100%\" height=\"500\" allow=\"autoplay; camera; microphone; clipboard-read; clipboard-write;\" frameborder=\"0\" allowfullscreen></iframe></div>"
      ],
      "text/plain": [
       "<IPython.core.display.HTML object>"
      ]
     },
     "metadata": {},
     "output_type": "display_data"
    },
    {
     "data": {
      "text/plain": []
     },
     "execution_count": 21,
     "metadata": {},
     "output_type": "execute_result"
    }
   ],
   "source": [
    "chat_list = []\n",
    "merged_prompt = \"ABOUT_ME:{}QUESTION:{}CONTEXT:{}\"\n",
    "def respond_chat(message, history):\n",
    "    \n",
    "    chat_list.append(message)\n",
    "    is_question = check_question(message)\n",
    "    if is_question:\n",
    "        \n",
    "        response = ollama.chat(model='mosrihari/unsloth_finance_alpaca', messages=[\n",
    "                {\"role\": \"user\", \"content\": merged_prompt.format(\n",
    "                        \"I am 30 yeard old and I am planning on a long term investment\",\n",
    "                        \"Should I invest in CDSL?\",\n",
    "                        \"CDSL is a Central Depository where all the stocks when people invest go through that channel. Its a monopoly in India\"\n",
    "                    )},\n",
    "                ])\n",
    "        return response['message']['content']\n",
    "    else:\n",
    "        return \"Ask question about where you want to invest\"\n",
    "iface = gr.ChatInterface(respond_chat)\n",
    "iface.launch()"
   ]
  },
  {
   "cell_type": "code",
   "execution_count": 22,
   "metadata": {},
   "outputs": [
    {
     "name": "stdout",
     "output_type": "stream",
     "text": [
      "Closing server running on port: 7862\n"
     ]
    }
   ],
   "source": [
    "iface.close()"
   ]
  },
  {
   "cell_type": "markdown",
   "metadata": {},
   "source": [
    "# Consume from kafka OLLAMA"
   ]
  },
  {
   "cell_type": "code",
   "execution_count": 4,
   "metadata": {},
   "outputs": [],
   "source": [
    "import ollama\n",
    "from kafka import KafkaConsumer\n",
    "import ast"
   ]
  },
  {
   "cell_type": "code",
   "execution_count": 5,
   "metadata": {},
   "outputs": [
    {
     "name": "stdout",
     "output_type": "stream",
     "text": [
      "Message consumed: {\"about_me\": \"I am 30 years and I am looking for long term investment\", \"question\": \"Should I invest in facebook?\", \"context\": [[\"Microsoft Corp (NASDAQ:MSFT) LinkedIn is deploying artificial intelligence to offer career advice and has introduced games to the platform, aiming to attract users more frequently and stimulate growth in the competitive social media landscape. LinkedIn has recently rolled out daily puzzles and AI features to craft articles that provide worker guidance, the Financial Times reports. The platform, traditionally a professional development tool, sees less frequent logins than entertainment-focused networks like Meta Platforms Inc&#8217;s (NASDAQ:META) Facebook and TikTok. Also Read: LinkedIn Co-Founder Criticizes Trump Media&#8217;s $6B Valuation Compared to Meta &#8211; What&#8217;s Going On? Editor-in-chief Daniel Roth told the Financial Times that the goal is to build a daily habit among users. LinkedIn reported a record engagement of 1.5 million content interactions per minute in June. Analytics firm Similarweb noted that visits to LinkedIn, which reached 1.8 billion last month, have increased recently, but growth has slowed since early 2024. Year-on-year growth of site visits was just 5% in June, down from the higher rates of 2021 and 2022. Media analyst Kelsey Chickering from Forrester told the Financial Times that LinkedIn might need to make the platform &#8216;stickier&#8217; to sustain growth. In an effort to engage users more, LinkedIn has started implementing algorithmically driven feeds similar to platforms like X, TikTok, and Instagram. In March, LinkedIn announced that its Premium subscription grew by 25% year over year,&nbsp;reaching $1.7 billion in revenue, thanks to its AI features. LinkedIn&#8217;s annual revenue reached over $13.8 billion in fiscal 2022, up from $10.3 billion in fiscal 2021, as per SignHouse. Price Action: MSFT shares were trading higher by 0.70% at $440.15 premarket at the last check on Monday. Also Read: LinkedIn Unveils Premium Pages, New Subscription Plan Offers Exclusive Growth Tools For Small Businesses Disclaimer: This content was partially produced with the help of AI tools and was reviewed and published by Benzinga editors. Photo via Wikimedia Commons\", \"A recent Benzinga poll found that investors favor having lunch with Tesla Inc (NASDAQ:TSLA) CEO Elon Musk over other legendary investors. What Happened: \\\"If you could choose to have a free business lunch, which of the following would you pick to host you?\\\" Benzinga asked last week. The options and results were: Elon Musk: 55.8% Warren Buffett: 28.5% Jeff Bezos: 9.0% Bill Gates: 6.7% Musk was the overwhelming favorite over the CEO of Berkshire Hathaway Inc (NYSE:BRK)(NYSE:BRK) and founders of Amazon.com Inc (NASDAQ:AMZN) and Microsoft Corporation (NASDAQ:MSFT). One of the richest people in the world, Musk is the most followed person on social media platform X. He has his share of fans and enemies, given his outspoken nature on a number of items, including business, politics, free speech and international relations. Another Benzinga poll took a look at what topic people would most like to ask Musk. The results were: Space: 32.3% Electric Vehicles: 13.8% AI: 38.5% Other: 15.4% Though the topic of electric vehicles ranked last in the poll, investors should know that Tesla stock is up over 1,600% in the last 10 years, as seen on the Benzinga Chart below. Read Also: Happy Birthday Elon Musk: 53 Facts And Figures About Tesla, SpaceX CEO On His 53rd Birthday Why It's Important: Lunch with the business figures above most likely wouldn't be free, for the average investor. In fact, Buffett famously auctioned off lunch with him for charity. From 2008 to 2022, the charity lunch raised over $53 million for The Glide Foundation, bringing in over $1 million annually. The 2022 lunch went for a record $19 million. Ted Weschler famously paid $5 million combined for the lunches in 2010 and 2011 and was able to turn them into a job he is now an investment manager at Berkshire Hathaway. A similar survey by Benzinga asked followers to pick who they would prefer to sit next to on a plane. A seat next to Musk and Mark Zuckerberg led the way with 45% of the vote. A seat by Buffett ranked second at 22%. A seat by Gates was third to last at 4%. Bezos was not an option. Read Next: Warren Buffett Charity Lunch Auction Is No More: The CEO Who Will Replace Legendary Investor In This Year&#8217;s Offering Photo: Shutterstock\", \"Trump Media &amp; Technology Group (NASDAQ:DJT), the owner of Truth Social, has seen its valuation soar to a surprising $6 billion, even after a recent decline in its share price. This figure has drawn incredulity from industry experts, given the company&#8217;s modest revenue and user base compared to major social media platforms. Microsoft Corp&#8217;s (NASDAQ:MSFT) LinkedIn co-founder and venture capitalist Reid Hoffman expressed his disbelief at the valuation, CNN reports. In 2023, Trump Media generated only $4.1 million in revenue, resulting in a price-to-sales ratio of over 1,400. In contrast, social media giant Meta Platforms Inc (NASDAQ:META) has a price-to-sales ratio of just nine. Hoffman suggested a more appropriate valuation for Trump Media would be around $40 million. The sharp decline in Trump Media&#8217;s share price began on May 30, following Donald Trump&#8217;s conviction on 34 felony counts. University of Florida finance professor Jay Ritter and media mogul Barry Diller have both criticized the stock&#8217;s valuation, with Diller describing it as a &#8220;scam.&#8221; TMTG stock gained 186% in the last 12 months. Should I Sell My DJT Stock? Whether to sell or hold a stock largely depends on an investor's strategy and risk tolerance. Swing traders may sell an outperforming stock to lock in a capital gain, while long-term investors might ride out the turbulence in anticipation of further share price growth. Similarly, traders willing to minimize losses may sell a stock that falls a certain percentage, while long-term investors may see this as an opportunity to buy more shares at a discounted price. Shares of Trump Media &amp; Technology have gained 187.28% year to date. This compares to the average annual return of 54.04%, meaning the stock has outperformed its historical averages. Investors can compare a stock's movement to its historical performance to gauge whether this is a normal movement or a potential trading opportunity. Investors may also consider market dynamics. The Relative Strength Index can be used to indicate whether a stock is overbought or oversold. Trump Media &amp; Technology stock currently has an RSI of 53.06, indicating neutral conditions. For analysis tools, charting data and access to exclusive stock news, check out Benzinga PRO. Try it for free. Price Action:&nbsp;DJT shares were trading lower by 3.13% to $35.22 premarket at the last check on Wednesday. Disclaimer: This content was partially produced with the help of AI tools and was reviewed and published by Benzinga editors. Photo via Shutterstock\", \"Reddit user Asdeev_Drago sparked a lively debate on r/stocks, seeking advice on where to invest $4.9K after already buying Nvidia Corp (NASDAQ:NVDA), Palantir Technologies Inc (NYSE:PLTR), and Rocket Lab USA Inc (NASDAQ:RKLB) shares. Here's a roundup of the best stock picks and insights from the community. Best long term stocks to invest in? byu/Asdeev_Drago instocks Microsoft: The Tech Giant's Appeal u/DOGEWHALE was quick to recommend Microsoft Corp (NASDAQ:MSFT), describing it as &#8220;basically a tech ETF&#8221; due to its diversification and stability. u/Dry-Tough4139 echoed this sentiment, noting Microsoft's resilience among the Magnificent 7. They highlighted the company's cloud and subscription-based business software as major revenue drivers. u/thememanss added that Microsoft's entrenched position as a business essential gives it a robust moat, making it a solid long-term investment. Amazon: Dominating Multiple Sectors u/ironcladjogging emerged as a huge Amazon.com Inc (NASDAQ:AMZN) bull, listing the company's extensive reach across e-commerce, cloud computing, AI, video streaming, advertising, shipping, healthcare, and space as reasons for its long-term growth potential. They emphasized Amazon's dominance in multiple sectors and aggressive investment in future technologies. u/CAN_ONLY_ODD further pointed out Amazon's untapped potential in the grocery market, suggesting that cracking this sector could significantly boost its ecosystem. Also Read: Amazon Plans Major Alexa Overhaul With AI-Powered Features: Report Diversification vs. Concentration While some users leaned towards individual tech stocks, others advocated for a more diversified approach. u/jsmith47944 suggested that with an already aggressive portfolio, adding an ETF like SPDR S&amp;P 500 ETF (NYSE:SPY) could offer a balanced risk-reward ratio. For those sticking with tech, u/MrTouchnGo recommended Vanguard S&amp;P 500 ETF (NYSE:VOO) over SPY due to its better expense ratio. The Palantir Debate Palantir also sparked debate. u/T-Bone22 questioned its appeal, noting its stagnant performance over the past two years. u/Hail_To_Pitt2626 countered, arguing that Palantir is building a \\\"massive sticky moat\\\" and is poised for a breakout, potentially joining the S&amp;P 500 within nine months. However, u/seasick__crocodile dismissed these claims as exaggerated, while u/RevolutionaryPhoto24 expressed skepticism about Palantir's long-term viability despite its AI and defense hype. The r/stocks community offered a range of insights, from the safety and resilience of Microsoft to the expansive growth potential of Amazon. While opinions varied, the consensus leaned towards tech giants with strong fundamentals and future growth prospects. Read Next: Roku Stock&#8217;s Wild Ride: Bullish Analysts Bet On Growth Despite Competitive Threats Photo: Shutterstock\", \"Reddit Inc. (NYSE:RDDT) has projected third-quarter revenue that surpasses Wall Street&#8217;s expectations, indicating a rebounding digital ad market. However, the stock experienced a decline in extended trading. What Happened: Reddit&#8217;s forecast for the third quarter, its second since going public in March, suggests a resurgence in the digital ad market, attracting more advertisers to the platform, reported Reuters. Analysts have attributed the stock&#8217;s decline to the upcoming end of the pre-IPO lockup for private or pre-IPO investors on Friday. Additionally, the stock&#8217;s low average revenue per user (ARPU) growth and the conservative quarterly forecast have also been cited as reasons for the downturn. Despite these factors, Reddit&#8217;s earnings have sparked optimism about the company&#8217;s content licensing deals with Alphabet Inc. (NASDAQ:GOOGL) (NASDAQ:GOOG) and Microsoft Corp. (NASDAQ:MSFT) backed OpenAI. Reddit&#8217;s CEO, Steve Huffman, announced plans to test new AI-powered search results later this year. The company expects its third-quarter revenue to be between $290 million and $310 million, compared to analysts&#8217; average estimate of $278.7 million, according to LSEG data. &#8220;(This) is probably a &#8216;sell the news&#8217; reaction to get out of the stock ahead of this Friday, when the pre-IPO lockup ends for private or pre-IPO investors,&#8221; Michael Ashley Schulman, Chief Investment Officer, Running Point Capital said. See Also: Donald Trump Blames Kamala Harris For Global Market Crash, Says &#8216;We Are Heading To World War III&#8217; Why It Matters: Reddit&#8217;s forecast comes on the heels of a strong second-quarter performance, where the company reported a revenue of $281.2 million, a 54% increase from the previous year. The company&#8217;s daily active unique visitors also rose by 51% to 91.2 million in the second quarter, while its global ARPU increased by about 2% to $3.08. Despite these positive results, the company&#8217;s shares experienced a decline in extended trading. Reddit&#8217;s strong performance in the second quarter showed a significant increase in daily active unique users by 51% year-over-year. This growth in user engagement is crucial for attracting advertisers, which is a key revenue stream for the platform. In May, JPMorgan highlighted Reddit&#8217;s enhanced advertising tools as drivers for &#8220;sizable upside.&#8221; The company&#8217;s first-quarter results had already surpassed expectations, setting a positive tone for subsequent quarters. Furthermore, the debate about Reddit&#8217;s value underscores the platform&#8217;s potential and the high expectations from its user base and investors. Price Action: Reddit Inc. closed at $54.36 on Tuesday, down 4.31%. In after-hours trading, the stock continued to decline, falling by an additional 4.53%. However, year to date, Reddit Inc. has seen an overall increase of 7.77%, according to data from Benzinga Pro. Read Next: Strategist Warns &#8216;There&#8217;s A Serious Collapse That&#8217;s Coming&#8217; After Monday&#8217;s Global Market Crash: &#8216;Tons And Tons Of Yen Carry TradesHave To Be Closed Out&#8217; Image Via Shutterstock This story was generated using Benzinga Neuro and edited by Kaustubh Bagalkote\"]], \"summary\": \"Benzinga poll: investors favor having lunch with Tesla CEO Elon Musk over other legendary investors. u/ironcladjogging emerged as a huge amazon.com stock bull, highlighting its broad reach across multiple sectors. u/thememanss noted that amazon's cloud and subscription-based business software is a major revenue driver.\"} of type <class 'kafka.consumer.fetcher.ConsumerRecord'> from partition 0, offset 0\n"
     ]
    }
   ],
   "source": [
    "consumer = KafkaConsumer(\n",
    "    'summary',               # Topic name\n",
    "    bootstrap_servers='localhost:9092',  # Kafka broker\n",
    "    auto_offset_reset='earliest',        # Start at the earliest available message\n",
    "    enable_auto_commit=True,             # Automatically commit offsets\n",
    "    group_id='summary-group',      # Consumer group ID\n",
    "    value_deserializer=lambda x: x.decode('utf-8')  # Decode message from bytes to string\n",
    "    )\n",
    "try:\n",
    "    for message in consumer:\n",
    "        # Print consumed message\n",
    "        print(f\"Message consumed: {message.value} of type {type(message)} from partition {message.partition}, offset {message.offset}\")\n",
    "        data = message.value\n",
    "        data = ast.literal_eval(data)\n",
    "        break\n",
    "except:\n",
    "    print(\"Stopping consumer...\")\n",
    "consumer.close()"
   ]
  },
  {
   "cell_type": "code",
   "execution_count": 6,
   "metadata": {},
   "outputs": [
    {
     "data": {
      "text/plain": [
       "{'about_me': 'I am 30 years and I am looking for long term investment',\n",
       " 'question': 'Should I invest in facebook?',\n",
       " 'context': [['Microsoft Corp (NASDAQ:MSFT) LinkedIn is deploying artificial intelligence to offer career advice and has introduced games to the platform, aiming to attract users more frequently and stimulate growth in the competitive social media landscape. LinkedIn has recently rolled out daily puzzles and AI features to craft articles that provide worker guidance, the Financial Times reports. The platform, traditionally a professional development tool, sees less frequent logins than entertainment-focused networks like Meta Platforms Inc&#8217;s (NASDAQ:META) Facebook and TikTok. Also Read: LinkedIn Co-Founder Criticizes Trump Media&#8217;s $6B Valuation Compared to Meta &#8211; What&#8217;s Going On? Editor-in-chief Daniel Roth told the Financial Times that the goal is to build a daily habit among users. LinkedIn reported a record engagement of 1.5 million content interactions per minute in June. Analytics firm Similarweb noted that visits to LinkedIn, which reached 1.8 billion last month, have increased recently, but growth has slowed since early 2024. Year-on-year growth of site visits was just 5% in June, down from the higher rates of 2021 and 2022. Media analyst Kelsey Chickering from Forrester told the Financial Times that LinkedIn might need to make the platform &#8216;stickier&#8217; to sustain growth. In an effort to engage users more, LinkedIn has started implementing algorithmically driven feeds similar to platforms like X, TikTok, and Instagram. In March, LinkedIn announced that its Premium subscription grew by 25% year over year,&nbsp;reaching $1.7 billion in revenue, thanks to its AI features. LinkedIn&#8217;s annual revenue reached over $13.8 billion in fiscal 2022, up from $10.3 billion in fiscal 2021, as per SignHouse. Price Action: MSFT shares were trading higher by 0.70% at $440.15 premarket at the last check on Monday. Also Read: LinkedIn Unveils Premium Pages, New Subscription Plan Offers Exclusive Growth Tools For Small Businesses Disclaimer: This content was partially produced with the help of AI tools and was reviewed and published by Benzinga editors. Photo via Wikimedia Commons',\n",
       "   'A recent Benzinga poll found that investors favor having lunch with Tesla Inc (NASDAQ:TSLA) CEO Elon Musk over other legendary investors. What Happened: \"If you could choose to have a free business lunch, which of the following would you pick to host you?\" Benzinga asked last week. The options and results were: Elon Musk: 55.8% Warren Buffett: 28.5% Jeff Bezos: 9.0% Bill Gates: 6.7% Musk was the overwhelming favorite over the CEO of Berkshire Hathaway Inc (NYSE:BRK)(NYSE:BRK) and founders of Amazon.com Inc (NASDAQ:AMZN) and Microsoft Corporation (NASDAQ:MSFT). One of the richest people in the world, Musk is the most followed person on social media platform X. He has his share of fans and enemies, given his outspoken nature on a number of items, including business, politics, free speech and international relations. Another Benzinga poll took a look at what topic people would most like to ask Musk. The results were: Space: 32.3% Electric Vehicles: 13.8% AI: 38.5% Other: 15.4% Though the topic of electric vehicles ranked last in the poll, investors should know that Tesla stock is up over 1,600% in the last 10 years, as seen on the Benzinga Chart below. Read Also: Happy Birthday Elon Musk: 53 Facts And Figures About Tesla, SpaceX CEO On His 53rd Birthday Why It\\'s Important: Lunch with the business figures above most likely wouldn\\'t be free, for the average investor. In fact, Buffett famously auctioned off lunch with him for charity. From 2008 to 2022, the charity lunch raised over $53 million for The Glide Foundation, bringing in over $1 million annually. The 2022 lunch went for a record $19 million. Ted Weschler famously paid $5 million combined for the lunches in 2010 and 2011 and was able to turn them into a job he is now an investment manager at Berkshire Hathaway. A similar survey by Benzinga asked followers to pick who they would prefer to sit next to on a plane. A seat next to Musk and Mark Zuckerberg led the way with 45% of the vote. A seat by Buffett ranked second at 22%. A seat by Gates was third to last at 4%. Bezos was not an option. Read Next: Warren Buffett Charity Lunch Auction Is No More: The CEO Who Will Replace Legendary Investor In This Year&#8217;s Offering Photo: Shutterstock',\n",
       "   \"Trump Media &amp; Technology Group (NASDAQ:DJT), the owner of Truth Social, has seen its valuation soar to a surprising $6 billion, even after a recent decline in its share price. This figure has drawn incredulity from industry experts, given the company&#8217;s modest revenue and user base compared to major social media platforms. Microsoft Corp&#8217;s (NASDAQ:MSFT) LinkedIn co-founder and venture capitalist Reid Hoffman expressed his disbelief at the valuation, CNN reports. In 2023, Trump Media generated only $4.1 million in revenue, resulting in a price-to-sales ratio of over 1,400. In contrast, social media giant Meta Platforms Inc (NASDAQ:META) has a price-to-sales ratio of just nine. Hoffman suggested a more appropriate valuation for Trump Media would be around $40 million. The sharp decline in Trump Media&#8217;s share price began on May 30, following Donald Trump&#8217;s conviction on 34 felony counts. University of Florida finance professor Jay Ritter and media mogul Barry Diller have both criticized the stock&#8217;s valuation, with Diller describing it as a &#8220;scam.&#8221; TMTG stock gained 186% in the last 12 months. Should I Sell My DJT Stock? Whether to sell or hold a stock largely depends on an investor's strategy and risk tolerance. Swing traders may sell an outperforming stock to lock in a capital gain, while long-term investors might ride out the turbulence in anticipation of further share price growth. Similarly, traders willing to minimize losses may sell a stock that falls a certain percentage, while long-term investors may see this as an opportunity to buy more shares at a discounted price. Shares of Trump Media &amp; Technology have gained 187.28% year to date. This compares to the average annual return of 54.04%, meaning the stock has outperformed its historical averages. Investors can compare a stock's movement to its historical performance to gauge whether this is a normal movement or a potential trading opportunity. Investors may also consider market dynamics. The Relative Strength Index can be used to indicate whether a stock is overbought or oversold. Trump Media &amp; Technology stock currently has an RSI of 53.06, indicating neutral conditions. For analysis tools, charting data and access to exclusive stock news, check out Benzinga PRO. Try it for free. Price Action:&nbsp;DJT shares were trading lower by 3.13% to $35.22 premarket at the last check on Wednesday. Disclaimer: This content was partially produced with the help of AI tools and was reviewed and published by Benzinga editors. Photo via Shutterstock\",\n",
       "   'Reddit user Asdeev_Drago sparked a lively debate on r/stocks, seeking advice on where to invest $4.9K after already buying Nvidia Corp (NASDAQ:NVDA), Palantir Technologies Inc (NYSE:PLTR), and Rocket Lab USA Inc (NASDAQ:RKLB) shares. Here\\'s a roundup of the best stock picks and insights from the community. Best long term stocks to invest in? byu/Asdeev_Drago instocks Microsoft: The Tech Giant\\'s Appeal u/DOGEWHALE was quick to recommend Microsoft Corp (NASDAQ:MSFT), describing it as &#8220;basically a tech ETF&#8221; due to its diversification and stability. u/Dry-Tough4139 echoed this sentiment, noting Microsoft\\'s resilience among the Magnificent 7. They highlighted the company\\'s cloud and subscription-based business software as major revenue drivers. u/thememanss added that Microsoft\\'s entrenched position as a business essential gives it a robust moat, making it a solid long-term investment. Amazon: Dominating Multiple Sectors u/ironcladjogging emerged as a huge Amazon.com Inc (NASDAQ:AMZN) bull, listing the company\\'s extensive reach across e-commerce, cloud computing, AI, video streaming, advertising, shipping, healthcare, and space as reasons for its long-term growth potential. They emphasized Amazon\\'s dominance in multiple sectors and aggressive investment in future technologies. u/CAN_ONLY_ODD further pointed out Amazon\\'s untapped potential in the grocery market, suggesting that cracking this sector could significantly boost its ecosystem. Also Read: Amazon Plans Major Alexa Overhaul With AI-Powered Features: Report Diversification vs. Concentration While some users leaned towards individual tech stocks, others advocated for a more diversified approach. u/jsmith47944 suggested that with an already aggressive portfolio, adding an ETF like SPDR S&amp;P 500 ETF (NYSE:SPY) could offer a balanced risk-reward ratio. For those sticking with tech, u/MrTouchnGo recommended Vanguard S&amp;P 500 ETF (NYSE:VOO) over SPY due to its better expense ratio. The Palantir Debate Palantir also sparked debate. u/T-Bone22 questioned its appeal, noting its stagnant performance over the past two years. u/Hail_To_Pitt2626 countered, arguing that Palantir is building a \"massive sticky moat\" and is poised for a breakout, potentially joining the S&amp;P 500 within nine months. However, u/seasick__crocodile dismissed these claims as exaggerated, while u/RevolutionaryPhoto24 expressed skepticism about Palantir\\'s long-term viability despite its AI and defense hype. The r/stocks community offered a range of insights, from the safety and resilience of Microsoft to the expansive growth potential of Amazon. While opinions varied, the consensus leaned towards tech giants with strong fundamentals and future growth prospects. Read Next: Roku Stock&#8217;s Wild Ride: Bullish Analysts Bet On Growth Despite Competitive Threats Photo: Shutterstock',\n",
       "   'Reddit Inc. (NYSE:RDDT) has projected third-quarter revenue that surpasses Wall Street&#8217;s expectations, indicating a rebounding digital ad market. However, the stock experienced a decline in extended trading. What Happened: Reddit&#8217;s forecast for the third quarter, its second since going public in March, suggests a resurgence in the digital ad market, attracting more advertisers to the platform, reported Reuters. Analysts have attributed the stock&#8217;s decline to the upcoming end of the pre-IPO lockup for private or pre-IPO investors on Friday. Additionally, the stock&#8217;s low average revenue per user (ARPU) growth and the conservative quarterly forecast have also been cited as reasons for the downturn. Despite these factors, Reddit&#8217;s earnings have sparked optimism about the company&#8217;s content licensing deals with Alphabet Inc. (NASDAQ:GOOGL) (NASDAQ:GOOG) and Microsoft Corp. (NASDAQ:MSFT) backed OpenAI. Reddit&#8217;s CEO, Steve Huffman, announced plans to test new AI-powered search results later this year. The company expects its third-quarter revenue to be between $290 million and $310 million, compared to analysts&#8217; average estimate of $278.7 million, according to LSEG data. &#8220;(This) is probably a &#8216;sell the news&#8217; reaction to get out of the stock ahead of this Friday, when the pre-IPO lockup ends for private or pre-IPO investors,&#8221; Michael Ashley Schulman, Chief Investment Officer, Running Point Capital said. See Also: Donald Trump Blames Kamala Harris For Global Market Crash, Says &#8216;We Are Heading To World War III&#8217; Why It Matters: Reddit&#8217;s forecast comes on the heels of a strong second-quarter performance, where the company reported a revenue of $281.2 million, a 54% increase from the previous year. The company&#8217;s daily active unique visitors also rose by 51% to 91.2 million in the second quarter, while its global ARPU increased by about 2% to $3.08. Despite these positive results, the company&#8217;s shares experienced a decline in extended trading. Reddit&#8217;s strong performance in the second quarter showed a significant increase in daily active unique users by 51% year-over-year. This growth in user engagement is crucial for attracting advertisers, which is a key revenue stream for the platform. In May, JPMorgan highlighted Reddit&#8217;s enhanced advertising tools as drivers for &#8220;sizable upside.&#8221; The company&#8217;s first-quarter results had already surpassed expectations, setting a positive tone for subsequent quarters. Furthermore, the debate about Reddit&#8217;s value underscores the platform&#8217;s potential and the high expectations from its user base and investors. Price Action: Reddit Inc. closed at $54.36 on Tuesday, down 4.31%. In after-hours trading, the stock continued to decline, falling by an additional 4.53%. However, year to date, Reddit Inc. has seen an overall increase of 7.77%, according to data from Benzinga Pro. Read Next: Strategist Warns &#8216;There&#8217;s A Serious Collapse That&#8217;s Coming&#8217; After Monday&#8217;s Global Market Crash: &#8216;Tons And Tons Of Yen Carry TradesHave To Be Closed Out&#8217; Image Via Shutterstock This story was generated using Benzinga Neuro and edited by Kaustubh Bagalkote']],\n",
       " 'summary': \"Benzinga poll: investors favor having lunch with Tesla CEO Elon Musk over other legendary investors. u/ironcladjogging emerged as a huge amazon.com stock bull, highlighting its broad reach across multiple sectors. u/thememanss noted that amazon's cloud and subscription-based business software is a major revenue driver.\"}"
      ]
     },
     "execution_count": 6,
     "metadata": {},
     "output_type": "execute_result"
    }
   ],
   "source": [
    "data"
   ]
  },
  {
   "cell_type": "code",
   "execution_count": 7,
   "metadata": {},
   "outputs": [],
   "source": [
    "merged_prompt = \"ABOUT_ME:{}QUESTION:{}CONTEXT:{}\"\n",
    "\n",
    "        \n",
    "response = ollama.chat(model='mosrihari/unsloth_finance_alpaca', messages=[\n",
    "        {\"role\": \"user\", \"content\": merged_prompt.format(\n",
    "                data['about_me'],\n",
    "                data['question'],\n",
    "                data['summary']\n",
    "            )},\n",
    "        ])"
   ]
  },
  {
   "cell_type": "code",
   "execution_count": 8,
   "metadata": {},
   "outputs": [
    {
     "data": {
      "text/plain": [
       "\" Long term investment in Facebook is viable due to its strong brand recognition and diversified revenue streams. The company's focus on innovation and user experience drives growth, making it an attractive long-term investment opportunity.\""
      ]
     },
     "execution_count": 8,
     "metadata": {},
     "output_type": "execute_result"
    }
   ],
   "source": [
    "response['message']['content']"
   ]
  },
  {
   "cell_type": "code",
   "execution_count": null,
   "metadata": {},
   "outputs": [],
   "source": []
  }
 ],
 "metadata": {
  "kernelspec": {
   "display_name": ".src_financial_advisor",
   "language": "python",
   "name": "python3"
  },
  "language_info": {
   "codemirror_mode": {
    "name": "ipython",
    "version": 3
   },
   "file_extension": ".py",
   "mimetype": "text/x-python",
   "name": "python",
   "nbconvert_exporter": "python",
   "pygments_lexer": "ipython3",
   "version": "3.11.5"
  }
 },
 "nbformat": 4,
 "nbformat_minor": 2
}
