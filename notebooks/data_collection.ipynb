{
 "cells": [
  {
   "cell_type": "markdown",
   "metadata": {},
   "source": [
    "# Bytewax"
   ]
  },
  {
   "cell_type": "code",
   "execution_count": 1,
   "metadata": {},
   "outputs": [],
   "source": [
    "from datetime import timedelta\n",
    "\n",
    "import bytewax.operators as op\n",
    "from bytewax.dataflow import Dataflow\n",
    "from bytewax.connectors.stdio import StdOutSink\n",
    "from bytewax.testing import TestingSource"
   ]
  },
  {
   "cell_type": "code",
   "execution_count": 18,
   "metadata": {},
   "outputs": [],
   "source": [
    "flow = Dataflow(\"collect\")"
   ]
  },
  {
   "cell_type": "code",
   "execution_count": 19,
   "metadata": {},
   "outputs": [],
   "source": [
    "step1 = op.input(\"input\", flow, TestingSource(list(range(10))))"
   ]
  },
  {
   "cell_type": "code",
   "execution_count": 20,
   "metadata": {},
   "outputs": [],
   "source": [
    "step2 = op.output('output', step1, StdOutSink())"
   ]
  },
  {
   "cell_type": "markdown",
   "metadata": {},
   "source": [
    "# Alpaca"
   ]
  },
  {
   "cell_type": "code",
   "execution_count": 1,
   "metadata": {},
   "outputs": [],
   "source": [
    "import requests\n",
    "from pprint import pprint\n",
    "from websocket import create_connection\n",
    "import json"
   ]
  },
  {
   "cell_type": "code",
   "execution_count": 2,
   "metadata": {},
   "outputs": [],
   "source": [
    "API_KEY = 'PKF3KMYDUEAUK0S112HX'\n",
    "SECRET = 'n1hrmo48mJpBoyV7LtVtx6XflUjZymEwd9d9RFev'\n",
    "ws_url = \"wss://stream.data.alpaca.markets/v1beta1/news\""
   ]
  },
  {
   "cell_type": "markdown",
   "metadata": {},
   "source": [
    "## Batch"
   ]
  },
  {
   "cell_type": "code",
   "execution_count": 10,
   "metadata": {},
   "outputs": [
    {
     "name": "stdout",
     "output_type": "stream",
     "text": [
      "{\"message\":\"Start should not be before end\"}\n",
      "\n"
     ]
    }
   ],
   "source": [
    "import requests\n",
    "\n",
    "url = \"https://data.alpaca.markets/v1beta1/news\"\n",
    "\n",
    "headers = {\n",
    "    \"accept\": \"application/json\",\n",
    "    \"APCA-API-KEY-ID\": API_KEY,\n",
    "    \"APCA-API-SECRET-KEY\": SECRET\n",
    "}\n",
    "\n",
    "params = {'start': '2024-06-27', 'end': '2024-03-29', 'symbols': ['CRM'], 'include_content': True, 'limit': 50}\n",
    "response = requests.get(url, headers=headers, params=params)\n",
    "\n",
    "print(response.text)"
   ]
  },
  {
   "cell_type": "code",
   "execution_count": 5,
   "metadata": {},
   "outputs": [
    {
     "name": "stdout",
     "output_type": "stream",
     "text": [
      "{\"news\":[{\"author\":\"Benzinga Insights\",\"content\":\"\\u003cp\\u003eInvestors with a lot of money to spend have taken a bullish stance on \\u003cstrong\\u003eSalesforce\\u003c/strong\\u003e (NYSE:\\u003ca class=\\\"ticker\\\" href=\\\"https://www.benzinga.com/stock/CRM#NYSE\\\"\\u003eCRM\\u003c/a\\u003e).\\u003c/p\\u003e\\n\\u003cp\\u003eAnd retail traders should know.\\u003c/p\\u003e\\n\\u003cp\\u003eWe noticed this today when the trades showed up on publicly available options history that we track here at Benzinga.\\u003c/p\\u003e\\n\\u003cp\\u003eWhether these are institutions or just wealthy individuals, we don't know. But when something this big happens with CRM, it often means somebody knows something is about to happen.\\u003c/p\\u003e\\n\\u003cp\\u003eSo how do we know what these investors just did? \\u003c/p\\u003e\\n\\u003cp\\u003eToday, \\u003ca href=\\\"https://pro.benzinga.com/?utm_source=insights\\\"\\u003eBenzinga\\u003c/a\\u003e's options scanner spotted 42 uncommon options trades for Salesforce.\\u003c/p\\u003e\\n\\u003cp\\u003eThis isn't normal.\\u003c/p\\u003e\\n\\u003cp\\u003eThe overall sentiment of these big-money traders is split between 61% bullish and 38%, bearish.\\u003c/p\\u003e\\n\\u003cp\\u003eOut of all of the special options we uncovered, 8 are puts, for a total amount of $620,122, and 34 are calls, for a total amount of $3,193,872.\\u003c/p\\u003e\\n\\u003ch3\\u003eProjected Price Targets\\u003c/h3\\u003e\\n\\u003cp\\u003eTaking into account the Volume and Open Interest on these contracts, it appears that whales have been targeting a price range from $165.0 to $350.0 for Salesforce over the last 3 months. \\u003c/p\\u003e\\n\\u003ch3\\u003eAnalyzing Volume \\u0026amp; Open Interest\\u003c/h3\\u003e\\n\\u003cp\\u003eLooking at the volume and open interest is a powerful move while trading options. This data can help you track the liquidity and interest for Salesforce's options for a given strike price. Below, we can observe the evolution of the volume and open interest of calls and puts, respectively, for all of Salesforce's whale trades within a strike price range from $165.0 to $350.0 in the last 30 days. \\u003c/p\\u003e\\n\\u003ch3\\u003eSalesforce Option Activity Analysis: Last 30 Days\\u003c/h3\\u003e\\n\\u003cp\\u003e\\u003cimg src=\\\"https://www.benzinga.com/files/images/story/2024/1707507948_0.png\\\" alt=\\\"Options Call Chart\\\" /\\u003e\\u003c/p\\u003e\\n\\n\\u003ch3\\u003eNoteworthy Options Activity:\\u003c/h3\\u003e\\n\\u003cp\\u003e\\u003ctable\\u003e\\n\\u003cthead\\u003e\\n\\u003ctr\\u003e\\n\\u003cth\\u003e\\u003cstrong\\u003eSymbol\\u003c/strong\\u003e\\u003c/th\\u003e\\n\\u003cth\\u003e\\u003cstrong\\u003ePUT/CALL\\u003c/strong\\u003e\\u003c/th\\u003e\\n\\u003cth\\u003e\\u003cstrong\\u003eTrade Type\\u003c/strong\\u003e\\u003c/th\\u003e\\n\\u003cth\\u003e\\u003cstrong\\u003eSentiment\\u003c/strong\\u003e\\u003c/th\\u003e\\n\\u003cth\\u003e\\u003cstrong\\u003eExp. Date\\u003c/strong\\u003e\\u003c/th\\u003e\\n\\u003cth\\u003e\\u003cstrong\\u003eStrike Price\\u003c/strong\\u003e\\u003c/th\\u003e\\n\\u003cth\\u003e\\u003cstrong\\u003eTotal Trade Price\\u003c/strong\\u003e\\u003c/th\\u003e\\n\\u003cth\\u003e\\u003cstrong\\u003eOpen Interest\\u003c/strong\\u003e\\u003c/th\\u003e\\n\\u003cth style=\\\"text-align: right;\\\"\\u003e\\u003cstrong\\u003eVolume\\u003c/strong\\u003e\\u003c/th\\u003e\\n\\u003c/tr\\u003e\\n\\u003c/thead\\u003e\\n\\u003ctbody\\u003e\\n\\u003ctr\\u003e\\n\\u003ctd\\u003eCRM\\u003c/td\\u003e\\n\\u003ctd\\u003eCALL\\u003c/td\\u003e\\n\\u003ctd\\u003eTRADE\\u003c/td\\u003e\\n\\u003ctd\\u003eBULLISH\\u003c/td\\u003e\\n\\u003ctd\\u003e01/16/26\\u003c/td\\u003e\\n\\u003ctd\\u003e$290.00\\u003c/td\\u003e\\n\\u003ctd\\u003e$999.0K\\u003c/td\\u003e\\n\\u003ctd\\u003e1.0K\\u003c/td\\u003e\\n\\u003ctd style=\\\"text-align: right;\\\"\\u003e0\\u003c/td\\u003e\\n\\u003c/tr\\u003e\\n\\u003ctr\\u003e\\n\\u003ctd\\u003eCRM\\u003c/td\\u003e\\n\\u003ctd\\u003eCALL\\u003c/td\\u003e\\n\\u003ctd\\u003eSWEEP\\u003c/td\\u003e\\n\\u003ctd\\u003eBULLISH\\u003c/td\\u003e\\n\\u003ctd\\u003e04/19/24\\u003c/td\\u003e\\n\\u003ctd\\u003e$290.00\\u003c/td\\u003e\\n\\u003ctd\\u003e$332.1K\\u003c/td\\u003e\\n\\u003ctd\\u003e3.0K\\u003c/td\\u003e\\n\\u003ctd style=\\\"text-align: right;\\\"\\u003e682\\u003c/td\\u003e\\n\\u003c/tr\\u003e\\n\\u003ctr\\u003e\\n\\u003ctd\\u003eCRM\\u003c/td\\u003e\\n\\u003ctd\\u003ePUT\\u003c/td\\u003e\\n\\u003ctd\\u003eSWEEP\\u003c/td\\u003e\\n\\u003ctd\\u003eBULLISH\\u003c/td\\u003e\\n\\u003ctd\\u003e03/15/24\\u003c/td\\u003e\\n\\u003ctd\\u003e$280.00\\u003c/td\\u003e\\n\\u003ctd\\u003e$154.2K\\u003c/td\\u003e\\n\\u003ctd\\u003e1.3K\\u003c/td\\u003e\\n\\u003ctd style=\\\"text-align: right;\\\"\\u003e267\\u003c/td\\u003e\\n\\u003c/tr\\u003e\\n\\u003ctr\\u003e\\n\\u003ctd\\u003eCRM\\u003c/td\\u003e\\n\\u003ctd\\u003eCALL\\u003c/td\\u003e\\n\\u003ctd\\u003eSWEEP\\u003c/td\\u003e\\n\\u003ctd\\u003eBEARISH\\u003c/td\\u003e\\n\\u003ctd\\u003e04/19/24\\u003c/td\\u003e\\n\\u003ctd\\u003e$300.00\\u003c/td\\u003e\\n\\u003ctd\\u003e$130.6K\\u003c/td\\u003e\\n\\u003ctd\\u003e2.4K\\u003c/td\\u003e\\n\\u003ctd style=\\\"text-align: right;\\\"\\u003e182\\u003c/td\\u003e\\n\\u003c/tr\\u003e\\n\\u003ctr\\u003e\\n\\u003ctd\\u003eCRM\\u003c/td\\u003e\\n\\u003ctd\\u003ePUT\\u003c/td\\u003e\\n\\u003ctd\\u003eSWEEP\\u003c/td\\u003e\\n\\u003ctd\\u003eBULLISH\\u003c/td\\u003e\\n\\u003ctd\\u003e01/16/26\\u003c/td\\u003e\\n\\u003ctd\\u003e$250.00\\u003c/td\\u003e\\n\\u003ctd\\u003e$130.6K\\u003c/td\\u003e\\n\\u003ctd\\u003e724\\u003c/td\\u003e\\n\\u003ctd style=\\\"text-align: right;\\\"\\u003e403\\u003c/td\\u003e\\n\\u003c/tr\\u003e\\n\\u003c/tbody\\u003e\\n\\u003c/table\\u003e\\u003c/p\\u003e\\n\\u003ch3\\u003eAbout Salesforce\\u003c/h3\\u003e\\n\\u003cp\\u003eSalesforce Inc provides enterprise cloud computing solutions. The company offers customer relationship management technology that brings companies and customers together. Its Customer 360 platform helps the group to deliver a single source of truth, connecting customer data across systems, apps, and devices to help companies sell, service, market, and conduct commerce. It also offers Service Cloud for customer support, Marketing Cloud for digital marketing campaigns, Commerce Cloud as an e-commerce engine, the Salesforce Platform, which allows enterprises to build applications, and other solutions, such as MuleSoft for data integration.\\u003c/p\\u003e\\n\\u003cp\\u003eIn light of the recent options history for Salesforce, it's now appropriate to focus on the company itself. We aim to explore its current performance.\\u003c/p\\u003e\\n\\u003ch3\\u003eSalesforce's Current Market Status\\u003c/h3\\u003e\\n\\u003cul\\u003e\\n\\u003cli\\u003eWith a trading volume of 2,485,896, the price of CRM is up by 0.43%, reaching $293.2.\\u003c/li\\u003e\\n\\u003cli\\u003eCurrent RSI values indicate that the stock is is currently neutral between overbought and oversold.\\u003c/li\\u003e\\n\\u003cli\\u003eNext earnings report is scheduled for 19 days from now.\\u003c/li\\u003e\\n\\u003c/ul\\u003e\\n\\u003ch3\\u003eProfessional Analyst Ratings for Salesforce\\u003c/h3\\u003e\\n\\u003cp\\u003eIn the last month, 3 experts released ratings on this stock with an average target price of $301.0.\\u003c/p\\u003e\\n\\u003cul\\u003e\\n\\u003cli\\u003eReflecting concerns, an analyst from JMP Securities lowers its rating to Market Outperform with a new price target of $293.\\u003c/li\\u003e\\n\\u003cli\\u003eAn analyst from Baird has decided to maintain their Outperform rating on Salesforce, which currently sits at a price target of $310. \\u003c/li\\u003e\\n\\u003cli\\u003eAn analyst from Baird has elevated its stance to Outperform, setting a new price target at $300. \\u003c/li\\u003e\\n\\u003c/ul\\u003e\\n\\u003cp\\u003eOptions are a riskier asset compared to just trading the stock, but they have higher profit potential. Serious options traders manage this risk by educating themselves daily, scaling in and out of trades, following more than one indicator, and following the markets closely.\\u003c/p\\u003e\\n\\u003cp\\u003eIf you want to stay updated on the latest options trades for Salesforce, \\u003ca href=\\\"https://benzinga.grsm.io/register174\\\"\\u003eBenzinga Pro\\u003c/a\\u003e gives you real-time options trades alerts.\\u003c/p\\u003e\",\"created_at\":\"2024-02-09T19:45:52Z\",\"headline\":\"Salesforce Unusual Options Activity For February 09\",\"id\":37042170,\"images\":[{\"size\":\"large\",\"url\":\"https://cdn.benzinga.com/files/imagecache/2048x1536xUP/images/story/2023/movers_image_5.jpeg\"},{\"size\":\"small\",\"url\":\"https://cdn.benzinga.com/files/imagecache/1024x768xUP/images/story/2023/movers_image_5.jpeg\"},{\"size\":\"thumb\",\"url\":\"https://cdn.benzinga.com/files/imagecache/250x187xUP/images/story/2023/movers_image_5.jpeg\"}],\"source\":\"benzinga\",\"summary\":\" \",\"symbols\":[\"CRM\"],\"updated_at\":\"2024-02-09T19:45:52Z\",\"url\":\"https://www.benzinga.com/insights/options/24/02/37042170/salesforce-unusual-options-activity-for-february-09\"},{\"author\":\"Benzinga Insights\",\"content\":\"\\u003cp\\u003eSalesforce (NYSE:\\u003ca class=\\\"ticker\\\" href=\\\"https://www.benzinga.com/stock/CRM#NYSE\\\"\\u003eCRM\\u003c/a\\u003e) has outperformed the market over the past 15 years by 15.88% on an annualized basis producing an average annual return of 28.94%. Currently, Salesforce has a market capitalization of $284.20 billion. \\u003c/p\\u003e\\n\\u003cp\\u003e\\u003cstrong\\u003eBuying $100 In CRM:\\u003c/strong\\u003e If an investor had bought $100 of CRM stock 15 years ago, it would be worth \\u003cstrong\\u003e$4,372.30\\u003c/strong\\u003e today based on a price of $293.60 for CRM at the time of writing.\\u003c/p\\u003e\\n\\u003ch3\\u003eSalesforce's Performance Over Last 15 Years\\u003c/h3\\u003e\\n\\u003cp\\u003e\\u003cimg src=\\\"https://www.benzinga.com/files/images/story/2024/1707489022_0.png\\\" alt=\\\"comp_fig\\\" /\\u003e\\u003c/p\\u003e\\n\\n\\u003cp\\u003eFinally -- what's the point of all this? The key insight to take from this article is to note how much of a difference compounded returns can make in your cash growth over a period of time.\\u003c/p\\u003e\\n\\u003cp\\u003e\\u003cem\\u003eThis article was generated by Benzinga's automated content engine and reviewed by an editor.\\u003c/em\\u003e\\u003c/p\\u003e\",\"created_at\":\"2024-02-09T14:30:25Z\",\"headline\":\"$100 Invested In Salesforce 15 Years Ago Would Be Worth This Much Today\",\"id\":37034820,\"images\":[{\"size\":\"large\",\"url\":\"https://cdn.benzinga.com/files/imagecache/2048x1536xUP/images/story/2023/valuestock_image_0.jpeg\"},{\"size\":\"small\",\"url\":\"https://cdn.benzinga.com/files/imagecache/1024x768xUP/images/story/2023/valuestock_image_0.jpeg\"},{\"size\":\"thumb\",\"url\":\"https://cdn.benzinga.com/files/imagecache/250x187xUP/images/story/2023/valuestock_image_0.jpeg\"}],\"source\":\"benzinga\",\"summary\":\" \",\"symbols\":[\"CRM\"],\"updated_at\":\"2024-02-09T14:30:26Z\",\"url\":\"https://www.benzinga.com/insights/news/24/02/37034820/100-invested-in-salesforce-15-years-ago-would-be-worth-this-much-today\"},{\"author\":\"Neil Dennis\",\"content\":\"\\u003cp\\u003eEuropean Union officials have begun a process to compile guidelines for Big Tech companies to safeguard the democratic process as nearly a third of the world\\u0026#8217;s population \\u003ca href=\\\"https://www.benzinga.com/topic/elections\\\"\\u003egoes to the polls this year\\u003c/a\\u003e.\\u003c/p\\u003e\\n\\n\\n\\n\\u003cp\\u003eThe chief concerns are over the spread of disinformation, hate speech and other malicious attacks over social media platforms that could influence voters — with the U.S., U.K., South Korea and several European countries among the many contesting elections later in the year.\\u003c/p\\u003e\\n\\n\\n\\n\\u003cp\\u003e\\u003cstrong\\u003eThierry Breton\\u003c/strong\\u003e, the EU Commission\\u0026#8217;s internal market commissioner, told lawmakers in Strasbourg: \\u0026#8220;We know that this electoral period is going to be targeted either via hybrid attacks or foreign interference of all kinds. We can\\u0026#8217;t have half-baked measures.\\u0026#8221;\\u003c/p\\u003e\\n\\n\\n\\n\\u003cp\\u003e\\u003cem\\u003eAlso Read: \\u003ca href=\\\"https://www.benzinga.com/general/politics/24/01/36632961/openai-tackles-misinformation-new-tools-ahead-of-key-elections\\\"\\u003eOpenAI Tackles Misinformation: New Tools Ahead Of Key Elections\\u003c/a\\u003e\\u003c/em\\u003e\\u003c/p\\u003e\\n\\n\\n\\n\\u003ch2 class=\\\"wp-block-heading\\\"\\u003eIdentifying Deepfakes\\u003c/h2\\u003e\\n\\n\\n\\n\\u003cp\\u003eThe Commission has already notified Big Tech companies, including Google owner \\u003cstrong\\u003eAlphabet\\u003c/strong\\u003e (NASDAQ:\\u003ca class=\\\"ticker\\\" href=\\\"https://www.benzinga.com/stock/GOOGL#NASDAQ\\\"\\u003eGOOGL\\u003c/a\\u003e)(NASDAQ:\\u003ca class=\\\"ticker\\\" href=\\\"https://www.benzinga.com/stock/GOOG#NASDAQ\\\"\\u003eGOOG\\u003c/a\\u003e), Facebook parent \\u003cstrong\\u003eMeta Platforms Inc \\u003c/strong\\u003e(NASDAQ:\\u003ca class=\\\"ticker\\\" href=\\\"https://www.benzinga.com/stock/META#NASDAQ\\\"\\u003eMETA\\u003c/a\\u003e) and \\u003cstrong\\u003eApple Inc \\u003c/strong\\u003e(NASDAQ:\\u003ca class=\\\"ticker\\\" href=\\\"https://www.benzinga.com/stock/AAPL#NASDAQ\\\"\\u003eAAPL\\u003c/a\\u003e), that it expects answers on what actions they can take.\\u003c/p\\u003e\\n\\n\\n\\n\\u003cfigure class=\\\"wp-block-image size-full\\\"\\u003e\\u003cimg loading=\\\"lazy\\\" decoding=\\\"async\\\" width=\\\"750\\\" height=\\\"650\\\" src=\\\"https://editorial-assets.benzinga.com/wp-content/uploads/2024/02/08112128/newplot-72.png\\\" alt=\\\"\\\" class=\\\"wp-image-209485\\\" srcset=\\\"https://editorial-assets.benzinga.com/wp-content/uploads/2024/02/08112128/newplot-72.png 750w,https://editorial-assets.benzinga.com/wp-content/uploads/2024/02/08112128/newplot-72-300x260.png 300w\\\" sizes=\\\"(max-width: 750px) 100vw, 750px\\\" /\\u003e\\u003c/figure\\u003e\\n\\n\\n\\n\\u003cp\\u003eSome platforms, \\u003ca href=\\\"https://www.benzinga.com/news/24/02/36959912/meta-warns-users-disclose-ai-videos-or-be-punished-in-effort-to-tame-misinformation-in-election-year\\\"\\u003eincluding Meta\\u003c/a\\u003e, have said they will start labeling artificial intelligence (AI)-generated images, while \\u003cstrong\\u003eOpenAI\\u003c/strong\\u003e, the AI partner of \\u003cstrong\\u003eMicrosoft Corp \\u003c/strong\\u003e(NASDAQ:\\u003ca class=\\\"ticker\\\" href=\\\"https://www.benzinga.com/stock/MSFT#NASDAQ\\\"\\u003eMSFT\\u003c/a\\u003e), said last month that it would soon \\u003ca href=\\\"https://www.benzinga.com/general/politics/24/01/36632961/openai-tackles-misinformation-new-tools-ahead-of-key-elections\\\"\\u003elaunch a tool\\u003c/a\\u003e to identify AI-generated content.\\u003c/p\\u003e\\n\\n\\n\\n\\u003cp\\u003eBut more is likely to be expected from tech companies to counter threats such as coordinated fake news and image manipulation attacks from bot factories and hostile foreign governments.\\u003c/p\\u003e\\n\\n\\n\\n\\u003cp\\u003eAI is increasingly being used to generate so-called deepfake images and videos — in one such example last year, a \\u003ca href=\\\"https://www.benzinga.com/news/24/02/36930046/meta-advised-to-overhaul-incoherent-deepfake-rules-by-oversight-board-after-biden-video\\\"\\u003emanipulated video\\u003c/a\\u003e appeared on Meta\\u0026#8217;s Instagram and Facebook platforms falsely suggesting that President Joe Biden was a pedophile.\\u003c/p\\u003e\\n\\n\\n\\n\\u003cp\\u003eSome, however — including \\u003cstrong\\u003eMarc Benioff\\u003c/strong\\u003e, CEO of \\u003cstrong\\u003eSalesforce Inc \\u003c/strong\\u003e(NYSE:\\u003ca class=\\\"ticker\\\" href=\\\"https://www.benzinga.com/stock/CRM#NYSE\\\"\\u003eCRM\\u003c/a\\u003e) — are suggesting social media is a bigger threat to the democratic process than AI. Speaking on a panel alongside OpenAI\\u0026#8217;s \\u003cstrong\\u003eSam Altman\\u003c/strong\\u003e at Davos last month, Benioff said: \\u0026#8220;Regulators have not done their job.\\u0026#8221;\\u003c/p\\u003e\\n\\n\\n\\n\\u003ch2 class=\\\"wp-block-heading\\\"\\u003eEU Ahead Of US In Tech Regulation\\u003c/h2\\u003e\\n\\n\\n\\n\\u003cp\\u003eIn the U.S. there\\u0026#8217;s been little move by regulators ahead of this year\\u0026#8217;s presidential election to ensure misinformation isn\\u0026#8217;t used to influence voters.\\u003c/p\\u003e\\n\\n\\n\\n\\u003cp\\u003eHowever, state legislators have taken the lead. \\u003cstrong\\u003ePublic Citizen,\\u003c/strong\\u003e a non-profit consumer advocacy organization, said that 27 states have now passed legislation to regulate the use of deepfakes in elections — receiving bi-partisan backing.\\u003c/p\\u003e\\n\\n\\n\\n\\u003cp\\u003eIt said: \\u0026#8220;Without regulation, deepfakes are likely to further confuse voters and undermine confidence in elections. \\u003c/p\\u003e\\n\\n\\n\\n\\u003cp\\u003e\\u0026#8220;A deepfake video could be released days or hours before an election with no time to debunk it — misleading voters and altering the outcome of the election.\\u0026#8221;\\u003c/p\\u003e\\n\\n\\n\\n\\u003cp\\u003eAnother example, again targeting Biden, voters in last month\\u0026#8217;s New Hampshire primary received a robocall, supposedly from the president telling Democrats they shouldn\\u0026#8217;t vote in the election.\\u003c/p\\u003e\\n\\n\\n\\n\\u003cp\\u003e\\u003cem\\u003eNow Read: \\u003ca href=\\\"https://www.benzinga.com/markets/equities/24/01/36671966/bill-gates-says-bad-guys-will-be-more-productive-as-sam-altman-and-other-leaders-discuss-potenti\\\"\\u003eBill Gates Says \\u0026#8216;Bad Guys Will Be More Productive\\u0026#8217; As Sam Altman And Other Leaders Discuss Potential Impact Of AI On US Presidential Election\\u003c/a\\u003e\\u003c/em\\u003e\\u003c/p\\u003e\\n\\n\\n\\n\\u003cp\\u003e\\u003cem\\u003ePhoto: Shutterstock\\u003c/em\\u003e\\u003c/p\\u003e\",\"created_at\":\"2024-02-08T18:00:08Z\",\"headline\":\"Big Tech Must Protect Democracy: EU Drafts Misinformation Guidelines Ahead Of Elections\",\"id\":37014692,\"images\":[{\"size\":\"large\",\"url\":\"https://cdn.benzinga.com/files/imagecache/2048x1536xUP/images/story/2024/Deepfake-Shutterstock_0.jpeg\"},{\"size\":\"small\",\"url\":\"https://cdn.benzinga.com/files/imagecache/1024x768xUP/images/story/2024/Deepfake-Shutterstock_0.jpeg\"},{\"size\":\"thumb\",\"url\":\"https://cdn.benzinga.com/files/imagecache/250x187xUP/images/story/2024/Deepfake-Shutterstock_0.jpeg\"}],\"source\":\"benzinga\",\"summary\":\"Some social media platforms are to begin labeling content generated by AI\",\"symbols\":[\"AAPL\",\"CRM\",\"GOOG\",\"GOOGL\",\"META\",\"MSFT\"],\"updated_at\":\"2024-02-08T18:00:09Z\",\"url\":\"https://www.benzinga.com/government/24/02/37014692/big-tech-must-protect-democracy-eu-drafts-misinformation-guidelines-ahead-of-elections\"},{\"author\":\"Benzinga Insights\",\"content\":\"\\u003cp\\u003eFinancial giants have made a conspicuous bearish move on Salesforce. Our analysis of options history for Salesforce (NYSE:\\u003ca class=\\\"ticker\\\" href=\\\"https://www.benzinga.com/stock/CRM#NYSE\\\"\\u003eCRM\\u003c/a\\u003e) revealed 8 unusual trades.\\u003c/p\\u003e\\n\\u003cp\\u003eDelving into the details, we found 25% of traders were bullish, while 75% showed bearish tendencies. Out of all the trades we spotted, 2 were puts, with a value of $177,900, and 6 were calls, valued at $1,237,101.\\u003c/p\\u003e\\n\\u003ch3\\u003ePredicted Price Range\\u003c/h3\\u003e\\n\\u003cp\\u003eAnalyzing the Volume and Open Interest in these contracts, it seems that the big players have been eyeing a price window from $175.0 to $290.0 for Salesforce during the past quarter. \\u003c/p\\u003e\\n\\u003ch3\\u003eAnalyzing Volume \\u0026amp; Open Interest\\u003c/h3\\u003e\\n\\u003cp\\u003eIn today's trading context, the average open interest for options of Salesforce stands at 630.5, with a total volume reaching 550.00. The accompanying chart delineates the progression of both call and put option volume and open interest for high-value trades in Salesforce, situated within the strike price corridor from $175.0 to $290.0, throughout the last 30 days.\\u003c/p\\u003e\\n\\u003ch3\\u003eSalesforce Option Volume And Open Interest Over Last 30 Days\\u003c/h3\\u003e\\n\\u003cp\\u003e\\u003cimg src=\\\"https://www.benzinga.com/files/images/story/2024/1707406305_0.png\\\" alt=\\\"Options Call Chart\\\" /\\u003e\\u003c/p\\u003e\\n\\n\\u003ch3\\u003eLargest Options Trades Observed:\\u003c/h3\\u003e\\n\\u003cp\\u003e\\u003ctable\\u003e\\n\\u003cthead\\u003e\\n\\u003ctr\\u003e\\n\\u003cth\\u003e\\u003cstrong\\u003eSymbol\\u003c/strong\\u003e\\u003c/th\\u003e\\n\\u003cth\\u003e\\u003cstrong\\u003ePUT/CALL\\u003c/strong\\u003e\\u003c/th\\u003e\\n\\u003cth\\u003e\\u003cstrong\\u003eTrade Type\\u003c/strong\\u003e\\u003c/th\\u003e\\n\\u003cth\\u003e\\u003cstrong\\u003eSentiment\\u003c/strong\\u003e\\u003c/th\\u003e\\n\\u003cth\\u003e\\u003cstrong\\u003eExp. Date\\u003c/strong\\u003e\\u003c/th\\u003e\\n\\u003cth\\u003e\\u003cstrong\\u003eStrike Price\\u003c/strong\\u003e\\u003c/th\\u003e\\n\\u003cth\\u003e\\u003cstrong\\u003eTotal Trade Price\\u003c/strong\\u003e\\u003c/th\\u003e\\n\\u003cth\\u003e\\u003cstrong\\u003eOpen Interest\\u003c/strong\\u003e\\u003c/th\\u003e\\n\\u003cth style=\\\"text-align: right;\\\"\\u003e\\u003cstrong\\u003eVolume\\u003c/strong\\u003e\\u003c/th\\u003e\\n\\u003c/tr\\u003e\\n\\u003c/thead\\u003e\\n\\u003ctbody\\u003e\\n\\u003ctr\\u003e\\n\\u003ctd\\u003eCRM\\u003c/td\\u003e\\n\\u003ctd\\u003eCALL\\u003c/td\\u003e\\n\\u003ctd\\u003eTRADE\\u003c/td\\u003e\\n\\u003ctd\\u003eBULLISH\\u003c/td\\u003e\\n\\u003ctd\\u003e01/16/26\\u003c/td\\u003e\\n\\u003ctd\\u003e$290.00\\u003c/td\\u003e\\n\\u003ctd\\u003e$994.5K\\u003c/td\\u003e\\n\\u003ctd\\u003e888\\u003c/td\\u003e\\n\\u003ctd style=\\\"text-align: right;\\\"\\u003e153\\u003c/td\\u003e\\n\\u003c/tr\\u003e\\n\\u003ctr\\u003e\\n\\u003ctd\\u003eCRM\\u003c/td\\u003e\\n\\u003ctd\\u003ePUT\\u003c/td\\u003e\\n\\u003ctd\\u003eSWEEP\\u003c/td\\u003e\\n\\u003ctd\\u003eNEUTRAL\\u003c/td\\u003e\\n\\u003ctd\\u003e04/19/24\\u003c/td\\u003e\\n\\u003ctd\\u003e$260.00\\u003c/td\\u003e\\n\\u003ctd\\u003e$131.6K\\u003c/td\\u003e\\n\\u003ctd\\u003e1.2K\\u003c/td\\u003e\\n\\u003ctd style=\\\"text-align: right;\\\"\\u003e302\\u003c/td\\u003e\\n\\u003c/tr\\u003e\\n\\u003ctr\\u003e\\n\\u003ctd\\u003eCRM\\u003c/td\\u003e\\n\\u003ctd\\u003eCALL\\u003c/td\\u003e\\n\\u003ctd\\u003eTRADE\\u003c/td\\u003e\\n\\u003ctd\\u003eBULLISH\\u003c/td\\u003e\\n\\u003ctd\\u003e01/17/25\\u003c/td\\u003e\\n\\u003ctd\\u003e$175.00\\u003c/td\\u003e\\n\\u003ctd\\u003e$126.7K\\u003c/td\\u003e\\n\\u003ctd\\u003e351\\u003c/td\\u003e\\n\\u003ctd style=\\\"text-align: right;\\\"\\u003e0\\u003c/td\\u003e\\n\\u003c/tr\\u003e\\n\\u003ctr\\u003e\\n\\u003ctd\\u003eCRM\\u003c/td\\u003e\\n\\u003ctd\\u003ePUT\\u003c/td\\u003e\\n\\u003ctd\\u003eTRADE\\u003c/td\\u003e\\n\\u003ctd\\u003eNEUTRAL\\u003c/td\\u003e\\n\\u003ctd\\u003e01/16/26\\u003c/td\\u003e\\n\\u003ctd\\u003e$230.00\\u003c/td\\u003e\\n\\u003ctd\\u003e$46.2K\\u003c/td\\u003e\\n\\u003ctd\\u003e46\\u003c/td\\u003e\\n\\u003ctd style=\\\"text-align: right;\\\"\\u003e25\\u003c/td\\u003e\\n\\u003c/tr\\u003e\\n\\u003ctr\\u003e\\n\\u003ctd\\u003eCRM\\u003c/td\\u003e\\n\\u003ctd\\u003eCALL\\u003c/td\\u003e\\n\\u003ctd\\u003eTRADE\\u003c/td\\u003e\\n\\u003ctd\\u003eNEUTRAL\\u003c/td\\u003e\\n\\u003ctd\\u003e01/17/25\\u003c/td\\u003e\\n\\u003ctd\\u003e$190.00\\u003c/td\\u003e\\n\\u003ctd\\u003e$34.2K\\u003c/td\\u003e\\n\\u003ctd\\u003e792\\u003c/td\\u003e\\n\\u003ctd style=\\\"text-align: right;\\\"\\u003e3\\u003c/td\\u003e\\n\\u003c/tr\\u003e\\n\\u003c/tbody\\u003e\\n\\u003c/table\\u003e\\u003c/p\\u003e\\n\\u003ch3\\u003eAbout Salesforce\\u003c/h3\\u003e\\n\\u003cp\\u003eSalesforce Inc provides enterprise cloud computing solutions. The company offers customer relationship management technology that brings companies and customers together. Its Customer 360 platform helps the group to deliver a single source of truth, connecting customer data across systems, apps, and devices to help companies sell, service, market, and conduct commerce. It also offers Service Cloud for customer support, Marketing Cloud for digital marketing campaigns, Commerce Cloud as an e-commerce engine, the Salesforce Platform, which allows enterprises to build applications, and other solutions, such as MuleSoft for data integration.\\u003c/p\\u003e\\n\\u003cp\\u003eFollowing our analysis of the options activities associated with Salesforce, we pivot to a closer look at the company's own performance.\\u003c/p\\u003e\\n\\u003ch3\\u003eCurrent Position of Salesforce\\u003c/h3\\u003e\\n\\u003cul\\u003e\\n\\u003cli\\u003eWith a volume of 923,044, the price of CRM is up 0.59% at $290.55. \\u003c/li\\u003e\\n\\u003cli\\u003eRSI indicators hint that the underlying stock may be overbought.\\u003c/li\\u003e\\n\\u003cli\\u003eNext earnings are expected to be released in 20 days.\\u003c/li\\u003e\\n\\u003c/ul\\u003e\\n\\u003ch3\\u003eProfessional Analyst Ratings for Salesforce\\u003c/h3\\u003e\\n\\u003cp\\u003eIn the last month, 3 experts released ratings on this stock with an average target price of $301.0.\\u003c/p\\u003e\\n\\u003cul\\u003e\\n\\u003cli\\u003eMaintaining their stance, an analyst from Baird continues to hold a Outperform rating for Salesforce, targeting a price of $310. \\u003c/li\\u003e\\n\\u003cli\\u003eAn analyst from JMP Securities has revised its rating downward to Market Outperform, adjusting the price target to $293. \\u003c/li\\u003e\\n\\u003cli\\u003eShowing optimism, an analyst from Baird upgrades its rating to Outperform with a revised price target of $300. \\u003c/li\\u003e\\n\\u003c/ul\\u003e\\n\\u003cp\\u003eTrading options involves greater risks but also offers the potential for higher profits. Savvy traders mitigate these risks through ongoing education, strategic trade adjustments, utilizing various indicators, and staying attuned to market dynamics. Keep up with the latest options trades for Salesforce with \\u003ca href=\\\"https://benzinga.grsm.io/register174\\\"\\u003eBenzinga Pro\\u003c/a\\u003e for real-time alerts.\\u003c/p\\u003e\",\"created_at\":\"2024-02-08T15:31:48Z\",\"headline\":\"Salesforce's Options: A Look at What the Big Money is Thinking\",\"id\":37010949,\"images\":[{\"size\":\"large\",\"url\":\"https://cdn.benzinga.com/files/imagecache/2048x1536xUP/images/story/2023/movers_image_0.jpeg\"},{\"size\":\"small\",\"url\":\"https://cdn.benzinga.com/files/imagecache/1024x768xUP/images/story/2023/movers_image_0.jpeg\"},{\"size\":\"thumb\",\"url\":\"https://cdn.benzinga.com/files/imagecache/250x187xUP/images/story/2023/movers_image_0.jpeg\"}],\"source\":\"benzinga\",\"summary\":\" \",\"symbols\":[\"CRM\"],\"updated_at\":\"2024-02-08T15:31:48Z\",\"url\":\"https://www.benzinga.com/insights/options/24/02/37010949/salesforces-options-a-look-at-what-the-big-money-is-thinking\"},{\"author\":\"Benzinga Insights\",\"content\":\"\\u003cp\\u003eIn today's rapidly changing and fiercely competitive business landscape, it is vital for investors and industry enthusiasts to carefully evaluate companies. In this article, we will perform a comprehensive industry comparison, evaluating \\u003cb\\u003eSalesforce (NYSE:\\u003ca class=\\\"ticker\\\" href=\\\"https://www.benzinga.com/stock/CRM#NYSE\\\"\\u003eCRM\\u003c/a\\u003e)\\u003c/b\\u003e against its key competitors in the Software industry. By analyzing important financial metrics, market position, and growth prospects, we aim to provide valuable insights for investors and shed light on company's performance within the industry.\\u003c/p\\u003e\\n\\u003ch3\\u003eSalesforce Background\\u003c/h3\\u003e\\n\\u003cp\\u003eSalesforce Inc provides enterprise cloud computing solutions. The company offers customer relationship management technology that brings companies and customers together. Its Customer 360 platform helps the group to deliver a single source of truth, connecting customer data across systems, apps, and devices to help companies sell, service, market, and conduct commerce. It also offers Service Cloud for customer support, Marketing Cloud for digital marketing campaigns, Commerce Cloud as an e-commerce engine, the Salesforce Platform, which allows enterprises to build applications, and other solutions, such as MuleSoft for data integration.\\u003c/p\\u003e\\n\\u003ctable\\u003e\\n\\u003cthead\\u003e\\n\\u003ctr\\u003e\\n\\u003cth\\u003e\\u003cstrong\\u003eCompany\\u003c/strong\\u003e\\u003c/th\\u003e\\n\\u003cth\\u003e\\u003cstrong\\u003eP/E\\u003c/strong\\u003e\\u003c/th\\u003e\\n\\u003cth\\u003e\\u003cstrong\\u003eP/B\\u003c/strong\\u003e\\u003c/th\\u003e\\n\\u003cth\\u003e\\u003cstrong\\u003eP/S\\u003c/strong\\u003e\\u003c/th\\u003e\\n\\u003cth\\u003e\\u003cstrong\\u003eROE\\u003c/strong\\u003e\\u003c/th\\u003e\\n\\u003cth\\u003e\\u003cstrong\\u003eEBITDA (in billions)\\u003c/strong\\u003e\\u003c/th\\u003e\\n\\u003cth\\u003e\\u003cstrong\\u003eGross Profit (in billions)\\u003c/strong\\u003e\\u003c/th\\u003e\\n\\u003cth\\u003e\\u003cstrong\\u003eRevenue Growth\\u003c/strong\\u003e\\u003c/th\\u003e\\n\\u003c/tr\\u003e\\n\\u003c/thead\\u003e\\n\\u003ctbody\\u003e\\n\\u003ctr\\u003e\\n\\u003ctd\\u003eSalesforce Inc\\u003c/td\\u003e\\n\\u003ctd\\u003e108.68\\u003c/td\\u003e\\n\\u003ctd\\u003e4.76\\u003c/td\\u003e\\n\\u003ctd\\u003e8.29\\u003c/td\\u003e\\n\\u003ctd\\u003e2.11%\\u003c/td\\u003e\\n\\u003ctd\\u003e$2.42\\u003c/td\\u003e\\n\\u003ctd\\u003e$6.57\\u003c/td\\u003e\\n\\u003ctd\\u003e11.27%\\u003c/td\\u003e\\n\\u003c/tr\\u003e\\n\\u003ctr\\u003e\\n\\u003ctd\\u003eAdobe Inc\\u003c/td\\u003e\\n\\u003ctd\\u003e51.37\\u003c/td\\u003e\\n\\u003ctd\\u003e16.61\\u003c/td\\u003e\\n\\u003ctd\\u003e14.36\\u003c/td\\u003e\\n\\u003ctd\\u003e9.18%\\u003c/td\\u003e\\n\\u003ctd\\u003e$2.06\\u003c/td\\u003e\\n\\u003ctd\\u003e$4.41\\u003c/td\\u003e\\n\\u003ctd\\u003e11.56%\\u003c/td\\u003e\\n\\u003c/tr\\u003e\\n\\u003ctr\\u003e\\n\\u003ctd\\u003eSAP SE\\u003c/td\\u003e\\n\\u003ctd\\u003e54.59\\u003c/td\\u003e\\n\\u003ctd\\u003e4.52\\u003c/td\\u003e\\n\\u003ctd\\u003e6.30\\u003c/td\\u003e\\n\\u003ctd\\u003e2.75%\\u003c/td\\u003e\\n\\u003ctd\\u003e$2.23\\u003c/td\\u003e\\n\\u003ctd\\u003e$6.2\\u003c/td\\u003e\\n\\u003ctd\\u003e9.34%\\u003c/td\\u003e\\n\\u003c/tr\\u003e\\n\\u003ctr\\u003e\\n\\u003ctd\\u003eIntuit Inc\\u003c/td\\u003e\\n\\u003ctd\\u003e69.58\\u003c/td\\u003e\\n\\u003ctd\\u003e10.47\\u003c/td\\u003e\\n\\u003ctd\\u003e12.18\\u003c/td\\u003e\\n\\u003ctd\\u003e1.41%\\u003c/td\\u003e\\n\\u003ctd\\u003e$0.53\\u003c/td\\u003e\\n\\u003ctd\\u003e$2.22\\u003c/td\\u003e\\n\\u003ctd\\u003e14.67%\\u003c/td\\u003e\\n\\u003c/tr\\u003e\\n\\u003ctr\\u003e\\n\\u003ctd\\u003eSynopsys Inc\\u003c/td\\u003e\\n\\u003ctd\\u003e68.53\\u003c/td\\u003e\\n\\u003ctd\\u003e13.47\\u003c/td\\u003e\\n\\u003ctd\\u003e14.42\\u003c/td\\u003e\\n\\u003ctd\\u003e5.77%\\u003c/td\\u003e\\n\\u003ctd\\u003e$0.48\\u003c/td\\u003e\\n\\u003ctd\\u003e$1.27\\u003c/td\\u003e\\n\\u003ctd\\u003e24.51%\\u003c/td\\u003e\\n\\u003c/tr\\u003e\\n\\u003ctr\\u003e\\n\\u003ctd\\u003eCadence Design Systems Inc\\u003c/td\\u003e\\n\\u003ctd\\u003e83.38\\u003c/td\\u003e\\n\\u003ctd\\u003e25.57\\u003c/td\\u003e\\n\\u003ctd\\u003e20.37\\u003c/td\\u003e\\n\\u003ctd\\u003e8.45%\\u003c/td\\u003e\\n\\u003ctd\\u003e$0.35\\u003c/td\\u003e\\n\\u003ctd\\u003e$0.91\\u003c/td\\u003e\\n\\u003ctd\\u003e13.36%\\u003c/td\\u003e\\n\\u003c/tr\\u003e\\n\\u003ctr\\u003e\\n\\u003ctd\\u003eWorkday Inc\\u003c/td\\u003e\\n\\u003ctd\\u003e1202.62\\u003c/td\\u003e\\n\\u003ctd\\u003e11.46\\u003c/td\\u003e\\n\\u003ctd\\u003e10.85\\u003c/td\\u003e\\n\\u003ctd\\u003e1.76%\\u003c/td\\u003e\\n\\u003ctd\\u003e$0.23\\u003c/td\\u003e\\n\\u003ctd\\u003e$1.42\\u003c/td\\u003e\\n\\u003ctd\\u003e16.67%\\u003c/td\\u003e\\n\\u003c/tr\\u003e\\n\\u003ctr\\u003e\\n\\u003ctd\\u003eRoper Technologies Inc\\u003c/td\\u003e\\n\\u003ctd\\u003e42.82\\u003c/td\\u003e\\n\\u003ctd\\u003e3.34\\u003c/td\\u003e\\n\\u003ctd\\u003e9.48\\u003c/td\\u003e\\n\\u003ctd\\u003e2.26%\\u003c/td\\u003e\\n\\u003ctd\\u003e$0.72\\u003c/td\\u003e\\n\\u003ctd\\u003e$1.13\\u003c/td\\u003e\\n\\u003ctd\\u003e3.2%\\u003c/td\\u003e\\n\\u003c/tr\\u003e\\n\\u003ctr\\u003e\\n\\u003ctd\\u003eAutodesk Inc\\u003c/td\\u003e\\n\\u003ctd\\u003e59.90\\u003c/td\\u003e\\n\\u003ctd\\u003e36.66\\u003c/td\\u003e\\n\\u003ctd\\u003e10.29\\u003c/td\\u003e\\n\\u003ctd\\u003e17.93%\\u003c/td\\u003e\\n\\u003ctd\\u003e$0.37\\u003c/td\\u003e\\n\\u003ctd\\u003e$1.29\\u003c/td\\u003e\\n\\u003ctd\\u003e10.47%\\u003c/td\\u003e\\n\\u003c/tr\\u003e\\n\\u003ctr\\u003e\\n\\u003ctd\\u003ePalantir Technologies Inc\\u003c/td\\u003e\\n\\u003ctd\\u003e243\\u003c/td\\u003e\\n\\u003ctd\\u003e13.69\\u003c/td\\u003e\\n\\u003ctd\\u003e22.59\\u003c/td\\u003e\\n\\u003ctd\\u003e2.8%\\u003c/td\\u003e\\n\\u003ctd\\u003e$0.11\\u003c/td\\u003e\\n\\u003ctd\\u003e$0.5\\u003c/td\\u003e\\n\\u003ctd\\u003e8.99%\\u003c/td\\u003e\\n\\u003c/tr\\u003e\\n\\u003ctr\\u003e\\n\\u003ctd\\u003eAnsys Inc\\u003c/td\\u003e\\n\\u003ctd\\u003e60.90\\u003c/td\\u003e\\n\\u003ctd\\u003e5.85\\u003c/td\\u003e\\n\\u003ctd\\u003e13.63\\u003c/td\\u003e\\n\\u003ctd\\u003e1.12%\\u003c/td\\u003e\\n\\u003ctd\\u003e$0.11\\u003c/td\\u003e\\n\\u003ctd\\u003e$0.39\\u003c/td\\u003e\\n\\u003ctd\\u003e-2.9%\\u003c/td\\u003e\\n\\u003c/tr\\u003e\\n\\u003ctr\\u003e\\n\\u003ctd\\u003eSplunk Inc\\u003c/td\\u003e\\n\\u003ctd\\u003e222.46\\u003c/td\\u003e\\n\\u003ctd\\u003e130.08\\u003c/td\\u003e\\n\\u003ctd\\u003e6.40\\u003c/td\\u003e\\n\\u003ctd\\u003e121.15%\\u003c/td\\u003e\\n\\u003ctd\\u003e$0.14\\u003c/td\\u003e\\n\\u003ctd\\u003e$0.86\\u003c/td\\u003e\\n\\u003ctd\\u003e14.8%\\u003c/td\\u003e\\n\\u003c/tr\\u003e\\n\\u003ctr\\u003e\\n\\u003ctd\\u003ePTC Inc\\u003c/td\\u003e\\n\\u003ctd\\u003e89.45\\u003c/td\\u003e\\n\\u003ctd\\u003e7.54\\u003c/td\\u003e\\n\\u003ctd\\u003e9.72\\u003c/td\\u003e\\n\\u003ctd\\u003e2.42%\\u003c/td\\u003e\\n\\u003ctd\\u003e$0.16\\u003c/td\\u003e\\n\\u003ctd\\u003e$0.44\\u003c/td\\u003e\\n\\u003ctd\\u003e18.09%\\u003c/td\\u003e\\n\\u003c/tr\\u003e\\n\\u003ctr\\u003e\\n\\u003ctd\\u003eZoom Video Communications Inc\\u003c/td\\u003e\\n\\u003ctd\\u003e83.66\\u003c/td\\u003e\\n\\u003ctd\\u003e2.61\\u003c/td\\u003e\\n\\u003ctd\\u003e4.32\\u003c/td\\u003e\\n\\u003ctd\\u003e1.96%\\u003c/td\\u003e\\n\\u003ctd\\u003e$0.2\\u003c/td\\u003e\\n\\u003ctd\\u003e$0.87\\u003c/td\\u003e\\n\\u003ctd\\u003e3.16%\\u003c/td\\u003e\\n\\u003c/tr\\u003e\\n\\u003ctr\\u003e\\n\\u003ctd\\u003eTyler Technologies Inc\\u003c/td\\u003e\\n\\u003ctd\\u003e116.36\\u003c/td\\u003e\\n\\u003ctd\\u003e6.36\\u003c/td\\u003e\\n\\u003ctd\\u003e9.54\\u003c/td\\u003e\\n\\u003ctd\\u003e1.67%\\u003c/td\\u003e\\n\\u003ctd\\u003e$0.11\\u003c/td\\u003e\\n\\u003ctd\\u003e$0.23\\u003c/td\\u003e\\n\\u003ctd\\u003e4.54%\\u003c/td\\u003e\\n\\u003c/tr\\u003e\\n\\u003ctr\\u003e\\n\\u003ctd\\u003eDynatrace Inc\\u003c/td\\u003e\\n\\u003ctd\\u003e102.72\\u003c/td\\u003e\\n\\u003ctd\\u003e9.74\\u003c/td\\u003e\\n\\u003ctd\\u003e13.56\\u003c/td\\u003e\\n\\u003ctd\\u003e2.04%\\u003c/td\\u003e\\n\\u003ctd\\u003e$0.05\\u003c/td\\u003e\\n\\u003ctd\\u003e$0.29\\u003c/td\\u003e\\n\\u003ctd\\u003e25.91%\\u003c/td\\u003e\\n\\u003c/tr\\u003e\\n\\u003ctr\\u003e\\n\\u003ctd\\u003eAppLovin Corp\\u003c/td\\u003e\\n\\u003ctd\\u003e164.46\\u003c/td\\u003e\\n\\u003ctd\\u003e14.11\\u003c/td\\u003e\\n\\u003ctd\\u003e5.60\\u003c/td\\u003e\\n\\u003ctd\\u003e8.25%\\u003c/td\\u003e\\n\\u003ctd\\u003e$0.31\\u003c/td\\u003e\\n\\u003ctd\\u003e$0.6\\u003c/td\\u003e\\n\\u003ctd\\u003e21.2%\\u003c/td\\u003e\\n\\u003c/tr\\u003e\\n\\u003ctr\\u003e\\n\\u003ctd\\u003eManhattan Associates Inc\\u003c/td\\u003e\\n\\u003ctd\\u003e87.73\\u003c/td\\u003e\\n\\u003ctd\\u003e54.73\\u003c/td\\u003e\\n\\u003ctd\\u003e16.68\\u003c/td\\u003e\\n\\u003ctd\\u003e19.96%\\u003c/td\\u003e\\n\\u003ctd\\u003e$0.06\\u003c/td\\u003e\\n\\u003ctd\\u003e$0.13\\u003c/td\\u003e\\n\\u003ctd\\u003e-0.08%\\u003c/td\\u003e\\n\\u003c/tr\\u003e\\n\\u003ctr\\u003e\\n\\u003ctd\\u003eBentley Systems Inc\\u003c/td\\u003e\\n\\u003ctd\\u003e92.62\\u003c/td\\u003e\\n\\u003ctd\\u003e21.80\\u003c/td\\u003e\\n\\u003ctd\\u003e14.03\\u003c/td\\u003e\\n\\u003ctd\\u003e7.94%\\u003c/td\\u003e\\n\\u003ctd\\u003e$0.1\\u003c/td\\u003e\\n\\u003ctd\\u003e$0.24\\u003c/td\\u003e\\n\\u003ctd\\u003e14.27%\\u003c/td\\u003e\\n\\u003c/tr\\u003e\\n\\u003ctr\\u003e\\n\\u003ctd\\u003eNICE Ltd\\u003c/td\\u003e\\n\\u003ctd\\u003e43.60\\u003c/td\\u003e\\n\\u003ctd\\u003e4.23\\u003c/td\\u003e\\n\\u003ctd\\u003e6.15\\u003c/td\\u003e\\n\\u003ctd\\u003e2.89%\\u003c/td\\u003e\\n\\u003ctd\\u003e$0.16\\u003c/td\\u003e\\n\\u003ctd\\u003e$0.41\\u003c/td\\u003e\\n\\u003ctd\\u003e8.4%\\u003c/td\\u003e\\n\\u003c/tr\\u003e\\n\\u003ctr\\u003e\\n\\u003ctd\\u003e\\u003cstrong\\u003eAverage\\u003c/strong\\u003e\\u003c/td\\u003e\\n\\u003ctd\\u003e\\u003cstrong\\u003e154.72\\u003c/strong\\u003e\\u003c/td\\u003e\\n\\u003ctd\\u003e\\u003cstrong\\u003e20.68\\u003c/strong\\u003e\\u003c/td\\u003e\\n\\u003ctd\\u003e\\u003cstrong\\u003e11.6\\u003c/strong\\u003e\\u003c/td\\u003e\\n\\u003ctd\\u003e\\u003cstrong\\u003e11.67%\\u003c/strong\\u003e\\u003c/td\\u003e\\n\\u003ctd\\u003e\\u003cstrong\\u003e$0.45\\u003c/strong\\u003e\\u003c/td\\u003e\\n\\u003ctd\\u003e\\u003cstrong\\u003e$1.25\\u003c/strong\\u003e\\u003c/td\\u003e\\n\\u003ctd\\u003e\\u003cstrong\\u003e11.59%\\u003c/strong\\u003e\\u003c/td\\u003e\\n\\u003c/tr\\u003e\\n\\u003c/tbody\\u003e\\n\\u003c/table\\u003e\\n\\n\\u003cstyle\\u003e\\n        table {\\n            width: 100%;\\n            border-collapse: collapse;\\n            font-family: Arial, sans-serif;\\n            font-size: 14px;\\n        }\\n\\n        th, td {\\n            padding: 8px;\\n            text-align: left;\\n        }\\n\\n        th {\\n            background-color: #293a5a;\\n            color: #fff;\\n            text-align: left;\\n        }\\n\\n        tr:nth-child(even) {\\n            background-color: #f2f4f8;\\n        }\\n\\n        tr:hover {\\n            background-color: #e1e4ea;\\n        }\\n\\n        td:nth-child(3), td:nth-child(5) {\\n            text-align: left;\\n        }\\n\\n        .dividend-amount {\\n            font-weight: bold;\\n            color: #0d6efd;\\n        }\\n\\n        .dividend-frequency {\\n            font-size: 12px;\\n            color: #6c757d;\\n        }\\n    \\u003c/style\\u003e\\n\\n\\u003cp\\u003eUpon closer analysis of Salesforce, the following trends become apparent: \\u003c/p\\u003e\\n\\u003cul\\u003e\\n\\u003cli\\u003e\\n\\u003cp\\u003eThe Price to Earnings ratio of \\u003cb\\u003e108.68\\u003c/b\\u003e is \\u003cb\\u003e0.7x\\u003c/b\\u003e lower than the industry average, indicating potential undervaluation for the stock.\\u003c/p\\u003e\\n\\u003c/li\\u003e\\n\\u003cli\\u003e\\n\\u003cp\\u003eConsidering a Price to Book ratio of \\u003cb\\u003e4.76\\u003c/b\\u003e, which is well below the industry average by \\u003cb\\u003e0.23x\\u003c/b\\u003e, the stock may be undervalued based on its book value compared to its peers.\\u003c/p\\u003e\\n\\u003c/li\\u003e\\n\\u003cli\\u003e\\n\\u003cp\\u003eBased on its sales performance, the stock could be deemed undervalued with a Price to Sales ratio of \\u003cb\\u003e8.29\\u003c/b\\u003e, which is \\u003cb\\u003e0.71x\\u003c/b\\u003e the industry average.\\u003c/p\\u003e\\n\\u003c/li\\u003e\\n\\u003cli\\u003e\\n\\u003cp\\u003eWith a Return on Equity (ROE) of \\u003cb\\u003e2.11%\\u003c/b\\u003e that is \\u003cb\\u003e9.56%\\u003c/b\\u003e below the industry average, it appears that the company exhibits potential inefficiency in utilizing equity to generate profits.\\u003c/p\\u003e\\n\\u003c/li\\u003e\\n\\u003cli\\u003e\\n\\u003cp\\u003eThe Earnings Before Interest, Taxes, Depreciation, and Amortization (EBITDA) of \\u003cb\\u003e$2.42 Billion\\u003c/b\\u003e is \\u003cb\\u003e5.38x\\u003c/b\\u003e above the industry average, highlighting stronger profitability and robust cash flow generation.\\u003c/p\\u003e\\n\\u003c/li\\u003e\\n\\u003cli\\u003e\\n\\u003cp\\u003eThe company has higher gross profit of \\u003cb\\u003e$6.57 Billion\\u003c/b\\u003e, which indicates \\u003cb\\u003e5.26x\\u003c/b\\u003e above the industry average, indicating stronger profitability and higher earnings from its core operations.\\u003c/p\\u003e\\n\\u003c/li\\u003e\\n\\u003cli\\u003e\\n\\u003cp\\u003eThe company is witnessing a substantial decline in revenue growth, with a rate of \\u003cb\\u003e11.27%\\u003c/b\\u003e compared to the industry average of \\u003cb\\u003e11.59%\\u003c/b\\u003e, which indicates a challenging sales environment.\\u003c/p\\u003e\\n\\u003c/li\\u003e\\n\\u003c/ul\\u003e\\n\\u003ch3\\u003eDebt To Equity Ratio\\u003c/h3\\u003e\\n\\u003cp\\u003e\\u003cimg src=\\\"https://www.benzinga.com/files/images/story/2024/1707321621_0.png\\\" alt=\\\"debt to equity\\\" /\\u003e\\u003c/p\\u003e\\n\\n\\u003cp\\u003eThe debt-to-equity (D/E) ratio is an important measure to assess the financial structure and risk profile of a company.\\u003c/p\\u003e\\n\\u003cp\\u003eConsidering the debt-to-equity ratio in industry comparisons allows for a concise evaluation of a company's financial health and risk profile, aiding in informed decision-making.\\u003c/p\\u003e\\n\\u003cp\\u003eIn terms of the Debt-to-Equity ratio, Salesforce stands in comparison with its top 4 peers, leading to the following comparisons:\\u003c/p\\u003e\\n\\u003cul\\u003e\\n\\u003cli\\u003e\\n\\u003cp\\u003eSalesforce has a stronger financial position compared to its top 4 peers, as evidenced by its lower debt-to-equity ratio of \\u003cb\\u003e0.22\\u003c/b\\u003e.\\u003c/p\\u003e\\n\\u003c/li\\u003e\\n\\u003cli\\u003e\\n\\u003cp\\u003eThis suggests that the company has a more favorable balance between debt and equity, which can be perceived as a positive indicator by investors.\\u003c/p\\u003e\\n\\u003c/li\\u003e\\n\\u003c/ul\\u003e\\n\\u003ch3\\u003eKey Takeaways\\u003c/h3\\u003e\\n\\u003cp\\u003eSalesforce has a low PE ratio, indicating that its stock price is relatively low compared to its earnings. The low PB ratio suggests that the stock is undervalued based on its book value. The low PS ratio indicates that the stock is trading at a lower price relative to its sales. On the other hand, Salesforce has a high EBITDA and gross profit, indicating strong profitability. However, its low ROE and revenue growth suggest that the company may be facing challenges in generating returns and expanding its business.\\u003c/p\\u003e\\n\\u003cp\\u003e\\u003cem\\u003eThis article was generated by Benzinga's automated content engine and reviewed by an editor.\\u003c/em\\u003e\\u003c/p\\u003e\",\"created_at\":\"2024-02-07T16:00:24Z\",\"headline\":\"Comparative Study: Salesforce And Industry Competitors In Software Industry\",\"id\":36984913,\"images\":[],\"source\":\"benzinga\",\"summary\":\" \",\"symbols\":[\"CRM\"],\"updated_at\":\"2024-02-07T16:00:25Z\",\"url\":\"https://www.benzinga.com/insights/news/24/02/36984913/comparative-study-salesforce-and-industry-competitors-in-software-industry\"},{\"author\":\"Benzinga Neuro\",\"content\":\"\\u003cp\\u003eA top executive at\\u003cstrong\\u003e Salesforce Inc \\u003c/strong\\u003e(NYSE:\\u003ca class=\\\"ticker\\\" href=\\\"https://www.benzinga.com/stock/CRM#NYSE\\\"\\u003eCRM\\u003c/a\\u003e) has reportedly warned employees that they could face financial consequences if they fail to meet an internal training goal. \\u003c/p\\u003e\\n\\n\\n\\n\\u003cp\\u003e\\u003cstrong\\u003eWhat Happened\\u003c/strong\\u003e: The company\\u0026#8217;s president and chief engineering officer, \\u003cstrong\\u003eSrini Tallapragada\\u003c/strong\\u003e, sent an email to his direct reports, stating that those who do not achieve the \\u0026#8220;ranger\\u0026#8221; rank on the company\\u0026#8217;s internal training platform could miss out on stock grants and bonus payments.\\u003c/p\\u003e\\n\\n\\n\\n\\u003cp\\u003eIn an email sent on Jan. 10, Tallapragada reminded employees of the 2023 goal set by Salesforce for all its workers to attain the \\u0026#8220;ranger\\u0026#8221; rank on Trailhead, the company\\u0026#8217;s internal training software. \\u0026#8220;Hopefully all of you are rangers — if not better get going if you want your stock grant and bonus,\\u0026#8221; Tallapragada wrote, \\u003ca href=\\\"https://www.businessinsider.com/salesforce-exec-email-trailhead-goal-bonus-2024-2?IR=T\\\"\\u003ereported\\u003c/a\\u003e Business Insider.\\u003c/p\\u003e\\n\\n\\n\\n\\u003cp\\u003eAccording to a company spokesperson, 91.4% of employees achieved the ranger status. This rank requires the accumulation of 50,000 points on Trailhead, which is the seventh level of achievement on the platform.\\u003c/p\\u003e\\n\\n\\n\\n\\u003cp\\u003eDespite the training goal, Salesforce CEO \\u003cstrong\\u003eMarc Benioff\\u003c/strong\\u003e was reportedly among the employees who did not achieve ranger status in 2023. This development comes amid a series of layoffs at Salesforce, which has seen a 10% reduction in its workforce in early 2023, followed by a further 1% reduction in January.\\u003c/p\\u003e\\n\\n\\n\\n\\u003cp\\u003eSalesforce did not respond to \\u003ca href=\\\"http://pro.benzinga.com/\\\" target=\\\"_blank\\\" rel=\\\"noreferrer noopener\\\"\\u003eBenzinga\\u003c/a\\u003e\\u0026#8216;s request for comment.\\u003c/p\\u003e\\n\\n\\n\\n\\u003cp\\u003e\\u003cem\\u003eSee Also: \\u003ca href=\\\"https://www.benzinga.com/markets/asia/24/02/36953993/china-stocks-surge-after-beijing-announces-new-measures-xi-jinping-steps-in?itm_source=parsely-api\\\" target=\\\"_blank\\\" rel=\\\"noreferrer noopener\\\"\\u003eChina Stocks Surge After Beijing Announces New Measures, Xi Jinping Steps In\\u003c/a\\u003e\\u003c/em\\u003e\\u003c/p\\u003e\\n\\n\\n\\n\\u003cp\\u003e\\u003cstrong\\u003eWhy It Matters\\u003c/strong\\u003e: The recent warning from Salesforce\\u0026#8217;s top executive comes in the wake of the company\\u0026#8217;s ongoing cost-cutting measures. In January, Salesforce \\u003ca href=\\\"https://www.benzinga.com/news/24/01/36798167/salesforce-cuts-700-jobs-in-streamlining-effort-yet-eyes-growth-with-1-000-open-roles\\\"\\u003eannounced layoffs of 700 employees\\u003c/a\\u003e, following a previous reduction of 10% or around 8,000 workers in 2023.\\u003c/p\\u003e\\n\\n\\n\\n\\u003cp\\u003eThis move was part of ongoing cost-cutting pressures from investors, including activist shareholders like Elliott Management, to drive its margins. Despite these cuts, Salesforce still maintains 1,000 open positions, suggesting these layoffs are part of workforce adjustments rather than a significant strategic shift.\\u003c/p\\u003e\\n\\n\\n\\n\\u003cp\\u003eMeanwhile, the layoffs are part of a broader trend in the tech industry. After a noticeable declining trend in tech layoffs during the second half of 2023, the number of employees laid off in the tech sector \\u003ca href=\\\"https://www.benzinga.com/markets/equities/24/01/36874447/tech-layoffs-up-over-300-month-over-month-in-january-3-companies-with-the-most-employees-laid-of\\\"\\u003eincreased by 304%\\u003c/a\\u003e in January.\\u003c/p\\u003e\\n\\n\\n\\n\\u003cp\\u003e\\u003cem\\u003eRead Next: \\u003ca href=\\\"https://www.benzinga.com/markets/cryptocurrency/24/02/36923249/yes-this-is-real-videos-of-wall-street-bull-wif-hat-go-viral-dogecoin-killer-wif-up-17?itm_source=parsely-api\\\" target=\\\"_blank\\\" rel=\\\"noreferrer noopener\\\"\\u003e\\u0026#8216;Yes This Is Real\\u0026#8217;: Videos Of Wall Street Bull \\u0026#8216;Wif Hat\\u0026#8217; Go Viral, \\u0026#8216;Dogecoin Killer\\u0026#8217; $WIF Up 17%\\u003c/a\\u003e\\u003c/em\\u003e\\u003c/p\\u003e\\n\\n\\n\\n\\u003cp\\u003ePhoto via Shutterstock\\u003c/p\\u003e\\n\\n\\n\\n\\u003c!--Actual content--\\u003e\\n    \\u003cdiv style=\\\"font-family: 'Lato', sans-serif\\\"\\u003e\\n      \\u003chr style=\\\"border: 0;height: 5px;background: #225aa9\\\"\\u003e\\n      \\u003cdiv style=\\\"background-color: #f5f5f5;background-position: center;background-size: cover;justify-content: center\\\"\\u003e\\u003c/div\\u003e\\n      \\u003cp style=\\\"font-family: sans-serif;padding-top: 20px\\\"\\u003e\\n        Engineered by\\n        \\u003cspan style=\\\"font-weight: bold;text-decoration: none;color: #225aa9;font-size: 1rem\\\"\\u003eBenzinga Neuro\\u003c/span\\u003e, Edited by\\n        \\u003cspan style=\\\"font-weight: bold;text-decoration: none;color: #225aa9;font-size: 1rem\\\"\\u003e\\n          \\u003cu\\u003e\\u003ca href=\\\"None\\\" target=\\\"_blank\\\" rel=\\\"noopener\\\" style=\\\"color: #225aa9;text-decoration: none\\\"\\u003e\\n              Kaustubh Bagalkote\\u003c/a\\u003e\\u003c/u\\u003e\\n        \\u003c/span\\u003e\\n      \\u003c/p\\u003e\\n      \\u003chr style=\\\"border: 0;height: 1px;background: #225aa9\\\"\\u003e\\n      \\u003cp style=\\\"font-family: sans-serif;padding-top: 20px\\\"\\u003e\\n        The GPT-4-based Benzinga Neuro content generation system exploits the\\n        extensive Benzinga Ecosystem, including native data, APIs, and more to\\n        create comprehensive and timely stories for you.\\n        \\u003ca href=\\\"https://www.benzinga.com/author/benzinga-neuro\\\" target=\\\"_blank\\\" rel=\\\"noopener\\\" style=\\\"color: #225aa9;text-decoration: none\\\"\\u003eLearn more.\\u003c/a\\u003e\\n      \\u003c/p\\u003e\\n      \\u003chr style=\\\"border: 0;height: 5px;background: #225aa9\\\"\\u003e\\n    \\u003c/div\\u003e\\n    \\u003c!--Actual content end--\\u003e\",\"created_at\":\"2024-02-07T05:15:34Z\",\"headline\":\"Salesforce Executive Threatens To Withhold Stock Grants, Bonuses If Employees Fail To Meet Training Goals: Report\",\"id\":36972435,\"images\":[{\"size\":\"large\",\"url\":\"https://cdn.benzinga.com/files/imagecache/2048x1536xUP/images/story/2024/salesforce-shutter_0.jpeg\"},{\"size\":\"small\",\"url\":\"https://cdn.benzinga.com/files/imagecache/1024x768xUP/images/story/2024/salesforce-shutter_0.jpeg\"},{\"size\":\"thumb\",\"url\":\"https://cdn.benzinga.com/files/imagecache/250x187xUP/images/story/2024/salesforce-shutter_0.jpeg\"}],\"source\":\"benzinga\",\"summary\":\"The company\\u0026#39;s president and chief engineering officer, Srini Tallapragada, sent an email to his direct reports, stating that those who do not achieve the \\u0026#34;ranger\\u0026#34; rank on the company\\u0026#39;s internal training platform could miss out on stock grants and bonus payments.\",\"symbols\":[\"CRM\"],\"updated_at\":\"2024-02-07T05:15:34Z\",\"url\":\"https://www.benzinga.com/news/24/02/36972435/salesforce-executive-threatens-to-withhold-stock-grants-bonuses-if-employees-fail-to-meet-training-g\"}],\"next_page_token\":null}\n"
     ]
    }
   ],
   "source": [
    "import requests\n",
    "\n",
    "url = \"https://data.alpaca.markets/v1beta1/news?start=2024-02-01&end=2024-02-10&sort=desc&symbols=CRM&include_content=true&exclude_contentless=true\"\n",
    "\n",
    "headers = {\n",
    "    \"accept\": \"application/json\",\n",
    "    \"APCA-API-KEY-ID\": API_KEY,\n",
    "    \"APCA-API-SECRET-KEY\": SECRET\n",
    "}\n",
    "\n",
    "response = requests.get(url, headers=headers)\n",
    "\n",
    "print(response.text)"
   ]
  },
  {
   "cell_type": "markdown",
   "metadata": {},
   "source": [
    "## Stream (but didnt work or keeps running)"
   ]
  },
  {
   "cell_type": "code",
   "execution_count": 3,
   "metadata": {},
   "outputs": [
    {
     "data": {
      "text/plain": [
       "'[{\"T\":\"success\",\"msg\":\"connected\"}]'"
      ]
     },
     "execution_count": 3,
     "metadata": {},
     "output_type": "execute_result"
    }
   ],
   "source": [
    "conn = create_connection(ws_url)\n",
    "conn.recv()"
   ]
  },
  {
   "cell_type": "code",
   "execution_count": 4,
   "metadata": {},
   "outputs": [
    {
     "data": {
      "text/plain": [
       "'[{\"T\":\"success\",\"msg\":\"authenticated\"}]'"
      ]
     },
     "execution_count": 4,
     "metadata": {},
     "output_type": "execute_result"
    }
   ],
   "source": [
    "conn.send(\n",
    "        json.dumps(\n",
    "            {\n",
    "                \"action\": \"auth\",\n",
    "                \"key\": API_KEY,\n",
    "                \"secret\": SECRET,\n",
    "            }\n",
    "        )\n",
    "    )\n",
    "\n",
    "conn.recv()"
   ]
  },
  {
   "cell_type": "code",
   "execution_count": 5,
   "metadata": {},
   "outputs": [
    {
     "data": {
      "text/plain": [
       "44"
      ]
     },
     "execution_count": 5,
     "metadata": {},
     "output_type": "execute_result"
    }
   ],
   "source": [
    "conn.send(\n",
    "            json.dumps({\"action\": \"subscribe\", \"news\": ['GOOG']})\n",
    "        )\n"
   ]
  },
  {
   "cell_type": "code",
   "execution_count": 7,
   "metadata": {},
   "outputs": [],
   "source": [
    "conn.recv()"
   ]
  },
  {
   "cell_type": "markdown",
   "metadata": {},
   "source": [
    "# Bytewax and alpaca"
   ]
  },
  {
   "cell_type": "code",
   "execution_count": 1,
   "metadata": {},
   "outputs": [],
   "source": [
    "from datetime import timedelta\n",
    "\n",
    "import bytewax.operators as op\n",
    "from bytewax.dataflow import Dataflow\n",
    "from bytewax.connectors.stdio import StdOutSink\n",
    "from bytewax.inputs import DynamicSource\n",
    "from bytewax.outputs import DynamicSink\n",
    "import requests\n",
    "import json"
   ]
  },
  {
   "cell_type": "code",
   "execution_count": 2,
   "metadata": {},
   "outputs": [],
   "source": [
    "API_KEY = 'PKF3KMYDUEAUK0S112HX'\n",
    "SECRET = 'n1hrmo48mJpBoyV7LtVtx6XflUjZymEwd9d9RFev'"
   ]
  },
  {
   "cell_type": "code",
   "execution_count": 3,
   "metadata": {},
   "outputs": [],
   "source": [
    "# util\n",
    "from datetime import datetime, timedelta\n",
    "\n",
    "def split_date_range(from_date, to_date, num_intervals):\n",
    "    # Convert input strings to datetime objects\n",
    "    from_date = datetime.strptime(from_date, '%Y-%m-%d')\n",
    "    to_date = datetime.strptime(to_date, '%Y-%m-%d')\n",
    "    \n",
    "    # Calculate total number of days between from_date and to_date\n",
    "    total_days = (to_date - from_date).days\n",
    "    \n",
    "    # Calculate the number of days per interval\n",
    "    days_per_interval = total_days / num_intervals\n",
    "    \n",
    "    # Initialize list to store result tuples\n",
    "    result = []\n",
    "    \n",
    "    # Generate intervals\n",
    "    for i in range(num_intervals):\n",
    "        # Calculate start and end dates for the current interval\n",
    "        start_date = from_date + timedelta(days=int(i * days_per_interval))\n",
    "        end_date = from_date + timedelta(days=int((i + 1) * days_per_interval))\n",
    "        \n",
    "        # Append tuple (start_date, end_date) to the result list\n",
    "        result.append((start_date.strftime('%Y-%m-%d'), end_date.strftime('%Y-%m-%d')))\n",
    "    \n",
    "    return result\n"
   ]
  },
  {
   "cell_type": "code",
   "execution_count": 8,
   "metadata": {},
   "outputs": [],
   "source": [
    "class AlpacaBatch(DynamicSource):\n",
    "    def __init__(self, from_date, to_date, tickers):\n",
    "        self.from_date = from_date\n",
    "        self.to_date = to_date\n",
    "        self.tickers = tickers \n",
    "        self.api_key = API_KEY\n",
    "        self.secret = SECRET\n",
    "        # to change the string values\n",
    "        self.url = \"https://data.alpaca.markets/v1beta1/news?start=2024-02-01&end=2024-02-10&sort=desc&symbols=CRM&include_content=true&exclude_contentless=true\"\n",
    "    \n",
    "    def build(self, worker_index, worker_count):\n",
    "        print('inside build')\n",
    "        worker_date_range = split_date_range(self.from_date, self.to_date, worker_count)\n",
    "        current_from_date, current_to_date = worker_date_range[worker_index] # current wormer's value\n",
    "        return self.build_alpaca_client(current_from_date, current_to_date)\n",
    "\n",
    "    def build_alpaca_client(self, current_from_date, current_to_date):\n",
    "         \n",
    "        headers = {\n",
    "                        \"accept\": \"application/json\",\n",
    "                        \"APCA-API-KEY-ID\": self.api_key,\n",
    "                        \"APCA-API-SECRET-KEY\": self.secret\n",
    "                    }\n",
    "        params = {\n",
    "            \"start\": current_from_date,\n",
    "            \"end\"  : current_to_date,\n",
    "            \"sort\" : \"desc\",\n",
    "            \"symbols\": self.tickers,\n",
    "            \"include_content\": True,\n",
    "            \"page_token\": 50,\n",
    "            \"limit\": 50\n",
    "        }\n",
    "    \n",
    "        response = requests.get(self.url, headers=headers, params= params)\n",
    "\n",
    "        next_page_token = None\n",
    "        if response.status_code == 200:  # Check if the request was successful\n",
    "            # parse response into json\n",
    "            news_json = response.json()\n",
    "\n",
    "            # extract next page token (if any)\n",
    "            next_page_token = news_json.get(\"next_page_token\", None)\n",
    "\n",
    "        else:\n",
    "            print(f\"Request failed with status code: {response.status_code}\")\n",
    "\n",
    "        self._page_token = next_page_token\n",
    "\n",
    "        return news_json[\"news\"]\n"
   ]
  },
  {
   "cell_type": "code",
   "execution_count": 9,
   "metadata": {},
   "outputs": [],
   "source": [
    "def build():\n",
    "    flow = Dataflow(\"alpaca_news\")\n",
    "    alpaca_batch = op.input(\"input\", flow, AlpacaBatch)\n",
    "    return alpaca_batch"
   ]
  },
  {
   "cell_type": "code",
   "execution_count": 10,
   "metadata": {},
   "outputs": [],
   "source": [
    "mynews = build()"
   ]
  },
  {
   "cell_type": "code",
   "execution_count": 7,
   "metadata": {},
   "outputs": [
    {
     "data": {
      "text/plain": [
       "Stream(stream_id='alpaca_news.input.down', _scope=_Scope(parent_id='alpaca_news'))"
      ]
     },
     "execution_count": 7,
     "metadata": {},
     "output_type": "execute_result"
    }
   ],
   "source": [
    "mynews"
   ]
  },
  {
   "cell_type": "code",
   "execution_count": null,
   "metadata": {},
   "outputs": [],
   "source": []
  }
 ],
 "metadata": {
  "kernelspec": {
   "display_name": ".src_fin_advisor",
   "language": "python",
   "name": "python3"
  },
  "language_info": {
   "codemirror_mode": {
    "name": "ipython",
    "version": 3
   },
   "file_extension": ".py",
   "mimetype": "text/x-python",
   "name": "python",
   "nbconvert_exporter": "python",
   "pygments_lexer": "ipython3",
   "version": "3.11.2"
  }
 },
 "nbformat": 4,
 "nbformat_minor": 2
}
