{
 "cells": [
  {
   "cell_type": "markdown",
   "metadata": {},
   "source": [
    "# Bytewax"
   ]
  },
  {
   "cell_type": "code",
   "execution_count": 1,
   "metadata": {},
   "outputs": [
    {
     "ename": "ModuleNotFoundError",
     "evalue": "No module named 'bytewax.operators'",
     "output_type": "error",
     "traceback": [
      "\u001b[1;31m---------------------------------------------------------------------------\u001b[0m",
      "\u001b[1;31mModuleNotFoundError\u001b[0m                       Traceback (most recent call last)",
      "Cell \u001b[1;32mIn[1], line 3\u001b[0m\n\u001b[0;32m      1\u001b[0m \u001b[38;5;28;01mfrom\u001b[39;00m \u001b[38;5;21;01mdatetime\u001b[39;00m \u001b[38;5;28;01mimport\u001b[39;00m timedelta\n\u001b[1;32m----> 3\u001b[0m \u001b[38;5;28;01mimport\u001b[39;00m \u001b[38;5;21;01mbytewax\u001b[39;00m\u001b[38;5;21;01m.\u001b[39;00m\u001b[38;5;21;01moperators\u001b[39;00m \u001b[38;5;28;01mas\u001b[39;00m \u001b[38;5;21;01mop\u001b[39;00m\n\u001b[0;32m      4\u001b[0m \u001b[38;5;28;01mfrom\u001b[39;00m \u001b[38;5;21;01mbytewax\u001b[39;00m\u001b[38;5;21;01m.\u001b[39;00m\u001b[38;5;21;01mdataflow\u001b[39;00m \u001b[38;5;28;01mimport\u001b[39;00m Dataflow\n\u001b[0;32m      5\u001b[0m \u001b[38;5;28;01mfrom\u001b[39;00m \u001b[38;5;21;01mbytewax\u001b[39;00m\u001b[38;5;21;01m.\u001b[39;00m\u001b[38;5;21;01mconnectors\u001b[39;00m\u001b[38;5;21;01m.\u001b[39;00m\u001b[38;5;21;01mstdio\u001b[39;00m \u001b[38;5;28;01mimport\u001b[39;00m StdOutSink\n",
      "\u001b[1;31mModuleNotFoundError\u001b[0m: No module named 'bytewax.operators'"
     ]
    }
   ],
   "source": [
    "from datetime import timedelta\n",
    "\n",
    "import bytewax.operators as op\n",
    "from bytewax.dataflow import Dataflow\n",
    "from bytewax.connectors.stdio import StdOutSink\n",
    "from bytewax.testing import TestingSource"
   ]
  },
  {
   "cell_type": "code",
   "execution_count": 18,
   "metadata": {},
   "outputs": [],
   "source": [
    "flow = Dataflow(\"collect\")"
   ]
  },
  {
   "cell_type": "code",
   "execution_count": 19,
   "metadata": {},
   "outputs": [],
   "source": [
    "step1 = op.input(\"input\", flow, TestingSource(list(range(10))))"
   ]
  },
  {
   "cell_type": "code",
   "execution_count": 20,
   "metadata": {},
   "outputs": [],
   "source": [
    "step2 = op.output('output', step1, StdOutSink())"
   ]
  },
  {
   "cell_type": "markdown",
   "metadata": {},
   "source": [
    "# Alpaca"
   ]
  },
  {
   "cell_type": "code",
   "execution_count": 1,
   "metadata": {},
   "outputs": [],
   "source": [
    "import requests\n",
    "from pprint import pprint\n",
    "from websocket import create_connection\n",
    "import json"
   ]
  },
  {
   "cell_type": "code",
   "execution_count": 2,
   "metadata": {},
   "outputs": [],
   "source": [
    "API_KEY = 'PKF3KMYDUEAUK0S112HX'\n",
    "SECRET = 'n1hrmo48mJpBoyV7LtVtx6XflUjZymEwd9d9RFev'\n",
    "ws_url = \"wss://stream.data.alpaca.markets/v1beta1/news\""
   ]
  },
  {
   "cell_type": "markdown",
   "metadata": {},
   "source": [
    "## Batch"
   ]
  },
  {
   "cell_type": "code",
   "execution_count": 10,
   "metadata": {},
   "outputs": [
    {
     "name": "stdout",
     "output_type": "stream",
     "text": [
      "{\"message\":\"Start should not be before end\"}\n",
      "\n"
     ]
    }
   ],
   "source": [
    "import requests\n",
    "\n",
    "url = \"https://data.alpaca.markets/v1beta1/news\"\n",
    "\n",
    "headers = {\n",
    "    \"accept\": \"application/json\",\n",
    "    \"APCA-API-KEY-ID\": API_KEY,\n",
    "    \"APCA-API-SECRET-KEY\": SECRET\n",
    "}\n",
    "\n",
    "params = {'start': '2024-06-27', 'end': '2024-03-29', 'symbols': ['CRM'], 'include_content': True, 'limit': 50}\n",
    "response = requests.get(url, headers=headers, params=params)\n",
    "\n",
    "print(response.text)"
   ]
  },
  {
   "cell_type": "code",
   "execution_count": 5,
   "metadata": {},
   "outputs": [
    {
     "name": "stdout",
     "output_type": "stream",
     "text": [
      "{\"news\":[{\"author\":\"Benzinga Insights\",\"content\":\"\\u003cp\\u003eInvestors with a lot of money to spend have taken a bullish stance on \\u003cstrong\\u003eSalesforce\\u003c/strong\\u003e (NYSE:\\u003ca class=\\\"ticker\\\" href=\\\"https://www.benzinga.com/stock/CRM#NYSE\\\"\\u003eCRM\\u003c/a\\u003e).\\u003c/p\\u003e\\n\\u003cp\\u003eAnd retail traders should know.\\u003c/p\\u003e\\n\\u003cp\\u003eWe noticed this today when the trades showed up on publicly available options history that we track here at Benzinga.\\u003c/p\\u003e\\n\\u003cp\\u003eWhether these are institutions or just wealthy individuals, we don't know. But when something this big happens with CRM, it often means somebody knows something is about to happen.\\u003c/p\\u003e\\n\\u003cp\\u003eSo how do we know what these investors just did? \\u003c/p\\u003e\\n\\u003cp\\u003eToday, \\u003ca href=\\\"https://pro.benzinga.com/?utm_source=insights\\\"\\u003eBenzinga\\u003c/a\\u003e's options scanner spotted 42 uncommon options trades for Salesforce.\\u003c/p\\u003e\\n\\u003cp\\u003eThis isn't normal.\\u003c/p\\u003e\\n\\u003cp\\u003eThe overall sentiment of these big-money traders is split between 61% bullish and 38%, bearish.\\u003c/p\\u003e\\n\\u003cp\\u003eOut of all of the special options we uncovered, 8 are puts, for a total amount of $620,122, and 34 are calls, for a total amount of $3,193,872.\\u003c/p\\u003e\\n\\u003ch3\\u003eProjected Price Targets\\u003c/h3\\u003e\\n\\u003cp\\u003eTaking into account the Volume and Open Interest on these contracts, it appears that whales have been targeting a price range from $165.0 to $350.0 for Salesforce over the last 3 months. \\u003c/p\\u003e\\n\\u003ch3\\u003eAnalyzing Volume \\u0026amp; Open Interest\\u003c/h3\\u003e\\n\\u003cp\\u003eLooking at the volume and open interest is a powerful move while trading options. This data can help you track the liquidity and interest for Salesforce's options for a given strike price. Below, we can observe the evolution of the volume and open interest of calls and puts, respectively, for all of Salesforce's whale trades within a strike price range from $165.0 to $350.0 in the last 30 days. \\u003c/p\\u003e\\n\\u003ch3\\u003eSalesforce Option Activity Analysis: Last 30 Days\\u003c/h3\\u003e\\n\\u003cp\\u003e\\u003cimg src=\\\"https://www.benzinga.com/files/images/story/2024/1707507948_0.png\\\" alt=\\\"Options Call Chart\\\" /\\u003e\\u003c/p\\u003e\\n\\n\\u003ch3\\u003eNoteworthy Options Activity:\\u003c/h3\\u003e\\n\\u003cp\\u003e\\u003ctable\\u003e\\n\\u003cthead\\u003e\\n\\u003ctr\\u003e\\n\\u003cth\\u003e\\u003cstrong\\u003eSymbol\\u003c/strong\\u003e\\u003c/th\\u003e\\n\\u003cth\\u003e\\u003cstrong\\u003ePUT/CALL\\u003c/strong\\u003e\\u003c/th\\u003e\\n\\u003cth\\u003e\\u003cstrong\\u003eTrade Type\\u003c/strong\\u003e\\u003c/th\\u003e\\n\\u003cth\\u003e\\u003cstrong\\u003eSentiment\\u003c/strong\\u003e\\u003c/th\\u003e\\n\\u003cth\\u003e\\u003cstrong\\u003eExp. Date\\u003c/strong\\u003e\\u003c/th\\u003e\\n\\u003cth\\u003e\\u003cstrong\\u003eStrike Price\\u003c/strong\\u003e\\u003c/th\\u003e\\n\\u003cth\\u003e\\u003cstrong\\u003eTotal Trade Price\\u003c/strong\\u003e\\u003c/th\\u003e\\n\\u003cth\\u003e\\u003cstrong\\u003eOpen Interest\\u003c/strong\\u003e\\u003c/th\\u003e\\n\\u003cth style=\\\"text-align: right;\\\"\\u003e\\u003cstrong\\u003eVolume\\u003c/strong\\u003e\\u003c/th\\u003e\\n\\u003c/tr\\u003e\\n\\u003c/thead\\u003e\\n\\u003ctbody\\u003e\\n\\u003ctr\\u003e\\n\\u003ctd\\u003eCRM\\u003c/td\\u003e\\n\\u003ctd\\u003eCALL\\u003c/td\\u003e\\n\\u003ctd\\u003eTRADE\\u003c/td\\u003e\\n\\u003ctd\\u003eBULLISH\\u003c/td\\u003e\\n\\u003ctd\\u003e01/16/26\\u003c/td\\u003e\\n\\u003ctd\\u003e$290.00\\u003c/td\\u003e\\n\\u003ctd\\u003e$999.0K\\u003c/td\\u003e\\n\\u003ctd\\u003e1.0K\\u003c/td\\u003e\\n\\u003ctd style=\\\"text-align: right;\\\"\\u003e0\\u003c/td\\u003e\\n\\u003c/tr\\u003e\\n\\u003ctr\\u003e\\n\\u003ctd\\u003eCRM\\u003c/td\\u003e\\n\\u003ctd\\u003eCALL\\u003c/td\\u003e\\n\\u003ctd\\u003eSWEEP\\u003c/td\\u003e\\n\\u003ctd\\u003eBULLISH\\u003c/td\\u003e\\n\\u003ctd\\u003e04/19/24\\u003c/td\\u003e\\n\\u003ctd\\u003e$290.00\\u003c/td\\u003e\\n\\u003ctd\\u003e$332.1K\\u003c/td\\u003e\\n\\u003ctd\\u003e3.0K\\u003c/td\\u003e\\n\\u003ctd style=\\\"text-align: right;\\\"\\u003e682\\u003c/td\\u003e\\n\\u003c/tr\\u003e\\n\\u003ctr\\u003e\\n\\u003ctd\\u003eCRM\\u003c/td\\u003e\\n\\u003ctd\\u003ePUT\\u003c/td\\u003e\\n\\u003ctd\\u003eSWEEP\\u003c/td\\u003e\\n\\u003ctd\\u003eBULLISH\\u003c/td\\u003e\\n\\u003ctd\\u003e03/15/24\\u003c/td\\u003e\\n\\u003ctd\\u003e$280.00\\u003c/td\\u003e\\n\\u003ctd\\u003e$154.2K\\u003c/td\\u003e\\n\\u003ctd\\u003e1.3K\\u003c/td\\u003e\\n\\u003ctd style=\\\"text-align: right;\\\"\\u003e267\\u003c/td\\u003e\\n\\u003c/tr\\u003e\\n\\u003ctr\\u003e\\n\\u003ctd\\u003eCRM\\u003c/td\\u003e\\n\\u003ctd\\u003eCALL\\u003c/td\\u003e\\n\\u003ctd\\u003eSWEEP\\u003c/td\\u003e\\n\\u003ctd\\u003eBEARISH\\u003c/td\\u003e\\n\\u003ctd\\u003e04/19/24\\u003c/td\\u003e\\n\\u003ctd\\u003e$300.00\\u003c/td\\u003e\\n\\u003ctd\\u003e$130.6K\\u003c/td\\u003e\\n\\u003ctd\\u003e2.4K\\u003c/td\\u003e\\n\\u003ctd style=\\\"text-align: right;\\\"\\u003e182\\u003c/td\\u003e\\n\\u003c/tr\\u003e\\n\\u003ctr\\u003e\\n\\u003ctd\\u003eCRM\\u003c/td\\u003e\\n\\u003ctd\\u003ePUT\\u003c/td\\u003e\\n\\u003ctd\\u003eSWEEP\\u003c/td\\u003e\\n\\u003ctd\\u003eBULLISH\\u003c/td\\u003e\\n\\u003ctd\\u003e01/16/26\\u003c/td\\u003e\\n\\u003ctd\\u003e$250.00\\u003c/td\\u003e\\n\\u003ctd\\u003e$130.6K\\u003c/td\\u003e\\n\\u003ctd\\u003e724\\u003c/td\\u003e\\n\\u003ctd style=\\\"text-align: right;\\\"\\u003e403\\u003c/td\\u003e\\n\\u003c/tr\\u003e\\n\\u003c/tbody\\u003e\\n\\u003c/table\\u003e\\u003c/p\\u003e\\n\\u003ch3\\u003eAbout Salesforce\\u003c/h3\\u003e\\n\\u003cp\\u003eSalesforce Inc provides enterprise cloud computing solutions. The company offers customer relationship management technology that brings companies and customers together. Its Customer 360 platform helps the group to deliver a single source of truth, connecting customer data across systems, apps, and devices to help companies sell, service, market, and conduct commerce. It also offers Service Cloud for customer support, Marketing Cloud for digital marketing campaigns, Commerce Cloud as an e-commerce engine, the Salesforce Platform, which allows enterprises to build applications, and other solutions, such as MuleSoft for data integration.\\u003c/p\\u003e\\n\\u003cp\\u003eIn light of the recent options history for Salesforce, it's now appropriate to focus on the company itself. We aim to explore its current performance.\\u003c/p\\u003e\\n\\u003ch3\\u003eSalesforce's Current Market Status\\u003c/h3\\u003e\\n\\u003cul\\u003e\\n\\u003cli\\u003eWith a trading volume of 2,485,896, the price of CRM is up by 0.43%, reaching $293.2.\\u003c/li\\u003e\\n\\u003cli\\u003eCurrent RSI values indicate that the stock is is currently neutral between overbought and oversold.\\u003c/li\\u003e\\n\\u003cli\\u003eNext earnings report is scheduled for 19 days from now.\\u003c/li\\u003e\\n\\u003c/ul\\u003e\\n\\u003ch3\\u003eProfessional Analyst Ratings for Salesforce\\u003c/h3\\u003e\\n\\u003cp\\u003eIn the last month, 3 experts released ratings on this stock with an average target price of $301.0.\\u003c/p\\u003e\\n\\u003cul\\u003e\\n\\u003cli\\u003eReflecting concerns, an analyst from JMP Securities lowers its rating to Market Outperform with a new price target of $293.\\u003c/li\\u003e\\n\\u003cli\\u003eAn analyst from Baird has decided to maintain their Outperform rating on Salesforce, which currently sits at a price target of $310. \\u003c/li\\u003e\\n\\u003cli\\u003eAn analyst from Baird has elevated its stance to Outperform, setting a new price target at $300. \\u003c/li\\u003e\\n\\u003c/ul\\u003e\\n\\u003cp\\u003eOptions are a riskier asset compared to just trading the stock, but they have higher profit potential. Serious options traders manage this risk by educating themselves daily, scaling in and out of trades, following more than one indicator, and following the markets closely.\\u003c/p\\u003e\\n\\u003cp\\u003eIf you want to stay updated on the latest options trades for Salesforce, \\u003ca href=\\\"https://benzinga.grsm.io/register174\\\"\\u003eBenzinga Pro\\u003c/a\\u003e gives you real-time options trades alerts.\\u003c/p\\u003e\",\"created_at\":\"2024-02-09T19:45:52Z\",\"headline\":\"Salesforce Unusual Options Activity For February 09\",\"id\":37042170,\"images\":[{\"size\":\"large\",\"url\":\"https://cdn.benzinga.com/files/imagecache/2048x1536xUP/images/story/2023/movers_image_5.jpeg\"},{\"size\":\"small\",\"url\":\"https://cdn.benzinga.com/files/imagecache/1024x768xUP/images/story/2023/movers_image_5.jpeg\"},{\"size\":\"thumb\",\"url\":\"https://cdn.benzinga.com/files/imagecache/250x187xUP/images/story/2023/movers_image_5.jpeg\"}],\"source\":\"benzinga\",\"summary\":\" \",\"symbols\":[\"CRM\"],\"updated_at\":\"2024-02-09T19:45:52Z\",\"url\":\"https://www.benzinga.com/insights/options/24/02/37042170/salesforce-unusual-options-activity-for-february-09\"},{\"author\":\"Benzinga Insights\",\"content\":\"\\u003cp\\u003eSalesforce (NYSE:\\u003ca class=\\\"ticker\\\" href=\\\"https://www.benzinga.com/stock/CRM#NYSE\\\"\\u003eCRM\\u003c/a\\u003e) has outperformed the market over the past 15 years by 15.88% on an annualized basis producing an average annual return of 28.94%. Currently, Salesforce has a market capitalization of $284.20 billion. \\u003c/p\\u003e\\n\\u003cp\\u003e\\u003cstrong\\u003eBuying $100 In CRM:\\u003c/strong\\u003e If an investor had bought $100 of CRM stock 15 years ago, it would be worth \\u003cstrong\\u003e$4,372.30\\u003c/strong\\u003e today based on a price of $293.60 for CRM at the time of writing.\\u003c/p\\u003e\\n\\u003ch3\\u003eSalesforce's Performance Over Last 15 Years\\u003c/h3\\u003e\\n\\u003cp\\u003e\\u003cimg src=\\\"https://www.benzinga.com/files/images/story/2024/1707489022_0.png\\\" alt=\\\"comp_fig\\\" /\\u003e\\u003c/p\\u003e\\n\\n\\u003cp\\u003eFinally -- what's the point of all this? The key insight to take from this article is to note how much of a difference compounded returns can make in your cash growth over a period of time.\\u003c/p\\u003e\\n\\u003cp\\u003e\\u003cem\\u003eThis article was generated by Benzinga's automated content engine and reviewed by an editor.\\u003c/em\\u003e\\u003c/p\\u003e\",\"created_at\":\"2024-02-09T14:30:25Z\",\"headline\":\"$100 Invested In Salesforce 15 Years Ago Would Be Worth This Much Today\",\"id\":37034820,\"images\":[{\"size\":\"large\",\"url\":\"https://cdn.benzinga.com/files/imagecache/2048x1536xUP/images/story/2023/valuestock_image_0.jpeg\"},{\"size\":\"small\",\"url\":\"https://cdn.benzinga.com/files/imagecache/1024x768xUP/images/story/2023/valuestock_image_0.jpeg\"},{\"size\":\"thumb\",\"url\":\"https://cdn.benzinga.com/files/imagecache/250x187xUP/images/story/2023/valuestock_image_0.jpeg\"}],\"source\":\"benzinga\",\"summary\":\" \",\"symbols\":[\"CRM\"],\"updated_at\":\"2024-02-09T14:30:26Z\",\"url\":\"https://www.benzinga.com/insights/news/24/02/37034820/100-invested-in-salesforce-15-years-ago-would-be-worth-this-much-today\"},{\"author\":\"Neil Dennis\",\"content\":\"\\u003cp\\u003eEuropean Union officials have begun a process to compile guidelines for Big Tech companies to safeguard the democratic process as nearly a third of the world\\u0026#8217;s population \\u003ca href=\\\"https://www.benzinga.com/topic/elections\\\"\\u003egoes to the polls this year\\u003c/a\\u003e.\\u003c/p\\u003e\\n\\n\\n\\n\\u003cp\\u003eThe chief concerns are over the spread of disinformation, hate speech and other malicious attacks over social media platforms that could influence voters — with the U.S., U.K., South Korea and several European countries among the many contesting elections later in the year.\\u003c/p\\u003e\\n\\n\\n\\n\\u003cp\\u003e\\u003cstrong\\u003eThierry Breton\\u003c/strong\\u003e, the EU Commission\\u0026#8217;s internal market commissioner, told lawmakers in Strasbourg: \\u0026#8220;We know that this electoral period is going to be targeted either via hybrid attacks or foreign interference of all kinds. We can\\u0026#8217;t have half-baked measures.\\u0026#8221;\\u003c/p\\u003e\\n\\n\\n\\n\\u003cp\\u003e\\u003cem\\u003eAlso Read: \\u003ca href=\\\"https://www.benzinga.com/general/politics/24/01/36632961/openai-tackles-misinformation-new-tools-ahead-of-key-elections\\\"\\u003eOpenAI Tackles Misinformation: New Tools Ahead Of Key Elections\\u003c/a\\u003e\\u003c/em\\u003e\\u003c/p\\u003e\\n\\n\\n\\n\\u003ch2 class=\\\"wp-block-heading\\\"\\u003eIdentifying Deepfakes\\u003c/h2\\u003e\\n\\n\\n\\n\\u003cp\\u003eThe Commission has already notified Big Tech companies, including Google owner \\u003cstrong\\u003eAlphabet\\u003c/strong\\u003e (NASDAQ:\\u003ca class=\\\"ticker\\\" href=\\\"https://www.benzinga.com/stock/GOOGL#NASDAQ\\\"\\u003eGOOGL\\u003c/a\\u003e)(NASDAQ:\\u003ca class=\\\"ticker\\\" href=\\\"https://www.benzinga.com/stock/GOOG#NASDAQ\\\"\\u003eGOOG\\u003c/a\\u003e), Facebook parent \\u003cstrong\\u003eMeta Platforms Inc \\u003c/strong\\u003e(NASDAQ:\\u003ca class=\\\"ticker\\\" href=\\\"https://www.benzinga.com/stock/META#NASDAQ\\\"\\u003eMETA\\u003c/a\\u003e) and \\u003cstrong\\u003eApple Inc \\u003c/strong\\u003e(NASDAQ:\\u003ca class=\\\"ticker\\\" href=\\\"https://www.benzinga.com/stock/AAPL#NASDAQ\\\"\\u003eAAPL\\u003c/a\\u003e), that it expects answers on what actions they can take.\\u003c/p\\u003e\\n\\n\\n\\n\\u003cfigure class=\\\"wp-block-image size-full\\\"\\u003e\\u003cimg loading=\\\"lazy\\\" decoding=\\\"async\\\" width=\\\"750\\\" height=\\\"650\\\" src=\\\"https://editorial-assets.benzinga.com/wp-content/uploads/2024/02/08112128/newplot-72.png\\\" alt=\\\"\\\" class=\\\"wp-image-209485\\\" srcset=\\\"https://editorial-assets.benzinga.com/wp-content/uploads/2024/02/08112128/newplot-72.png 750w,https://editorial-assets.benzinga.com/wp-content/uploads/2024/02/08112128/newplot-72-300x260.png 300w\\\" sizes=\\\"(max-width: 750px) 100vw, 750px\\\" /\\u003e\\u003c/figure\\u003e\\n\\n\\n\\n\\u003cp\\u003eSome platforms, \\u003ca href=\\\"https://www.benzinga.com/news/24/02/36959912/meta-warns-users-disclose-ai-videos-or-be-punished-in-effort-to-tame-misinformation-in-election-year\\\"\\u003eincluding Meta\\u003c/a\\u003e, have said they will start labeling artificial intelligence (AI)-generated images, while \\u003cstrong\\u003eOpenAI\\u003c/strong\\u003e, the AI partner of \\u003cstrong\\u003eMicrosoft Corp \\u003c/strong\\u003e(NASDAQ:\\u003ca class=\\\"ticker\\\" href=\\\"https://www.benzinga.com/stock/MSFT#NASDAQ\\\"\\u003eMSFT\\u003c/a\\u003e), said last month that it would soon \\u003ca href=\\\"https://www.benzinga.com/general/politics/24/01/36632961/openai-tackles-misinformation-new-tools-ahead-of-key-elections\\\"\\u003elaunch a tool\\u003c/a\\u003e to identify AI-generated content.\\u003c/p\\u003e\\n\\n\\n\\n\\u003cp\\u003eBut more is likely to be expected from tech companies to counter threats such as coordinated fake news and image manipulation attacks from bot factories and hostile foreign governments.\\u003c/p\\u003e\\n\\n\\n\\n\\u003cp\\u003eAI is increasingly being used to generate so-called deepfake images and videos — in one such example last year, a \\u003ca href=\\\"https://www.benzinga.com/news/24/02/36930046/meta-advised-to-overhaul-incoherent-deepfake-rules-by-oversight-board-after-biden-video\\\"\\u003emanipulated video\\u003c/a\\u003e appeared on Meta\\u0026#8217;s Instagram and Facebook platforms falsely suggesting that President Joe Biden was a pedophile.\\u003c/p\\u003e\\n\\n\\n\\n\\u003cp\\u003eSome, however — including \\u003cstrong\\u003eMarc Benioff\\u003c/strong\\u003e, CEO of \\u003cstrong\\u003eSalesforce Inc \\u003c/strong\\u003e(NYSE:\\u003ca class=\\\"ticker\\\" href=\\\"https://www.benzinga.com/stock/CRM#NYSE\\\"\\u003eCRM\\u003c/a\\u003e) — are suggesting social media is a bigger threat to the democratic process than AI. Speaking on a panel alongside OpenAI\\u0026#8217;s \\u003cstrong\\u003eSam Altman\\u003c/strong\\u003e at Davos last month, Benioff said: \\u0026#8220;Regulators have not done their job.\\u0026#8221;\\u003c/p\\u003e\\n\\n\\n\\n\\u003ch2 class=\\\"wp-block-heading\\\"\\u003eEU Ahead Of US In Tech Regulation\\u003c/h2\\u003e\\n\\n\\n\\n\\u003cp\\u003eIn the U.S. there\\u0026#8217;s been little move by regulators ahead of this year\\u0026#8217;s presidential election to ensure misinformation isn\\u0026#8217;t used to influence voters.\\u003c/p\\u003e\\n\\n\\n\\n\\u003cp\\u003eHowever, state legislators have taken the lead. \\u003cstrong\\u003ePublic Citizen,\\u003c/strong\\u003e a non-profit consumer advocacy organization, said that 27 states have now passed legislation to regulate the use of deepfakes in elections — receiving bi-partisan backing.\\u003c/p\\u003e\\n\\n\\n\\n\\u003cp\\u003eIt said: \\u0026#8220;Without regulation, deepfakes are likely to further confuse voters and undermine confidence in elections. \\u003c/p\\u003e\\n\\n\\n\\n\\u003cp\\u003e\\u0026#8220;A deepfake video could be released days or hours before an election with no time to debunk it — misleading voters and altering the outcome of the election.\\u0026#8221;\\u003c/p\\u003e\\n\\n\\n\\n\\u003cp\\u003eAnother example, again targeting Biden, voters in last month\\u0026#8217;s New Hampshire primary received a robocall, supposedly from the president telling Democrats they shouldn\\u0026#8217;t vote in the election.\\u003c/p\\u003e\\n\\n\\n\\n\\u003cp\\u003e\\u003cem\\u003eNow Read: \\u003ca href=\\\"https://www.benzinga.com/markets/equities/24/01/36671966/bill-gates-says-bad-guys-will-be-more-productive-as-sam-altman-and-other-leaders-discuss-potenti\\\"\\u003eBill Gates Says \\u0026#8216;Bad Guys Will Be More Productive\\u0026#8217; As Sam Altman And Other Leaders Discuss Potential Impact Of AI On US Presidential Election\\u003c/a\\u003e\\u003c/em\\u003e\\u003c/p\\u003e\\n\\n\\n\\n\\u003cp\\u003e\\u003cem\\u003ePhoto: Shutterstock\\u003c/em\\u003e\\u003c/p\\u003e\",\"created_at\":\"2024-02-08T18:00:08Z\",\"headline\":\"Big Tech Must Protect Democracy: EU Drafts Misinformation Guidelines Ahead Of Elections\",\"id\":37014692,\"images\":[{\"size\":\"large\",\"url\":\"https://cdn.benzinga.com/files/imagecache/2048x1536xUP/images/story/2024/Deepfake-Shutterstock_0.jpeg\"},{\"size\":\"small\",\"url\":\"https://cdn.benzinga.com/files/imagecache/1024x768xUP/images/story/2024/Deepfake-Shutterstock_0.jpeg\"},{\"size\":\"thumb\",\"url\":\"https://cdn.benzinga.com/files/imagecache/250x187xUP/images/story/2024/Deepfake-Shutterstock_0.jpeg\"}],\"source\":\"benzinga\",\"summary\":\"Some social media platforms are to begin labeling content generated by AI\",\"symbols\":[\"AAPL\",\"CRM\",\"GOOG\",\"GOOGL\",\"META\",\"MSFT\"],\"updated_at\":\"2024-02-08T18:00:09Z\",\"url\":\"https://www.benzinga.com/government/24/02/37014692/big-tech-must-protect-democracy-eu-drafts-misinformation-guidelines-ahead-of-elections\"},{\"author\":\"Benzinga Insights\",\"content\":\"\\u003cp\\u003eFinancial giants have made a conspicuous bearish move on Salesforce. Our analysis of options history for Salesforce (NYSE:\\u003ca class=\\\"ticker\\\" href=\\\"https://www.benzinga.com/stock/CRM#NYSE\\\"\\u003eCRM\\u003c/a\\u003e) revealed 8 unusual trades.\\u003c/p\\u003e\\n\\u003cp\\u003eDelving into the details, we found 25% of traders were bullish, while 75% showed bearish tendencies. Out of all the trades we spotted, 2 were puts, with a value of $177,900, and 6 were calls, valued at $1,237,101.\\u003c/p\\u003e\\n\\u003ch3\\u003ePredicted Price Range\\u003c/h3\\u003e\\n\\u003cp\\u003eAnalyzing the Volume and Open Interest in these contracts, it seems that the big players have been eyeing a price window from $175.0 to $290.0 for Salesforce during the past quarter. \\u003c/p\\u003e\\n\\u003ch3\\u003eAnalyzing Volume \\u0026amp; Open Interest\\u003c/h3\\u003e\\n\\u003cp\\u003eIn today's trading context, the average open interest for options of Salesforce stands at 630.5, with a total volume reaching 550.00. The accompanying chart delineates the progression of both call and put option volume and open interest for high-value trades in Salesforce, situated within the strike price corridor from $175.0 to $290.0, throughout the last 30 days.\\u003c/p\\u003e\\n\\u003ch3\\u003eSalesforce Option Volume And Open Interest Over Last 30 Days\\u003c/h3\\u003e\\n\\u003cp\\u003e\\u003cimg src=\\\"https://www.benzinga.com/files/images/story/2024/1707406305_0.png\\\" alt=\\\"Options Call Chart\\\" /\\u003e\\u003c/p\\u003e\\n\\n\\u003ch3\\u003eLargest Options Trades Observed:\\u003c/h3\\u003e\\n\\u003cp\\u003e\\u003ctable\\u003e\\n\\u003cthead\\u003e\\n\\u003ctr\\u003e\\n\\u003cth\\u003e\\u003cstrong\\u003eSymbol\\u003c/strong\\u003e\\u003c/th\\u003e\\n\\u003cth\\u003e\\u003cstrong\\u003ePUT/CALL\\u003c/strong\\u003e\\u003c/th\\u003e\\n\\u003cth\\u003e\\u003cstrong\\u003eTrade Type\\u003c/strong\\u003e\\u003c/th\\u003e\\n\\u003cth\\u003e\\u003cstrong\\u003eSentiment\\u003c/strong\\u003e\\u003c/th\\u003e\\n\\u003cth\\u003e\\u003cstrong\\u003eExp. Date\\u003c/strong\\u003e\\u003c/th\\u003e\\n\\u003cth\\u003e\\u003cstrong\\u003eStrike Price\\u003c/strong\\u003e\\u003c/th\\u003e\\n\\u003cth\\u003e\\u003cstrong\\u003eTotal Trade Price\\u003c/strong\\u003e\\u003c/th\\u003e\\n\\u003cth\\u003e\\u003cstrong\\u003eOpen Interest\\u003c/strong\\u003e\\u003c/th\\u003e\\n\\u003cth style=\\\"text-align: right;\\\"\\u003e\\u003cstrong\\u003eVolume\\u003c/strong\\u003e\\u003c/th\\u003e\\n\\u003c/tr\\u003e\\n\\u003c/thead\\u003e\\n\\u003ctbody\\u003e\\n\\u003ctr\\u003e\\n\\u003ctd\\u003eCRM\\u003c/td\\u003e\\n\\u003ctd\\u003eCALL\\u003c/td\\u003e\\n\\u003ctd\\u003eTRADE\\u003c/td\\u003e\\n\\u003ctd\\u003eBULLISH\\u003c/td\\u003e\\n\\u003ctd\\u003e01/16/26\\u003c/td\\u003e\\n\\u003ctd\\u003e$290.00\\u003c/td\\u003e\\n\\u003ctd\\u003e$994.5K\\u003c/td\\u003e\\n\\u003ctd\\u003e888\\u003c/td\\u003e\\n\\u003ctd style=\\\"text-align: right;\\\"\\u003e153\\u003c/td\\u003e\\n\\u003c/tr\\u003e\\n\\u003ctr\\u003e\\n\\u003ctd\\u003eCRM\\u003c/td\\u003e\\n\\u003ctd\\u003ePUT\\u003c/td\\u003e\\n\\u003ctd\\u003eSWEEP\\u003c/td\\u003e\\n\\u003ctd\\u003eNEUTRAL\\u003c/td\\u003e\\n\\u003ctd\\u003e04/19/24\\u003c/td\\u003e\\n\\u003ctd\\u003e$260.00\\u003c/td\\u003e\\n\\u003ctd\\u003e$131.6K\\u003c/td\\u003e\\n\\u003ctd\\u003e1.2K\\u003c/td\\u003e\\n\\u003ctd style=\\\"text-align: right;\\\"\\u003e302\\u003c/td\\u003e\\n\\u003c/tr\\u003e\\n\\u003ctr\\u003e\\n\\u003ctd\\u003eCRM\\u003c/td\\u003e\\n\\u003ctd\\u003eCALL\\u003c/td\\u003e\\n\\u003ctd\\u003eTRADE\\u003c/td\\u003e\\n\\u003ctd\\u003eBULLISH\\u003c/td\\u003e\\n\\u003ctd\\u003e01/17/25\\u003c/td\\u003e\\n\\u003ctd\\u003e$175.00\\u003c/td\\u003e\\n\\u003ctd\\u003e$126.7K\\u003c/td\\u003e\\n\\u003ctd\\u003e351\\u003c/td\\u003e\\n\\u003ctd style=\\\"text-align: right;\\\"\\u003e0\\u003c/td\\u003e\\n\\u003c/tr\\u003e\\n\\u003ctr\\u003e\\n\\u003ctd\\u003eCRM\\u003c/td\\u003e\\n\\u003ctd\\u003ePUT\\u003c/td\\u003e\\n\\u003ctd\\u003eTRADE\\u003c/td\\u003e\\n\\u003ctd\\u003eNEUTRAL\\u003c/td\\u003e\\n\\u003ctd\\u003e01/16/26\\u003c/td\\u003e\\n\\u003ctd\\u003e$230.00\\u003c/td\\u003e\\n\\u003ctd\\u003e$46.2K\\u003c/td\\u003e\\n\\u003ctd\\u003e46\\u003c/td\\u003e\\n\\u003ctd style=\\\"text-align: right;\\\"\\u003e25\\u003c/td\\u003e\\n\\u003c/tr\\u003e\\n\\u003ctr\\u003e\\n\\u003ctd\\u003eCRM\\u003c/td\\u003e\\n\\u003ctd\\u003eCALL\\u003c/td\\u003e\\n\\u003ctd\\u003eTRADE\\u003c/td\\u003e\\n\\u003ctd\\u003eNEUTRAL\\u003c/td\\u003e\\n\\u003ctd\\u003e01/17/25\\u003c/td\\u003e\\n\\u003ctd\\u003e$190.00\\u003c/td\\u003e\\n\\u003ctd\\u003e$34.2K\\u003c/td\\u003e\\n\\u003ctd\\u003e792\\u003c/td\\u003e\\n\\u003ctd style=\\\"text-align: right;\\\"\\u003e3\\u003c/td\\u003e\\n\\u003c/tr\\u003e\\n\\u003c/tbody\\u003e\\n\\u003c/table\\u003e\\u003c/p\\u003e\\n\\u003ch3\\u003eAbout Salesforce\\u003c/h3\\u003e\\n\\u003cp\\u003eSalesforce Inc provides enterprise cloud computing solutions. The company offers customer relationship management technology that brings companies and customers together. Its Customer 360 platform helps the group to deliver a single source of truth, connecting customer data across systems, apps, and devices to help companies sell, service, market, and conduct commerce. It also offers Service Cloud for customer support, Marketing Cloud for digital marketing campaigns, Commerce Cloud as an e-commerce engine, the Salesforce Platform, which allows enterprises to build applications, and other solutions, such as MuleSoft for data integration.\\u003c/p\\u003e\\n\\u003cp\\u003eFollowing our analysis of the options activities associated with Salesforce, we pivot to a closer look at the company's own performance.\\u003c/p\\u003e\\n\\u003ch3\\u003eCurrent Position of Salesforce\\u003c/h3\\u003e\\n\\u003cul\\u003e\\n\\u003cli\\u003eWith a volume of 923,044, the price of CRM is up 0.59% at $290.55. \\u003c/li\\u003e\\n\\u003cli\\u003eRSI indicators hint that the underlying stock may be overbought.\\u003c/li\\u003e\\n\\u003cli\\u003eNext earnings are expected to be released in 20 days.\\u003c/li\\u003e\\n\\u003c/ul\\u003e\\n\\u003ch3\\u003eProfessional Analyst Ratings for Salesforce\\u003c/h3\\u003e\\n\\u003cp\\u003eIn the last month, 3 experts released ratings on this stock with an average target price of $301.0.\\u003c/p\\u003e\\n\\u003cul\\u003e\\n\\u003cli\\u003eMaintaining their stance, an analyst from Baird continues to hold a Outperform rating for Salesforce, targeting a price of $310. \\u003c/li\\u003e\\n\\u003cli\\u003eAn analyst from JMP Securities has revised its rating downward to Market Outperform, adjusting the price target to $293. \\u003c/li\\u003e\\n\\u003cli\\u003eShowing optimism, an analyst from Baird upgrades its rating to Outperform with a revised price target of $300. \\u003c/li\\u003e\\n\\u003c/ul\\u003e\\n\\u003cp\\u003eTrading options involves greater risks but also offers the potential for higher profits. Savvy traders mitigate these risks through ongoing education, strategic trade adjustments, utilizing various indicators, and staying attuned to market dynamics. Keep up with the latest options trades for Salesforce with \\u003ca href=\\\"https://benzinga.grsm.io/register174\\\"\\u003eBenzinga Pro\\u003c/a\\u003e for real-time alerts.\\u003c/p\\u003e\",\"created_at\":\"2024-02-08T15:31:48Z\",\"headline\":\"Salesforce's Options: A Look at What the Big Money is Thinking\",\"id\":37010949,\"images\":[{\"size\":\"large\",\"url\":\"https://cdn.benzinga.com/files/imagecache/2048x1536xUP/images/story/2023/movers_image_0.jpeg\"},{\"size\":\"small\",\"url\":\"https://cdn.benzinga.com/files/imagecache/1024x768xUP/images/story/2023/movers_image_0.jpeg\"},{\"size\":\"thumb\",\"url\":\"https://cdn.benzinga.com/files/imagecache/250x187xUP/images/story/2023/movers_image_0.jpeg\"}],\"source\":\"benzinga\",\"summary\":\" \",\"symbols\":[\"CRM\"],\"updated_at\":\"2024-02-08T15:31:48Z\",\"url\":\"https://www.benzinga.com/insights/options/24/02/37010949/salesforces-options-a-look-at-what-the-big-money-is-thinking\"},{\"author\":\"Benzinga Insights\",\"content\":\"\\u003cp\\u003eIn today's rapidly changing and fiercely competitive business landscape, it is vital for investors and industry enthusiasts to carefully evaluate companies. In this article, we will perform a comprehensive industry comparison, evaluating \\u003cb\\u003eSalesforce (NYSE:\\u003ca class=\\\"ticker\\\" href=\\\"https://www.benzinga.com/stock/CRM#NYSE\\\"\\u003eCRM\\u003c/a\\u003e)\\u003c/b\\u003e against its key competitors in the Software industry. By analyzing important financial metrics, market position, and growth prospects, we aim to provide valuable insights for investors and shed light on company's performance within the industry.\\u003c/p\\u003e\\n\\u003ch3\\u003eSalesforce Background\\u003c/h3\\u003e\\n\\u003cp\\u003eSalesforce Inc provides enterprise cloud computing solutions. The company offers customer relationship management technology that brings companies and customers together. Its Customer 360 platform helps the group to deliver a single source of truth, connecting customer data across systems, apps, and devices to help companies sell, service, market, and conduct commerce. It also offers Service Cloud for customer support, Marketing Cloud for digital marketing campaigns, Commerce Cloud as an e-commerce engine, the Salesforce Platform, which allows enterprises to build applications, and other solutions, such as MuleSoft for data integration.\\u003c/p\\u003e\\n\\u003ctable\\u003e\\n\\u003cthead\\u003e\\n\\u003ctr\\u003e\\n\\u003cth\\u003e\\u003cstrong\\u003eCompany\\u003c/strong\\u003e\\u003c/th\\u003e\\n\\u003cth\\u003e\\u003cstrong\\u003eP/E\\u003c/strong\\u003e\\u003c/th\\u003e\\n\\u003cth\\u003e\\u003cstrong\\u003eP/B\\u003c/strong\\u003e\\u003c/th\\u003e\\n\\u003cth\\u003e\\u003cstrong\\u003eP/S\\u003c/strong\\u003e\\u003c/th\\u003e\\n\\u003cth\\u003e\\u003cstrong\\u003eROE\\u003c/strong\\u003e\\u003c/th\\u003e\\n\\u003cth\\u003e\\u003cstrong\\u003eEBITDA (in billions)\\u003c/strong\\u003e\\u003c/th\\u003e\\n\\u003cth\\u003e\\u003cstrong\\u003eGross Profit (in billions)\\u003c/strong\\u003e\\u003c/th\\u003e\\n\\u003cth\\u003e\\u003cstrong\\u003eRevenue Growth\\u003c/strong\\u003e\\u003c/th\\u003e\\n\\u003c/tr\\u003e\\n\\u003c/thead\\u003e\\n\\u003ctbody\\u003e\\n\\u003ctr\\u003e\\n\\u003ctd\\u003eSalesforce Inc\\u003c/td\\u003e\\n\\u003ctd\\u003e108.68\\u003c/td\\u003e\\n\\u003ctd\\u003e4.76\\u003c/td\\u003e\\n\\u003ctd\\u003e8.29\\u003c/td\\u003e\\n\\u003ctd\\u003e2.11%\\u003c/td\\u003e\\n\\u003ctd\\u003e$2.42\\u003c/td\\u003e\\n\\u003ctd\\u003e$6.57\\u003c/td\\u003e\\n\\u003ctd\\u003e11.27%\\u003c/td\\u003e\\n\\u003c/tr\\u003e\\n\\u003ctr\\u003e\\n\\u003ctd\\u003eAdobe Inc\\u003c/td\\u003e\\n\\u003ctd\\u003e51.37\\u003c/td\\u003e\\n\\u003ctd\\u003e16.61\\u003c/td\\u003e\\n\\u003ctd\\u003e14.36\\u003c/td\\u003e\\n\\u003ctd\\u003e9.18%\\u003c/td\\u003e\\n\\u003ctd\\u003e$2.06\\u003c/td\\u003e\\n\\u003ctd\\u003e$4.41\\u003c/td\\u003e\\n\\u003ctd\\u003e11.56%\\u003c/td\\u003e\\n\\u003c/tr\\u003e\\n\\u003ctr\\u003e\\n\\u003ctd\\u003eSAP SE\\u003c/td\\u003e\\n\\u003ctd\\u003e54.59\\u003c/td\\u003e\\n\\u003ctd\\u003e4.52\\u003c/td\\u003e\\n\\u003ctd\\u003e6.30\\u003c/td\\u003e\\n\\u003ctd\\u003e2.75%\\u003c/td\\u003e\\n\\u003ctd\\u003e$2.23\\u003c/td\\u003e\\n\\u003ctd\\u003e$6.2\\u003c/td\\u003e\\n\\u003ctd\\u003e9.34%\\u003c/td\\u003e\\n\\u003c/tr\\u003e\\n\\u003ctr\\u003e\\n\\u003ctd\\u003eIntuit Inc\\u003c/td\\u003e\\n\\u003ctd\\u003e69.58\\u003c/td\\u003e\\n\\u003ctd\\u003e10.47\\u003c/td\\u003e\\n\\u003ctd\\u003e12.18\\u003c/td\\u003e\\n\\u003ctd\\u003e1.41%\\u003c/td\\u003e\\n\\u003ctd\\u003e$0.53\\u003c/td\\u003e\\n\\u003ctd\\u003e$2.22\\u003c/td\\u003e\\n\\u003ctd\\u003e14.67%\\u003c/td\\u003e\\n\\u003c/tr\\u003e\\n\\u003ctr\\u003e\\n\\u003ctd\\u003eSynopsys Inc\\u003c/td\\u003e\\n\\u003ctd\\u003e68.53\\u003c/td\\u003e\\n\\u003ctd\\u003e13.47\\u003c/td\\u003e\\n\\u003ctd\\u003e14.42\\u003c/td\\u003e\\n\\u003ctd\\u003e5.77%\\u003c/td\\u003e\\n\\u003ctd\\u003e$0.48\\u003c/td\\u003e\\n\\u003ctd\\u003e$1.27\\u003c/td\\u003e\\n\\u003ctd\\u003e24.51%\\u003c/td\\u003e\\n\\u003c/tr\\u003e\\n\\u003ctr\\u003e\\n\\u003ctd\\u003eCadence Design Systems Inc\\u003c/td\\u003e\\n\\u003ctd\\u003e83.38\\u003c/td\\u003e\\n\\u003ctd\\u003e25.57\\u003c/td\\u003e\\n\\u003ctd\\u003e20.37\\u003c/td\\u003e\\n\\u003ctd\\u003e8.45%\\u003c/td\\u003e\\n\\u003ctd\\u003e$0.35\\u003c/td\\u003e\\n\\u003ctd\\u003e$0.91\\u003c/td\\u003e\\n\\u003ctd\\u003e13.36%\\u003c/td\\u003e\\n\\u003c/tr\\u003e\\n\\u003ctr\\u003e\\n\\u003ctd\\u003eWorkday Inc\\u003c/td\\u003e\\n\\u003ctd\\u003e1202.62\\u003c/td\\u003e\\n\\u003ctd\\u003e11.46\\u003c/td\\u003e\\n\\u003ctd\\u003e10.85\\u003c/td\\u003e\\n\\u003ctd\\u003e1.76%\\u003c/td\\u003e\\n\\u003ctd\\u003e$0.23\\u003c/td\\u003e\\n\\u003ctd\\u003e$1.42\\u003c/td\\u003e\\n\\u003ctd\\u003e16.67%\\u003c/td\\u003e\\n\\u003c/tr\\u003e\\n\\u003ctr\\u003e\\n\\u003ctd\\u003eRoper Technologies Inc\\u003c/td\\u003e\\n\\u003ctd\\u003e42.82\\u003c/td\\u003e\\n\\u003ctd\\u003e3.34\\u003c/td\\u003e\\n\\u003ctd\\u003e9.48\\u003c/td\\u003e\\n\\u003ctd\\u003e2.26%\\u003c/td\\u003e\\n\\u003ctd\\u003e$0.72\\u003c/td\\u003e\\n\\u003ctd\\u003e$1.13\\u003c/td\\u003e\\n\\u003ctd\\u003e3.2%\\u003c/td\\u003e\\n\\u003c/tr\\u003e\\n\\u003ctr\\u003e\\n\\u003ctd\\u003eAutodesk Inc\\u003c/td\\u003e\\n\\u003ctd\\u003e59.90\\u003c/td\\u003e\\n\\u003ctd\\u003e36.66\\u003c/td\\u003e\\n\\u003ctd\\u003e10.29\\u003c/td\\u003e\\n\\u003ctd\\u003e17.93%\\u003c/td\\u003e\\n\\u003ctd\\u003e$0.37\\u003c/td\\u003e\\n\\u003ctd\\u003e$1.29\\u003c/td\\u003e\\n\\u003ctd\\u003e10.47%\\u003c/td\\u003e\\n\\u003c/tr\\u003e\\n\\u003ctr\\u003e\\n\\u003ctd\\u003ePalantir Technologies Inc\\u003c/td\\u003e\\n\\u003ctd\\u003e243\\u003c/td\\u003e\\n\\u003ctd\\u003e13.69\\u003c/td\\u003e\\n\\u003ctd\\u003e22.59\\u003c/td\\u003e\\n\\u003ctd\\u003e2.8%\\u003c/td\\u003e\\n\\u003ctd\\u003e$0.11\\u003c/td\\u003e\\n\\u003ctd\\u003e$0.5\\u003c/td\\u003e\\n\\u003ctd\\u003e8.99%\\u003c/td\\u003e\\n\\u003c/tr\\u003e\\n\\u003ctr\\u003e\\n\\u003ctd\\u003eAnsys Inc\\u003c/td\\u003e\\n\\u003ctd\\u003e60.90\\u003c/td\\u003e\\n\\u003ctd\\u003e5.85\\u003c/td\\u003e\\n\\u003ctd\\u003e13.63\\u003c/td\\u003e\\n\\u003ctd\\u003e1.12%\\u003c/td\\u003e\\n\\u003ctd\\u003e$0.11\\u003c/td\\u003e\\n\\u003ctd\\u003e$0.39\\u003c/td\\u003e\\n\\u003ctd\\u003e-2.9%\\u003c/td\\u003e\\n\\u003c/tr\\u003e\\n\\u003ctr\\u003e\\n\\u003ctd\\u003eSplunk Inc\\u003c/td\\u003e\\n\\u003ctd\\u003e222.46\\u003c/td\\u003e\\n\\u003ctd\\u003e130.08\\u003c/td\\u003e\\n\\u003ctd\\u003e6.40\\u003c/td\\u003e\\n\\u003ctd\\u003e121.15%\\u003c/td\\u003e\\n\\u003ctd\\u003e$0.14\\u003c/td\\u003e\\n\\u003ctd\\u003e$0.86\\u003c/td\\u003e\\n\\u003ctd\\u003e14.8%\\u003c/td\\u003e\\n\\u003c/tr\\u003e\\n\\u003ctr\\u003e\\n\\u003ctd\\u003ePTC Inc\\u003c/td\\u003e\\n\\u003ctd\\u003e89.45\\u003c/td\\u003e\\n\\u003ctd\\u003e7.54\\u003c/td\\u003e\\n\\u003ctd\\u003e9.72\\u003c/td\\u003e\\n\\u003ctd\\u003e2.42%\\u003c/td\\u003e\\n\\u003ctd\\u003e$0.16\\u003c/td\\u003e\\n\\u003ctd\\u003e$0.44\\u003c/td\\u003e\\n\\u003ctd\\u003e18.09%\\u003c/td\\u003e\\n\\u003c/tr\\u003e\\n\\u003ctr\\u003e\\n\\u003ctd\\u003eZoom Video Communications Inc\\u003c/td\\u003e\\n\\u003ctd\\u003e83.66\\u003c/td\\u003e\\n\\u003ctd\\u003e2.61\\u003c/td\\u003e\\n\\u003ctd\\u003e4.32\\u003c/td\\u003e\\n\\u003ctd\\u003e1.96%\\u003c/td\\u003e\\n\\u003ctd\\u003e$0.2\\u003c/td\\u003e\\n\\u003ctd\\u003e$0.87\\u003c/td\\u003e\\n\\u003ctd\\u003e3.16%\\u003c/td\\u003e\\n\\u003c/tr\\u003e\\n\\u003ctr\\u003e\\n\\u003ctd\\u003eTyler Technologies Inc\\u003c/td\\u003e\\n\\u003ctd\\u003e116.36\\u003c/td\\u003e\\n\\u003ctd\\u003e6.36\\u003c/td\\u003e\\n\\u003ctd\\u003e9.54\\u003c/td\\u003e\\n\\u003ctd\\u003e1.67%\\u003c/td\\u003e\\n\\u003ctd\\u003e$0.11\\u003c/td\\u003e\\n\\u003ctd\\u003e$0.23\\u003c/td\\u003e\\n\\u003ctd\\u003e4.54%\\u003c/td\\u003e\\n\\u003c/tr\\u003e\\n\\u003ctr\\u003e\\n\\u003ctd\\u003eDynatrace Inc\\u003c/td\\u003e\\n\\u003ctd\\u003e102.72\\u003c/td\\u003e\\n\\u003ctd\\u003e9.74\\u003c/td\\u003e\\n\\u003ctd\\u003e13.56\\u003c/td\\u003e\\n\\u003ctd\\u003e2.04%\\u003c/td\\u003e\\n\\u003ctd\\u003e$0.05\\u003c/td\\u003e\\n\\u003ctd\\u003e$0.29\\u003c/td\\u003e\\n\\u003ctd\\u003e25.91%\\u003c/td\\u003e\\n\\u003c/tr\\u003e\\n\\u003ctr\\u003e\\n\\u003ctd\\u003eAppLovin Corp\\u003c/td\\u003e\\n\\u003ctd\\u003e164.46\\u003c/td\\u003e\\n\\u003ctd\\u003e14.11\\u003c/td\\u003e\\n\\u003ctd\\u003e5.60\\u003c/td\\u003e\\n\\u003ctd\\u003e8.25%\\u003c/td\\u003e\\n\\u003ctd\\u003e$0.31\\u003c/td\\u003e\\n\\u003ctd\\u003e$0.6\\u003c/td\\u003e\\n\\u003ctd\\u003e21.2%\\u003c/td\\u003e\\n\\u003c/tr\\u003e\\n\\u003ctr\\u003e\\n\\u003ctd\\u003eManhattan Associates Inc\\u003c/td\\u003e\\n\\u003ctd\\u003e87.73\\u003c/td\\u003e\\n\\u003ctd\\u003e54.73\\u003c/td\\u003e\\n\\u003ctd\\u003e16.68\\u003c/td\\u003e\\n\\u003ctd\\u003e19.96%\\u003c/td\\u003e\\n\\u003ctd\\u003e$0.06\\u003c/td\\u003e\\n\\u003ctd\\u003e$0.13\\u003c/td\\u003e\\n\\u003ctd\\u003e-0.08%\\u003c/td\\u003e\\n\\u003c/tr\\u003e\\n\\u003ctr\\u003e\\n\\u003ctd\\u003eBentley Systems Inc\\u003c/td\\u003e\\n\\u003ctd\\u003e92.62\\u003c/td\\u003e\\n\\u003ctd\\u003e21.80\\u003c/td\\u003e\\n\\u003ctd\\u003e14.03\\u003c/td\\u003e\\n\\u003ctd\\u003e7.94%\\u003c/td\\u003e\\n\\u003ctd\\u003e$0.1\\u003c/td\\u003e\\n\\u003ctd\\u003e$0.24\\u003c/td\\u003e\\n\\u003ctd\\u003e14.27%\\u003c/td\\u003e\\n\\u003c/tr\\u003e\\n\\u003ctr\\u003e\\n\\u003ctd\\u003eNICE Ltd\\u003c/td\\u003e\\n\\u003ctd\\u003e43.60\\u003c/td\\u003e\\n\\u003ctd\\u003e4.23\\u003c/td\\u003e\\n\\u003ctd\\u003e6.15\\u003c/td\\u003e\\n\\u003ctd\\u003e2.89%\\u003c/td\\u003e\\n\\u003ctd\\u003e$0.16\\u003c/td\\u003e\\n\\u003ctd\\u003e$0.41\\u003c/td\\u003e\\n\\u003ctd\\u003e8.4%\\u003c/td\\u003e\\n\\u003c/tr\\u003e\\n\\u003ctr\\u003e\\n\\u003ctd\\u003e\\u003cstrong\\u003eAverage\\u003c/strong\\u003e\\u003c/td\\u003e\\n\\u003ctd\\u003e\\u003cstrong\\u003e154.72\\u003c/strong\\u003e\\u003c/td\\u003e\\n\\u003ctd\\u003e\\u003cstrong\\u003e20.68\\u003c/strong\\u003e\\u003c/td\\u003e\\n\\u003ctd\\u003e\\u003cstrong\\u003e11.6\\u003c/strong\\u003e\\u003c/td\\u003e\\n\\u003ctd\\u003e\\u003cstrong\\u003e11.67%\\u003c/strong\\u003e\\u003c/td\\u003e\\n\\u003ctd\\u003e\\u003cstrong\\u003e$0.45\\u003c/strong\\u003e\\u003c/td\\u003e\\n\\u003ctd\\u003e\\u003cstrong\\u003e$1.25\\u003c/strong\\u003e\\u003c/td\\u003e\\n\\u003ctd\\u003e\\u003cstrong\\u003e11.59%\\u003c/strong\\u003e\\u003c/td\\u003e\\n\\u003c/tr\\u003e\\n\\u003c/tbody\\u003e\\n\\u003c/table\\u003e\\n\\n\\u003cstyle\\u003e\\n        table {\\n            width: 100%;\\n            border-collapse: collapse;\\n            font-family: Arial, sans-serif;\\n            font-size: 14px;\\n        }\\n\\n        th, td {\\n            padding: 8px;\\n            text-align: left;\\n        }\\n\\n        th {\\n            background-color: #293a5a;\\n            color: #fff;\\n            text-align: left;\\n        }\\n\\n        tr:nth-child(even) {\\n            background-color: #f2f4f8;\\n        }\\n\\n        tr:hover {\\n            background-color: #e1e4ea;\\n        }\\n\\n        td:nth-child(3), td:nth-child(5) {\\n            text-align: left;\\n        }\\n\\n        .dividend-amount {\\n            font-weight: bold;\\n            color: #0d6efd;\\n        }\\n\\n        .dividend-frequency {\\n            font-size: 12px;\\n            color: #6c757d;\\n        }\\n    \\u003c/style\\u003e\\n\\n\\u003cp\\u003eUpon closer analysis of Salesforce, the following trends become apparent: \\u003c/p\\u003e\\n\\u003cul\\u003e\\n\\u003cli\\u003e\\n\\u003cp\\u003eThe Price to Earnings ratio of \\u003cb\\u003e108.68\\u003c/b\\u003e is \\u003cb\\u003e0.7x\\u003c/b\\u003e lower than the industry average, indicating potential undervaluation for the stock.\\u003c/p\\u003e\\n\\u003c/li\\u003e\\n\\u003cli\\u003e\\n\\u003cp\\u003eConsidering a Price to Book ratio of \\u003cb\\u003e4.76\\u003c/b\\u003e, which is well below the industry average by \\u003cb\\u003e0.23x\\u003c/b\\u003e, the stock may be undervalued based on its book value compared to its peers.\\u003c/p\\u003e\\n\\u003c/li\\u003e\\n\\u003cli\\u003e\\n\\u003cp\\u003eBased on its sales performance, the stock could be deemed undervalued with a Price to Sales ratio of \\u003cb\\u003e8.29\\u003c/b\\u003e, which is \\u003cb\\u003e0.71x\\u003c/b\\u003e the industry average.\\u003c/p\\u003e\\n\\u003c/li\\u003e\\n\\u003cli\\u003e\\n\\u003cp\\u003eWith a Return on Equity (ROE) of \\u003cb\\u003e2.11%\\u003c/b\\u003e that is \\u003cb\\u003e9.56%\\u003c/b\\u003e below the industry average, it appears that the company exhibits potential inefficiency in utilizing equity to generate profits.\\u003c/p\\u003e\\n\\u003c/li\\u003e\\n\\u003cli\\u003e\\n\\u003cp\\u003eThe Earnings Before Interest, Taxes, Depreciation, and Amortization (EBITDA) of \\u003cb\\u003e$2.42 Billion\\u003c/b\\u003e is \\u003cb\\u003e5.38x\\u003c/b\\u003e above the industry average, highlighting stronger profitability and robust cash flow generation.\\u003c/p\\u003e\\n\\u003c/li\\u003e\\n\\u003cli\\u003e\\n\\u003cp\\u003eThe company has higher gross profit of \\u003cb\\u003e$6.57 Billion\\u003c/b\\u003e, which indicates \\u003cb\\u003e5.26x\\u003c/b\\u003e above the industry average, indicating stronger profitability and higher earnings from its core operations.\\u003c/p\\u003e\\n\\u003c/li\\u003e\\n\\u003cli\\u003e\\n\\u003cp\\u003eThe company is witnessing a substantial decline in revenue growth, with a rate of \\u003cb\\u003e11.27%\\u003c/b\\u003e compared to the industry average of \\u003cb\\u003e11.59%\\u003c/b\\u003e, which indicates a challenging sales environment.\\u003c/p\\u003e\\n\\u003c/li\\u003e\\n\\u003c/ul\\u003e\\n\\u003ch3\\u003eDebt To Equity Ratio\\u003c/h3\\u003e\\n\\u003cp\\u003e\\u003cimg src=\\\"https://www.benzinga.com/files/images/story/2024/1707321621_0.png\\\" alt=\\\"debt to equity\\\" /\\u003e\\u003c/p\\u003e\\n\\n\\u003cp\\u003eThe debt-to-equity (D/E) ratio is an important measure to assess the financial structure and risk profile of a company.\\u003c/p\\u003e\\n\\u003cp\\u003eConsidering the debt-to-equity ratio in industry comparisons allows for a concise evaluation of a company's financial health and risk profile, aiding in informed decision-making.\\u003c/p\\u003e\\n\\u003cp\\u003eIn terms of the Debt-to-Equity ratio, Salesforce stands in comparison with its top 4 peers, leading to the following comparisons:\\u003c/p\\u003e\\n\\u003cul\\u003e\\n\\u003cli\\u003e\\n\\u003cp\\u003eSalesforce has a stronger financial position compared to its top 4 peers, as evidenced by its lower debt-to-equity ratio of \\u003cb\\u003e0.22\\u003c/b\\u003e.\\u003c/p\\u003e\\n\\u003c/li\\u003e\\n\\u003cli\\u003e\\n\\u003cp\\u003eThis suggests that the company has a more favorable balance between debt and equity, which can be perceived as a positive indicator by investors.\\u003c/p\\u003e\\n\\u003c/li\\u003e\\n\\u003c/ul\\u003e\\n\\u003ch3\\u003eKey Takeaways\\u003c/h3\\u003e\\n\\u003cp\\u003eSalesforce has a low PE ratio, indicating that its stock price is relatively low compared to its earnings. The low PB ratio suggests that the stock is undervalued based on its book value. The low PS ratio indicates that the stock is trading at a lower price relative to its sales. On the other hand, Salesforce has a high EBITDA and gross profit, indicating strong profitability. However, its low ROE and revenue growth suggest that the company may be facing challenges in generating returns and expanding its business.\\u003c/p\\u003e\\n\\u003cp\\u003e\\u003cem\\u003eThis article was generated by Benzinga's automated content engine and reviewed by an editor.\\u003c/em\\u003e\\u003c/p\\u003e\",\"created_at\":\"2024-02-07T16:00:24Z\",\"headline\":\"Comparative Study: Salesforce And Industry Competitors In Software Industry\",\"id\":36984913,\"images\":[],\"source\":\"benzinga\",\"summary\":\" \",\"symbols\":[\"CRM\"],\"updated_at\":\"2024-02-07T16:00:25Z\",\"url\":\"https://www.benzinga.com/insights/news/24/02/36984913/comparative-study-salesforce-and-industry-competitors-in-software-industry\"},{\"author\":\"Benzinga Neuro\",\"content\":\"\\u003cp\\u003eA top executive at\\u003cstrong\\u003e Salesforce Inc \\u003c/strong\\u003e(NYSE:\\u003ca class=\\\"ticker\\\" href=\\\"https://www.benzinga.com/stock/CRM#NYSE\\\"\\u003eCRM\\u003c/a\\u003e) has reportedly warned employees that they could face financial consequences if they fail to meet an internal training goal. \\u003c/p\\u003e\\n\\n\\n\\n\\u003cp\\u003e\\u003cstrong\\u003eWhat Happened\\u003c/strong\\u003e: The company\\u0026#8217;s president and chief engineering officer, \\u003cstrong\\u003eSrini Tallapragada\\u003c/strong\\u003e, sent an email to his direct reports, stating that those who do not achieve the \\u0026#8220;ranger\\u0026#8221; rank on the company\\u0026#8217;s internal training platform could miss out on stock grants and bonus payments.\\u003c/p\\u003e\\n\\n\\n\\n\\u003cp\\u003eIn an email sent on Jan. 10, Tallapragada reminded employees of the 2023 goal set by Salesforce for all its workers to attain the \\u0026#8220;ranger\\u0026#8221; rank on Trailhead, the company\\u0026#8217;s internal training software. \\u0026#8220;Hopefully all of you are rangers — if not better get going if you want your stock grant and bonus,\\u0026#8221; Tallapragada wrote, \\u003ca href=\\\"https://www.businessinsider.com/salesforce-exec-email-trailhead-goal-bonus-2024-2?IR=T\\\"\\u003ereported\\u003c/a\\u003e Business Insider.\\u003c/p\\u003e\\n\\n\\n\\n\\u003cp\\u003eAccording to a company spokesperson, 91.4% of employees achieved the ranger status. This rank requires the accumulation of 50,000 points on Trailhead, which is the seventh level of achievement on the platform.\\u003c/p\\u003e\\n\\n\\n\\n\\u003cp\\u003eDespite the training goal, Salesforce CEO \\u003cstrong\\u003eMarc Benioff\\u003c/strong\\u003e was reportedly among the employees who did not achieve ranger status in 2023. This development comes amid a series of layoffs at Salesforce, which has seen a 10% reduction in its workforce in early 2023, followed by a further 1% reduction in January.\\u003c/p\\u003e\\n\\n\\n\\n\\u003cp\\u003eSalesforce did not respond to \\u003ca href=\\\"http://pro.benzinga.com/\\\" target=\\\"_blank\\\" rel=\\\"noreferrer noopener\\\"\\u003eBenzinga\\u003c/a\\u003e\\u0026#8216;s request for comment.\\u003c/p\\u003e\\n\\n\\n\\n\\u003cp\\u003e\\u003cem\\u003eSee Also: \\u003ca href=\\\"https://www.benzinga.com/markets/asia/24/02/36953993/china-stocks-surge-after-beijing-announces-new-measures-xi-jinping-steps-in?itm_source=parsely-api\\\" target=\\\"_blank\\\" rel=\\\"noreferrer noopener\\\"\\u003eChina Stocks Surge After Beijing Announces New Measures, Xi Jinping Steps In\\u003c/a\\u003e\\u003c/em\\u003e\\u003c/p\\u003e\\n\\n\\n\\n\\u003cp\\u003e\\u003cstrong\\u003eWhy It Matters\\u003c/strong\\u003e: The recent warning from Salesforce\\u0026#8217;s top executive comes in the wake of the company\\u0026#8217;s ongoing cost-cutting measures. In January, Salesforce \\u003ca href=\\\"https://www.benzinga.com/news/24/01/36798167/salesforce-cuts-700-jobs-in-streamlining-effort-yet-eyes-growth-with-1-000-open-roles\\\"\\u003eannounced layoffs of 700 employees\\u003c/a\\u003e, following a previous reduction of 10% or around 8,000 workers in 2023.\\u003c/p\\u003e\\n\\n\\n\\n\\u003cp\\u003eThis move was part of ongoing cost-cutting pressures from investors, including activist shareholders like Elliott Management, to drive its margins. Despite these cuts, Salesforce still maintains 1,000 open positions, suggesting these layoffs are part of workforce adjustments rather than a significant strategic shift.\\u003c/p\\u003e\\n\\n\\n\\n\\u003cp\\u003eMeanwhile, the layoffs are part of a broader trend in the tech industry. After a noticeable declining trend in tech layoffs during the second half of 2023, the number of employees laid off in the tech sector \\u003ca href=\\\"https://www.benzinga.com/markets/equities/24/01/36874447/tech-layoffs-up-over-300-month-over-month-in-january-3-companies-with-the-most-employees-laid-of\\\"\\u003eincreased by 304%\\u003c/a\\u003e in January.\\u003c/p\\u003e\\n\\n\\n\\n\\u003cp\\u003e\\u003cem\\u003eRead Next: \\u003ca href=\\\"https://www.benzinga.com/markets/cryptocurrency/24/02/36923249/yes-this-is-real-videos-of-wall-street-bull-wif-hat-go-viral-dogecoin-killer-wif-up-17?itm_source=parsely-api\\\" target=\\\"_blank\\\" rel=\\\"noreferrer noopener\\\"\\u003e\\u0026#8216;Yes This Is Real\\u0026#8217;: Videos Of Wall Street Bull \\u0026#8216;Wif Hat\\u0026#8217; Go Viral, \\u0026#8216;Dogecoin Killer\\u0026#8217; $WIF Up 17%\\u003c/a\\u003e\\u003c/em\\u003e\\u003c/p\\u003e\\n\\n\\n\\n\\u003cp\\u003ePhoto via Shutterstock\\u003c/p\\u003e\\n\\n\\n\\n\\u003c!--Actual content--\\u003e\\n    \\u003cdiv style=\\\"font-family: 'Lato', sans-serif\\\"\\u003e\\n      \\u003chr style=\\\"border: 0;height: 5px;background: #225aa9\\\"\\u003e\\n      \\u003cdiv style=\\\"background-color: #f5f5f5;background-position: center;background-size: cover;justify-content: center\\\"\\u003e\\u003c/div\\u003e\\n      \\u003cp style=\\\"font-family: sans-serif;padding-top: 20px\\\"\\u003e\\n        Engineered by\\n        \\u003cspan style=\\\"font-weight: bold;text-decoration: none;color: #225aa9;font-size: 1rem\\\"\\u003eBenzinga Neuro\\u003c/span\\u003e, Edited by\\n        \\u003cspan style=\\\"font-weight: bold;text-decoration: none;color: #225aa9;font-size: 1rem\\\"\\u003e\\n          \\u003cu\\u003e\\u003ca href=\\\"None\\\" target=\\\"_blank\\\" rel=\\\"noopener\\\" style=\\\"color: #225aa9;text-decoration: none\\\"\\u003e\\n              Kaustubh Bagalkote\\u003c/a\\u003e\\u003c/u\\u003e\\n        \\u003c/span\\u003e\\n      \\u003c/p\\u003e\\n      \\u003chr style=\\\"border: 0;height: 1px;background: #225aa9\\\"\\u003e\\n      \\u003cp style=\\\"font-family: sans-serif;padding-top: 20px\\\"\\u003e\\n        The GPT-4-based Benzinga Neuro content generation system exploits the\\n        extensive Benzinga Ecosystem, including native data, APIs, and more to\\n        create comprehensive and timely stories for you.\\n        \\u003ca href=\\\"https://www.benzinga.com/author/benzinga-neuro\\\" target=\\\"_blank\\\" rel=\\\"noopener\\\" style=\\\"color: #225aa9;text-decoration: none\\\"\\u003eLearn more.\\u003c/a\\u003e\\n      \\u003c/p\\u003e\\n      \\u003chr style=\\\"border: 0;height: 5px;background: #225aa9\\\"\\u003e\\n    \\u003c/div\\u003e\\n    \\u003c!--Actual content end--\\u003e\",\"created_at\":\"2024-02-07T05:15:34Z\",\"headline\":\"Salesforce Executive Threatens To Withhold Stock Grants, Bonuses If Employees Fail To Meet Training Goals: Report\",\"id\":36972435,\"images\":[{\"size\":\"large\",\"url\":\"https://cdn.benzinga.com/files/imagecache/2048x1536xUP/images/story/2024/salesforce-shutter_0.jpeg\"},{\"size\":\"small\",\"url\":\"https://cdn.benzinga.com/files/imagecache/1024x768xUP/images/story/2024/salesforce-shutter_0.jpeg\"},{\"size\":\"thumb\",\"url\":\"https://cdn.benzinga.com/files/imagecache/250x187xUP/images/story/2024/salesforce-shutter_0.jpeg\"}],\"source\":\"benzinga\",\"summary\":\"The company\\u0026#39;s president and chief engineering officer, Srini Tallapragada, sent an email to his direct reports, stating that those who do not achieve the \\u0026#34;ranger\\u0026#34; rank on the company\\u0026#39;s internal training platform could miss out on stock grants and bonus payments.\",\"symbols\":[\"CRM\"],\"updated_at\":\"2024-02-07T05:15:34Z\",\"url\":\"https://www.benzinga.com/news/24/02/36972435/salesforce-executive-threatens-to-withhold-stock-grants-bonuses-if-employees-fail-to-meet-training-g\"}],\"next_page_token\":null}\n"
     ]
    }
   ],
   "source": [
    "import requests\n",
    "\n",
    "url = \"https://data.alpaca.markets/v1beta1/news?start=2024-02-01&end=2024-02-10&sort=desc&symbols=CRM&include_content=true&exclude_contentless=true\"\n",
    "\n",
    "headers = {\n",
    "    \"accept\": \"application/json\",\n",
    "    \"APCA-API-KEY-ID\": API_KEY,\n",
    "    \"APCA-API-SECRET-KEY\": SECRET\n",
    "}\n",
    "\n",
    "response = requests.get(url, headers=headers)\n",
    "\n",
    "print(response.text)"
   ]
  },
  {
   "cell_type": "markdown",
   "metadata": {},
   "source": [
    "## Stream (but didnt work or keeps running)"
   ]
  },
  {
   "cell_type": "code",
   "execution_count": 3,
   "metadata": {},
   "outputs": [
    {
     "data": {
      "text/plain": [
       "'[{\"T\":\"success\",\"msg\":\"connected\"}]'"
      ]
     },
     "execution_count": 3,
     "metadata": {},
     "output_type": "execute_result"
    }
   ],
   "source": [
    "conn = create_connection(ws_url)\n",
    "conn.recv()"
   ]
  },
  {
   "cell_type": "code",
   "execution_count": 4,
   "metadata": {},
   "outputs": [
    {
     "data": {
      "text/plain": [
       "'[{\"T\":\"success\",\"msg\":\"authenticated\"}]'"
      ]
     },
     "execution_count": 4,
     "metadata": {},
     "output_type": "execute_result"
    }
   ],
   "source": [
    "conn.send(\n",
    "        json.dumps(\n",
    "            {\n",
    "                \"action\": \"auth\",\n",
    "                \"key\": API_KEY,\n",
    "                \"secret\": SECRET,\n",
    "            }\n",
    "        )\n",
    "    )\n",
    "\n",
    "conn.recv()"
   ]
  },
  {
   "cell_type": "code",
   "execution_count": 5,
   "metadata": {},
   "outputs": [
    {
     "data": {
      "text/plain": [
       "44"
      ]
     },
     "execution_count": 5,
     "metadata": {},
     "output_type": "execute_result"
    }
   ],
   "source": [
    "conn.send(\n",
    "            json.dumps({\"action\": \"subscribe\", \"news\": ['GOOG']})\n",
    "        )\n"
   ]
  },
  {
   "cell_type": "code",
   "execution_count": 7,
   "metadata": {},
   "outputs": [],
   "source": [
    "conn.recv()"
   ]
  },
  {
   "cell_type": "markdown",
   "metadata": {},
   "source": [
    "# Bytewax and alpaca"
   ]
  },
  {
   "cell_type": "code",
   "execution_count": 1,
   "metadata": {},
   "outputs": [],
   "source": [
    "from datetime import timedelta\n",
    "\n",
    "import bytewax.operators as op\n",
    "from bytewax.dataflow import Dataflow\n",
    "from bytewax.connectors.stdio import StdOutSink\n",
    "from bytewax.inputs import DynamicSource\n",
    "from bytewax.outputs import DynamicSink\n",
    "import requests\n",
    "import json"
   ]
  },
  {
   "cell_type": "code",
   "execution_count": 2,
   "metadata": {},
   "outputs": [],
   "source": [
    "API_KEY = 'PKF3KMYDUEAUK0S112HX'\n",
    "SECRET = 'n1hrmo48mJpBoyV7LtVtx6XflUjZymEwd9d9RFev'"
   ]
  },
  {
   "cell_type": "code",
   "execution_count": 3,
   "metadata": {},
   "outputs": [],
   "source": [
    "# util\n",
    "from datetime import datetime, timedelta\n",
    "\n",
    "def split_date_range(from_date, to_date, num_intervals):\n",
    "    # Convert input strings to datetime objects\n",
    "    from_date = datetime.strptime(from_date, '%Y-%m-%d')\n",
    "    to_date = datetime.strptime(to_date, '%Y-%m-%d')\n",
    "    \n",
    "    # Calculate total number of days between from_date and to_date\n",
    "    total_days = (to_date - from_date).days\n",
    "    \n",
    "    # Calculate the number of days per interval\n",
    "    days_per_interval = total_days / num_intervals\n",
    "    \n",
    "    # Initialize list to store result tuples\n",
    "    result = []\n",
    "    \n",
    "    # Generate intervals\n",
    "    for i in range(num_intervals):\n",
    "        # Calculate start and end dates for the current interval\n",
    "        start_date = from_date + timedelta(days=int(i * days_per_interval))\n",
    "        end_date = from_date + timedelta(days=int((i + 1) * days_per_interval))\n",
    "        \n",
    "        # Append tuple (start_date, end_date) to the result list\n",
    "        result.append((start_date.strftime('%Y-%m-%d'), end_date.strftime('%Y-%m-%d')))\n",
    "    \n",
    "    return result\n"
   ]
  },
  {
   "cell_type": "code",
   "execution_count": 8,
   "metadata": {},
   "outputs": [],
   "source": [
    "class AlpacaBatch(DynamicSource):\n",
    "    def __init__(self, from_date, to_date, tickers):\n",
    "        self.from_date = from_date\n",
    "        self.to_date = to_date\n",
    "        self.tickers = tickers \n",
    "        self.api_key = API_KEY\n",
    "        self.secret = SECRET\n",
    "        # to change the string values\n",
    "        self.url = \"https://data.alpaca.markets/v1beta1/news?start=2024-02-01&end=2024-02-10&sort=desc&symbols=CRM&include_content=true&exclude_contentless=true\"\n",
    "    \n",
    "    def build(self, worker_index, worker_count):\n",
    "        print('inside build')\n",
    "        worker_date_range = split_date_range(self.from_date, self.to_date, worker_count)\n",
    "        current_from_date, current_to_date = worker_date_range[worker_index] # current wormer's value\n",
    "        return self.build_alpaca_client(current_from_date, current_to_date)\n",
    "\n",
    "    def build_alpaca_client(self, current_from_date, current_to_date):\n",
    "         \n",
    "        headers = {\n",
    "                        \"accept\": \"application/json\",\n",
    "                        \"APCA-API-KEY-ID\": self.api_key,\n",
    "                        \"APCA-API-SECRET-KEY\": self.secret\n",
    "                    }\n",
    "        params = {\n",
    "            \"start\": current_from_date,\n",
    "            \"end\"  : current_to_date,\n",
    "            \"sort\" : \"desc\",\n",
    "            \"symbols\": self.tickers,\n",
    "            \"include_content\": True,\n",
    "            \"page_token\": 50,\n",
    "            \"limit\": 50\n",
    "        }\n",
    "    \n",
    "        response = requests.get(self.url, headers=headers, params= params)\n",
    "\n",
    "        next_page_token = None\n",
    "        if response.status_code == 200:  # Check if the request was successful\n",
    "            # parse response into json\n",
    "            news_json = response.json()\n",
    "\n",
    "            # extract next page token (if any)\n",
    "            next_page_token = news_json.get(\"next_page_token\", None)\n",
    "\n",
    "        else:\n",
    "            print(f\"Request failed with status code: {response.status_code}\")\n",
    "\n",
    "        self._page_token = next_page_token\n",
    "\n",
    "        return news_json[\"news\"]\n"
   ]
  },
  {
   "cell_type": "code",
   "execution_count": 9,
   "metadata": {},
   "outputs": [],
   "source": [
    "def build():\n",
    "    flow = Dataflow(\"alpaca_news\")\n",
    "    alpaca_batch = op.input(\"input\", flow, AlpacaBatch)\n",
    "    return alpaca_batch"
   ]
  },
  {
   "cell_type": "code",
   "execution_count": 10,
   "metadata": {},
   "outputs": [],
   "source": [
    "mynews = build()"
   ]
  },
  {
   "cell_type": "code",
   "execution_count": 7,
   "metadata": {},
   "outputs": [
    {
     "data": {
      "text/plain": [
       "Stream(stream_id='alpaca_news.input.down', _scope=_Scope(parent_id='alpaca_news'))"
      ]
     },
     "execution_count": 7,
     "metadata": {},
     "output_type": "execute_result"
    }
   ],
   "source": [
    "mynews"
   ]
  },
  {
   "cell_type": "code",
   "execution_count": 2,
   "metadata": {},
   "outputs": [],
   "source": [
    "# Transformers"
   ]
  },
  {
   "cell_type": "code",
   "execution_count": 3,
   "metadata": {},
   "outputs": [
    {
     "name": "stderr",
     "output_type": "stream",
     "text": [
      "d:\\Raghu Studies\\FinancialAdvisor\\.src_financial_advisor\\Lib\\site-packages\\huggingface_hub\\file_download.py:149: UserWarning: `huggingface_hub` cache-system uses symlinks by default to efficiently store duplicated files but your machine does not support them in C:\\Users\\USER\\.cache\\huggingface\\hub\\models--sentence-transformers--all-MiniLM-L6-v2. Caching files will still work but in a degraded version that might require more space on your disk. This warning can be disabled by setting the `HF_HUB_DISABLE_SYMLINKS_WARNING` environment variable. For more details, see https://huggingface.co/docs/huggingface_hub/how-to-cache#limitations.\n",
      "To support symlinks on Windows, you either need to activate Developer Mode or to run Python as an administrator. In order to see activate developer mode, see this article: https://docs.microsoft.com/en-us/windows/apps/get-started/enable-your-device-for-development\n",
      "  warnings.warn(message)\n"
     ]
    }
   ],
   "source": [
    "from sentence_transformers import SentenceTransformer\n",
    "\n",
    "model = SentenceTransformer(\"all-MiniLM-L6-v2\")"
   ]
  },
  {
   "cell_type": "code",
   "execution_count": 6,
   "metadata": {},
   "outputs": [
    {
     "ename": "ValueError",
     "evalue": "\u001b[91mYou are using a deprecated configuration of Chroma.\n\n\u001b[94mIf you do not have data you wish to migrate, you only need to change how you construct\nyour Chroma client. Please see the \"New Clients\" section of https://docs.trychroma.com/deployment/migration.\n________________________________________________________________________________________________\n\nIf you do have data you wish to migrate, we have a migration tool you can use in order to\nmigrate your data to the new Chroma architecture.\nPlease `pip install chroma-migrate` and run `chroma-migrate` to migrate your data and then\nchange how you construct your Chroma client.\n\nSee https://docs.trychroma.com/deployment/migration for more information or join our discord at https://discord.gg/8g5FESbj for help!\u001b[0m",
     "output_type": "error",
     "traceback": [
      "\u001b[1;31m---------------------------------------------------------------------------\u001b[0m",
      "\u001b[1;31mValueError\u001b[0m                                Traceback (most recent call last)",
      "Cell \u001b[1;32mIn[6], line 3\u001b[0m\n\u001b[0;32m      1\u001b[0m \u001b[38;5;28;01mimport\u001b[39;00m \u001b[38;5;21;01mchromadb\u001b[39;00m\n\u001b[0;32m      2\u001b[0m \u001b[38;5;28;01mfrom\u001b[39;00m \u001b[38;5;21;01mchromadb\u001b[39;00m\u001b[38;5;21;01m.\u001b[39;00m\u001b[38;5;21;01mconfig\u001b[39;00m \u001b[38;5;28;01mimport\u001b[39;00m Settings\n\u001b[1;32m----> 3\u001b[0m client \u001b[38;5;241m=\u001b[39m \u001b[43mchromadb\u001b[49m\u001b[38;5;241;43m.\u001b[39;49m\u001b[43mClient\u001b[49m\u001b[43m(\u001b[49m\u001b[43mSettings\u001b[49m\u001b[43m(\u001b[49m\u001b[43mchroma_db_impl\u001b[49m\u001b[38;5;241;43m=\u001b[39;49m\u001b[38;5;124;43m\"\u001b[39;49m\u001b[38;5;124;43mnews\u001b[39;49m\u001b[38;5;124;43m\"\u001b[39;49m\u001b[43m,\u001b[49m\n\u001b[0;32m      4\u001b[0m \u001b[43m                                    \u001b[49m\u001b[43mpersist_directory\u001b[49m\u001b[38;5;241;43m=\u001b[39;49m\u001b[38;5;124;43m\"\u001b[39;49m\u001b[38;5;124;43m/content/\u001b[39;49m\u001b[38;5;124;43m\"\u001b[39;49m\n\u001b[0;32m      5\u001b[0m \u001b[43m                                \u001b[49m\u001b[43m)\u001b[49m\u001b[43m)\u001b[49m\n",
      "File \u001b[1;32md:\\Raghu Studies\\FinancialAdvisor\\.src_financial_advisor\\Lib\\site-packages\\chromadb\\__init__.py:334\u001b[0m, in \u001b[0;36mClient\u001b[1;34m(settings, tenant, database)\u001b[0m\n\u001b[0;32m    331\u001b[0m tenant \u001b[38;5;241m=\u001b[39m \u001b[38;5;28mstr\u001b[39m(tenant)\n\u001b[0;32m    332\u001b[0m database \u001b[38;5;241m=\u001b[39m \u001b[38;5;28mstr\u001b[39m(database)\n\u001b[1;32m--> 334\u001b[0m \u001b[38;5;28;01mreturn\u001b[39;00m \u001b[43mClientCreator\u001b[49m\u001b[43m(\u001b[49m\u001b[43mtenant\u001b[49m\u001b[38;5;241;43m=\u001b[39;49m\u001b[43mtenant\u001b[49m\u001b[43m,\u001b[49m\u001b[43m \u001b[49m\u001b[43mdatabase\u001b[49m\u001b[38;5;241;43m=\u001b[39;49m\u001b[43mdatabase\u001b[49m\u001b[43m,\u001b[49m\u001b[43m \u001b[49m\u001b[43msettings\u001b[49m\u001b[38;5;241;43m=\u001b[39;49m\u001b[43msettings\u001b[49m\u001b[43m)\u001b[49m\n",
      "File \u001b[1;32md:\\Raghu Studies\\FinancialAdvisor\\.src_financial_advisor\\Lib\\site-packages\\chromadb\\api\\client.py:55\u001b[0m, in \u001b[0;36mClient.__init__\u001b[1;34m(self, tenant, database, settings)\u001b[0m\n\u001b[0;32m     49\u001b[0m \u001b[38;5;28;01mdef\u001b[39;00m \u001b[38;5;21m__init__\u001b[39m(\n\u001b[0;32m     50\u001b[0m     \u001b[38;5;28mself\u001b[39m,\n\u001b[0;32m     51\u001b[0m     tenant: \u001b[38;5;28mstr\u001b[39m \u001b[38;5;241m=\u001b[39m DEFAULT_TENANT,\n\u001b[0;32m     52\u001b[0m     database: \u001b[38;5;28mstr\u001b[39m \u001b[38;5;241m=\u001b[39m DEFAULT_DATABASE,\n\u001b[0;32m     53\u001b[0m     settings: Settings \u001b[38;5;241m=\u001b[39m Settings(),\n\u001b[0;32m     54\u001b[0m ) \u001b[38;5;241m-\u001b[39m\u001b[38;5;241m>\u001b[39m \u001b[38;5;28;01mNone\u001b[39;00m:\n\u001b[1;32m---> 55\u001b[0m     \u001b[38;5;28;43msuper\u001b[39;49m\u001b[43m(\u001b[49m\u001b[43m)\u001b[49m\u001b[38;5;241;43m.\u001b[39;49m\u001b[38;5;21;43m__init__\u001b[39;49m\u001b[43m(\u001b[49m\u001b[43msettings\u001b[49m\u001b[38;5;241;43m=\u001b[39;49m\u001b[43msettings\u001b[49m\u001b[43m)\u001b[49m\n\u001b[0;32m     56\u001b[0m     \u001b[38;5;28mself\u001b[39m\u001b[38;5;241m.\u001b[39mtenant \u001b[38;5;241m=\u001b[39m tenant\n\u001b[0;32m     57\u001b[0m     \u001b[38;5;28mself\u001b[39m\u001b[38;5;241m.\u001b[39mdatabase \u001b[38;5;241m=\u001b[39m database\n",
      "File \u001b[1;32md:\\Raghu Studies\\FinancialAdvisor\\.src_financial_advisor\\Lib\\site-packages\\chromadb\\api\\shared_system_client.py:19\u001b[0m, in \u001b[0;36mSharedSystemClient.__init__\u001b[1;34m(self, settings)\u001b[0m\n\u001b[0;32m     14\u001b[0m \u001b[38;5;28;01mdef\u001b[39;00m \u001b[38;5;21m__init__\u001b[39m(\n\u001b[0;32m     15\u001b[0m     \u001b[38;5;28mself\u001b[39m,\n\u001b[0;32m     16\u001b[0m     settings: Settings \u001b[38;5;241m=\u001b[39m Settings(),\n\u001b[0;32m     17\u001b[0m ) \u001b[38;5;241m-\u001b[39m\u001b[38;5;241m>\u001b[39m \u001b[38;5;28;01mNone\u001b[39;00m:\n\u001b[0;32m     18\u001b[0m     \u001b[38;5;28mself\u001b[39m\u001b[38;5;241m.\u001b[39m_identifier \u001b[38;5;241m=\u001b[39m SharedSystemClient\u001b[38;5;241m.\u001b[39m_get_identifier_from_settings(settings)\n\u001b[1;32m---> 19\u001b[0m     \u001b[43mSharedSystemClient\u001b[49m\u001b[38;5;241;43m.\u001b[39;49m\u001b[43m_create_system_if_not_exists\u001b[49m\u001b[43m(\u001b[49m\u001b[38;5;28;43mself\u001b[39;49m\u001b[38;5;241;43m.\u001b[39;49m\u001b[43m_identifier\u001b[49m\u001b[43m,\u001b[49m\u001b[43m \u001b[49m\u001b[43msettings\u001b[49m\u001b[43m)\u001b[49m\n",
      "File \u001b[1;32md:\\Raghu Studies\\FinancialAdvisor\\.src_financial_advisor\\Lib\\site-packages\\chromadb\\api\\shared_system_client.py:26\u001b[0m, in \u001b[0;36mSharedSystemClient._create_system_if_not_exists\u001b[1;34m(cls, identifier, settings)\u001b[0m\n\u001b[0;32m     21\u001b[0m \u001b[38;5;129m@classmethod\u001b[39m\n\u001b[0;32m     22\u001b[0m \u001b[38;5;28;01mdef\u001b[39;00m \u001b[38;5;21m_create_system_if_not_exists\u001b[39m(\n\u001b[0;32m     23\u001b[0m     \u001b[38;5;28mcls\u001b[39m, identifier: \u001b[38;5;28mstr\u001b[39m, settings: Settings\n\u001b[0;32m     24\u001b[0m ) \u001b[38;5;241m-\u001b[39m\u001b[38;5;241m>\u001b[39m System:\n\u001b[0;32m     25\u001b[0m     \u001b[38;5;28;01mif\u001b[39;00m identifier \u001b[38;5;129;01mnot\u001b[39;00m \u001b[38;5;129;01min\u001b[39;00m \u001b[38;5;28mcls\u001b[39m\u001b[38;5;241m.\u001b[39m_identifier_to_system:\n\u001b[1;32m---> 26\u001b[0m         new_system \u001b[38;5;241m=\u001b[39m \u001b[43mSystem\u001b[49m\u001b[43m(\u001b[49m\u001b[43msettings\u001b[49m\u001b[43m)\u001b[49m\n\u001b[0;32m     27\u001b[0m         \u001b[38;5;28mcls\u001b[39m\u001b[38;5;241m.\u001b[39m_identifier_to_system[identifier] \u001b[38;5;241m=\u001b[39m new_system\n\u001b[0;32m     29\u001b[0m         new_system\u001b[38;5;241m.\u001b[39minstance(ProductTelemetryClient)\n",
      "File \u001b[1;32md:\\Raghu Studies\\FinancialAdvisor\\.src_financial_advisor\\Lib\\site-packages\\chromadb\\config.py:333\u001b[0m, in \u001b[0;36mSystem.__init__\u001b[1;34m(self, settings)\u001b[0m\n\u001b[0;32m    331\u001b[0m \u001b[38;5;28;01mfor\u001b[39;00m key \u001b[38;5;129;01min\u001b[39;00m _legacy_config_keys:\n\u001b[0;32m    332\u001b[0m     \u001b[38;5;28;01mif\u001b[39;00m settings[key] \u001b[38;5;129;01mis\u001b[39;00m \u001b[38;5;129;01mnot\u001b[39;00m \u001b[38;5;28;01mNone\u001b[39;00m:\n\u001b[1;32m--> 333\u001b[0m         \u001b[38;5;28;01mraise\u001b[39;00m \u001b[38;5;167;01mValueError\u001b[39;00m(LEGACY_ERROR)\n\u001b[0;32m    335\u001b[0m \u001b[38;5;28;01mif\u001b[39;00m (\n\u001b[0;32m    336\u001b[0m     settings[\u001b[38;5;124m\"\u001b[39m\u001b[38;5;124mchroma_segment_cache_policy\u001b[39m\u001b[38;5;124m\"\u001b[39m] \u001b[38;5;129;01mis\u001b[39;00m \u001b[38;5;129;01mnot\u001b[39;00m \u001b[38;5;28;01mNone\u001b[39;00m\n\u001b[0;32m    337\u001b[0m     \u001b[38;5;129;01mand\u001b[39;00m settings[\u001b[38;5;124m\"\u001b[39m\u001b[38;5;124mchroma_segment_cache_policy\u001b[39m\u001b[38;5;124m\"\u001b[39m] \u001b[38;5;241m!=\u001b[39m \u001b[38;5;124m\"\u001b[39m\u001b[38;5;124mLRU\u001b[39m\u001b[38;5;124m\"\u001b[39m\n\u001b[0;32m    338\u001b[0m ):\n\u001b[0;32m    339\u001b[0m     logger\u001b[38;5;241m.\u001b[39merror(\n\u001b[0;32m    340\u001b[0m         \u001b[38;5;124m\"\u001b[39m\u001b[38;5;124mFailed to set chroma_segment_cache_policy: Only LRU is available.\u001b[39m\u001b[38;5;124m\"\u001b[39m\n\u001b[0;32m    341\u001b[0m     )\n",
      "\u001b[1;31mValueError\u001b[0m: \u001b[91mYou are using a deprecated configuration of Chroma.\n\n\u001b[94mIf you do not have data you wish to migrate, you only need to change how you construct\nyour Chroma client. Please see the \"New Clients\" section of https://docs.trychroma.com/deployment/migration.\n________________________________________________________________________________________________\n\nIf you do have data you wish to migrate, we have a migration tool you can use in order to\nmigrate your data to the new Chroma architecture.\nPlease `pip install chroma-migrate` and run `chroma-migrate` to migrate your data and then\nchange how you construct your Chroma client.\n\nSee https://docs.trychroma.com/deployment/migration for more information or join our discord at https://discord.gg/8g5FESbj for help!\u001b[0m"
     ]
    }
   ],
   "source": [
    "import chromadb\n",
    "from chromadb.config import Settings\n",
    "client = chromadb.Client(Settings(chroma_db_impl=\"news\",\n",
    "                                    persist_directory=\"/content/\"\n",
    "                                ))"
   ]
  },
  {
   "cell_type": "code",
   "execution_count": 4,
   "metadata": {},
   "outputs": [
    {
     "name": "stdout",
     "output_type": "stream",
     "text": [
      "(3, 384)\n"
     ]
    }
   ],
   "source": [
    "sentences = [\n",
    "    \"The weather is lovely today.\",\n",
    "    \"It's so sunny outside!\",\n",
    "    \"He drove to the stadium.\",\n",
    "]\n",
    "embeddings = model.encode(sentences)\n",
    "print(embeddings.shape)\n",
    "# => (3, 384)"
   ]
  },
  {
   "cell_type": "code",
   "execution_count": 5,
   "metadata": {},
   "outputs": [
    {
     "data": {
      "text/plain": [
       "array([ 1.91957336e-02,  1.20085366e-01,  1.59598321e-01,  6.70658574e-02,\n",
       "        5.00748307e-02, -2.59187780e-02,  5.64682111e-02, -9.28577632e-02,\n",
       "       -3.76114585e-02,  6.32383581e-03, -4.28877808e-02,  4.02830541e-03,\n",
       "        4.72777849e-03,  3.24676335e-02,  4.95197996e-02,  5.29818423e-02,\n",
       "       -4.04454954e-02, -2.14837138e-02, -3.02760713e-02,  2.20858306e-02,\n",
       "       -1.60775766e-01,  8.08078125e-02, -2.80131213e-02,  8.06255490e-02,\n",
       "       -2.85814553e-02,  5.35818301e-02,  1.26382662e-02,  4.79191132e-02,\n",
       "        5.71114989e-03, -3.25830802e-02, -2.61571463e-02,  8.00957456e-02,\n",
       "        1.47315497e-02, -3.24082151e-02, -4.12551947e-02, -9.68343113e-03,\n",
       "        5.00834780e-04, -1.56286806e-01, -6.77877590e-02,  4.88779247e-02,\n",
       "        1.88976098e-02, -7.97722340e-02,  2.43868157e-02,  5.46699250e-03,\n",
       "        1.10656675e-02, -7.77951349e-03, -2.20388379e-02,  3.50319669e-02,\n",
       "        1.06080182e-01, -4.72453563e-03, -5.78185469e-02,  2.34565306e-02,\n",
       "       -5.92036173e-02, -6.09012954e-02, -7.78568834e-02,  6.60292730e-02,\n",
       "        1.78600810e-02, -8.11270997e-02,  7.57634118e-02, -2.43454650e-02,\n",
       "        9.09022335e-03,  6.87525123e-02, -3.97270285e-02,  3.60238105e-02,\n",
       "        5.77254295e-02, -6.30516782e-02, -8.77819434e-02,  2.84299012e-02,\n",
       "        1.45351468e-02, -4.18621004e-02, -6.09528124e-02,  1.83539018e-02,\n",
       "        7.72606730e-02, -1.88080389e-02,  9.43160802e-03, -5.06037548e-02,\n",
       "       -2.17473973e-02, -3.18190418e-02,  2.43603159e-02, -3.49250808e-02,\n",
       "        4.67639193e-02, -4.70386334e-02,  3.92341800e-02,  1.94039848e-02,\n",
       "       -3.30973342e-02,  2.53315195e-02, -2.63809389e-03,  7.00824559e-02,\n",
       "        6.98783025e-02, -3.73870619e-02, -8.25272501e-02, -4.34262380e-02,\n",
       "       -9.70547646e-02,  1.45785343e-02, -2.78158188e-02,  3.92692015e-02,\n",
       "        1.16925570e-03,  1.92398817e-04, -7.57028610e-02,  8.60968903e-02,\n",
       "        2.88488213e-02,  2.29221415e-02, -3.57373841e-02,  3.54775339e-02,\n",
       "        2.45242622e-02,  2.40352228e-02, -8.79046991e-02,  1.44878160e-02,\n",
       "       -2.73459721e-02, -8.52087587e-02, -1.44946184e-02,  4.79919463e-02,\n",
       "       -4.62026112e-02, -5.00965212e-03,  5.72110452e-02, -5.80549054e-02,\n",
       "       -3.13617922e-02,  2.64306646e-02, -2.34356578e-02,  1.55486064e-02,\n",
       "       -1.91461910e-02, -3.77386324e-02, -4.94924700e-03,  9.59074199e-02,\n",
       "        5.87535314e-02,  4.47579920e-02,  6.50169253e-02, -8.88410492e-33,\n",
       "        8.52445513e-02,  1.26364715e-02,  5.76431677e-02,  9.03413668e-02,\n",
       "        2.25082729e-02, -2.90105529e-02, -2.35910770e-02, -6.75426349e-02,\n",
       "       -6.44759312e-02, -8.70767832e-02, -1.64986830e-02, -2.39179712e-02,\n",
       "       -4.09978963e-02, -3.09389550e-03,  2.49698013e-02, -1.18342139e-01,\n",
       "       -2.00170372e-02,  3.90376374e-02, -7.62235885e-03,  1.26223624e-01,\n",
       "       -1.07739061e-01,  2.30698497e-03,  3.93507257e-03, -1.73429046e-02,\n",
       "       -4.45554070e-02, -3.18517983e-02,  8.25000256e-02,  3.15844617e-03,\n",
       "        5.12053445e-03,  3.60781886e-03,  1.00530937e-01, -3.14028710e-02,\n",
       "        8.14436823e-02,  2.90748253e-02,  3.88876908e-02, -5.74764162e-02,\n",
       "       -4.57873158e-02, -1.83595829e-02,  5.51990531e-02,  1.61928739e-02,\n",
       "       -1.55425295e-02, -1.93223786e-02,  5.90649014e-03, -4.04032953e-02,\n",
       "       -1.15880473e-02,  6.17916882e-02,  5.18474653e-02,  5.11258170e-02,\n",
       "       -2.27068346e-02,  1.71410795e-02, -8.40456560e-02,  1.96278784e-02,\n",
       "       -1.22257927e-02,  4.10588086e-02, -5.46054915e-02, -5.03100194e-02,\n",
       "        1.41687400e-04,  2.67022196e-02,  3.48007232e-02,  2.81967111e-02,\n",
       "       -4.85028103e-02,  2.65087914e-02, -4.79756249e-03, -1.38822153e-01,\n",
       "        9.22235027e-02, -2.41662338e-02,  1.12707475e-02,  7.29610473e-02,\n",
       "       -9.47543308e-02,  3.91785391e-02,  5.63311316e-02,  3.21452580e-02,\n",
       "        6.91322312e-02,  2.38994677e-02,  6.48373505e-03,  1.73735823e-02,\n",
       "        1.23578839e-01, -2.84599457e-02,  8.67334604e-02,  6.10371381e-02,\n",
       "       -2.50962935e-02,  1.06898554e-01,  2.98544113e-02, -7.70195276e-02,\n",
       "       -1.01652332e-02, -6.43564155e-03, -3.24915797e-02, -3.37632485e-02,\n",
       "       -4.32395339e-02,  6.21578880e-02, -4.06050831e-02,  3.89888249e-02,\n",
       "        5.85225038e-02, -3.41907479e-02, -5.12122400e-02,  4.50507916e-33,\n",
       "        1.13116711e-01, -8.51070043e-03, -9.25030857e-02,  2.20424067e-02,\n",
       "       -5.66864870e-02, -1.57673769e-02, -4.67311777e-02,  6.14580028e-02,\n",
       "       -5.16407341e-02,  8.90316293e-02,  9.35165025e-03,  6.35815561e-02,\n",
       "        7.01287314e-02, -6.47543967e-02,  5.41846408e-03,  1.33846607e-03,\n",
       "        3.79684605e-02,  6.89032003e-02, -7.42482170e-02,  6.36941046e-02,\n",
       "       -4.75647524e-02, -7.84210581e-03, -8.18964280e-03,  1.84128974e-02,\n",
       "       -7.60232192e-03,  4.76388559e-02, -1.72516312e-02,  4.40721177e-02,\n",
       "       -8.77779499e-02, -1.07916156e-02, -5.54142334e-02,  4.88614030e-02,\n",
       "       -7.83364624e-02,  1.67492088e-02, -1.64383892e-02,  6.06767833e-02,\n",
       "        2.85735857e-02, -9.52064916e-02,  2.51445686e-03,  1.08555192e-02,\n",
       "       -5.09450436e-02, -2.14771386e-02,  1.52796775e-01, -4.27820086e-02,\n",
       "        2.89093144e-02, -4.96570356e-02, -5.79501912e-02,  2.82133799e-02,\n",
       "       -3.25842276e-02, -1.75042879e-02,  4.48866487e-02,  3.40810493e-02,\n",
       "        1.45266444e-04,  4.81841713e-02,  4.18299027e-02, -4.69190292e-02,\n",
       "       -7.91865960e-02, -3.42712291e-02, -6.66710660e-02, -1.03458809e-02,\n",
       "       -9.11988541e-02,  6.67363498e-03, -1.45808849e-02,  2.39225361e-03,\n",
       "        4.44564316e-03, -1.05879698e-02, -2.78448872e-02, -3.49644087e-02,\n",
       "       -2.46671140e-02,  4.78203557e-02, -2.08226331e-02, -5.95815144e-02,\n",
       "       -1.04035705e-01, -5.59098050e-02,  3.86543535e-02,  1.05138309e-02,\n",
       "        3.55817862e-02,  1.76445376e-02, -2.49957535e-02,  6.66439459e-02,\n",
       "       -5.30123301e-02,  2.30047293e-02,  1.73488986e-02, -2.07350813e-02,\n",
       "       -1.95314474e-02, -9.51545537e-02, -5.02572348e-03, -6.35183975e-02,\n",
       "        4.35592830e-02,  7.26910159e-02, -2.75358446e-02,  4.34854254e-02,\n",
       "       -4.55433428e-02,  3.32281105e-02, -2.56187227e-02, -1.89569480e-08,\n",
       "       -3.73010002e-02, -8.29237476e-02, -6.99395239e-02,  1.35675520e-02,\n",
       "       -3.54309077e-03, -5.79407513e-02,  7.41110668e-02, -4.22320142e-02,\n",
       "       -1.28664281e-02,  3.67893055e-02,  4.58847545e-02,  6.05496317e-02,\n",
       "       -1.43572409e-02,  4.88549247e-02,  4.71242405e-02, -6.85541034e-02,\n",
       "       -1.87134407e-02,  2.15035304e-02, -1.62538253e-02,  2.12596008e-03,\n",
       "        6.09612167e-02, -2.16080388e-03, -1.72992740e-02,  7.26746768e-02,\n",
       "        5.70595898e-02, -7.01321894e-03, -5.68801723e-03, -4.84191850e-02,\n",
       "        1.87250711e-02,  6.47058487e-02, -2.53904667e-02,  1.77654196e-02,\n",
       "       -2.42893258e-03, -1.67992730e-02, -1.95210555e-03, -3.73651460e-02,\n",
       "        2.69613024e-02,  4.33779098e-02, -5.75020686e-02, -3.06685809e-02,\n",
       "       -3.13655585e-02,  1.78942420e-02, -5.40487207e-02, -1.98004562e-02,\n",
       "        4.04947475e-02, -7.47318789e-02,  4.45540100e-02,  3.63072529e-02,\n",
       "       -7.20080063e-02,  1.16351889e-02, -1.22403828e-02,  4.13235463e-03,\n",
       "        7.82235786e-02,  5.37100621e-02, -2.57693548e-02, -1.13108642e-02,\n",
       "       -4.83092219e-02, -1.84192192e-02,  2.60648411e-02, -1.37102732e-03,\n",
       "       -5.31681553e-02, -5.36284409e-03, -8.10950026e-02,  5.02133667e-02],\n",
       "      dtype=float32)"
      ]
     },
     "execution_count": 5,
     "metadata": {},
     "output_type": "execute_result"
    }
   ],
   "source": [
    "embeddings[0]"
   ]
  },
  {
   "cell_type": "code",
   "execution_count": null,
   "metadata": {},
   "outputs": [],
   "source": []
  }
 ],
 "metadata": {
  "kernelspec": {
   "display_name": ".src_fin_advisor",
   "language": "python",
   "name": "python3"
  },
  "language_info": {
   "codemirror_mode": {
    "name": "ipython",
    "version": 3
   },
   "file_extension": ".py",
   "mimetype": "text/x-python",
   "name": "python",
   "nbconvert_exporter": "python",
   "pygments_lexer": "ipython3",
   "version": "3.11.2"
  }
 },
 "nbformat": 4,
 "nbformat_minor": 2
}
