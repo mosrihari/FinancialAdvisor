{
 "cells": [
  {
   "cell_type": "markdown",
   "metadata": {},
   "source": [
    "# Bytewax"
   ]
  },
  {
   "cell_type": "code",
   "execution_count": 1,
   "metadata": {},
   "outputs": [
    {
     "ename": "ModuleNotFoundError",
     "evalue": "No module named 'bytewax.operators'",
     "output_type": "error",
     "traceback": [
      "\u001b[1;31m---------------------------------------------------------------------------\u001b[0m",
      "\u001b[1;31mModuleNotFoundError\u001b[0m                       Traceback (most recent call last)",
      "Cell \u001b[1;32mIn[1], line 3\u001b[0m\n\u001b[0;32m      1\u001b[0m \u001b[38;5;28;01mfrom\u001b[39;00m \u001b[38;5;21;01mdatetime\u001b[39;00m \u001b[38;5;28;01mimport\u001b[39;00m timedelta\n\u001b[1;32m----> 3\u001b[0m \u001b[38;5;28;01mimport\u001b[39;00m \u001b[38;5;21;01mbytewax\u001b[39;00m\u001b[38;5;21;01m.\u001b[39;00m\u001b[38;5;21;01moperators\u001b[39;00m \u001b[38;5;28;01mas\u001b[39;00m \u001b[38;5;21;01mop\u001b[39;00m\n\u001b[0;32m      4\u001b[0m \u001b[38;5;28;01mfrom\u001b[39;00m \u001b[38;5;21;01mbytewax\u001b[39;00m\u001b[38;5;21;01m.\u001b[39;00m\u001b[38;5;21;01mdataflow\u001b[39;00m \u001b[38;5;28;01mimport\u001b[39;00m Dataflow\n\u001b[0;32m      5\u001b[0m \u001b[38;5;28;01mfrom\u001b[39;00m \u001b[38;5;21;01mbytewax\u001b[39;00m\u001b[38;5;21;01m.\u001b[39;00m\u001b[38;5;21;01mconnectors\u001b[39;00m\u001b[38;5;21;01m.\u001b[39;00m\u001b[38;5;21;01mstdio\u001b[39;00m \u001b[38;5;28;01mimport\u001b[39;00m StdOutSink\n",
      "\u001b[1;31mModuleNotFoundError\u001b[0m: No module named 'bytewax.operators'"
     ]
    }
   ],
   "source": [
    "from datetime import timedelta\n",
    "\n",
    "import bytewax.operators as op\n",
    "from bytewax.dataflow import Dataflow\n",
    "from bytewax.connectors.stdio import StdOutSink\n",
    "from bytewax.testing import TestingSource"
   ]
  },
  {
   "cell_type": "code",
   "execution_count": 18,
   "metadata": {},
   "outputs": [],
   "source": [
    "flow = Dataflow(\"collect\")"
   ]
  },
  {
   "cell_type": "code",
   "execution_count": 19,
   "metadata": {},
   "outputs": [],
   "source": [
    "step1 = op.input(\"input\", flow, TestingSource(list(range(10))))"
   ]
  },
  {
   "cell_type": "code",
   "execution_count": 20,
   "metadata": {},
   "outputs": [],
   "source": [
    "step2 = op.output('output', step1, StdOutSink())"
   ]
  },
  {
   "cell_type": "markdown",
   "metadata": {},
   "source": [
    "# Alpaca"
   ]
  },
  {
   "cell_type": "code",
   "execution_count": 1,
   "metadata": {},
   "outputs": [],
   "source": [
    "import requests\n",
    "from pprint import pprint\n",
    "from websocket import create_connection\n",
    "import json"
   ]
  },
  {
   "cell_type": "code",
   "execution_count": 2,
   "metadata": {},
   "outputs": [],
   "source": [
    "API_KEY = 'PKF3KMYDUEAUK0S112HX'\n",
    "SECRET = 'n1hrmo48mJpBoyV7LtVtx6XflUjZymEwd9d9RFev'\n",
    "ws_url = \"wss://stream.data.alpaca.markets/v1beta1/news\""
   ]
  },
  {
   "cell_type": "markdown",
   "metadata": {},
   "source": [
    "## Batch"
   ]
  },
  {
   "cell_type": "code",
   "execution_count": 10,
   "metadata": {},
   "outputs": [
    {
     "name": "stdout",
     "output_type": "stream",
     "text": [
      "{\"message\":\"Start should not be before end\"}\n",
      "\n"
     ]
    }
   ],
   "source": [
    "import requests\n",
    "\n",
    "url = \"https://data.alpaca.markets/v1beta1/news\"\n",
    "\n",
    "headers = {\n",
    "    \"accept\": \"application/json\",\n",
    "    \"APCA-API-KEY-ID\": API_KEY,\n",
    "    \"APCA-API-SECRET-KEY\": SECRET\n",
    "}\n",
    "\n",
    "params = {'start': '2024-06-27', 'end': '2024-03-29', 'symbols': ['CRM'], 'include_content': True, 'limit': 50}\n",
    "response = requests.get(url, headers=headers, params=params)\n",
    "\n",
    "print(response.text)"
   ]
  },
  {
   "cell_type": "code",
   "execution_count": 5,
   "metadata": {},
   "outputs": [
    {
     "name": "stdout",
     "output_type": "stream",
     "text": [
      "{\"news\":[{\"author\":\"Benzinga Insights\",\"content\":\"\\u003cp\\u003eInvestors with a lot of money to spend have taken a bullish stance on \\u003cstrong\\u003eSalesforce\\u003c/strong\\u003e (NYSE:\\u003ca class=\\\"ticker\\\" href=\\\"https://www.benzinga.com/stock/CRM#NYSE\\\"\\u003eCRM\\u003c/a\\u003e).\\u003c/p\\u003e\\n\\u003cp\\u003eAnd retail traders should know.\\u003c/p\\u003e\\n\\u003cp\\u003eWe noticed this today when the trades showed up on publicly available options history that we track here at Benzinga.\\u003c/p\\u003e\\n\\u003cp\\u003eWhether these are institutions or just wealthy individuals, we don't know. But when something this big happens with CRM, it often means somebody knows something is about to happen.\\u003c/p\\u003e\\n\\u003cp\\u003eSo how do we know what these investors just did? \\u003c/p\\u003e\\n\\u003cp\\u003eToday, \\u003ca href=\\\"https://pro.benzinga.com/?utm_source=insights\\\"\\u003eBenzinga\\u003c/a\\u003e's options scanner spotted 42 uncommon options trades for Salesforce.\\u003c/p\\u003e\\n\\u003cp\\u003eThis isn't normal.\\u003c/p\\u003e\\n\\u003cp\\u003eThe overall sentiment of these big-money traders is split between 61% bullish and 38%, bearish.\\u003c/p\\u003e\\n\\u003cp\\u003eOut of all of the special options we uncovered, 8 are puts, for a total amount of $620,122, and 34 are calls, for a total amount of $3,193,872.\\u003c/p\\u003e\\n\\u003ch3\\u003eProjected Price Targets\\u003c/h3\\u003e\\n\\u003cp\\u003eTaking into account the Volume and Open Interest on these contracts, it appears that whales have been targeting a price range from $165.0 to $350.0 for Salesforce over the last 3 months. \\u003c/p\\u003e\\n\\u003ch3\\u003eAnalyzing Volume \\u0026amp; Open Interest\\u003c/h3\\u003e\\n\\u003cp\\u003eLooking at the volume and open interest is a powerful move while trading options. This data can help you track the liquidity and interest for Salesforce's options for a given strike price. Below, we can observe the evolution of the volume and open interest of calls and puts, respectively, for all of Salesforce's whale trades within a strike price range from $165.0 to $350.0 in the last 30 days. \\u003c/p\\u003e\\n\\u003ch3\\u003eSalesforce Option Activity Analysis: Last 30 Days\\u003c/h3\\u003e\\n\\u003cp\\u003e\\u003cimg src=\\\"https://www.benzinga.com/files/images/story/2024/1707507948_0.png\\\" alt=\\\"Options Call Chart\\\" /\\u003e\\u003c/p\\u003e\\n\\n\\u003ch3\\u003eNoteworthy Options Activity:\\u003c/h3\\u003e\\n\\u003cp\\u003e\\u003ctable\\u003e\\n\\u003cthead\\u003e\\n\\u003ctr\\u003e\\n\\u003cth\\u003e\\u003cstrong\\u003eSymbol\\u003c/strong\\u003e\\u003c/th\\u003e\\n\\u003cth\\u003e\\u003cstrong\\u003ePUT/CALL\\u003c/strong\\u003e\\u003c/th\\u003e\\n\\u003cth\\u003e\\u003cstrong\\u003eTrade Type\\u003c/strong\\u003e\\u003c/th\\u003e\\n\\u003cth\\u003e\\u003cstrong\\u003eSentiment\\u003c/strong\\u003e\\u003c/th\\u003e\\n\\u003cth\\u003e\\u003cstrong\\u003eExp. Date\\u003c/strong\\u003e\\u003c/th\\u003e\\n\\u003cth\\u003e\\u003cstrong\\u003eStrike Price\\u003c/strong\\u003e\\u003c/th\\u003e\\n\\u003cth\\u003e\\u003cstrong\\u003eTotal Trade Price\\u003c/strong\\u003e\\u003c/th\\u003e\\n\\u003cth\\u003e\\u003cstrong\\u003eOpen Interest\\u003c/strong\\u003e\\u003c/th\\u003e\\n\\u003cth style=\\\"text-align: right;\\\"\\u003e\\u003cstrong\\u003eVolume\\u003c/strong\\u003e\\u003c/th\\u003e\\n\\u003c/tr\\u003e\\n\\u003c/thead\\u003e\\n\\u003ctbody\\u003e\\n\\u003ctr\\u003e\\n\\u003ctd\\u003eCRM\\u003c/td\\u003e\\n\\u003ctd\\u003eCALL\\u003c/td\\u003e\\n\\u003ctd\\u003eTRADE\\u003c/td\\u003e\\n\\u003ctd\\u003eBULLISH\\u003c/td\\u003e\\n\\u003ctd\\u003e01/16/26\\u003c/td\\u003e\\n\\u003ctd\\u003e$290.00\\u003c/td\\u003e\\n\\u003ctd\\u003e$999.0K\\u003c/td\\u003e\\n\\u003ctd\\u003e1.0K\\u003c/td\\u003e\\n\\u003ctd style=\\\"text-align: right;\\\"\\u003e0\\u003c/td\\u003e\\n\\u003c/tr\\u003e\\n\\u003ctr\\u003e\\n\\u003ctd\\u003eCRM\\u003c/td\\u003e\\n\\u003ctd\\u003eCALL\\u003c/td\\u003e\\n\\u003ctd\\u003eSWEEP\\u003c/td\\u003e\\n\\u003ctd\\u003eBULLISH\\u003c/td\\u003e\\n\\u003ctd\\u003e04/19/24\\u003c/td\\u003e\\n\\u003ctd\\u003e$290.00\\u003c/td\\u003e\\n\\u003ctd\\u003e$332.1K\\u003c/td\\u003e\\n\\u003ctd\\u003e3.0K\\u003c/td\\u003e\\n\\u003ctd style=\\\"text-align: right;\\\"\\u003e682\\u003c/td\\u003e\\n\\u003c/tr\\u003e\\n\\u003ctr\\u003e\\n\\u003ctd\\u003eCRM\\u003c/td\\u003e\\n\\u003ctd\\u003ePUT\\u003c/td\\u003e\\n\\u003ctd\\u003eSWEEP\\u003c/td\\u003e\\n\\u003ctd\\u003eBULLISH\\u003c/td\\u003e\\n\\u003ctd\\u003e03/15/24\\u003c/td\\u003e\\n\\u003ctd\\u003e$280.00\\u003c/td\\u003e\\n\\u003ctd\\u003e$154.2K\\u003c/td\\u003e\\n\\u003ctd\\u003e1.3K\\u003c/td\\u003e\\n\\u003ctd style=\\\"text-align: right;\\\"\\u003e267\\u003c/td\\u003e\\n\\u003c/tr\\u003e\\n\\u003ctr\\u003e\\n\\u003ctd\\u003eCRM\\u003c/td\\u003e\\n\\u003ctd\\u003eCALL\\u003c/td\\u003e\\n\\u003ctd\\u003eSWEEP\\u003c/td\\u003e\\n\\u003ctd\\u003eBEARISH\\u003c/td\\u003e\\n\\u003ctd\\u003e04/19/24\\u003c/td\\u003e\\n\\u003ctd\\u003e$300.00\\u003c/td\\u003e\\n\\u003ctd\\u003e$130.6K\\u003c/td\\u003e\\n\\u003ctd\\u003e2.4K\\u003c/td\\u003e\\n\\u003ctd style=\\\"text-align: right;\\\"\\u003e182\\u003c/td\\u003e\\n\\u003c/tr\\u003e\\n\\u003ctr\\u003e\\n\\u003ctd\\u003eCRM\\u003c/td\\u003e\\n\\u003ctd\\u003ePUT\\u003c/td\\u003e\\n\\u003ctd\\u003eSWEEP\\u003c/td\\u003e\\n\\u003ctd\\u003eBULLISH\\u003c/td\\u003e\\n\\u003ctd\\u003e01/16/26\\u003c/td\\u003e\\n\\u003ctd\\u003e$250.00\\u003c/td\\u003e\\n\\u003ctd\\u003e$130.6K\\u003c/td\\u003e\\n\\u003ctd\\u003e724\\u003c/td\\u003e\\n\\u003ctd style=\\\"text-align: right;\\\"\\u003e403\\u003c/td\\u003e\\n\\u003c/tr\\u003e\\n\\u003c/tbody\\u003e\\n\\u003c/table\\u003e\\u003c/p\\u003e\\n\\u003ch3\\u003eAbout Salesforce\\u003c/h3\\u003e\\n\\u003cp\\u003eSalesforce Inc provides enterprise cloud computing solutions. The company offers customer relationship management technology that brings companies and customers together. Its Customer 360 platform helps the group to deliver a single source of truth, connecting customer data across systems, apps, and devices to help companies sell, service, market, and conduct commerce. It also offers Service Cloud for customer support, Marketing Cloud for digital marketing campaigns, Commerce Cloud as an e-commerce engine, the Salesforce Platform, which allows enterprises to build applications, and other solutions, such as MuleSoft for data integration.\\u003c/p\\u003e\\n\\u003cp\\u003eIn light of the recent options history for Salesforce, it's now appropriate to focus on the company itself. We aim to explore its current performance.\\u003c/p\\u003e\\n\\u003ch3\\u003eSalesforce's Current Market Status\\u003c/h3\\u003e\\n\\u003cul\\u003e\\n\\u003cli\\u003eWith a trading volume of 2,485,896, the price of CRM is up by 0.43%, reaching $293.2.\\u003c/li\\u003e\\n\\u003cli\\u003eCurrent RSI values indicate that the stock is is currently neutral between overbought and oversold.\\u003c/li\\u003e\\n\\u003cli\\u003eNext earnings report is scheduled for 19 days from now.\\u003c/li\\u003e\\n\\u003c/ul\\u003e\\n\\u003ch3\\u003eProfessional Analyst Ratings for Salesforce\\u003c/h3\\u003e\\n\\u003cp\\u003eIn the last month, 3 experts released ratings on this stock with an average target price of $301.0.\\u003c/p\\u003e\\n\\u003cul\\u003e\\n\\u003cli\\u003eReflecting concerns, an analyst from JMP Securities lowers its rating to Market Outperform with a new price target of $293.\\u003c/li\\u003e\\n\\u003cli\\u003eAn analyst from Baird has decided to maintain their Outperform rating on Salesforce, which currently sits at a price target of $310. \\u003c/li\\u003e\\n\\u003cli\\u003eAn analyst from Baird has elevated its stance to Outperform, setting a new price target at $300. \\u003c/li\\u003e\\n\\u003c/ul\\u003e\\n\\u003cp\\u003eOptions are a riskier asset compared to just trading the stock, but they have higher profit potential. Serious options traders manage this risk by educating themselves daily, scaling in and out of trades, following more than one indicator, and following the markets closely.\\u003c/p\\u003e\\n\\u003cp\\u003eIf you want to stay updated on the latest options trades for Salesforce, \\u003ca href=\\\"https://benzinga.grsm.io/register174\\\"\\u003eBenzinga Pro\\u003c/a\\u003e gives you real-time options trades alerts.\\u003c/p\\u003e\",\"created_at\":\"2024-02-09T19:45:52Z\",\"headline\":\"Salesforce Unusual Options Activity For February 09\",\"id\":37042170,\"images\":[{\"size\":\"large\",\"url\":\"https://cdn.benzinga.com/files/imagecache/2048x1536xUP/images/story/2023/movers_image_5.jpeg\"},{\"size\":\"small\",\"url\":\"https://cdn.benzinga.com/files/imagecache/1024x768xUP/images/story/2023/movers_image_5.jpeg\"},{\"size\":\"thumb\",\"url\":\"https://cdn.benzinga.com/files/imagecache/250x187xUP/images/story/2023/movers_image_5.jpeg\"}],\"source\":\"benzinga\",\"summary\":\" \",\"symbols\":[\"CRM\"],\"updated_at\":\"2024-02-09T19:45:52Z\",\"url\":\"https://www.benzinga.com/insights/options/24/02/37042170/salesforce-unusual-options-activity-for-february-09\"},{\"author\":\"Benzinga Insights\",\"content\":\"\\u003cp\\u003eSalesforce (NYSE:\\u003ca class=\\\"ticker\\\" href=\\\"https://www.benzinga.com/stock/CRM#NYSE\\\"\\u003eCRM\\u003c/a\\u003e) has outperformed the market over the past 15 years by 15.88% on an annualized basis producing an average annual return of 28.94%. Currently, Salesforce has a market capitalization of $284.20 billion. \\u003c/p\\u003e\\n\\u003cp\\u003e\\u003cstrong\\u003eBuying $100 In CRM:\\u003c/strong\\u003e If an investor had bought $100 of CRM stock 15 years ago, it would be worth \\u003cstrong\\u003e$4,372.30\\u003c/strong\\u003e today based on a price of $293.60 for CRM at the time of writing.\\u003c/p\\u003e\\n\\u003ch3\\u003eSalesforce's Performance Over Last 15 Years\\u003c/h3\\u003e\\n\\u003cp\\u003e\\u003cimg src=\\\"https://www.benzinga.com/files/images/story/2024/1707489022_0.png\\\" alt=\\\"comp_fig\\\" /\\u003e\\u003c/p\\u003e\\n\\n\\u003cp\\u003eFinally -- what's the point of all this? The key insight to take from this article is to note how much of a difference compounded returns can make in your cash growth over a period of time.\\u003c/p\\u003e\\n\\u003cp\\u003e\\u003cem\\u003eThis article was generated by Benzinga's automated content engine and reviewed by an editor.\\u003c/em\\u003e\\u003c/p\\u003e\",\"created_at\":\"2024-02-09T14:30:25Z\",\"headline\":\"$100 Invested In Salesforce 15 Years Ago Would Be Worth This Much Today\",\"id\":37034820,\"images\":[{\"size\":\"large\",\"url\":\"https://cdn.benzinga.com/files/imagecache/2048x1536xUP/images/story/2023/valuestock_image_0.jpeg\"},{\"size\":\"small\",\"url\":\"https://cdn.benzinga.com/files/imagecache/1024x768xUP/images/story/2023/valuestock_image_0.jpeg\"},{\"size\":\"thumb\",\"url\":\"https://cdn.benzinga.com/files/imagecache/250x187xUP/images/story/2023/valuestock_image_0.jpeg\"}],\"source\":\"benzinga\",\"summary\":\" \",\"symbols\":[\"CRM\"],\"updated_at\":\"2024-02-09T14:30:26Z\",\"url\":\"https://www.benzinga.com/insights/news/24/02/37034820/100-invested-in-salesforce-15-years-ago-would-be-worth-this-much-today\"},{\"author\":\"Neil Dennis\",\"content\":\"\\u003cp\\u003eEuropean Union officials have begun a process to compile guidelines for Big Tech companies to safeguard the democratic process as nearly a third of the world\\u0026#8217;s population \\u003ca href=\\\"https://www.benzinga.com/topic/elections\\\"\\u003egoes to the polls this year\\u003c/a\\u003e.\\u003c/p\\u003e\\n\\n\\n\\n\\u003cp\\u003eThe chief concerns are over the spread of disinformation, hate speech and other malicious attacks over social media platforms that could influence voters — with the U.S., U.K., South Korea and several European countries among the many contesting elections later in the year.\\u003c/p\\u003e\\n\\n\\n\\n\\u003cp\\u003e\\u003cstrong\\u003eThierry Breton\\u003c/strong\\u003e, the EU Commission\\u0026#8217;s internal market commissioner, told lawmakers in Strasbourg: \\u0026#8220;We know that this electoral period is going to be targeted either via hybrid attacks or foreign interference of all kinds. We can\\u0026#8217;t have half-baked measures.\\u0026#8221;\\u003c/p\\u003e\\n\\n\\n\\n\\u003cp\\u003e\\u003cem\\u003eAlso Read: \\u003ca href=\\\"https://www.benzinga.com/general/politics/24/01/36632961/openai-tackles-misinformation-new-tools-ahead-of-key-elections\\\"\\u003eOpenAI Tackles Misinformation: New Tools Ahead Of Key Elections\\u003c/a\\u003e\\u003c/em\\u003e\\u003c/p\\u003e\\n\\n\\n\\n\\u003ch2 class=\\\"wp-block-heading\\\"\\u003eIdentifying Deepfakes\\u003c/h2\\u003e\\n\\n\\n\\n\\u003cp\\u003eThe Commission has already notified Big Tech companies, including Google owner \\u003cstrong\\u003eAlphabet\\u003c/strong\\u003e (NASDAQ:\\u003ca class=\\\"ticker\\\" href=\\\"https://www.benzinga.com/stock/GOOGL#NASDAQ\\\"\\u003eGOOGL\\u003c/a\\u003e)(NASDAQ:\\u003ca class=\\\"ticker\\\" href=\\\"https://www.benzinga.com/stock/GOOG#NASDAQ\\\"\\u003eGOOG\\u003c/a\\u003e), Facebook parent \\u003cstrong\\u003eMeta Platforms Inc \\u003c/strong\\u003e(NASDAQ:\\u003ca class=\\\"ticker\\\" href=\\\"https://www.benzinga.com/stock/META#NASDAQ\\\"\\u003eMETA\\u003c/a\\u003e) and \\u003cstrong\\u003eApple Inc \\u003c/strong\\u003e(NASDAQ:\\u003ca class=\\\"ticker\\\" href=\\\"https://www.benzinga.com/stock/AAPL#NASDAQ\\\"\\u003eAAPL\\u003c/a\\u003e), that it expects answers on what actions they can take.\\u003c/p\\u003e\\n\\n\\n\\n\\u003cfigure class=\\\"wp-block-image size-full\\\"\\u003e\\u003cimg loading=\\\"lazy\\\" decoding=\\\"async\\\" width=\\\"750\\\" height=\\\"650\\\" src=\\\"https://editorial-assets.benzinga.com/wp-content/uploads/2024/02/08112128/newplot-72.png\\\" alt=\\\"\\\" class=\\\"wp-image-209485\\\" srcset=\\\"https://editorial-assets.benzinga.com/wp-content/uploads/2024/02/08112128/newplot-72.png 750w,https://editorial-assets.benzinga.com/wp-content/uploads/2024/02/08112128/newplot-72-300x260.png 300w\\\" sizes=\\\"(max-width: 750px) 100vw, 750px\\\" /\\u003e\\u003c/figure\\u003e\\n\\n\\n\\n\\u003cp\\u003eSome platforms, \\u003ca href=\\\"https://www.benzinga.com/news/24/02/36959912/meta-warns-users-disclose-ai-videos-or-be-punished-in-effort-to-tame-misinformation-in-election-year\\\"\\u003eincluding Meta\\u003c/a\\u003e, have said they will start labeling artificial intelligence (AI)-generated images, while \\u003cstrong\\u003eOpenAI\\u003c/strong\\u003e, the AI partner of \\u003cstrong\\u003eMicrosoft Corp \\u003c/strong\\u003e(NASDAQ:\\u003ca class=\\\"ticker\\\" href=\\\"https://www.benzinga.com/stock/MSFT#NASDAQ\\\"\\u003eMSFT\\u003c/a\\u003e), said last month that it would soon \\u003ca href=\\\"https://www.benzinga.com/general/politics/24/01/36632961/openai-tackles-misinformation-new-tools-ahead-of-key-elections\\\"\\u003elaunch a tool\\u003c/a\\u003e to identify AI-generated content.\\u003c/p\\u003e\\n\\n\\n\\n\\u003cp\\u003eBut more is likely to be expected from tech companies to counter threats such as coordinated fake news and image manipulation attacks from bot factories and hostile foreign governments.\\u003c/p\\u003e\\n\\n\\n\\n\\u003cp\\u003eAI is increasingly being used to generate so-called deepfake images and videos — in one such example last year, a \\u003ca href=\\\"https://www.benzinga.com/news/24/02/36930046/meta-advised-to-overhaul-incoherent-deepfake-rules-by-oversight-board-after-biden-video\\\"\\u003emanipulated video\\u003c/a\\u003e appeared on Meta\\u0026#8217;s Instagram and Facebook platforms falsely suggesting that President Joe Biden was a pedophile.\\u003c/p\\u003e\\n\\n\\n\\n\\u003cp\\u003eSome, however — including \\u003cstrong\\u003eMarc Benioff\\u003c/strong\\u003e, CEO of \\u003cstrong\\u003eSalesforce Inc \\u003c/strong\\u003e(NYSE:\\u003ca class=\\\"ticker\\\" href=\\\"https://www.benzinga.com/stock/CRM#NYSE\\\"\\u003eCRM\\u003c/a\\u003e) — are suggesting social media is a bigger threat to the democratic process than AI. Speaking on a panel alongside OpenAI\\u0026#8217;s \\u003cstrong\\u003eSam Altman\\u003c/strong\\u003e at Davos last month, Benioff said: \\u0026#8220;Regulators have not done their job.\\u0026#8221;\\u003c/p\\u003e\\n\\n\\n\\n\\u003ch2 class=\\\"wp-block-heading\\\"\\u003eEU Ahead Of US In Tech Regulation\\u003c/h2\\u003e\\n\\n\\n\\n\\u003cp\\u003eIn the U.S. there\\u0026#8217;s been little move by regulators ahead of this year\\u0026#8217;s presidential election to ensure misinformation isn\\u0026#8217;t used to influence voters.\\u003c/p\\u003e\\n\\n\\n\\n\\u003cp\\u003eHowever, state legislators have taken the lead. \\u003cstrong\\u003ePublic Citizen,\\u003c/strong\\u003e a non-profit consumer advocacy organization, said that 27 states have now passed legislation to regulate the use of deepfakes in elections — receiving bi-partisan backing.\\u003c/p\\u003e\\n\\n\\n\\n\\u003cp\\u003eIt said: \\u0026#8220;Without regulation, deepfakes are likely to further confuse voters and undermine confidence in elections. \\u003c/p\\u003e\\n\\n\\n\\n\\u003cp\\u003e\\u0026#8220;A deepfake video could be released days or hours before an election with no time to debunk it — misleading voters and altering the outcome of the election.\\u0026#8221;\\u003c/p\\u003e\\n\\n\\n\\n\\u003cp\\u003eAnother example, again targeting Biden, voters in last month\\u0026#8217;s New Hampshire primary received a robocall, supposedly from the president telling Democrats they shouldn\\u0026#8217;t vote in the election.\\u003c/p\\u003e\\n\\n\\n\\n\\u003cp\\u003e\\u003cem\\u003eNow Read: \\u003ca href=\\\"https://www.benzinga.com/markets/equities/24/01/36671966/bill-gates-says-bad-guys-will-be-more-productive-as-sam-altman-and-other-leaders-discuss-potenti\\\"\\u003eBill Gates Says \\u0026#8216;Bad Guys Will Be More Productive\\u0026#8217; As Sam Altman And Other Leaders Discuss Potential Impact Of AI On US Presidential Election\\u003c/a\\u003e\\u003c/em\\u003e\\u003c/p\\u003e\\n\\n\\n\\n\\u003cp\\u003e\\u003cem\\u003ePhoto: Shutterstock\\u003c/em\\u003e\\u003c/p\\u003e\",\"created_at\":\"2024-02-08T18:00:08Z\",\"headline\":\"Big Tech Must Protect Democracy: EU Drafts Misinformation Guidelines Ahead Of Elections\",\"id\":37014692,\"images\":[{\"size\":\"large\",\"url\":\"https://cdn.benzinga.com/files/imagecache/2048x1536xUP/images/story/2024/Deepfake-Shutterstock_0.jpeg\"},{\"size\":\"small\",\"url\":\"https://cdn.benzinga.com/files/imagecache/1024x768xUP/images/story/2024/Deepfake-Shutterstock_0.jpeg\"},{\"size\":\"thumb\",\"url\":\"https://cdn.benzinga.com/files/imagecache/250x187xUP/images/story/2024/Deepfake-Shutterstock_0.jpeg\"}],\"source\":\"benzinga\",\"summary\":\"Some social media platforms are to begin labeling content generated by AI\",\"symbols\":[\"AAPL\",\"CRM\",\"GOOG\",\"GOOGL\",\"META\",\"MSFT\"],\"updated_at\":\"2024-02-08T18:00:09Z\",\"url\":\"https://www.benzinga.com/government/24/02/37014692/big-tech-must-protect-democracy-eu-drafts-misinformation-guidelines-ahead-of-elections\"},{\"author\":\"Benzinga Insights\",\"content\":\"\\u003cp\\u003eFinancial giants have made a conspicuous bearish move on Salesforce. Our analysis of options history for Salesforce (NYSE:\\u003ca class=\\\"ticker\\\" href=\\\"https://www.benzinga.com/stock/CRM#NYSE\\\"\\u003eCRM\\u003c/a\\u003e) revealed 8 unusual trades.\\u003c/p\\u003e\\n\\u003cp\\u003eDelving into the details, we found 25% of traders were bullish, while 75% showed bearish tendencies. Out of all the trades we spotted, 2 were puts, with a value of $177,900, and 6 were calls, valued at $1,237,101.\\u003c/p\\u003e\\n\\u003ch3\\u003ePredicted Price Range\\u003c/h3\\u003e\\n\\u003cp\\u003eAnalyzing the Volume and Open Interest in these contracts, it seems that the big players have been eyeing a price window from $175.0 to $290.0 for Salesforce during the past quarter. \\u003c/p\\u003e\\n\\u003ch3\\u003eAnalyzing Volume \\u0026amp; Open Interest\\u003c/h3\\u003e\\n\\u003cp\\u003eIn today's trading context, the average open interest for options of Salesforce stands at 630.5, with a total volume reaching 550.00. The accompanying chart delineates the progression of both call and put option volume and open interest for high-value trades in Salesforce, situated within the strike price corridor from $175.0 to $290.0, throughout the last 30 days.\\u003c/p\\u003e\\n\\u003ch3\\u003eSalesforce Option Volume And Open Interest Over Last 30 Days\\u003c/h3\\u003e\\n\\u003cp\\u003e\\u003cimg src=\\\"https://www.benzinga.com/files/images/story/2024/1707406305_0.png\\\" alt=\\\"Options Call Chart\\\" /\\u003e\\u003c/p\\u003e\\n\\n\\u003ch3\\u003eLargest Options Trades Observed:\\u003c/h3\\u003e\\n\\u003cp\\u003e\\u003ctable\\u003e\\n\\u003cthead\\u003e\\n\\u003ctr\\u003e\\n\\u003cth\\u003e\\u003cstrong\\u003eSymbol\\u003c/strong\\u003e\\u003c/th\\u003e\\n\\u003cth\\u003e\\u003cstrong\\u003ePUT/CALL\\u003c/strong\\u003e\\u003c/th\\u003e\\n\\u003cth\\u003e\\u003cstrong\\u003eTrade Type\\u003c/strong\\u003e\\u003c/th\\u003e\\n\\u003cth\\u003e\\u003cstrong\\u003eSentiment\\u003c/strong\\u003e\\u003c/th\\u003e\\n\\u003cth\\u003e\\u003cstrong\\u003eExp. Date\\u003c/strong\\u003e\\u003c/th\\u003e\\n\\u003cth\\u003e\\u003cstrong\\u003eStrike Price\\u003c/strong\\u003e\\u003c/th\\u003e\\n\\u003cth\\u003e\\u003cstrong\\u003eTotal Trade Price\\u003c/strong\\u003e\\u003c/th\\u003e\\n\\u003cth\\u003e\\u003cstrong\\u003eOpen Interest\\u003c/strong\\u003e\\u003c/th\\u003e\\n\\u003cth style=\\\"text-align: right;\\\"\\u003e\\u003cstrong\\u003eVolume\\u003c/strong\\u003e\\u003c/th\\u003e\\n\\u003c/tr\\u003e\\n\\u003c/thead\\u003e\\n\\u003ctbody\\u003e\\n\\u003ctr\\u003e\\n\\u003ctd\\u003eCRM\\u003c/td\\u003e\\n\\u003ctd\\u003eCALL\\u003c/td\\u003e\\n\\u003ctd\\u003eTRADE\\u003c/td\\u003e\\n\\u003ctd\\u003eBULLISH\\u003c/td\\u003e\\n\\u003ctd\\u003e01/16/26\\u003c/td\\u003e\\n\\u003ctd\\u003e$290.00\\u003c/td\\u003e\\n\\u003ctd\\u003e$994.5K\\u003c/td\\u003e\\n\\u003ctd\\u003e888\\u003c/td\\u003e\\n\\u003ctd style=\\\"text-align: right;\\\"\\u003e153\\u003c/td\\u003e\\n\\u003c/tr\\u003e\\n\\u003ctr\\u003e\\n\\u003ctd\\u003eCRM\\u003c/td\\u003e\\n\\u003ctd\\u003ePUT\\u003c/td\\u003e\\n\\u003ctd\\u003eSWEEP\\u003c/td\\u003e\\n\\u003ctd\\u003eNEUTRAL\\u003c/td\\u003e\\n\\u003ctd\\u003e04/19/24\\u003c/td\\u003e\\n\\u003ctd\\u003e$260.00\\u003c/td\\u003e\\n\\u003ctd\\u003e$131.6K\\u003c/td\\u003e\\n\\u003ctd\\u003e1.2K\\u003c/td\\u003e\\n\\u003ctd style=\\\"text-align: right;\\\"\\u003e302\\u003c/td\\u003e\\n\\u003c/tr\\u003e\\n\\u003ctr\\u003e\\n\\u003ctd\\u003eCRM\\u003c/td\\u003e\\n\\u003ctd\\u003eCALL\\u003c/td\\u003e\\n\\u003ctd\\u003eTRADE\\u003c/td\\u003e\\n\\u003ctd\\u003eBULLISH\\u003c/td\\u003e\\n\\u003ctd\\u003e01/17/25\\u003c/td\\u003e\\n\\u003ctd\\u003e$175.00\\u003c/td\\u003e\\n\\u003ctd\\u003e$126.7K\\u003c/td\\u003e\\n\\u003ctd\\u003e351\\u003c/td\\u003e\\n\\u003ctd style=\\\"text-align: right;\\\"\\u003e0\\u003c/td\\u003e\\n\\u003c/tr\\u003e\\n\\u003ctr\\u003e\\n\\u003ctd\\u003eCRM\\u003c/td\\u003e\\n\\u003ctd\\u003ePUT\\u003c/td\\u003e\\n\\u003ctd\\u003eTRADE\\u003c/td\\u003e\\n\\u003ctd\\u003eNEUTRAL\\u003c/td\\u003e\\n\\u003ctd\\u003e01/16/26\\u003c/td\\u003e\\n\\u003ctd\\u003e$230.00\\u003c/td\\u003e\\n\\u003ctd\\u003e$46.2K\\u003c/td\\u003e\\n\\u003ctd\\u003e46\\u003c/td\\u003e\\n\\u003ctd style=\\\"text-align: right;\\\"\\u003e25\\u003c/td\\u003e\\n\\u003c/tr\\u003e\\n\\u003ctr\\u003e\\n\\u003ctd\\u003eCRM\\u003c/td\\u003e\\n\\u003ctd\\u003eCALL\\u003c/td\\u003e\\n\\u003ctd\\u003eTRADE\\u003c/td\\u003e\\n\\u003ctd\\u003eNEUTRAL\\u003c/td\\u003e\\n\\u003ctd\\u003e01/17/25\\u003c/td\\u003e\\n\\u003ctd\\u003e$190.00\\u003c/td\\u003e\\n\\u003ctd\\u003e$34.2K\\u003c/td\\u003e\\n\\u003ctd\\u003e792\\u003c/td\\u003e\\n\\u003ctd style=\\\"text-align: right;\\\"\\u003e3\\u003c/td\\u003e\\n\\u003c/tr\\u003e\\n\\u003c/tbody\\u003e\\n\\u003c/table\\u003e\\u003c/p\\u003e\\n\\u003ch3\\u003eAbout Salesforce\\u003c/h3\\u003e\\n\\u003cp\\u003eSalesforce Inc provides enterprise cloud computing solutions. The company offers customer relationship management technology that brings companies and customers together. Its Customer 360 platform helps the group to deliver a single source of truth, connecting customer data across systems, apps, and devices to help companies sell, service, market, and conduct commerce. It also offers Service Cloud for customer support, Marketing Cloud for digital marketing campaigns, Commerce Cloud as an e-commerce engine, the Salesforce Platform, which allows enterprises to build applications, and other solutions, such as MuleSoft for data integration.\\u003c/p\\u003e\\n\\u003cp\\u003eFollowing our analysis of the options activities associated with Salesforce, we pivot to a closer look at the company's own performance.\\u003c/p\\u003e\\n\\u003ch3\\u003eCurrent Position of Salesforce\\u003c/h3\\u003e\\n\\u003cul\\u003e\\n\\u003cli\\u003eWith a volume of 923,044, the price of CRM is up 0.59% at $290.55. \\u003c/li\\u003e\\n\\u003cli\\u003eRSI indicators hint that the underlying stock may be overbought.\\u003c/li\\u003e\\n\\u003cli\\u003eNext earnings are expected to be released in 20 days.\\u003c/li\\u003e\\n\\u003c/ul\\u003e\\n\\u003ch3\\u003eProfessional Analyst Ratings for Salesforce\\u003c/h3\\u003e\\n\\u003cp\\u003eIn the last month, 3 experts released ratings on this stock with an average target price of $301.0.\\u003c/p\\u003e\\n\\u003cul\\u003e\\n\\u003cli\\u003eMaintaining their stance, an analyst from Baird continues to hold a Outperform rating for Salesforce, targeting a price of $310. \\u003c/li\\u003e\\n\\u003cli\\u003eAn analyst from JMP Securities has revised its rating downward to Market Outperform, adjusting the price target to $293. \\u003c/li\\u003e\\n\\u003cli\\u003eShowing optimism, an analyst from Baird upgrades its rating to Outperform with a revised price target of $300. \\u003c/li\\u003e\\n\\u003c/ul\\u003e\\n\\u003cp\\u003eTrading options involves greater risks but also offers the potential for higher profits. Savvy traders mitigate these risks through ongoing education, strategic trade adjustments, utilizing various indicators, and staying attuned to market dynamics. Keep up with the latest options trades for Salesforce with \\u003ca href=\\\"https://benzinga.grsm.io/register174\\\"\\u003eBenzinga Pro\\u003c/a\\u003e for real-time alerts.\\u003c/p\\u003e\",\"created_at\":\"2024-02-08T15:31:48Z\",\"headline\":\"Salesforce's Options: A Look at What the Big Money is Thinking\",\"id\":37010949,\"images\":[{\"size\":\"large\",\"url\":\"https://cdn.benzinga.com/files/imagecache/2048x1536xUP/images/story/2023/movers_image_0.jpeg\"},{\"size\":\"small\",\"url\":\"https://cdn.benzinga.com/files/imagecache/1024x768xUP/images/story/2023/movers_image_0.jpeg\"},{\"size\":\"thumb\",\"url\":\"https://cdn.benzinga.com/files/imagecache/250x187xUP/images/story/2023/movers_image_0.jpeg\"}],\"source\":\"benzinga\",\"summary\":\" \",\"symbols\":[\"CRM\"],\"updated_at\":\"2024-02-08T15:31:48Z\",\"url\":\"https://www.benzinga.com/insights/options/24/02/37010949/salesforces-options-a-look-at-what-the-big-money-is-thinking\"},{\"author\":\"Benzinga Insights\",\"content\":\"\\u003cp\\u003eIn today's rapidly changing and fiercely competitive business landscape, it is vital for investors and industry enthusiasts to carefully evaluate companies. In this article, we will perform a comprehensive industry comparison, evaluating \\u003cb\\u003eSalesforce (NYSE:\\u003ca class=\\\"ticker\\\" href=\\\"https://www.benzinga.com/stock/CRM#NYSE\\\"\\u003eCRM\\u003c/a\\u003e)\\u003c/b\\u003e against its key competitors in the Software industry. By analyzing important financial metrics, market position, and growth prospects, we aim to provide valuable insights for investors and shed light on company's performance within the industry.\\u003c/p\\u003e\\n\\u003ch3\\u003eSalesforce Background\\u003c/h3\\u003e\\n\\u003cp\\u003eSalesforce Inc provides enterprise cloud computing solutions. The company offers customer relationship management technology that brings companies and customers together. Its Customer 360 platform helps the group to deliver a single source of truth, connecting customer data across systems, apps, and devices to help companies sell, service, market, and conduct commerce. It also offers Service Cloud for customer support, Marketing Cloud for digital marketing campaigns, Commerce Cloud as an e-commerce engine, the Salesforce Platform, which allows enterprises to build applications, and other solutions, such as MuleSoft for data integration.\\u003c/p\\u003e\\n\\u003ctable\\u003e\\n\\u003cthead\\u003e\\n\\u003ctr\\u003e\\n\\u003cth\\u003e\\u003cstrong\\u003eCompany\\u003c/strong\\u003e\\u003c/th\\u003e\\n\\u003cth\\u003e\\u003cstrong\\u003eP/E\\u003c/strong\\u003e\\u003c/th\\u003e\\n\\u003cth\\u003e\\u003cstrong\\u003eP/B\\u003c/strong\\u003e\\u003c/th\\u003e\\n\\u003cth\\u003e\\u003cstrong\\u003eP/S\\u003c/strong\\u003e\\u003c/th\\u003e\\n\\u003cth\\u003e\\u003cstrong\\u003eROE\\u003c/strong\\u003e\\u003c/th\\u003e\\n\\u003cth\\u003e\\u003cstrong\\u003eEBITDA (in billions)\\u003c/strong\\u003e\\u003c/th\\u003e\\n\\u003cth\\u003e\\u003cstrong\\u003eGross Profit (in billions)\\u003c/strong\\u003e\\u003c/th\\u003e\\n\\u003cth\\u003e\\u003cstrong\\u003eRevenue Growth\\u003c/strong\\u003e\\u003c/th\\u003e\\n\\u003c/tr\\u003e\\n\\u003c/thead\\u003e\\n\\u003ctbody\\u003e\\n\\u003ctr\\u003e\\n\\u003ctd\\u003eSalesforce Inc\\u003c/td\\u003e\\n\\u003ctd\\u003e108.68\\u003c/td\\u003e\\n\\u003ctd\\u003e4.76\\u003c/td\\u003e\\n\\u003ctd\\u003e8.29\\u003c/td\\u003e\\n\\u003ctd\\u003e2.11%\\u003c/td\\u003e\\n\\u003ctd\\u003e$2.42\\u003c/td\\u003e\\n\\u003ctd\\u003e$6.57\\u003c/td\\u003e\\n\\u003ctd\\u003e11.27%\\u003c/td\\u003e\\n\\u003c/tr\\u003e\\n\\u003ctr\\u003e\\n\\u003ctd\\u003eAdobe Inc\\u003c/td\\u003e\\n\\u003ctd\\u003e51.37\\u003c/td\\u003e\\n\\u003ctd\\u003e16.61\\u003c/td\\u003e\\n\\u003ctd\\u003e14.36\\u003c/td\\u003e\\n\\u003ctd\\u003e9.18%\\u003c/td\\u003e\\n\\u003ctd\\u003e$2.06\\u003c/td\\u003e\\n\\u003ctd\\u003e$4.41\\u003c/td\\u003e\\n\\u003ctd\\u003e11.56%\\u003c/td\\u003e\\n\\u003c/tr\\u003e\\n\\u003ctr\\u003e\\n\\u003ctd\\u003eSAP SE\\u003c/td\\u003e\\n\\u003ctd\\u003e54.59\\u003c/td\\u003e\\n\\u003ctd\\u003e4.52\\u003c/td\\u003e\\n\\u003ctd\\u003e6.30\\u003c/td\\u003e\\n\\u003ctd\\u003e2.75%\\u003c/td\\u003e\\n\\u003ctd\\u003e$2.23\\u003c/td\\u003e\\n\\u003ctd\\u003e$6.2\\u003c/td\\u003e\\n\\u003ctd\\u003e9.34%\\u003c/td\\u003e\\n\\u003c/tr\\u003e\\n\\u003ctr\\u003e\\n\\u003ctd\\u003eIntuit Inc\\u003c/td\\u003e\\n\\u003ctd\\u003e69.58\\u003c/td\\u003e\\n\\u003ctd\\u003e10.47\\u003c/td\\u003e\\n\\u003ctd\\u003e12.18\\u003c/td\\u003e\\n\\u003ctd\\u003e1.41%\\u003c/td\\u003e\\n\\u003ctd\\u003e$0.53\\u003c/td\\u003e\\n\\u003ctd\\u003e$2.22\\u003c/td\\u003e\\n\\u003ctd\\u003e14.67%\\u003c/td\\u003e\\n\\u003c/tr\\u003e\\n\\u003ctr\\u003e\\n\\u003ctd\\u003eSynopsys Inc\\u003c/td\\u003e\\n\\u003ctd\\u003e68.53\\u003c/td\\u003e\\n\\u003ctd\\u003e13.47\\u003c/td\\u003e\\n\\u003ctd\\u003e14.42\\u003c/td\\u003e\\n\\u003ctd\\u003e5.77%\\u003c/td\\u003e\\n\\u003ctd\\u003e$0.48\\u003c/td\\u003e\\n\\u003ctd\\u003e$1.27\\u003c/td\\u003e\\n\\u003ctd\\u003e24.51%\\u003c/td\\u003e\\n\\u003c/tr\\u003e\\n\\u003ctr\\u003e\\n\\u003ctd\\u003eCadence Design Systems Inc\\u003c/td\\u003e\\n\\u003ctd\\u003e83.38\\u003c/td\\u003e\\n\\u003ctd\\u003e25.57\\u003c/td\\u003e\\n\\u003ctd\\u003e20.37\\u003c/td\\u003e\\n\\u003ctd\\u003e8.45%\\u003c/td\\u003e\\n\\u003ctd\\u003e$0.35\\u003c/td\\u003e\\n\\u003ctd\\u003e$0.91\\u003c/td\\u003e\\n\\u003ctd\\u003e13.36%\\u003c/td\\u003e\\n\\u003c/tr\\u003e\\n\\u003ctr\\u003e\\n\\u003ctd\\u003eWorkday Inc\\u003c/td\\u003e\\n\\u003ctd\\u003e1202.62\\u003c/td\\u003e\\n\\u003ctd\\u003e11.46\\u003c/td\\u003e\\n\\u003ctd\\u003e10.85\\u003c/td\\u003e\\n\\u003ctd\\u003e1.76%\\u003c/td\\u003e\\n\\u003ctd\\u003e$0.23\\u003c/td\\u003e\\n\\u003ctd\\u003e$1.42\\u003c/td\\u003e\\n\\u003ctd\\u003e16.67%\\u003c/td\\u003e\\n\\u003c/tr\\u003e\\n\\u003ctr\\u003e\\n\\u003ctd\\u003eRoper Technologies Inc\\u003c/td\\u003e\\n\\u003ctd\\u003e42.82\\u003c/td\\u003e\\n\\u003ctd\\u003e3.34\\u003c/td\\u003e\\n\\u003ctd\\u003e9.48\\u003c/td\\u003e\\n\\u003ctd\\u003e2.26%\\u003c/td\\u003e\\n\\u003ctd\\u003e$0.72\\u003c/td\\u003e\\n\\u003ctd\\u003e$1.13\\u003c/td\\u003e\\n\\u003ctd\\u003e3.2%\\u003c/td\\u003e\\n\\u003c/tr\\u003e\\n\\u003ctr\\u003e\\n\\u003ctd\\u003eAutodesk Inc\\u003c/td\\u003e\\n\\u003ctd\\u003e59.90\\u003c/td\\u003e\\n\\u003ctd\\u003e36.66\\u003c/td\\u003e\\n\\u003ctd\\u003e10.29\\u003c/td\\u003e\\n\\u003ctd\\u003e17.93%\\u003c/td\\u003e\\n\\u003ctd\\u003e$0.37\\u003c/td\\u003e\\n\\u003ctd\\u003e$1.29\\u003c/td\\u003e\\n\\u003ctd\\u003e10.47%\\u003c/td\\u003e\\n\\u003c/tr\\u003e\\n\\u003ctr\\u003e\\n\\u003ctd\\u003ePalantir Technologies Inc\\u003c/td\\u003e\\n\\u003ctd\\u003e243\\u003c/td\\u003e\\n\\u003ctd\\u003e13.69\\u003c/td\\u003e\\n\\u003ctd\\u003e22.59\\u003c/td\\u003e\\n\\u003ctd\\u003e2.8%\\u003c/td\\u003e\\n\\u003ctd\\u003e$0.11\\u003c/td\\u003e\\n\\u003ctd\\u003e$0.5\\u003c/td\\u003e\\n\\u003ctd\\u003e8.99%\\u003c/td\\u003e\\n\\u003c/tr\\u003e\\n\\u003ctr\\u003e\\n\\u003ctd\\u003eAnsys Inc\\u003c/td\\u003e\\n\\u003ctd\\u003e60.90\\u003c/td\\u003e\\n\\u003ctd\\u003e5.85\\u003c/td\\u003e\\n\\u003ctd\\u003e13.63\\u003c/td\\u003e\\n\\u003ctd\\u003e1.12%\\u003c/td\\u003e\\n\\u003ctd\\u003e$0.11\\u003c/td\\u003e\\n\\u003ctd\\u003e$0.39\\u003c/td\\u003e\\n\\u003ctd\\u003e-2.9%\\u003c/td\\u003e\\n\\u003c/tr\\u003e\\n\\u003ctr\\u003e\\n\\u003ctd\\u003eSplunk Inc\\u003c/td\\u003e\\n\\u003ctd\\u003e222.46\\u003c/td\\u003e\\n\\u003ctd\\u003e130.08\\u003c/td\\u003e\\n\\u003ctd\\u003e6.40\\u003c/td\\u003e\\n\\u003ctd\\u003e121.15%\\u003c/td\\u003e\\n\\u003ctd\\u003e$0.14\\u003c/td\\u003e\\n\\u003ctd\\u003e$0.86\\u003c/td\\u003e\\n\\u003ctd\\u003e14.8%\\u003c/td\\u003e\\n\\u003c/tr\\u003e\\n\\u003ctr\\u003e\\n\\u003ctd\\u003ePTC Inc\\u003c/td\\u003e\\n\\u003ctd\\u003e89.45\\u003c/td\\u003e\\n\\u003ctd\\u003e7.54\\u003c/td\\u003e\\n\\u003ctd\\u003e9.72\\u003c/td\\u003e\\n\\u003ctd\\u003e2.42%\\u003c/td\\u003e\\n\\u003ctd\\u003e$0.16\\u003c/td\\u003e\\n\\u003ctd\\u003e$0.44\\u003c/td\\u003e\\n\\u003ctd\\u003e18.09%\\u003c/td\\u003e\\n\\u003c/tr\\u003e\\n\\u003ctr\\u003e\\n\\u003ctd\\u003eZoom Video Communications Inc\\u003c/td\\u003e\\n\\u003ctd\\u003e83.66\\u003c/td\\u003e\\n\\u003ctd\\u003e2.61\\u003c/td\\u003e\\n\\u003ctd\\u003e4.32\\u003c/td\\u003e\\n\\u003ctd\\u003e1.96%\\u003c/td\\u003e\\n\\u003ctd\\u003e$0.2\\u003c/td\\u003e\\n\\u003ctd\\u003e$0.87\\u003c/td\\u003e\\n\\u003ctd\\u003e3.16%\\u003c/td\\u003e\\n\\u003c/tr\\u003e\\n\\u003ctr\\u003e\\n\\u003ctd\\u003eTyler Technologies Inc\\u003c/td\\u003e\\n\\u003ctd\\u003e116.36\\u003c/td\\u003e\\n\\u003ctd\\u003e6.36\\u003c/td\\u003e\\n\\u003ctd\\u003e9.54\\u003c/td\\u003e\\n\\u003ctd\\u003e1.67%\\u003c/td\\u003e\\n\\u003ctd\\u003e$0.11\\u003c/td\\u003e\\n\\u003ctd\\u003e$0.23\\u003c/td\\u003e\\n\\u003ctd\\u003e4.54%\\u003c/td\\u003e\\n\\u003c/tr\\u003e\\n\\u003ctr\\u003e\\n\\u003ctd\\u003eDynatrace Inc\\u003c/td\\u003e\\n\\u003ctd\\u003e102.72\\u003c/td\\u003e\\n\\u003ctd\\u003e9.74\\u003c/td\\u003e\\n\\u003ctd\\u003e13.56\\u003c/td\\u003e\\n\\u003ctd\\u003e2.04%\\u003c/td\\u003e\\n\\u003ctd\\u003e$0.05\\u003c/td\\u003e\\n\\u003ctd\\u003e$0.29\\u003c/td\\u003e\\n\\u003ctd\\u003e25.91%\\u003c/td\\u003e\\n\\u003c/tr\\u003e\\n\\u003ctr\\u003e\\n\\u003ctd\\u003eAppLovin Corp\\u003c/td\\u003e\\n\\u003ctd\\u003e164.46\\u003c/td\\u003e\\n\\u003ctd\\u003e14.11\\u003c/td\\u003e\\n\\u003ctd\\u003e5.60\\u003c/td\\u003e\\n\\u003ctd\\u003e8.25%\\u003c/td\\u003e\\n\\u003ctd\\u003e$0.31\\u003c/td\\u003e\\n\\u003ctd\\u003e$0.6\\u003c/td\\u003e\\n\\u003ctd\\u003e21.2%\\u003c/td\\u003e\\n\\u003c/tr\\u003e\\n\\u003ctr\\u003e\\n\\u003ctd\\u003eManhattan Associates Inc\\u003c/td\\u003e\\n\\u003ctd\\u003e87.73\\u003c/td\\u003e\\n\\u003ctd\\u003e54.73\\u003c/td\\u003e\\n\\u003ctd\\u003e16.68\\u003c/td\\u003e\\n\\u003ctd\\u003e19.96%\\u003c/td\\u003e\\n\\u003ctd\\u003e$0.06\\u003c/td\\u003e\\n\\u003ctd\\u003e$0.13\\u003c/td\\u003e\\n\\u003ctd\\u003e-0.08%\\u003c/td\\u003e\\n\\u003c/tr\\u003e\\n\\u003ctr\\u003e\\n\\u003ctd\\u003eBentley Systems Inc\\u003c/td\\u003e\\n\\u003ctd\\u003e92.62\\u003c/td\\u003e\\n\\u003ctd\\u003e21.80\\u003c/td\\u003e\\n\\u003ctd\\u003e14.03\\u003c/td\\u003e\\n\\u003ctd\\u003e7.94%\\u003c/td\\u003e\\n\\u003ctd\\u003e$0.1\\u003c/td\\u003e\\n\\u003ctd\\u003e$0.24\\u003c/td\\u003e\\n\\u003ctd\\u003e14.27%\\u003c/td\\u003e\\n\\u003c/tr\\u003e\\n\\u003ctr\\u003e\\n\\u003ctd\\u003eNICE Ltd\\u003c/td\\u003e\\n\\u003ctd\\u003e43.60\\u003c/td\\u003e\\n\\u003ctd\\u003e4.23\\u003c/td\\u003e\\n\\u003ctd\\u003e6.15\\u003c/td\\u003e\\n\\u003ctd\\u003e2.89%\\u003c/td\\u003e\\n\\u003ctd\\u003e$0.16\\u003c/td\\u003e\\n\\u003ctd\\u003e$0.41\\u003c/td\\u003e\\n\\u003ctd\\u003e8.4%\\u003c/td\\u003e\\n\\u003c/tr\\u003e\\n\\u003ctr\\u003e\\n\\u003ctd\\u003e\\u003cstrong\\u003eAverage\\u003c/strong\\u003e\\u003c/td\\u003e\\n\\u003ctd\\u003e\\u003cstrong\\u003e154.72\\u003c/strong\\u003e\\u003c/td\\u003e\\n\\u003ctd\\u003e\\u003cstrong\\u003e20.68\\u003c/strong\\u003e\\u003c/td\\u003e\\n\\u003ctd\\u003e\\u003cstrong\\u003e11.6\\u003c/strong\\u003e\\u003c/td\\u003e\\n\\u003ctd\\u003e\\u003cstrong\\u003e11.67%\\u003c/strong\\u003e\\u003c/td\\u003e\\n\\u003ctd\\u003e\\u003cstrong\\u003e$0.45\\u003c/strong\\u003e\\u003c/td\\u003e\\n\\u003ctd\\u003e\\u003cstrong\\u003e$1.25\\u003c/strong\\u003e\\u003c/td\\u003e\\n\\u003ctd\\u003e\\u003cstrong\\u003e11.59%\\u003c/strong\\u003e\\u003c/td\\u003e\\n\\u003c/tr\\u003e\\n\\u003c/tbody\\u003e\\n\\u003c/table\\u003e\\n\\n\\u003cstyle\\u003e\\n        table {\\n            width: 100%;\\n            border-collapse: collapse;\\n            font-family: Arial, sans-serif;\\n            font-size: 14px;\\n        }\\n\\n        th, td {\\n            padding: 8px;\\n            text-align: left;\\n        }\\n\\n        th {\\n            background-color: #293a5a;\\n            color: #fff;\\n            text-align: left;\\n        }\\n\\n        tr:nth-child(even) {\\n            background-color: #f2f4f8;\\n        }\\n\\n        tr:hover {\\n            background-color: #e1e4ea;\\n        }\\n\\n        td:nth-child(3), td:nth-child(5) {\\n            text-align: left;\\n        }\\n\\n        .dividend-amount {\\n            font-weight: bold;\\n            color: #0d6efd;\\n        }\\n\\n        .dividend-frequency {\\n            font-size: 12px;\\n            color: #6c757d;\\n        }\\n    \\u003c/style\\u003e\\n\\n\\u003cp\\u003eUpon closer analysis of Salesforce, the following trends become apparent: \\u003c/p\\u003e\\n\\u003cul\\u003e\\n\\u003cli\\u003e\\n\\u003cp\\u003eThe Price to Earnings ratio of \\u003cb\\u003e108.68\\u003c/b\\u003e is \\u003cb\\u003e0.7x\\u003c/b\\u003e lower than the industry average, indicating potential undervaluation for the stock.\\u003c/p\\u003e\\n\\u003c/li\\u003e\\n\\u003cli\\u003e\\n\\u003cp\\u003eConsidering a Price to Book ratio of \\u003cb\\u003e4.76\\u003c/b\\u003e, which is well below the industry average by \\u003cb\\u003e0.23x\\u003c/b\\u003e, the stock may be undervalued based on its book value compared to its peers.\\u003c/p\\u003e\\n\\u003c/li\\u003e\\n\\u003cli\\u003e\\n\\u003cp\\u003eBased on its sales performance, the stock could be deemed undervalued with a Price to Sales ratio of \\u003cb\\u003e8.29\\u003c/b\\u003e, which is \\u003cb\\u003e0.71x\\u003c/b\\u003e the industry average.\\u003c/p\\u003e\\n\\u003c/li\\u003e\\n\\u003cli\\u003e\\n\\u003cp\\u003eWith a Return on Equity (ROE) of \\u003cb\\u003e2.11%\\u003c/b\\u003e that is \\u003cb\\u003e9.56%\\u003c/b\\u003e below the industry average, it appears that the company exhibits potential inefficiency in utilizing equity to generate profits.\\u003c/p\\u003e\\n\\u003c/li\\u003e\\n\\u003cli\\u003e\\n\\u003cp\\u003eThe Earnings Before Interest, Taxes, Depreciation, and Amortization (EBITDA) of \\u003cb\\u003e$2.42 Billion\\u003c/b\\u003e is \\u003cb\\u003e5.38x\\u003c/b\\u003e above the industry average, highlighting stronger profitability and robust cash flow generation.\\u003c/p\\u003e\\n\\u003c/li\\u003e\\n\\u003cli\\u003e\\n\\u003cp\\u003eThe company has higher gross profit of \\u003cb\\u003e$6.57 Billion\\u003c/b\\u003e, which indicates \\u003cb\\u003e5.26x\\u003c/b\\u003e above the industry average, indicating stronger profitability and higher earnings from its core operations.\\u003c/p\\u003e\\n\\u003c/li\\u003e\\n\\u003cli\\u003e\\n\\u003cp\\u003eThe company is witnessing a substantial decline in revenue growth, with a rate of \\u003cb\\u003e11.27%\\u003c/b\\u003e compared to the industry average of \\u003cb\\u003e11.59%\\u003c/b\\u003e, which indicates a challenging sales environment.\\u003c/p\\u003e\\n\\u003c/li\\u003e\\n\\u003c/ul\\u003e\\n\\u003ch3\\u003eDebt To Equity Ratio\\u003c/h3\\u003e\\n\\u003cp\\u003e\\u003cimg src=\\\"https://www.benzinga.com/files/images/story/2024/1707321621_0.png\\\" alt=\\\"debt to equity\\\" /\\u003e\\u003c/p\\u003e\\n\\n\\u003cp\\u003eThe debt-to-equity (D/E) ratio is an important measure to assess the financial structure and risk profile of a company.\\u003c/p\\u003e\\n\\u003cp\\u003eConsidering the debt-to-equity ratio in industry comparisons allows for a concise evaluation of a company's financial health and risk profile, aiding in informed decision-making.\\u003c/p\\u003e\\n\\u003cp\\u003eIn terms of the Debt-to-Equity ratio, Salesforce stands in comparison with its top 4 peers, leading to the following comparisons:\\u003c/p\\u003e\\n\\u003cul\\u003e\\n\\u003cli\\u003e\\n\\u003cp\\u003eSalesforce has a stronger financial position compared to its top 4 peers, as evidenced by its lower debt-to-equity ratio of \\u003cb\\u003e0.22\\u003c/b\\u003e.\\u003c/p\\u003e\\n\\u003c/li\\u003e\\n\\u003cli\\u003e\\n\\u003cp\\u003eThis suggests that the company has a more favorable balance between debt and equity, which can be perceived as a positive indicator by investors.\\u003c/p\\u003e\\n\\u003c/li\\u003e\\n\\u003c/ul\\u003e\\n\\u003ch3\\u003eKey Takeaways\\u003c/h3\\u003e\\n\\u003cp\\u003eSalesforce has a low PE ratio, indicating that its stock price is relatively low compared to its earnings. The low PB ratio suggests that the stock is undervalued based on its book value. The low PS ratio indicates that the stock is trading at a lower price relative to its sales. On the other hand, Salesforce has a high EBITDA and gross profit, indicating strong profitability. However, its low ROE and revenue growth suggest that the company may be facing challenges in generating returns and expanding its business.\\u003c/p\\u003e\\n\\u003cp\\u003e\\u003cem\\u003eThis article was generated by Benzinga's automated content engine and reviewed by an editor.\\u003c/em\\u003e\\u003c/p\\u003e\",\"created_at\":\"2024-02-07T16:00:24Z\",\"headline\":\"Comparative Study: Salesforce And Industry Competitors In Software Industry\",\"id\":36984913,\"images\":[],\"source\":\"benzinga\",\"summary\":\" \",\"symbols\":[\"CRM\"],\"updated_at\":\"2024-02-07T16:00:25Z\",\"url\":\"https://www.benzinga.com/insights/news/24/02/36984913/comparative-study-salesforce-and-industry-competitors-in-software-industry\"},{\"author\":\"Benzinga Neuro\",\"content\":\"\\u003cp\\u003eA top executive at\\u003cstrong\\u003e Salesforce Inc \\u003c/strong\\u003e(NYSE:\\u003ca class=\\\"ticker\\\" href=\\\"https://www.benzinga.com/stock/CRM#NYSE\\\"\\u003eCRM\\u003c/a\\u003e) has reportedly warned employees that they could face financial consequences if they fail to meet an internal training goal. \\u003c/p\\u003e\\n\\n\\n\\n\\u003cp\\u003e\\u003cstrong\\u003eWhat Happened\\u003c/strong\\u003e: The company\\u0026#8217;s president and chief engineering officer, \\u003cstrong\\u003eSrini Tallapragada\\u003c/strong\\u003e, sent an email to his direct reports, stating that those who do not achieve the \\u0026#8220;ranger\\u0026#8221; rank on the company\\u0026#8217;s internal training platform could miss out on stock grants and bonus payments.\\u003c/p\\u003e\\n\\n\\n\\n\\u003cp\\u003eIn an email sent on Jan. 10, Tallapragada reminded employees of the 2023 goal set by Salesforce for all its workers to attain the \\u0026#8220;ranger\\u0026#8221; rank on Trailhead, the company\\u0026#8217;s internal training software. \\u0026#8220;Hopefully all of you are rangers — if not better get going if you want your stock grant and bonus,\\u0026#8221; Tallapragada wrote, \\u003ca href=\\\"https://www.businessinsider.com/salesforce-exec-email-trailhead-goal-bonus-2024-2?IR=T\\\"\\u003ereported\\u003c/a\\u003e Business Insider.\\u003c/p\\u003e\\n\\n\\n\\n\\u003cp\\u003eAccording to a company spokesperson, 91.4% of employees achieved the ranger status. This rank requires the accumulation of 50,000 points on Trailhead, which is the seventh level of achievement on the platform.\\u003c/p\\u003e\\n\\n\\n\\n\\u003cp\\u003eDespite the training goal, Salesforce CEO \\u003cstrong\\u003eMarc Benioff\\u003c/strong\\u003e was reportedly among the employees who did not achieve ranger status in 2023. This development comes amid a series of layoffs at Salesforce, which has seen a 10% reduction in its workforce in early 2023, followed by a further 1% reduction in January.\\u003c/p\\u003e\\n\\n\\n\\n\\u003cp\\u003eSalesforce did not respond to \\u003ca href=\\\"http://pro.benzinga.com/\\\" target=\\\"_blank\\\" rel=\\\"noreferrer noopener\\\"\\u003eBenzinga\\u003c/a\\u003e\\u0026#8216;s request for comment.\\u003c/p\\u003e\\n\\n\\n\\n\\u003cp\\u003e\\u003cem\\u003eSee Also: \\u003ca href=\\\"https://www.benzinga.com/markets/asia/24/02/36953993/china-stocks-surge-after-beijing-announces-new-measures-xi-jinping-steps-in?itm_source=parsely-api\\\" target=\\\"_blank\\\" rel=\\\"noreferrer noopener\\\"\\u003eChina Stocks Surge After Beijing Announces New Measures, Xi Jinping Steps In\\u003c/a\\u003e\\u003c/em\\u003e\\u003c/p\\u003e\\n\\n\\n\\n\\u003cp\\u003e\\u003cstrong\\u003eWhy It Matters\\u003c/strong\\u003e: The recent warning from Salesforce\\u0026#8217;s top executive comes in the wake of the company\\u0026#8217;s ongoing cost-cutting measures. In January, Salesforce \\u003ca href=\\\"https://www.benzinga.com/news/24/01/36798167/salesforce-cuts-700-jobs-in-streamlining-effort-yet-eyes-growth-with-1-000-open-roles\\\"\\u003eannounced layoffs of 700 employees\\u003c/a\\u003e, following a previous reduction of 10% or around 8,000 workers in 2023.\\u003c/p\\u003e\\n\\n\\n\\n\\u003cp\\u003eThis move was part of ongoing cost-cutting pressures from investors, including activist shareholders like Elliott Management, to drive its margins. Despite these cuts, Salesforce still maintains 1,000 open positions, suggesting these layoffs are part of workforce adjustments rather than a significant strategic shift.\\u003c/p\\u003e\\n\\n\\n\\n\\u003cp\\u003eMeanwhile, the layoffs are part of a broader trend in the tech industry. After a noticeable declining trend in tech layoffs during the second half of 2023, the number of employees laid off in the tech sector \\u003ca href=\\\"https://www.benzinga.com/markets/equities/24/01/36874447/tech-layoffs-up-over-300-month-over-month-in-january-3-companies-with-the-most-employees-laid-of\\\"\\u003eincreased by 304%\\u003c/a\\u003e in January.\\u003c/p\\u003e\\n\\n\\n\\n\\u003cp\\u003e\\u003cem\\u003eRead Next: \\u003ca href=\\\"https://www.benzinga.com/markets/cryptocurrency/24/02/36923249/yes-this-is-real-videos-of-wall-street-bull-wif-hat-go-viral-dogecoin-killer-wif-up-17?itm_source=parsely-api\\\" target=\\\"_blank\\\" rel=\\\"noreferrer noopener\\\"\\u003e\\u0026#8216;Yes This Is Real\\u0026#8217;: Videos Of Wall Street Bull \\u0026#8216;Wif Hat\\u0026#8217; Go Viral, \\u0026#8216;Dogecoin Killer\\u0026#8217; $WIF Up 17%\\u003c/a\\u003e\\u003c/em\\u003e\\u003c/p\\u003e\\n\\n\\n\\n\\u003cp\\u003ePhoto via Shutterstock\\u003c/p\\u003e\\n\\n\\n\\n\\u003c!--Actual content--\\u003e\\n    \\u003cdiv style=\\\"font-family: 'Lato', sans-serif\\\"\\u003e\\n      \\u003chr style=\\\"border: 0;height: 5px;background: #225aa9\\\"\\u003e\\n      \\u003cdiv style=\\\"background-color: #f5f5f5;background-position: center;background-size: cover;justify-content: center\\\"\\u003e\\u003c/div\\u003e\\n      \\u003cp style=\\\"font-family: sans-serif;padding-top: 20px\\\"\\u003e\\n        Engineered by\\n        \\u003cspan style=\\\"font-weight: bold;text-decoration: none;color: #225aa9;font-size: 1rem\\\"\\u003eBenzinga Neuro\\u003c/span\\u003e, Edited by\\n        \\u003cspan style=\\\"font-weight: bold;text-decoration: none;color: #225aa9;font-size: 1rem\\\"\\u003e\\n          \\u003cu\\u003e\\u003ca href=\\\"None\\\" target=\\\"_blank\\\" rel=\\\"noopener\\\" style=\\\"color: #225aa9;text-decoration: none\\\"\\u003e\\n              Kaustubh Bagalkote\\u003c/a\\u003e\\u003c/u\\u003e\\n        \\u003c/span\\u003e\\n      \\u003c/p\\u003e\\n      \\u003chr style=\\\"border: 0;height: 1px;background: #225aa9\\\"\\u003e\\n      \\u003cp style=\\\"font-family: sans-serif;padding-top: 20px\\\"\\u003e\\n        The GPT-4-based Benzinga Neuro content generation system exploits the\\n        extensive Benzinga Ecosystem, including native data, APIs, and more to\\n        create comprehensive and timely stories for you.\\n        \\u003ca href=\\\"https://www.benzinga.com/author/benzinga-neuro\\\" target=\\\"_blank\\\" rel=\\\"noopener\\\" style=\\\"color: #225aa9;text-decoration: none\\\"\\u003eLearn more.\\u003c/a\\u003e\\n      \\u003c/p\\u003e\\n      \\u003chr style=\\\"border: 0;height: 5px;background: #225aa9\\\"\\u003e\\n    \\u003c/div\\u003e\\n    \\u003c!--Actual content end--\\u003e\",\"created_at\":\"2024-02-07T05:15:34Z\",\"headline\":\"Salesforce Executive Threatens To Withhold Stock Grants, Bonuses If Employees Fail To Meet Training Goals: Report\",\"id\":36972435,\"images\":[{\"size\":\"large\",\"url\":\"https://cdn.benzinga.com/files/imagecache/2048x1536xUP/images/story/2024/salesforce-shutter_0.jpeg\"},{\"size\":\"small\",\"url\":\"https://cdn.benzinga.com/files/imagecache/1024x768xUP/images/story/2024/salesforce-shutter_0.jpeg\"},{\"size\":\"thumb\",\"url\":\"https://cdn.benzinga.com/files/imagecache/250x187xUP/images/story/2024/salesforce-shutter_0.jpeg\"}],\"source\":\"benzinga\",\"summary\":\"The company\\u0026#39;s president and chief engineering officer, Srini Tallapragada, sent an email to his direct reports, stating that those who do not achieve the \\u0026#34;ranger\\u0026#34; rank on the company\\u0026#39;s internal training platform could miss out on stock grants and bonus payments.\",\"symbols\":[\"CRM\"],\"updated_at\":\"2024-02-07T05:15:34Z\",\"url\":\"https://www.benzinga.com/news/24/02/36972435/salesforce-executive-threatens-to-withhold-stock-grants-bonuses-if-employees-fail-to-meet-training-g\"}],\"next_page_token\":null}\n"
     ]
    }
   ],
   "source": [
    "import requests\n",
    "\n",
    "url = \"https://data.alpaca.markets/v1beta1/news?start=2024-02-01&end=2024-02-10&sort=desc&symbols=CRM&include_content=true&exclude_contentless=true\"\n",
    "\n",
    "headers = {\n",
    "    \"accept\": \"application/json\",\n",
    "    \"APCA-API-KEY-ID\": API_KEY,\n",
    "    \"APCA-API-SECRET-KEY\": SECRET\n",
    "}\n",
    "\n",
    "response = requests.get(url, headers=headers)\n",
    "\n",
    "print(response.text)"
   ]
  },
  {
   "cell_type": "markdown",
   "metadata": {},
   "source": [
    "## Stream (but didnt work or keeps running)"
   ]
  },
  {
   "cell_type": "code",
   "execution_count": 3,
   "metadata": {},
   "outputs": [
    {
     "data": {
      "text/plain": [
       "'[{\"T\":\"success\",\"msg\":\"connected\"}]'"
      ]
     },
     "execution_count": 3,
     "metadata": {},
     "output_type": "execute_result"
    }
   ],
   "source": [
    "conn = create_connection(ws_url)\n",
    "conn.recv()"
   ]
  },
  {
   "cell_type": "code",
   "execution_count": 4,
   "metadata": {},
   "outputs": [
    {
     "data": {
      "text/plain": [
       "'[{\"T\":\"success\",\"msg\":\"authenticated\"}]'"
      ]
     },
     "execution_count": 4,
     "metadata": {},
     "output_type": "execute_result"
    }
   ],
   "source": [
    "conn.send(\n",
    "        json.dumps(\n",
    "            {\n",
    "                \"action\": \"auth\",\n",
    "                \"key\": API_KEY,\n",
    "                \"secret\": SECRET,\n",
    "            }\n",
    "        )\n",
    "    )\n",
    "\n",
    "conn.recv()"
   ]
  },
  {
   "cell_type": "code",
   "execution_count": 5,
   "metadata": {},
   "outputs": [
    {
     "data": {
      "text/plain": [
       "44"
      ]
     },
     "execution_count": 5,
     "metadata": {},
     "output_type": "execute_result"
    }
   ],
   "source": [
    "conn.send(\n",
    "            json.dumps({\"action\": \"subscribe\", \"news\": ['GOOG']})\n",
    "        )\n"
   ]
  },
  {
   "cell_type": "code",
   "execution_count": 7,
   "metadata": {},
   "outputs": [],
   "source": [
    "conn.recv()"
   ]
  },
  {
   "cell_type": "markdown",
   "metadata": {},
   "source": [
    "# Bytewax and alpaca"
   ]
  },
  {
   "cell_type": "code",
   "execution_count": 1,
   "metadata": {},
   "outputs": [],
   "source": [
    "from datetime import timedelta\n",
    "\n",
    "import bytewax.operators as op\n",
    "from bytewax.dataflow import Dataflow\n",
    "from bytewax.connectors.stdio import StdOutSink\n",
    "from bytewax.inputs import DynamicSource\n",
    "from bytewax.outputs import DynamicSink\n",
    "import requests\n",
    "import json"
   ]
  },
  {
   "cell_type": "code",
   "execution_count": 2,
   "metadata": {},
   "outputs": [],
   "source": [
    "API_KEY = 'PKF3KMYDUEAUK0S112HX'\n",
    "SECRET = 'n1hrmo48mJpBoyV7LtVtx6XflUjZymEwd9d9RFev'"
   ]
  },
  {
   "cell_type": "code",
   "execution_count": 3,
   "metadata": {},
   "outputs": [],
   "source": [
    "# util\n",
    "from datetime import datetime, timedelta\n",
    "\n",
    "def split_date_range(from_date, to_date, num_intervals):\n",
    "    # Convert input strings to datetime objects\n",
    "    from_date = datetime.strptime(from_date, '%Y-%m-%d')\n",
    "    to_date = datetime.strptime(to_date, '%Y-%m-%d')\n",
    "    \n",
    "    # Calculate total number of days between from_date and to_date\n",
    "    total_days = (to_date - from_date).days\n",
    "    \n",
    "    # Calculate the number of days per interval\n",
    "    days_per_interval = total_days / num_intervals\n",
    "    \n",
    "    # Initialize list to store result tuples\n",
    "    result = []\n",
    "    \n",
    "    # Generate intervals\n",
    "    for i in range(num_intervals):\n",
    "        # Calculate start and end dates for the current interval\n",
    "        start_date = from_date + timedelta(days=int(i * days_per_interval))\n",
    "        end_date = from_date + timedelta(days=int((i + 1) * days_per_interval))\n",
    "        \n",
    "        # Append tuple (start_date, end_date) to the result list\n",
    "        result.append((start_date.strftime('%Y-%m-%d'), end_date.strftime('%Y-%m-%d')))\n",
    "    \n",
    "    return result\n"
   ]
  },
  {
   "cell_type": "code",
   "execution_count": 8,
   "metadata": {},
   "outputs": [],
   "source": [
    "class AlpacaBatch(DynamicSource):\n",
    "    def __init__(self, from_date, to_date, tickers):\n",
    "        self.from_date = from_date\n",
    "        self.to_date = to_date\n",
    "        self.tickers = tickers \n",
    "        self.api_key = API_KEY\n",
    "        self.secret = SECRET\n",
    "        # to change the string values\n",
    "        self.url = \"https://data.alpaca.markets/v1beta1/news?start=2024-02-01&end=2024-02-10&sort=desc&symbols=CRM&include_content=true&exclude_contentless=true\"\n",
    "    \n",
    "    def build(self, worker_index, worker_count):\n",
    "        print('inside build')\n",
    "        worker_date_range = split_date_range(self.from_date, self.to_date, worker_count)\n",
    "        current_from_date, current_to_date = worker_date_range[worker_index] # current wormer's value\n",
    "        return self.build_alpaca_client(current_from_date, current_to_date)\n",
    "\n",
    "    def build_alpaca_client(self, current_from_date, current_to_date):\n",
    "         \n",
    "        headers = {\n",
    "                        \"accept\": \"application/json\",\n",
    "                        \"APCA-API-KEY-ID\": self.api_key,\n",
    "                        \"APCA-API-SECRET-KEY\": self.secret\n",
    "                    }\n",
    "        params = {\n",
    "            \"start\": current_from_date,\n",
    "            \"end\"  : current_to_date,\n",
    "            \"sort\" : \"desc\",\n",
    "            \"symbols\": self.tickers,\n",
    "            \"include_content\": True,\n",
    "            \"page_token\": 50,\n",
    "            \"limit\": 50\n",
    "        }\n",
    "    \n",
    "        response = requests.get(self.url, headers=headers, params= params)\n",
    "\n",
    "        next_page_token = None\n",
    "        if response.status_code == 200:  # Check if the request was successful\n",
    "            # parse response into json\n",
    "            news_json = response.json()\n",
    "\n",
    "            # extract next page token (if any)\n",
    "            next_page_token = news_json.get(\"next_page_token\", None)\n",
    "\n",
    "        else:\n",
    "            print(f\"Request failed with status code: {response.status_code}\")\n",
    "\n",
    "        self._page_token = next_page_token\n",
    "\n",
    "        return news_json[\"news\"]\n"
   ]
  },
  {
   "cell_type": "code",
   "execution_count": 9,
   "metadata": {},
   "outputs": [],
   "source": [
    "def build():\n",
    "    flow = Dataflow(\"alpaca_news\")\n",
    "    alpaca_batch = op.input(\"input\", flow, AlpacaBatch)\n",
    "    return alpaca_batch"
   ]
  },
  {
   "cell_type": "code",
   "execution_count": 10,
   "metadata": {},
   "outputs": [],
   "source": [
    "mynews = build()"
   ]
  },
  {
   "cell_type": "code",
   "execution_count": 7,
   "metadata": {},
   "outputs": [
    {
     "data": {
      "text/plain": [
       "Stream(stream_id='alpaca_news.input.down', _scope=_Scope(parent_id='alpaca_news'))"
      ]
     },
     "execution_count": 7,
     "metadata": {},
     "output_type": "execute_result"
    }
   ],
   "source": [
    "mynews"
   ]
  },
  {
   "cell_type": "code",
   "execution_count": 2,
   "metadata": {},
   "outputs": [],
   "source": [
    "# Transformers"
   ]
  },
  {
   "cell_type": "code",
   "execution_count": 3,
   "metadata": {},
   "outputs": [
    {
     "name": "stderr",
     "output_type": "stream",
     "text": [
      "d:\\Raghu Studies\\FinancialAdvisor\\.src_financial_advisor\\Lib\\site-packages\\huggingface_hub\\file_download.py:149: UserWarning: `huggingface_hub` cache-system uses symlinks by default to efficiently store duplicated files but your machine does not support them in C:\\Users\\USER\\.cache\\huggingface\\hub\\models--sentence-transformers--all-MiniLM-L6-v2. Caching files will still work but in a degraded version that might require more space on your disk. This warning can be disabled by setting the `HF_HUB_DISABLE_SYMLINKS_WARNING` environment variable. For more details, see https://huggingface.co/docs/huggingface_hub/how-to-cache#limitations.\n",
      "To support symlinks on Windows, you either need to activate Developer Mode or to run Python as an administrator. In order to see activate developer mode, see this article: https://docs.microsoft.com/en-us/windows/apps/get-started/enable-your-device-for-development\n",
      "  warnings.warn(message)\n"
     ]
    }
   ],
   "source": [
    "from sentence_transformers import SentenceTransformer\n",
    "\n",
    "model = SentenceTransformer(\"all-MiniLM-L6-v2\")"
   ]
  },
  {
   "cell_type": "code",
   "execution_count": 6,
   "metadata": {},
   "outputs": [
    {
     "ename": "ValueError",
     "evalue": "\u001b[91mYou are using a deprecated configuration of Chroma.\n\n\u001b[94mIf you do not have data you wish to migrate, you only need to change how you construct\nyour Chroma client. Please see the \"New Clients\" section of https://docs.trychroma.com/deployment/migration.\n________________________________________________________________________________________________\n\nIf you do have data you wish to migrate, we have a migration tool you can use in order to\nmigrate your data to the new Chroma architecture.\nPlease `pip install chroma-migrate` and run `chroma-migrate` to migrate your data and then\nchange how you construct your Chroma client.\n\nSee https://docs.trychroma.com/deployment/migration for more information or join our discord at https://discord.gg/8g5FESbj for help!\u001b[0m",
     "output_type": "error",
     "traceback": [
      "\u001b[1;31m---------------------------------------------------------------------------\u001b[0m",
      "\u001b[1;31mValueError\u001b[0m                                Traceback (most recent call last)",
      "Cell \u001b[1;32mIn[6], line 3\u001b[0m\n\u001b[0;32m      1\u001b[0m \u001b[38;5;28;01mimport\u001b[39;00m \u001b[38;5;21;01mchromadb\u001b[39;00m\n\u001b[0;32m      2\u001b[0m \u001b[38;5;28;01mfrom\u001b[39;00m \u001b[38;5;21;01mchromadb\u001b[39;00m\u001b[38;5;21;01m.\u001b[39;00m\u001b[38;5;21;01mconfig\u001b[39;00m \u001b[38;5;28;01mimport\u001b[39;00m Settings\n\u001b[1;32m----> 3\u001b[0m client \u001b[38;5;241m=\u001b[39m \u001b[43mchromadb\u001b[49m\u001b[38;5;241;43m.\u001b[39;49m\u001b[43mClient\u001b[49m\u001b[43m(\u001b[49m\u001b[43mSettings\u001b[49m\u001b[43m(\u001b[49m\u001b[43mchroma_db_impl\u001b[49m\u001b[38;5;241;43m=\u001b[39;49m\u001b[38;5;124;43m\"\u001b[39;49m\u001b[38;5;124;43mnews\u001b[39;49m\u001b[38;5;124;43m\"\u001b[39;49m\u001b[43m,\u001b[49m\n\u001b[0;32m      4\u001b[0m \u001b[43m                                    \u001b[49m\u001b[43mpersist_directory\u001b[49m\u001b[38;5;241;43m=\u001b[39;49m\u001b[38;5;124;43m\"\u001b[39;49m\u001b[38;5;124;43m/content/\u001b[39;49m\u001b[38;5;124;43m\"\u001b[39;49m\n\u001b[0;32m      5\u001b[0m \u001b[43m                                \u001b[49m\u001b[43m)\u001b[49m\u001b[43m)\u001b[49m\n",
      "File \u001b[1;32md:\\Raghu Studies\\FinancialAdvisor\\.src_financial_advisor\\Lib\\site-packages\\chromadb\\__init__.py:334\u001b[0m, in \u001b[0;36mClient\u001b[1;34m(settings, tenant, database)\u001b[0m\n\u001b[0;32m    331\u001b[0m tenant \u001b[38;5;241m=\u001b[39m \u001b[38;5;28mstr\u001b[39m(tenant)\n\u001b[0;32m    332\u001b[0m database \u001b[38;5;241m=\u001b[39m \u001b[38;5;28mstr\u001b[39m(database)\n\u001b[1;32m--> 334\u001b[0m \u001b[38;5;28;01mreturn\u001b[39;00m \u001b[43mClientCreator\u001b[49m\u001b[43m(\u001b[49m\u001b[43mtenant\u001b[49m\u001b[38;5;241;43m=\u001b[39;49m\u001b[43mtenant\u001b[49m\u001b[43m,\u001b[49m\u001b[43m \u001b[49m\u001b[43mdatabase\u001b[49m\u001b[38;5;241;43m=\u001b[39;49m\u001b[43mdatabase\u001b[49m\u001b[43m,\u001b[49m\u001b[43m \u001b[49m\u001b[43msettings\u001b[49m\u001b[38;5;241;43m=\u001b[39;49m\u001b[43msettings\u001b[49m\u001b[43m)\u001b[49m\n",
      "File \u001b[1;32md:\\Raghu Studies\\FinancialAdvisor\\.src_financial_advisor\\Lib\\site-packages\\chromadb\\api\\client.py:55\u001b[0m, in \u001b[0;36mClient.__init__\u001b[1;34m(self, tenant, database, settings)\u001b[0m\n\u001b[0;32m     49\u001b[0m \u001b[38;5;28;01mdef\u001b[39;00m \u001b[38;5;21m__init__\u001b[39m(\n\u001b[0;32m     50\u001b[0m     \u001b[38;5;28mself\u001b[39m,\n\u001b[0;32m     51\u001b[0m     tenant: \u001b[38;5;28mstr\u001b[39m \u001b[38;5;241m=\u001b[39m DEFAULT_TENANT,\n\u001b[0;32m     52\u001b[0m     database: \u001b[38;5;28mstr\u001b[39m \u001b[38;5;241m=\u001b[39m DEFAULT_DATABASE,\n\u001b[0;32m     53\u001b[0m     settings: Settings \u001b[38;5;241m=\u001b[39m Settings(),\n\u001b[0;32m     54\u001b[0m ) \u001b[38;5;241m-\u001b[39m\u001b[38;5;241m>\u001b[39m \u001b[38;5;28;01mNone\u001b[39;00m:\n\u001b[1;32m---> 55\u001b[0m     \u001b[38;5;28;43msuper\u001b[39;49m\u001b[43m(\u001b[49m\u001b[43m)\u001b[49m\u001b[38;5;241;43m.\u001b[39;49m\u001b[38;5;21;43m__init__\u001b[39;49m\u001b[43m(\u001b[49m\u001b[43msettings\u001b[49m\u001b[38;5;241;43m=\u001b[39;49m\u001b[43msettings\u001b[49m\u001b[43m)\u001b[49m\n\u001b[0;32m     56\u001b[0m     \u001b[38;5;28mself\u001b[39m\u001b[38;5;241m.\u001b[39mtenant \u001b[38;5;241m=\u001b[39m tenant\n\u001b[0;32m     57\u001b[0m     \u001b[38;5;28mself\u001b[39m\u001b[38;5;241m.\u001b[39mdatabase \u001b[38;5;241m=\u001b[39m database\n",
      "File \u001b[1;32md:\\Raghu Studies\\FinancialAdvisor\\.src_financial_advisor\\Lib\\site-packages\\chromadb\\api\\shared_system_client.py:19\u001b[0m, in \u001b[0;36mSharedSystemClient.__init__\u001b[1;34m(self, settings)\u001b[0m\n\u001b[0;32m     14\u001b[0m \u001b[38;5;28;01mdef\u001b[39;00m \u001b[38;5;21m__init__\u001b[39m(\n\u001b[0;32m     15\u001b[0m     \u001b[38;5;28mself\u001b[39m,\n\u001b[0;32m     16\u001b[0m     settings: Settings \u001b[38;5;241m=\u001b[39m Settings(),\n\u001b[0;32m     17\u001b[0m ) \u001b[38;5;241m-\u001b[39m\u001b[38;5;241m>\u001b[39m \u001b[38;5;28;01mNone\u001b[39;00m:\n\u001b[0;32m     18\u001b[0m     \u001b[38;5;28mself\u001b[39m\u001b[38;5;241m.\u001b[39m_identifier \u001b[38;5;241m=\u001b[39m SharedSystemClient\u001b[38;5;241m.\u001b[39m_get_identifier_from_settings(settings)\n\u001b[1;32m---> 19\u001b[0m     \u001b[43mSharedSystemClient\u001b[49m\u001b[38;5;241;43m.\u001b[39;49m\u001b[43m_create_system_if_not_exists\u001b[49m\u001b[43m(\u001b[49m\u001b[38;5;28;43mself\u001b[39;49m\u001b[38;5;241;43m.\u001b[39;49m\u001b[43m_identifier\u001b[49m\u001b[43m,\u001b[49m\u001b[43m \u001b[49m\u001b[43msettings\u001b[49m\u001b[43m)\u001b[49m\n",
      "File \u001b[1;32md:\\Raghu Studies\\FinancialAdvisor\\.src_financial_advisor\\Lib\\site-packages\\chromadb\\api\\shared_system_client.py:26\u001b[0m, in \u001b[0;36mSharedSystemClient._create_system_if_not_exists\u001b[1;34m(cls, identifier, settings)\u001b[0m\n\u001b[0;32m     21\u001b[0m \u001b[38;5;129m@classmethod\u001b[39m\n\u001b[0;32m     22\u001b[0m \u001b[38;5;28;01mdef\u001b[39;00m \u001b[38;5;21m_create_system_if_not_exists\u001b[39m(\n\u001b[0;32m     23\u001b[0m     \u001b[38;5;28mcls\u001b[39m, identifier: \u001b[38;5;28mstr\u001b[39m, settings: Settings\n\u001b[0;32m     24\u001b[0m ) \u001b[38;5;241m-\u001b[39m\u001b[38;5;241m>\u001b[39m System:\n\u001b[0;32m     25\u001b[0m     \u001b[38;5;28;01mif\u001b[39;00m identifier \u001b[38;5;129;01mnot\u001b[39;00m \u001b[38;5;129;01min\u001b[39;00m \u001b[38;5;28mcls\u001b[39m\u001b[38;5;241m.\u001b[39m_identifier_to_system:\n\u001b[1;32m---> 26\u001b[0m         new_system \u001b[38;5;241m=\u001b[39m \u001b[43mSystem\u001b[49m\u001b[43m(\u001b[49m\u001b[43msettings\u001b[49m\u001b[43m)\u001b[49m\n\u001b[0;32m     27\u001b[0m         \u001b[38;5;28mcls\u001b[39m\u001b[38;5;241m.\u001b[39m_identifier_to_system[identifier] \u001b[38;5;241m=\u001b[39m new_system\n\u001b[0;32m     29\u001b[0m         new_system\u001b[38;5;241m.\u001b[39minstance(ProductTelemetryClient)\n",
      "File \u001b[1;32md:\\Raghu Studies\\FinancialAdvisor\\.src_financial_advisor\\Lib\\site-packages\\chromadb\\config.py:333\u001b[0m, in \u001b[0;36mSystem.__init__\u001b[1;34m(self, settings)\u001b[0m\n\u001b[0;32m    331\u001b[0m \u001b[38;5;28;01mfor\u001b[39;00m key \u001b[38;5;129;01min\u001b[39;00m _legacy_config_keys:\n\u001b[0;32m    332\u001b[0m     \u001b[38;5;28;01mif\u001b[39;00m settings[key] \u001b[38;5;129;01mis\u001b[39;00m \u001b[38;5;129;01mnot\u001b[39;00m \u001b[38;5;28;01mNone\u001b[39;00m:\n\u001b[1;32m--> 333\u001b[0m         \u001b[38;5;28;01mraise\u001b[39;00m \u001b[38;5;167;01mValueError\u001b[39;00m(LEGACY_ERROR)\n\u001b[0;32m    335\u001b[0m \u001b[38;5;28;01mif\u001b[39;00m (\n\u001b[0;32m    336\u001b[0m     settings[\u001b[38;5;124m\"\u001b[39m\u001b[38;5;124mchroma_segment_cache_policy\u001b[39m\u001b[38;5;124m\"\u001b[39m] \u001b[38;5;129;01mis\u001b[39;00m \u001b[38;5;129;01mnot\u001b[39;00m \u001b[38;5;28;01mNone\u001b[39;00m\n\u001b[0;32m    337\u001b[0m     \u001b[38;5;129;01mand\u001b[39;00m settings[\u001b[38;5;124m\"\u001b[39m\u001b[38;5;124mchroma_segment_cache_policy\u001b[39m\u001b[38;5;124m\"\u001b[39m] \u001b[38;5;241m!=\u001b[39m \u001b[38;5;124m\"\u001b[39m\u001b[38;5;124mLRU\u001b[39m\u001b[38;5;124m\"\u001b[39m\n\u001b[0;32m    338\u001b[0m ):\n\u001b[0;32m    339\u001b[0m     logger\u001b[38;5;241m.\u001b[39merror(\n\u001b[0;32m    340\u001b[0m         \u001b[38;5;124m\"\u001b[39m\u001b[38;5;124mFailed to set chroma_segment_cache_policy: Only LRU is available.\u001b[39m\u001b[38;5;124m\"\u001b[39m\n\u001b[0;32m    341\u001b[0m     )\n",
      "\u001b[1;31mValueError\u001b[0m: \u001b[91mYou are using a deprecated configuration of Chroma.\n\n\u001b[94mIf you do not have data you wish to migrate, you only need to change how you construct\nyour Chroma client. Please see the \"New Clients\" section of https://docs.trychroma.com/deployment/migration.\n________________________________________________________________________________________________\n\nIf you do have data you wish to migrate, we have a migration tool you can use in order to\nmigrate your data to the new Chroma architecture.\nPlease `pip install chroma-migrate` and run `chroma-migrate` to migrate your data and then\nchange how you construct your Chroma client.\n\nSee https://docs.trychroma.com/deployment/migration for more information or join our discord at https://discord.gg/8g5FESbj for help!\u001b[0m"
     ]
    }
   ],
   "source": [
    "import chromadb\n",
    "from chromadb.config import Settings\n",
    "client = chromadb.Client(Settings(chroma_db_impl=\"news\",\n",
    "                                    persist_directory=\"/content/\"\n",
    "                                ))"
   ]
  },
  {
   "cell_type": "code",
   "execution_count": 4,
   "metadata": {},
   "outputs": [
    {
     "name": "stdout",
     "output_type": "stream",
     "text": [
      "(3, 384)\n"
     ]
    }
   ],
   "source": [
    "sentences = [\n",
    "    \"The weather is lovely today.\",\n",
    "    \"It's so sunny outside!\",\n",
    "    \"He drove to the stadium.\",\n",
    "]\n",
    "embeddings = model.encode(sentences)\n",
    "print(embeddings.shape)\n",
    "# => (3, 384)"
   ]
  },
  {
   "cell_type": "code",
   "execution_count": 56,
   "metadata": {},
   "outputs": [],
   "source": [
    "import chromadb\n",
    "from chromadb.utils import embedding_functions\n",
    "from sentence_transformers import SentenceTransformer\n",
    "db = chromadb.PersistentClient(path=r\"D:\\Raghu Studies\\FinancialAdvisor\\chroma_dir\")"
   ]
  },
  {
   "cell_type": "code",
   "execution_count": 92,
   "metadata": {},
   "outputs": [],
   "source": [
    "model_name = \"all-MiniLM-L6-v2\"\n",
    "model = embedding_functions.SentenceTransformerEmbeddingFunction(model_name)\n",
    "collection_name = \"finance\"\n",
    "document = 'hello'\n",
    "# Check if collection exists, if not create it\n",
    "collection = db.get_or_create_collection(collection_name)\n",
    "\n",
    "results = collection.query(\n",
    "    query_texts=[\"hello\"],\n",
    "    n_results=2\n",
    ")\n",
    "import numpy as np\n",
    "match_list = [d for d in results['distances'][0] if np.abs(d) < 0.0001]\n",
    "if(not match_list):\n",
    "    embeddings_sent = model([document])\n",
    "\n",
    "    collection.add(embeddings=embeddings_sent, documents=[document], ids=['ID11'])\n",
    "\n"
   ]
  },
  {
   "cell_type": "code",
   "execution_count": 119,
   "metadata": {},
   "outputs": [],
   "source": [
    "results = collection.get()"
   ]
  },
  {
   "cell_type": "code",
   "execution_count": 130,
   "metadata": {},
   "outputs": [
    {
     "data": {
      "text/plain": [
       "{'ids': ['ID1', 'ID10', 'ID11', 'ID2', 'ID3'],\n",
       " 'embeddings': None,\n",
       " 'metadatas': [None, None, None, None, None],\n",
       " 'documents': ['I am fine', 'srihari', 'hello', 'Iam fine', 'srihari'],\n",
       " 'uris': None,\n",
       " 'data': None,\n",
       " 'included': ['metadatas', 'documents']}"
      ]
     },
     "execution_count": 130,
     "metadata": {},
     "output_type": "execute_result"
    }
   ],
   "source": [
    "results"
   ]
  },
  {
   "cell_type": "code",
   "execution_count": 128,
   "metadata": {},
   "outputs": [],
   "source": [
    "pattern = re.compile(r'\\d+')\n",
    "\n",
    "# Extract numbers from each string in results\n",
    "numbers = \"ID\"+str(sorted([int(pattern.search(item).group()) for item in results['ids']])[-1] + 1)"
   ]
  },
  {
   "cell_type": "code",
   "execution_count": 129,
   "metadata": {},
   "outputs": [
    {
     "data": {
      "text/plain": [
       "'ID12'"
      ]
     },
     "execution_count": 129,
     "metadata": {},
     "output_type": "execute_result"
    }
   ],
   "source": [
    "numbers"
   ]
  },
  {
   "cell_type": "code",
   "execution_count": 107,
   "metadata": {},
   "outputs": [
    {
     "data": {
      "text/plain": [
       "[1, 2, 3, 10, 11]"
      ]
     },
     "execution_count": 107,
     "metadata": {},
     "output_type": "execute_result"
    }
   ],
   "source": [
    "numbers"
   ]
  },
  {
   "cell_type": "code",
   "execution_count": 43,
   "metadata": {},
   "outputs": [],
   "source": [
    "match_list = [d for d in results['distances'][0] if np.abs(d) < 0.0001]"
   ]
  },
  {
   "cell_type": "code",
   "execution_count": 45,
   "metadata": {},
   "outputs": [
    {
     "data": {
      "text/plain": [
       "[]"
      ]
     },
     "execution_count": 45,
     "metadata": {},
     "output_type": "execute_result"
    }
   ],
   "source": [
    "match_list"
   ]
  },
  {
   "cell_type": "code",
   "execution_count": 53,
   "metadata": {},
   "outputs": [],
   "source": [
    "from chromadb.config import Settings"
   ]
  },
  {
   "cell_type": "code",
   "execution_count": 54,
   "metadata": {},
   "outputs": [],
   "source": [
    "Settings.allow_reset = True"
   ]
  },
  {
   "cell_type": "code",
   "execution_count": 131,
   "metadata": {},
   "outputs": [],
   "source": [
    "collection.delete(ids=['ID1', 'ID10', 'ID11', 'ID2', 'ID3'])"
   ]
  },
  {
   "cell_type": "code",
   "execution_count": 134,
   "metadata": {},
   "outputs": [
    {
     "name": "stderr",
     "output_type": "stream",
     "text": [
      "Number of requested results 2 is greater than number of elements in index 0, updating n_results = 0\n"
     ]
    },
    {
     "data": {
      "text/plain": [
       "{'ids': [[]],\n",
       " 'distances': [[]],\n",
       " 'metadatas': [[]],\n",
       " 'embeddings': None,\n",
       " 'documents': [[]],\n",
       " 'uris': None,\n",
       " 'data': None,\n",
       " 'included': ['metadatas', 'documents', 'distances']}"
      ]
     },
     "execution_count": 134,
     "metadata": {},
     "output_type": "execute_result"
    }
   ],
   "source": [
    "collection.query(query_texts='Microsoft', n_results=2)"
   ]
  },
  {
   "cell_type": "markdown",
   "metadata": {},
   "source": [
    "# Without Bytewax"
   ]
  },
  {
   "cell_type": "code",
   "execution_count": 17,
   "metadata": {},
   "outputs": [],
   "source": [
    "import requests\n",
    "import pandas as pd\n",
    "from datetime import datetime, timedelta\n",
    "\n",
    "# Alpaca API credentials\n",
    "API_KEY = 'PKNA9BZKOZCJQCEFT1NR'\n",
    "API_SECRET = 'IaJMEQzWTbUqLLpf20JfoomceBMJoQvkGiEKYQ8Q'\n",
    "BASE_URL = 'https://data.alpaca.markets/v1beta1/news'\n",
    "\n",
    "# Function to fetch news for a given ticker\n",
    "def fetch_alpaca_news(ticker, limit=50, start_date=None, end_date=None):\n",
    "    headers = {\n",
    "        'APCA-API-KEY-ID': API_KEY,\n",
    "        'APCA-API-SECRET-KEY': API_SECRET\n",
    "    }\n",
    "    \n",
    "    params = {\n",
    "        #'symbols': ticker,\n",
    "        'limit': limit,\n",
    "        'start': start_date if start_date else (datetime.now() - timedelta(days=30)).strftime('%Y-%m-%d'),\n",
    "        'end': end_date if end_date else datetime.now().strftime('%Y-%m-%d'),\n",
    "        \"include_content\": True\n",
    "    }\n",
    "    \n",
    "    \n",
    "    response = requests.get(BASE_URL, headers=headers, params=params)\n",
    "    \n",
    "    if response.status_code == 200:\n",
    "        data = response.json()\n",
    "        return data['news']\n",
    "    else:\n",
    "        print(f\"Error: {response.status_code}, {response.text}\")\n",
    "        return None\n",
    "\n",
    "# Example usage: Fetch news for a specific ticker (e.g., AAPL)\n",
    "ticker = 'MSFT'\n",
    "news_data = fetch_alpaca_news(ticker, limit=10)\n",
    "\n",
    "# Convert the news data to a pandas DataFrame for easy manipulation\n",
    "if news_data:\n",
    "    news_df = pd.DataFrame(news_data)\n",
    "    \n",
    "else:\n",
    "    print(\"No news data fetched.\")\n"
   ]
  },
  {
   "cell_type": "code",
   "execution_count": 22,
   "metadata": {},
   "outputs": [
    {
     "data": {
      "text/plain": [
       "[\"Trump Vs. Harris: 2024 Election Betting Odds Show 'Love Story' For Vice President After Debate, Taylor Swift Endorsement\"]"
      ]
     },
     "execution_count": 22,
     "metadata": {},
     "output_type": "execute_result"
    }
   ],
   "source": [
    "news_df['headline'][2].split(\"<\")"
   ]
  },
  {
   "cell_type": "code",
   "execution_count": 24,
   "metadata": {},
   "outputs": [],
   "source": [
    "from unstructured.cleaners.core import (\n",
    "    clean_extra_whitespace, \n",
    "    clean_non_ascii_chars,\n",
    "    group_broken_paragraphs\n",
    ")\n",
    "import re\n",
    "from unstructured.partition.html import partition_html"
   ]
  },
  {
   "cell_type": "code",
   "execution_count": 25,
   "metadata": {},
   "outputs": [],
   "source": [
    "def clean_data(contents):\n",
    "    TAG_RE = re.compile(r'<[^>]+>')\n",
    "    contents = TAG_RE.sub('', contents)\n",
    "    contents = group_broken_paragraphs(contents)\n",
    "    contents = clean_non_ascii_chars(contents)\n",
    "    contents = clean_extra_whitespace(contents)\n",
    "    return contents\n",
    "\n",
    "news_df['clean_data'] = news_df['content'].apply(clean_data)"
   ]
  },
  {
   "cell_type": "code",
   "execution_count": 1,
   "metadata": {},
   "outputs": [],
   "source": [
    "import chromadb"
   ]
  },
  {
   "cell_type": "code",
   "execution_count": 2,
   "metadata": {},
   "outputs": [],
   "source": [
    "db = chromadb.PersistentClient(path=r\"D:\\Raghu Studies\\FinancialAdvisor\\chroma_dir\")"
   ]
  },
  {
   "cell_type": "code",
   "execution_count": 3,
   "metadata": {},
   "outputs": [
    {
     "name": "stderr",
     "output_type": "stream",
     "text": [
      "Add of existing embedding ID: ID1\n",
      "Add of existing embedding ID: ID2\n",
      "Add of existing embedding ID: ID10\n"
     ]
    }
   ],
   "source": [
    "collection_name = \"finance\"\n",
    "collection = db.get_or_create_collection(collection_name)\n",
    "\n",
    "results = collection.query(\n",
    "    query_texts=[\"AAPL\"],\n",
    "    n_results=5\n",
    ")"
   ]
  },
  {
   "cell_type": "code",
   "execution_count": 4,
   "metadata": {},
   "outputs": [
    {
     "data": {
      "text/plain": [
       "{'ids': [['ID589', 'ID444', 'ID545', 'ID385', 'ID705']],\n",
       " 'distances': [[0.9993401169776917,\n",
       "   1.150500774383545,\n",
       "   1.1746329069137573,\n",
       "   1.1843395233154297,\n",
       "   1.2476844148435782]],\n",
       " 'metadatas': [[None, None, None, None, None]],\n",
       " 'embeddings': None,\n",
       " 'documents': [[\"To gain an edge, this is what you need to know today. Hope Pinned On Apple Intelligence Please click here for an enlarged chart of Apple Inc (NASDAQ:AAPL). Note the following: This article is about the big picture, not an individual stock.&nbsp; The chart of AAPL stock is being used to illustrate the point. The chart shows when the iPhone 15 was launched. The chart shows the move from iPhone 15 launch to today's iPhone 16 launch. Investors are hopeful that the move in AAPL stock from the iPhone 16 launch to the iPhone 17 will be much bigger compared to the stock move between the launch of iPhone 15 and iPhone 16. The chart shows that even though investors have stars in their eyes, for the short term, AAPL stock has traced a negative pattern. The chart shows that AAPL stock hit the top of the resistance zone in July. The chart shows that AAPL stock failed to penetrate the resistance zone. The chart shows that after AAPL stock failed to penetrate the resistance zone, it fell all the way to the bottom band of the support zone. The chart shows that AAPL stock rallied after falling to the bottom of the support zone. The chart shows that the rally stopped at the low band of the resistance zone. Investors are mostly focused on hopes that Apple Intelligence, the name for Apple's artificial intelligence, will start a new super cycle of iPhone sales, and thus lift Apple sales from being sluggish for a long time. Even though there is a lot of exuberance about Apple Intelligence, prudent investors need to remember that the momo crowd focuses only on the bullish factors and ignores the negative factors.&nbsp; In contrast, smart money takes into account both positive and negative factors. There are several negative factors about Apple that the stock market is ignoring right now that prudent investors should be aware of: Apple intelligence will likely not be available in the European Union and China. Even in the U.S., most Apple Intelligence features will not be available right away. The launch of all Apple Intelligence features is staggered over a long period of time. The fact that Apple Intelligence that will initially be present in the iPhone is only half baked may delay the super cycle. The marketing hype about Apple Intelligence is way more than reality. Apple does not own its AI.&nbsp; Apple is licensing its AI from OpenAI. The model behind the AI that Apple is offering is not running on the iPhone or on Apple servers.&nbsp; The model appears to be running on &nbsp;NVIDIA Corp (NASDAQ:NVDA) based servers owned by Microsoft Corp (NASDAQ:MSFT). Apple has been receiving $20B per year from Alphabet Inc Class C (NASDAQ:GOOG) to make Google the default search.&nbsp; A judge has ruled that Google is a monopolist.&nbsp; In due course, the government may force Google to stop paying $20B to Apple. In China, Apple is losing market share to Huawei. Many Chinese believe that Huawei phones are superior to the iPhone. Huawei is trying to crash Apple's iPhone part by introducing the world's first tri-fold phone. Due to geopolitics between the U.S. and China, nationalist sentiment in China is rising against the U.S.&nbsp; This poses a significant risk to Apple since about 20% of Apple sales come from China. We understand that investors are very loyal to Apple.&nbsp; Before sending us hate email for doing a comprehensive analysis, note that Apple is the largest position in The Arora Report&#8217;s ZYX Buy Model Portfolio.&nbsp; Long time members of The Arora Report are long AAPL stock from $4.68. Note that Warren Buffett has been selling AAPL stock. Prudent investors should also be aware that Apple can easily manipulate its stock.&nbsp; After the last Apple event when Apple had carefully staged to run up its stock, Apple stock started falling.&nbsp; Apple aggressively bought its own stock to cause a technical breakout.&nbsp;&nbsp; Apple is clearly anxious about today's event, as demonstrated by the fact that this event is taking place on a Monday, whereas Apple generally does not hold major events on Mondays.&nbsp; Apple is trying to get ahead of a potential European Commission decision on Apple being forced to pay $14B in taxes.&nbsp;&nbsp; There is aggressive buying in stocks this morning due to two reasons: A short squeeze is occurring. The technical pattern with the stock market, especially AI stocks traced on Friday afternoon, historically leads to a selloff on Monday.&nbsp;&nbsp;When stock futures did not open much lower on Sunday night, a short squeeze started.&nbsp; As the night went on, the short squeeze accelerated. The reason stock futures did not open much lower is because Japanese yen weakened.&nbsp; The weakening yen has saved AI stocks from a blood bath this morning.&nbsp;&nbsp; The fact that a short squeeze and weakening yen saved the stock market means that prudent investors should not become complacent.&nbsp; Pay attention to the protection band.&nbsp; See the Protection Band And What To Do Now section below.&nbsp;&nbsp;&nbsp;&nbsp; Magnificent Seven Money Flows In the early trade, money flows are positive in Amazon.com, Inc. (NASDAQ:AMZN), NVDA, MSFT, GOOG, Meta Platforms Inc (NASDAQ:META), and Tesla Inc (NASDAQ:TSLA). In the early trade, money flows are negative in AAPL. In the early trade, money flows are positive in SPDR S&amp;P 500 ETF Trust (NYSE:SPY) and Invesco QQQ Trust Series 1 (NASDAQ:QQQ). Momo Crowd And Smart Money In Stocks Investors can gain an edge by knowing money flows in SPY and QQQ. Investors can get a bigger edge by knowing when smart money is buying stocks, gold, and oil. The most popular ETF for gold is SPDR Gold Trust (NYSE:GLD). The most popular ETF for silver is iShares Silver Trust (NYSE:SLV). The most popular ETF for oil is United States Oil ETF (NYSE:USO). Bitcoin Bitcoin (CRYPTO: BTC) is range bound.&nbsp; Bitcoin ETFs have seen a negative money flow of $1.2B in the last eight days.&nbsp; This is the longest streak of negative money flows in bitcoins ETFs.&nbsp;&nbsp;&nbsp; Protection Band And What To Do Now It is important for investors to look ahead and not in the rearview mirror. Consider continuing to hold good, very long term, existing positions. Based on individual risk preference, consider a protection band consisting of cash or Treasury bills or short-term tactical trades as well as short to medium term hedges and short term hedges. This is a good way to protect yourself and participate in the upside at the same time. You can determine your protection bands by adding cash to hedges.&nbsp; The high band of the protection is appropriate for those who are older or conservative. The low band of the protection is appropriate for those who are younger or aggressive.&nbsp; If you do not hedge, the total cash level should be more than stated above but significantly less than cash plus hedges. A protection band of 0% would be very bullish and would indicate full investment with 0% in cash.&nbsp; A protection band of 100% would be very bearish and would indicate a need for aggressive protection with cash and hedges or aggressive short selling. It is worth reminding that you cannot take advantage of new upcoming opportunities if you are not holding enough cash.&nbsp; When adjusting hedge levels, consider adjusting partial stop quantities for stock positions (non ETF); consider using wider stops on remaining quantities and also allowing more room for high beta stocks.&nbsp; High beta stocks are the ones that move more than the market. Traditional 60/40 Portfolio Probability based risk reward adjusted for inflation does not favor long duration strategic bond allocation at this time. Those who want to stick to traditional 60% allocation to stocks and 40% to bonds may consider focusing on only high quality bonds and bonds of five year duration or less.&nbsp; Those willing to bring sophistication to their investing may consider using bond ETFs as tactical positions and not strategic positions at this time. The Arora Report is known for its accurate calls. The Arora Report correctly called the big artificial intelligence rally before anyone else, the new bull market of 2023, the bear market of 2022, new stock market highs right after the virus low in 2020, the virus drop in 2020, the DJIA rally to 30,000 when it was trading at 16,000, the start of a mega bull market in 2009, and the financial crash of 2008. Please click here to sign up for a free forever Generate Wealth Newsletter.\",\n",
       "   \"Alphabet, Inc. (NASDAQ:GOOGL) (NASDAQ:GOOG) last week flagged higher capex spending as it battles to gain supremacy in the artificial intelligence arena, and nervy investors sold off the stock on worries concerning a potential margin contraction. A tech venture capitalist said on Monday that Apple Inc. (NASDAQ:AAPL) could be fairly insulated because of the strategy it has chosen. What Happened: Alphabet, Amazon, Inc. (NASDAQ:AMZN), Microsoft Corp. (NASDAQ:MSFT) and Meta Platforms, Inc. (NASDAQ:META) are on track to increase capex by about 43% this year, said Deepwater Asset Management&#8217;s Gene Munster in a post on X, formerly Twitter. Apple is a standout among the mega-cap techs, he suggested. &#8220;In what seems like it's operating in an alternate universe, $AAPL's CapEx is expected to be down 9% this year as the company monetizes its distribution in exchange for OpenAI's models and infrastructure,&#8221; he said. &#8220;This is one of the reasons why Apple should see record margins sometime in the middle of next year.&#8221; In the March quarter, the company reported gross margin of 46.6%. Talk about bang for your buck: $GOOG $AMZN $MSFT $META will on average increase CapEx this year by 43%. In what seems like it's operating in an alternate universe, $AAPL's CapEx is expected to be down 9% this year as the company monetizes its distribution in exchange for&mdash; Gene Munster (@munster_gene) July 29, 2024 See Also: Best Artificial Intelligence Stocks Why It&#8217;s Important: Apple lagged behind its mega-cap tech peers in embracing AI. On Monday, Cupertino released a new software called Apple Intelligence in the developer beta of iOS 18.1 and the suite of AI features made available will help improve Siri, automatically generate emails and images and sort notifications. The software is expected to be released to the public later this year but it may not be part of the iPhone 16 that will be launched this fall and will be powered by the iOS 18. As Munster said, Apple announced in mid-June that it has forged a partnership with Sam Altman-led OpenAI to integrate ChatGPT into the iPhone, iPad and Mac. The arrangement reportedly does not require Apple to pay for the OpenAI association, with the latter making money through distribution. Apple ended Monday&#8217;s session up 0.13% at $218.24, according to Benzinga Pro data. Read Next: Apple Rolls Out iOS 18.1 Developer Beta With Apple Intelligence, Ahead Of Q3 Earnings Image via Apple\",\n",
       "   'American Airlines Group Inc.(NASDAQ:AAL) shares are trading nearly flat today. The company reportedly implemented a ground stop for all flights early today because of a communication problem. However, American Airlines stated earlier that the outage did not affect its operations, reported Reuters. Related: Microsoft Outage Wreaks Havoc On World As 911, International Airlines, Banks And Airport Services Disrupted (UPDATED) The outage began at approximately 6 p.m. ET on Thursday, affecting a subset of its customers with issues in multiple Azure services in the Central U.S. region. Azure is a cloud computing platform that offers services for building, deploying, and managing applications and services. Other low-cost carriers, including Frontier Group Holdings Inc. (NASDAQ:ULCC), Allegiant Travel Company (NASDAQ:ALGT), and&nbsp;Sun Country Airlines Holdings, Inc. (NASDAQ:SNCY), experienced outages that affected their day-to-day operations. Investors can&nbsp;gain access to&nbsp;the stock via&nbsp;U.S.&nbsp;Global Jets ETF (NYSE:JETS) and&nbsp;First Trust Nasdaq Transportation ETF (NASDAQ:FTXR). Also Read: CrowdStrike Shares Trim Heavy Losses As Microsoft Announces Resolution Of Global Tech Outage: &#8216;This Is Clearly A Major Black Eye&#8217; Price Action: AAL shares are up 0.09% at $10.61 premarket at the last check Friday. Disclaimer: This content was partially produced with the help of AI tools and was reviewed and published by Benzinga editors. Photo via Shutterstock',\n",
       "   \"Shares of Apple, Inc. (NASDAQ:AAPL) fell modestly in premarket trading on Friday, and this assumes importance because all of its Magnificent 7 peers are staring down the barrel. On Thursday, after the market closed, Apple announced that its fiscal year 2024 third-quarter revenue and earnings per share both surpassed expectations and showed growth compared to the previous year. The stock did not respond positively in the after-hours session, as skeptics highlighted concerns about weakness in China. On the earnings call, Team Tim Cook guided September quarter revenue above the Street estimate and also talked up the company&#8217;s AI prospects. Reacting to the results, Wedbush analyst Daniel Ives upped his price target for the stock from $275 to $28 and maintained an Outperform rating. The analyst said it was a &#8220;Gold-medal performance,&#8221; adding that the conference call was upbeat. He sees the stronger September guidance as just the &#8220;opening act for the main event which is an AI-driven super cycle starting with iPhone 16 launching in mid-September.&#8221; Tech venture capitalist and Deepwater Asset Management Managing Partner Gene Munster said, &#8220;Apple's flywheel is flying,&#8221; said Munster, referring to the active installed base that hit a new record. &#8220;Big picture is it's all about FY25 and FY26 iPhone, Mac and iPad powered by Apple Intelligence.&#8221; See Also: Everything You Need to Know About Apple Stock In premarket trading, Apple stock edged down 0.09% to $218.17, according to Benzinga Pro data. Among peers: Nvidia Corp. (NASDAQ:NVDA) fell 4.40% to $104.40. Alphabet Inc. (NASDAQ:GOOGL) (NASDAQ:GOOG) fell 1.94% to $167.45. Microsoft Corporation (NASDAQ:MSFT) slipped 1.88% to $409.25. Amazon.com, Inc. (NASDAQ:AMZN) tumbled 8.36% to $168.68. Meta Platforms, Inc. (NASDAQ:META) slipped a more modest 0.72% to $494.12. Tesla, Inc. (NASDAQ:TSLA) fell 0.82% to $215.09. Read Next: Chip Stocks Staring At Another Bloodbath As Intel Tumbles, Nvidia Dips 4%, ASML Crumbles Over 6%: What&#8217;s Ailing The Sector Friday Photo: Peppinuzzo/Shutterstock\",\n",
       "   'Apple Inc. (NASDAQ:AAPL) is losing its mojo in China&#8217;s crucial market as its domestic players gain ground. The uncertainty regarding the availability of the Apple Intelligence feature in the country is an additional downer. The iPhone maker&#8217;s market share in China plunged to sixth place from third in the second quarter of 2024. According to Canalys, Apple had a market share of 14%, down by two basis points year-on-year. Also Read: China&#8217;s Markets Still Manage To Get Nvidia AI Chips Via Smuggling: Report China&#8217;s smartphone shipment grew 10% year-on-year to over 70 million units in the second quarter. Vivo emerged as the number one with a 19% market share by shipping 13.1 million units, up by 15% year-on-year, driven by solid performance in offline channels and robust online sales during the Chinese e-commerce festival. OPPO remained in second position with a 16% market share after shipping 11.3 million units. HONOR came third with a market share of 15%, backed by shipments of 10.7 million units, implying a 4% growth year-on-year. Huawei Technologies Co bagged the fourth position with a 15% market share supported by shipments of 10.6 million units, which grew by 41% year-on-year. Xiaomi Corp (OTC:XIACF) (OTC:XIACY) came fifth with a market share of 14%, backed by a 17% year-on-year shipment increase to 10 million units. Canalys attributed the local brands&#8217; success to the early significant discounts and promotions backed by offline channel enhancements. The local brands continue to tap the Chinese premium smartphone market by integrating generative artificial intelligence, and their deep collaboration with regional supply chains is a significant advantage, Canalys noted. Canalys also flagged Apple&#8217;s struggle to maintain adequate inventory levels, keep retail prices in check, and maintain the margins of channel partners. Huawei&#8217;s $2,800 Mate XT trifold phone launching on September 20 coincides with the release of the iPhone 16 models. Apple&#8217;s iPhone 16 Pro Max&nbsp;starts at $1,199, while the standard iPhone 16 is $799. International Data Corporation (IDC)&nbsp;expects global smartphone shipments to increase by 5.8% to 1.23 billion units in 2024, marking a recovery with generative AI posing as a significant catalyst. However, due to higher competition in China, Android growth is expected to beat Apple iOS. As per IDC, Apple&#8217;s success hinges on its capability to forge&nbsp;local AI partnerships&nbsp;in China. Ivan Lam, senior analyst at Counterpoint Research told SCMP that iPhone market share in the premium segment will likely decline as Huawei and other Chinese brands gain traction. Apple has not yet revealed its plans for AI integration in China, which could place it at a disadvantage in the race to implement AI, SCMP cites Canalys analyst Lucas Zhong. However, Lam noted that pent-up demand for iPhone upgrades may still boost sales in China. Price Action: AAPL stock closed at $222.66 on Wednesday. image via Shutterstock']],\n",
       " 'uris': None,\n",
       " 'data': None,\n",
       " 'included': ['metadatas', 'documents', 'distances']}"
      ]
     },
     "execution_count": 4,
     "metadata": {},
     "output_type": "execute_result"
    }
   ],
   "source": [
    "results"
   ]
  },
  {
   "cell_type": "code",
   "execution_count": 5,
   "metadata": {},
   "outputs": [
    {
     "data": {
      "text/plain": [
       "([[\"To gain an edge, this is what you need to know today. Hope Pinned On Apple Intelligence Please click here for an enlarged chart of Apple Inc (NASDAQ:AAPL). Note the following: This article is about the big picture, not an individual stock.&nbsp; The chart of AAPL stock is being used to illustrate the point. The chart shows when the iPhone 15 was launched. The chart shows the move from iPhone 15 launch to today's iPhone 16 launch. Investors are hopeful that the move in AAPL stock from the iPhone 16 launch to the iPhone 17 will be much bigger compared to the stock move between the launch of iPhone 15 and iPhone 16. The chart shows that even though investors have stars in their eyes, for the short term, AAPL stock has traced a negative pattern. The chart shows that AAPL stock hit the top of the resistance zone in July. The chart shows that AAPL stock failed to penetrate the resistance zone. The chart shows that after AAPL stock failed to penetrate the resistance zone, it fell all the way to the bottom band of the support zone. The chart shows that AAPL stock rallied after falling to the bottom of the support zone. The chart shows that the rally stopped at the low band of the resistance zone. Investors are mostly focused on hopes that Apple Intelligence, the name for Apple's artificial intelligence, will start a new super cycle of iPhone sales, and thus lift Apple sales from being sluggish for a long time. Even though there is a lot of exuberance about Apple Intelligence, prudent investors need to remember that the momo crowd focuses only on the bullish factors and ignores the negative factors.&nbsp; In contrast, smart money takes into account both positive and negative factors. There are several negative factors about Apple that the stock market is ignoring right now that prudent investors should be aware of: Apple intelligence will likely not be available in the European Union and China. Even in the U.S., most Apple Intelligence features will not be available right away. The launch of all Apple Intelligence features is staggered over a long period of time. The fact that Apple Intelligence that will initially be present in the iPhone is only half baked may delay the super cycle. The marketing hype about Apple Intelligence is way more than reality. Apple does not own its AI.&nbsp; Apple is licensing its AI from OpenAI. The model behind the AI that Apple is offering is not running on the iPhone or on Apple servers.&nbsp; The model appears to be running on &nbsp;NVIDIA Corp (NASDAQ:NVDA) based servers owned by Microsoft Corp (NASDAQ:MSFT). Apple has been receiving $20B per year from Alphabet Inc Class C (NASDAQ:GOOG) to make Google the default search.&nbsp; A judge has ruled that Google is a monopolist.&nbsp; In due course, the government may force Google to stop paying $20B to Apple. In China, Apple is losing market share to Huawei. Many Chinese believe that Huawei phones are superior to the iPhone. Huawei is trying to crash Apple's iPhone part by introducing the world's first tri-fold phone. Due to geopolitics between the U.S. and China, nationalist sentiment in China is rising against the U.S.&nbsp; This poses a significant risk to Apple since about 20% of Apple sales come from China. We understand that investors are very loyal to Apple.&nbsp; Before sending us hate email for doing a comprehensive analysis, note that Apple is the largest position in The Arora Report&#8217;s ZYX Buy Model Portfolio.&nbsp; Long time members of The Arora Report are long AAPL stock from $4.68. Note that Warren Buffett has been selling AAPL stock. Prudent investors should also be aware that Apple can easily manipulate its stock.&nbsp; After the last Apple event when Apple had carefully staged to run up its stock, Apple stock started falling.&nbsp; Apple aggressively bought its own stock to cause a technical breakout.&nbsp;&nbsp; Apple is clearly anxious about today's event, as demonstrated by the fact that this event is taking place on a Monday, whereas Apple generally does not hold major events on Mondays.&nbsp; Apple is trying to get ahead of a potential European Commission decision on Apple being forced to pay $14B in taxes.&nbsp;&nbsp; There is aggressive buying in stocks this morning due to two reasons: A short squeeze is occurring. The technical pattern with the stock market, especially AI stocks traced on Friday afternoon, historically leads to a selloff on Monday.&nbsp;&nbsp;When stock futures did not open much lower on Sunday night, a short squeeze started.&nbsp; As the night went on, the short squeeze accelerated. The reason stock futures did not open much lower is because Japanese yen weakened.&nbsp; The weakening yen has saved AI stocks from a blood bath this morning.&nbsp;&nbsp; The fact that a short squeeze and weakening yen saved the stock market means that prudent investors should not become complacent.&nbsp; Pay attention to the protection band.&nbsp; See the Protection Band And What To Do Now section below.&nbsp;&nbsp;&nbsp;&nbsp; Magnificent Seven Money Flows In the early trade, money flows are positive in Amazon.com, Inc. (NASDAQ:AMZN), NVDA, MSFT, GOOG, Meta Platforms Inc (NASDAQ:META), and Tesla Inc (NASDAQ:TSLA). In the early trade, money flows are negative in AAPL. In the early trade, money flows are positive in SPDR S&amp;P 500 ETF Trust (NYSE:SPY) and Invesco QQQ Trust Series 1 (NASDAQ:QQQ). Momo Crowd And Smart Money In Stocks Investors can gain an edge by knowing money flows in SPY and QQQ. Investors can get a bigger edge by knowing when smart money is buying stocks, gold, and oil. The most popular ETF for gold is SPDR Gold Trust (NYSE:GLD). The most popular ETF for silver is iShares Silver Trust (NYSE:SLV). The most popular ETF for oil is United States Oil ETF (NYSE:USO). Bitcoin Bitcoin (CRYPTO: BTC) is range bound.&nbsp; Bitcoin ETFs have seen a negative money flow of $1.2B in the last eight days.&nbsp; This is the longest streak of negative money flows in bitcoins ETFs.&nbsp;&nbsp;&nbsp; Protection Band And What To Do Now It is important for investors to look ahead and not in the rearview mirror. Consider continuing to hold good, very long term, existing positions. Based on individual risk preference, consider a protection band consisting of cash or Treasury bills or short-term tactical trades as well as short to medium term hedges and short term hedges. This is a good way to protect yourself and participate in the upside at the same time. You can determine your protection bands by adding cash to hedges.&nbsp; The high band of the protection is appropriate for those who are older or conservative. The low band of the protection is appropriate for those who are younger or aggressive.&nbsp; If you do not hedge, the total cash level should be more than stated above but significantly less than cash plus hedges. A protection band of 0% would be very bullish and would indicate full investment with 0% in cash.&nbsp; A protection band of 100% would be very bearish and would indicate a need for aggressive protection with cash and hedges or aggressive short selling. It is worth reminding that you cannot take advantage of new upcoming opportunities if you are not holding enough cash.&nbsp; When adjusting hedge levels, consider adjusting partial stop quantities for stock positions (non ETF); consider using wider stops on remaining quantities and also allowing more room for high beta stocks.&nbsp; High beta stocks are the ones that move more than the market. Traditional 60/40 Portfolio Probability based risk reward adjusted for inflation does not favor long duration strategic bond allocation at this time. Those who want to stick to traditional 60% allocation to stocks and 40% to bonds may consider focusing on only high quality bonds and bonds of five year duration or less.&nbsp; Those willing to bring sophistication to their investing may consider using bond ETFs as tactical positions and not strategic positions at this time. The Arora Report is known for its accurate calls. The Arora Report correctly called the big artificial intelligence rally before anyone else, the new bull market of 2023, the bear market of 2022, new stock market highs right after the virus low in 2020, the virus drop in 2020, the DJIA rally to 30,000 when it was trading at 16,000, the start of a mega bull market in 2009, and the financial crash of 2008. Please click here to sign up for a free forever Generate Wealth Newsletter.\",\n",
       "   \"Alphabet, Inc. (NASDAQ:GOOGL) (NASDAQ:GOOG) last week flagged higher capex spending as it battles to gain supremacy in the artificial intelligence arena, and nervy investors sold off the stock on worries concerning a potential margin contraction. A tech venture capitalist said on Monday that Apple Inc. (NASDAQ:AAPL) could be fairly insulated because of the strategy it has chosen. What Happened: Alphabet, Amazon, Inc. (NASDAQ:AMZN), Microsoft Corp. (NASDAQ:MSFT) and Meta Platforms, Inc. (NASDAQ:META) are on track to increase capex by about 43% this year, said Deepwater Asset Management&#8217;s Gene Munster in a post on X, formerly Twitter. Apple is a standout among the mega-cap techs, he suggested. &#8220;In what seems like it's operating in an alternate universe, $AAPL's CapEx is expected to be down 9% this year as the company monetizes its distribution in exchange for OpenAI's models and infrastructure,&#8221; he said. &#8220;This is one of the reasons why Apple should see record margins sometime in the middle of next year.&#8221; In the March quarter, the company reported gross margin of 46.6%. Talk about bang for your buck: $GOOG $AMZN $MSFT $META will on average increase CapEx this year by 43%. In what seems like it's operating in an alternate universe, $AAPL's CapEx is expected to be down 9% this year as the company monetizes its distribution in exchange for&mdash; Gene Munster (@munster_gene) July 29, 2024 See Also: Best Artificial Intelligence Stocks Why It&#8217;s Important: Apple lagged behind its mega-cap tech peers in embracing AI. On Monday, Cupertino released a new software called Apple Intelligence in the developer beta of iOS 18.1 and the suite of AI features made available will help improve Siri, automatically generate emails and images and sort notifications. The software is expected to be released to the public later this year but it may not be part of the iPhone 16 that will be launched this fall and will be powered by the iOS 18. As Munster said, Apple announced in mid-June that it has forged a partnership with Sam Altman-led OpenAI to integrate ChatGPT into the iPhone, iPad and Mac. The arrangement reportedly does not require Apple to pay for the OpenAI association, with the latter making money through distribution. Apple ended Monday&#8217;s session up 0.13% at $218.24, according to Benzinga Pro data. Read Next: Apple Rolls Out iOS 18.1 Developer Beta With Apple Intelligence, Ahead Of Q3 Earnings Image via Apple\",\n",
       "   'American Airlines Group Inc.(NASDAQ:AAL) shares are trading nearly flat today. The company reportedly implemented a ground stop for all flights early today because of a communication problem. However, American Airlines stated earlier that the outage did not affect its operations, reported Reuters. Related: Microsoft Outage Wreaks Havoc On World As 911, International Airlines, Banks And Airport Services Disrupted (UPDATED) The outage began at approximately 6 p.m. ET on Thursday, affecting a subset of its customers with issues in multiple Azure services in the Central U.S. region. Azure is a cloud computing platform that offers services for building, deploying, and managing applications and services. Other low-cost carriers, including Frontier Group Holdings Inc. (NASDAQ:ULCC), Allegiant Travel Company (NASDAQ:ALGT), and&nbsp;Sun Country Airlines Holdings, Inc. (NASDAQ:SNCY), experienced outages that affected their day-to-day operations. Investors can&nbsp;gain access to&nbsp;the stock via&nbsp;U.S.&nbsp;Global Jets ETF (NYSE:JETS) and&nbsp;First Trust Nasdaq Transportation ETF (NASDAQ:FTXR). Also Read: CrowdStrike Shares Trim Heavy Losses As Microsoft Announces Resolution Of Global Tech Outage: &#8216;This Is Clearly A Major Black Eye&#8217; Price Action: AAL shares are up 0.09% at $10.61 premarket at the last check Friday. Disclaimer: This content was partially produced with the help of AI tools and was reviewed and published by Benzinga editors. Photo via Shutterstock',\n",
       "   \"Shares of Apple, Inc. (NASDAQ:AAPL) fell modestly in premarket trading on Friday, and this assumes importance because all of its Magnificent 7 peers are staring down the barrel. On Thursday, after the market closed, Apple announced that its fiscal year 2024 third-quarter revenue and earnings per share both surpassed expectations and showed growth compared to the previous year. The stock did not respond positively in the after-hours session, as skeptics highlighted concerns about weakness in China. On the earnings call, Team Tim Cook guided September quarter revenue above the Street estimate and also talked up the company&#8217;s AI prospects. Reacting to the results, Wedbush analyst Daniel Ives upped his price target for the stock from $275 to $28 and maintained an Outperform rating. The analyst said it was a &#8220;Gold-medal performance,&#8221; adding that the conference call was upbeat. He sees the stronger September guidance as just the &#8220;opening act for the main event which is an AI-driven super cycle starting with iPhone 16 launching in mid-September.&#8221; Tech venture capitalist and Deepwater Asset Management Managing Partner Gene Munster said, &#8220;Apple's flywheel is flying,&#8221; said Munster, referring to the active installed base that hit a new record. &#8220;Big picture is it's all about FY25 and FY26 iPhone, Mac and iPad powered by Apple Intelligence.&#8221; See Also: Everything You Need to Know About Apple Stock In premarket trading, Apple stock edged down 0.09% to $218.17, according to Benzinga Pro data. Among peers: Nvidia Corp. (NASDAQ:NVDA) fell 4.40% to $104.40. Alphabet Inc. (NASDAQ:GOOGL) (NASDAQ:GOOG) fell 1.94% to $167.45. Microsoft Corporation (NASDAQ:MSFT) slipped 1.88% to $409.25. Amazon.com, Inc. (NASDAQ:AMZN) tumbled 8.36% to $168.68. Meta Platforms, Inc. (NASDAQ:META) slipped a more modest 0.72% to $494.12. Tesla, Inc. (NASDAQ:TSLA) fell 0.82% to $215.09. Read Next: Chip Stocks Staring At Another Bloodbath As Intel Tumbles, Nvidia Dips 4%, ASML Crumbles Over 6%: What&#8217;s Ailing The Sector Friday Photo: Peppinuzzo/Shutterstock\",\n",
       "   'Apple Inc. (NASDAQ:AAPL) is losing its mojo in China&#8217;s crucial market as its domestic players gain ground. The uncertainty regarding the availability of the Apple Intelligence feature in the country is an additional downer. The iPhone maker&#8217;s market share in China plunged to sixth place from third in the second quarter of 2024. According to Canalys, Apple had a market share of 14%, down by two basis points year-on-year. Also Read: China&#8217;s Markets Still Manage To Get Nvidia AI Chips Via Smuggling: Report China&#8217;s smartphone shipment grew 10% year-on-year to over 70 million units in the second quarter. Vivo emerged as the number one with a 19% market share by shipping 13.1 million units, up by 15% year-on-year, driven by solid performance in offline channels and robust online sales during the Chinese e-commerce festival. OPPO remained in second position with a 16% market share after shipping 11.3 million units. HONOR came third with a market share of 15%, backed by shipments of 10.7 million units, implying a 4% growth year-on-year. Huawei Technologies Co bagged the fourth position with a 15% market share supported by shipments of 10.6 million units, which grew by 41% year-on-year. Xiaomi Corp (OTC:XIACF) (OTC:XIACY) came fifth with a market share of 14%, backed by a 17% year-on-year shipment increase to 10 million units. Canalys attributed the local brands&#8217; success to the early significant discounts and promotions backed by offline channel enhancements. The local brands continue to tap the Chinese premium smartphone market by integrating generative artificial intelligence, and their deep collaboration with regional supply chains is a significant advantage, Canalys noted. Canalys also flagged Apple&#8217;s struggle to maintain adequate inventory levels, keep retail prices in check, and maintain the margins of channel partners. Huawei&#8217;s $2,800 Mate XT trifold phone launching on September 20 coincides with the release of the iPhone 16 models. Apple&#8217;s iPhone 16 Pro Max&nbsp;starts at $1,199, while the standard iPhone 16 is $799. International Data Corporation (IDC)&nbsp;expects global smartphone shipments to increase by 5.8% to 1.23 billion units in 2024, marking a recovery with generative AI posing as a significant catalyst. However, due to higher competition in China, Android growth is expected to beat Apple iOS. As per IDC, Apple&#8217;s success hinges on its capability to forge&nbsp;local AI partnerships&nbsp;in China. Ivan Lam, senior analyst at Counterpoint Research told SCMP that iPhone market share in the premium segment will likely decline as Huawei and other Chinese brands gain traction. Apple has not yet revealed its plans for AI integration in China, which could place it at a disadvantage in the race to implement AI, SCMP cites Canalys analyst Lucas Zhong. However, Lam noted that pent-up demand for iPhone upgrades may still boost sales in China. Price Action: AAPL stock closed at $222.66 on Wednesday. image via Shutterstock']],\n",
       " 5)"
      ]
     },
     "execution_count": 5,
     "metadata": {},
     "output_type": "execute_result"
    }
   ],
   "source": [
    "results['documents'], len(results['documents'][0])"
   ]
  },
  {
   "cell_type": "code",
   "execution_count": 2,
   "metadata": {},
   "outputs": [],
   "source": [
    "s = \"\"\"{\"key\":[[\"To gain an edge, this is what you need to know today. Hope Pinned On Apple Intelligence Please click here for an enlarged chart of Apple Inc (NASDAQ:AAPL). Note the following: This article is about the big picture, not an individual stock.&nbsp; The chart of AAPL stock is being used to illustrate the point. The chart shows when the iPhone 15 was launched. The chart shows the move from iPhone 15 launch to today's iPhone 16 launch. Investors are hopeful that the move in AAPL stock from the iPhone 16 launch to the iPhone 17 will be much bigger compared to the stock move between the launch of iPhone 15 and iPhone 16. The chart shows that even though investors have stars in their eyes, for the short term, AAPL stock has traced a negative pattern. The chart shows that AAPL stock hit the top of the resistance zone in July. The chart shows that AAPL stock failed to penetrate the resistance zone. The chart shows that after AAPL stock failed to penetrate the resistance zone, it fell all the way to the bottom band of the support zone. The chart shows that AAPL stock rallied after falling to the bottom of the support zone. The chart shows that the rally stopped at the low band of the resistance zone. Investors are mostly focused on hopes that Apple Intelligence, the name for Apple's artificial intelligence, will start a new super cycle of iPhone sales, and thus lift Apple sales from being sluggish for a long time. Even though there is a lot of exuberance about Apple Intelligence, prudent investors need to remember that the momo crowd focuses only on the bullish factors and ignores the negative factors.&nbsp; In contrast, smart money takes into account both positive and negative factors. There are several negative factors about Apple that the stock market is ignoring right now that prudent investors should be aware of: Apple intelligence will likely not be available in the European Union and China. Even in the U.S., most Apple Intelligence features will not be available right away. The launch of all Apple Intelligence features is staggered over a long period of time. The fact that Apple Intelligence that will initially be present in the iPhone is only half baked may delay the super cycle. The marketing hype about Apple Intelligence is way more than reality. Apple does not own its AI.&nbsp; Apple is licensing its AI from OpenAI. The model behind the AI that Apple is offering is not running on the iPhone or on Apple servers.&nbsp; The model appears to be running on &nbsp;NVIDIA Corp (NASDAQ:NVDA) based servers owned by Microsoft Corp (NASDAQ:MSFT). Apple has been receiving $20B per year from Alphabet Inc Class C (NASDAQ:GOOG) to make Google the default search.&nbsp; A judge has ruled that Google is a monopolist.&nbsp; In due course, the government may force Google to stop paying $20B to Apple. In China, Apple is losing market share to Huawei. Many Chinese believe that Huawei phones are superior to the iPhone. Huawei is trying to crash Apple's iPhone part by introducing the world's first tri-fold phone. Due to geopolitics between the U.S. and China, nationalist sentiment in China is rising against the U.S.&nbsp; This poses a significant risk to Apple since about 20% of Apple sales come from China. We understand that investors are very loyal to Apple.&nbsp; Before sending us hate email for doing a comprehensive analysis, note that Apple is the largest position in The Arora Report&#8217;s ZYX Buy Model Portfolio.&nbsp; Long time members of The Arora Report are long AAPL stock from $4.68. Note that Warren Buffett has been selling AAPL stock. Prudent investors should also be aware that Apple can easily manipulate its stock.&nbsp; After the last Apple event when Apple had carefully staged to run up its stock, Apple stock started falling.&nbsp; Apple aggressively bought its own stock to cause a technical breakout.&nbsp;&nbsp; Apple is clearly anxious about today's event, as demonstrated by the fact that this event is taking place on a Monday, whereas Apple generally does not hold major events on Mondays.&nbsp; Apple is trying to get ahead of a potential European Commission decision on Apple being forced to pay $14B in taxes.&nbsp;&nbsp; There is aggressive buying in stocks this morning due to two reasons: A short squeeze is occurring. The technical pattern with the stock market, especially AI stocks traced on Friday afternoon, historically leads to a selloff on Monday.&nbsp;&nbsp;When stock futures did not open much lower on Sunday night, a short squeeze started.&nbsp; As the night went on, the short squeeze accelerated. The reason stock futures did not open much lower is because Japanese yen weakened.&nbsp; The weakening yen has saved AI stocks from a blood bath this morning.&nbsp;&nbsp; The fact that a short squeeze and weakening yen saved the stock market means that prudent investors should not become complacent.&nbsp; Pay attention to the protection band.&nbsp; See the Protection Band And What To Do Now section below.&nbsp;&nbsp;&nbsp;&nbsp; Magnificent Seven Money Flows In the early trade, money flows are positive in Amazon.com, Inc. (NASDAQ:AMZN), NVDA, MSFT, GOOG, Meta Platforms Inc (NASDAQ:META), and Tesla Inc (NASDAQ:TSLA). In the early trade, money flows are negative in AAPL. In the early trade, money flows are positive in SPDR S&amp;P 500 ETF Trust (NYSE:SPY) and Invesco QQQ Trust Series 1 (NASDAQ:QQQ). Momo Crowd And Smart Money In Stocks Investors can gain an edge by knowing money flows in SPY and QQQ. Investors can get a bigger edge by knowing when smart money is buying stocks, gold, and oil. The most popular ETF for gold is SPDR Gold Trust (NYSE:GLD). The most popular ETF for silver is iShares Silver Trust (NYSE:SLV). The most popular ETF for oil is United States Oil ETF (NYSE:USO). Bitcoin Bitcoin (CRYPTO: BTC) is range bound.&nbsp; Bitcoin ETFs have seen a negative money flow of $1.2B in the last eight days.&nbsp; This is the longest streak of negative money flows in bitcoins ETFs.&nbsp;&nbsp;&nbsp; Protection Band And What To Do Now It is important for investors to look ahead and not in the rearview mirror. Consider continuing to hold good, very long term, existing positions. Based on individual risk preference, consider a protection band consisting of cash or Treasury bills or short-term tactical trades as well as short to medium term hedges and short term hedges. This is a good way to protect yourself and participate in the upside at the same time. You can determine your protection bands by adding cash to hedges.&nbsp; The high band of the protection is appropriate for those who are older or conservative. The low band of the protection is appropriate for those who are younger or aggressive.&nbsp; If you do not hedge, the total cash level should be more than stated above but significantly less than cash plus hedges. A protection band of 0% would be very bullish and would indicate full investment with 0% in cash.&nbsp; A protection band of 100% would be very bearish and would indicate a need for aggressive protection with cash and hedges or aggressive short selling. It is worth reminding that you cannot take advantage of new upcoming opportunities if you are not holding enough cash.&nbsp; When adjusting hedge levels, consider adjusting partial stop quantities for stock positions (non ETF); consider using wider stops on remaining quantities and also allowing more room for high beta stocks.&nbsp; High beta stocks are the ones that move more than the market. Traditional 60/40 Portfolio Probability based risk reward adjusted for inflation does not favor long duration strategic bond allocation at this time. Those who want to stick to traditional 60% allocation to stocks and 40% to bonds may consider focusing on only high quality bonds and bonds of five year duration or less.&nbsp; Those willing to bring sophistication to their investing may consider using bond ETFs as tactical positions and not strategic positions at this time. The Arora Report is known for its accurate calls. The Arora Report correctly called the big artificial intelligence rally before anyone else, the new bull market of 2023, the bear market of 2022, new stock market highs right after the virus low in 2020, the virus drop in 2020, the DJIA rally to 30,000 when it was trading at 16,000, the start of a mega bull market in 2009, and the financial crash of 2008. Please click here to sign up for a free forever Generate Wealth Newsletter.\",\n",
    "   \"Alphabet, Inc. (NASDAQ:GOOGL) (NASDAQ:GOOG) last week flagged higher capex spending as it battles to gain supremacy in the artificial intelligence arena, and nervy investors sold off the stock on worries concerning a potential margin contraction. A tech venture capitalist said on Monday that Apple Inc. (NASDAQ:AAPL) could be fairly insulated because of the strategy it has chosen. What Happened: Alphabet, Amazon, Inc. (NASDAQ:AMZN), Microsoft Corp. (NASDAQ:MSFT) and Meta Platforms, Inc. (NASDAQ:META) are on track to increase capex by about 43% this year, said Deepwater Asset Management&#8217;s Gene Munster in a post on X, formerly Twitter. Apple is a standout among the mega-cap techs, he suggested. &#8220;In what seems like it's operating in an alternate universe, $AAPL's CapEx is expected to be down 9% this year as the company monetizes its distribution in exchange for OpenAI's models and infrastructure,&#8221; he said. &#8220;This is one of the reasons why Apple should see record margins sometime in the middle of next year.&#8221; In the March quarter, the company reported gross margin of 46.6%. Talk about bang for your buck: $GOOG $AMZN $MSFT $META will on average increase CapEx this year by 43%. In what seems like it's operating in an alternate universe, $AAPL's CapEx is expected to be down 9% this year as the company monetizes its distribution in exchange for&mdash; Gene Munster (@munster_gene) July 29, 2024 See Also: Best Artificial Intelligence Stocks Why It&#8217;s Important: Apple lagged behind its mega-cap tech peers in embracing AI. On Monday, Cupertino released a new software called Apple Intelligence in the developer beta of iOS 18.1 and the suite of AI features made available will help improve Siri, automatically generate emails and images and sort notifications. The software is expected to be released to the public later this year but it may not be part of the iPhone 16 that will be launched this fall and will be powered by the iOS 18. As Munster said, Apple announced in mid-June that it has forged a partnership with Sam Altman-led OpenAI to integrate ChatGPT into the iPhone, iPad and Mac. The arrangement reportedly does not require Apple to pay for the OpenAI association, with the latter making money through distribution. Apple ended Monday&#8217;s session up 0.13% at $218.24, according to Benzinga Pro data. Read Next: Apple Rolls Out iOS 18.1 Developer Beta With Apple Intelligence, Ahead Of Q3 Earnings Image via Apple\",\n",
    "   'American Airlines Group Inc.(NASDAQ:AAL) shares are trading nearly flat today. The company reportedly implemented a ground stop for all flights early today because of a communication problem. However, American Airlines stated earlier that the outage did not affect its operations, reported Reuters. Related: Microsoft Outage Wreaks Havoc On World As 911, International Airlines, Banks And Airport Services Disrupted (UPDATED) The outage began at approximately 6 p.m. ET on Thursday, affecting a subset of its customers with issues in multiple Azure services in the Central U.S. region. Azure is a cloud computing platform that offers services for building, deploying, and managing applications and services. Other low-cost carriers, including Frontier Group Holdings Inc. (NASDAQ:ULCC), Allegiant Travel Company (NASDAQ:ALGT), and&nbsp;Sun Country Airlines Holdings, Inc. (NASDAQ:SNCY), experienced outages that affected their day-to-day operations. Investors can&nbsp;gain access to&nbsp;the stock via&nbsp;U.S.&nbsp;Global Jets ETF (NYSE:JETS) and&nbsp;First Trust Nasdaq Transportation ETF (NASDAQ:FTXR). Also Read: CrowdStrike Shares Trim Heavy Losses As Microsoft Announces Resolution Of Global Tech Outage: &#8216;This Is Clearly A Major Black Eye&#8217; Price Action: AAL shares are up 0.09% at $10.61 premarket at the last check Friday. Disclaimer: This content was partially produced with the help of AI tools and was reviewed and published by Benzinga editors. Photo via Shutterstock',\n",
    "   \"Shares of Apple, Inc. (NASDAQ:AAPL) fell modestly in premarket trading on Friday, and this assumes importance because all of its Magnificent 7 peers are staring down the barrel. On Thursday, after the market closed, Apple announced that its fiscal year 2024 third-quarter revenue and earnings per share both surpassed expectations and showed growth compared to the previous year. The stock did not respond positively in the after-hours session, as skeptics highlighted concerns about weakness in China. On the earnings call, Team Tim Cook guided September quarter revenue above the Street estimate and also talked up the company&#8217;s AI prospects. Reacting to the results, Wedbush analyst Daniel Ives upped his price target for the stock from $275 to $28 and maintained an Outperform rating. The analyst said it was a &#8220;Gold-medal performance,&#8221; adding that the conference call was upbeat. He sees the stronger September guidance as just the &#8220;opening act for the main event which is an AI-driven super cycle starting with iPhone 16 launching in mid-September.&#8221; Tech venture capitalist and Deepwater Asset Management Managing Partner Gene Munster said, &#8220;Apple's flywheel is flying,&#8221; said Munster, referring to the active installed base that hit a new record. &#8220;Big picture is it's all about FY25 and FY26 iPhone, Mac and iPad powered by Apple Intelligence.&#8221; See Also: Everything You Need to Know About Apple Stock In premarket trading, Apple stock edged down 0.09% to $218.17, according to Benzinga Pro data. Among peers: Nvidia Corp. (NASDAQ:NVDA) fell 4.40% to $104.40. Alphabet Inc. (NASDAQ:GOOGL) (NASDAQ:GOOG) fell 1.94% to $167.45. Microsoft Corporation (NASDAQ:MSFT) slipped 1.88% to $409.25. Amazon.com, Inc. (NASDAQ:AMZN) tumbled 8.36% to $168.68. Meta Platforms, Inc. (NASDAQ:META) slipped a more modest 0.72% to $494.12. Tesla, Inc. (NASDAQ:TSLA) fell 0.82% to $215.09. Read Next: Chip Stocks Staring At Another Bloodbath As Intel Tumbles, Nvidia Dips 4%, ASML Crumbles Over 6%: What&#8217;s Ailing The Sector Friday Photo: Peppinuzzo/Shutterstock\",\n",
    "   'Apple Inc. (NASDAQ:AAPL) is losing its mojo in China&#8217;s crucial market as its domestic players gain ground. The uncertainty regarding the availability of the Apple Intelligence feature in the country is an additional downer. The iPhone maker&#8217;s market share in China plunged to sixth place from third in the second quarter of 2024. According to Canalys, Apple had a market share of 14%, down by two basis points year-on-year. Also Read: China&#8217;s Markets Still Manage To Get Nvidia AI Chips Via Smuggling: Report China&#8217;s smartphone shipment grew 10% year-on-year to over 70 million units in the second quarter. Vivo emerged as the number one with a 19% market share by shipping 13.1 million units, up by 15% year-on-year, driven by solid performance in offline channels and robust online sales during the Chinese e-commerce festival. OPPO remained in second position with a 16% market share after shipping 11.3 million units. HONOR came third with a market share of 15%, backed by shipments of 10.7 million units, implying a 4% growth year-on-year. Huawei Technologies Co bagged the fourth position with a 15% market share supported by shipments of 10.6 million units, which grew by 41% year-on-year. Xiaomi Corp (OTC:XIACF) (OTC:XIACY) came fifth with a market share of 14%, backed by a 17% year-on-year shipment increase to 10 million units. Canalys attributed the local brands&#8217; success to the early significant discounts and promotions backed by offline channel enhancements. The local brands continue to tap the Chinese premium smartphone market by integrating generative artificial intelligence, and their deep collaboration with regional supply chains is a significant advantage, Canalys noted. Canalys also flagged Apple&#8217;s struggle to maintain adequate inventory levels, keep retail prices in check, and maintain the margins of channel partners. Huawei&#8217;s $2,800 Mate XT trifold phone launching on September 20 coincides with the release of the iPhone 16 models. Apple&#8217;s iPhone 16 Pro Max&nbsp;starts at $1,199, while the standard iPhone 16 is $799. International Data Corporation (IDC)&nbsp;expects global smartphone shipments to increase by 5.8% to 1.23 billion units in 2024, marking a recovery with generative AI posing as a significant catalyst. However, due to higher competition in China, Android growth is expected to beat Apple iOS. As per IDC, Apple&#8217;s success hinges on its capability to forge&nbsp;local AI partnerships&nbsp;in China. Ivan Lam, senior analyst at Counterpoint Research told SCMP that iPhone market share in the premium segment will likely decline as Huawei and other Chinese brands gain traction. Apple has not yet revealed its plans for AI integration in China, which could place it at a disadvantage in the race to implement AI, SCMP cites Canalys analyst Lucas Zhong. However, Lam noted that pent-up demand for iPhone upgrades may still boost sales in China. Price Action: AAPL stock closed at $222.66 on Wednesday. image via Shutterstock']]}\"\"\"\n"
   ]
  },
  {
   "cell_type": "code",
   "execution_count": 8,
   "metadata": {},
   "outputs": [
    {
     "data": {
      "text/plain": [
       "{'val': [[\"To gain an edge, this is what you need to know today. Hope Pinned On Apple Intelligence Please click here for an enlarged chart of Apple Inc (NASDAQ:AAPL). Note the following: This article is about the big picture, not an individual stock.&nbsp; The chart of AAPL stock is being used to illustrate the point. The chart shows when the iPhone 15 was launched. The chart shows the move from iPhone 15 launch to today's iPhone 16 launch. Investors are hopeful that the move in AAPL stock from the iPhone 16 launch to the iPhone 17 will be much bigger compared to the stock move between the launch of iPhone 15 and iPhone 16. The chart shows that even though investors have stars in their eyes, for the short term, AAPL stock has traced a negative pattern. The chart shows that AAPL stock hit the top of the resistance zone in July. The chart shows that AAPL stock failed to penetrate the resistance zone. The chart shows that after AAPL stock failed to penetrate the resistance zone, it fell all the way to the bottom band of the support zone. The chart shows that AAPL stock rallied after falling to the bottom of the support zone. The chart shows that the rally stopped at the low band of the resistance zone. Investors are mostly focused on hopes that Apple Intelligence, the name for Apple's artificial intelligence, will start a new super cycle of iPhone sales, and thus lift Apple sales from being sluggish for a long time. Even though there is a lot of exuberance about Apple Intelligence, prudent investors need to remember that the momo crowd focuses only on the bullish factors and ignores the negative factors.&nbsp; In contrast, smart money takes into account both positive and negative factors. There are several negative factors about Apple that the stock market is ignoring right now that prudent investors should be aware of: Apple intelligence will likely not be available in the European Union and China. Even in the U.S., most Apple Intelligence features will not be available right away. The launch of all Apple Intelligence features is staggered over a long period of time. The fact that Apple Intelligence that will initially be present in the iPhone is only half baked may delay the super cycle. The marketing hype about Apple Intelligence is way more than reality. Apple does not own its AI.&nbsp; Apple is licensing its AI from OpenAI. The model behind the AI that Apple is offering is not running on the iPhone or on Apple servers.&nbsp; The model appears to be running on &nbsp;NVIDIA Corp (NASDAQ:NVDA) based servers owned by Microsoft Corp (NASDAQ:MSFT). Apple has been receiving $20B per year from Alphabet Inc Class C (NASDAQ:GOOG) to make Google the default search.&nbsp; A judge has ruled that Google is a monopolist.&nbsp; In due course, the government may force Google to stop paying $20B to Apple. In China, Apple is losing market share to Huawei. Many Chinese believe that Huawei phones are superior to the iPhone. Huawei is trying to crash Apple's iPhone part by introducing the world's first tri-fold phone. Due to geopolitics between the U.S. and China, nationalist sentiment in China is rising against the U.S.&nbsp; This poses a significant risk to Apple since about 20% of Apple sales come from China. We understand that investors are very loyal to Apple.&nbsp; Before sending us hate email for doing a comprehensive analysis, note that Apple is the largest position in The Arora Report&#8217;s ZYX Buy Model Portfolio.&nbsp; Long time members of The Arora Report are long AAPL stock from $4.68. Note that Warren Buffett has been selling AAPL stock. Prudent investors should also be aware that Apple can easily manipulate its stock.&nbsp; After the last Apple event when Apple had carefully staged to run up its stock, Apple stock started falling.&nbsp; Apple aggressively bought its own stock to cause a technical breakout.&nbsp;&nbsp; Apple is clearly anxious about today's event, as demonstrated by the fact that this event is taking place on a Monday, whereas Apple generally does not hold major events on Mondays.&nbsp; Apple is trying to get ahead of a potential European Commission decision on Apple being forced to pay $14B in taxes.&nbsp;&nbsp; There is aggressive buying in stocks this morning due to two reasons: A short squeeze is occurring. The technical pattern with the stock market, especially AI stocks traced on Friday afternoon, historically leads to a selloff on Monday.&nbsp;&nbsp;When stock futures did not open much lower on Sunday night, a short squeeze started.&nbsp; As the night went on, the short squeeze accelerated. The reason stock futures did not open much lower is because Japanese yen weakened.&nbsp; The weakening yen has saved AI stocks from a blood bath this morning.&nbsp;&nbsp; The fact that a short squeeze and weakening yen saved the stock market means that prudent investors should not become complacent.&nbsp; Pay attention to the protection band.&nbsp; See the Protection Band And What To Do Now section below.&nbsp;&nbsp;&nbsp;&nbsp; Magnificent Seven Money Flows In the early trade, money flows are positive in Amazon.com, Inc. (NASDAQ:AMZN), NVDA, MSFT, GOOG, Meta Platforms Inc (NASDAQ:META), and Tesla Inc (NASDAQ:TSLA). In the early trade, money flows are negative in AAPL. In the early trade, money flows are positive in SPDR S&amp;P 500 ETF Trust (NYSE:SPY) and Invesco QQQ Trust Series 1 (NASDAQ:QQQ). Momo Crowd And Smart Money In Stocks Investors can gain an edge by knowing money flows in SPY and QQQ. Investors can get a bigger edge by knowing when smart money is buying stocks, gold, and oil. The most popular ETF for gold is SPDR Gold Trust (NYSE:GLD). The most popular ETF for silver is iShares Silver Trust (NYSE:SLV). The most popular ETF for oil is United States Oil ETF (NYSE:USO). Bitcoin Bitcoin (CRYPTO: BTC) is range bound.&nbsp; Bitcoin ETFs have seen a negative money flow of $1.2B in the last eight days.&nbsp; This is the longest streak of negative money flows in bitcoins ETFs.&nbsp;&nbsp;&nbsp; Protection Band And What To Do Now It is important for investors to look ahead and not in the rearview mirror. Consider continuing to hold good, very long term, existing positions. Based on individual risk preference, consider a protection band consisting of cash or Treasury bills or short-term tactical trades as well as short to medium term hedges and short term hedges. This is a good way to protect yourself and participate in the upside at the same time. You can determine your protection bands by adding cash to hedges.&nbsp; The high band of the protection is appropriate for those who are older or conservative. The low band of the protection is appropriate for those who are younger or aggressive.&nbsp; If you do not hedge, the total cash level should be more than stated above but significantly less than cash plus hedges. A protection band of 0% would be very bullish and would indicate full investment with 0% in cash.&nbsp; A protection band of 100% would be very bearish and would indicate a need for aggressive protection with cash and hedges or aggressive short selling. It is worth reminding that you cannot take advantage of new upcoming opportunities if you are not holding enough cash.&nbsp; When adjusting hedge levels, consider adjusting partial stop quantities for stock positions (non ETF); consider using wider stops on remaining quantities and also allowing more room for high beta stocks.&nbsp; High beta stocks are the ones that move more than the market. Traditional 60/40 Portfolio Probability based risk reward adjusted for inflation does not favor long duration strategic bond allocation at this time. Those who want to stick to traditional 60% allocation to stocks and 40% to bonds may consider focusing on only high quality bonds and bonds of five year duration or less.&nbsp; Those willing to bring sophistication to their investing may consider using bond ETFs as tactical positions and not strategic positions at this time. The Arora Report is known for its accurate calls. The Arora Report correctly called the big artificial intelligence rally before anyone else, the new bull market of 2023, the bear market of 2022, new stock market highs right after the virus low in 2020, the virus drop in 2020, the DJIA rally to 30,000 when it was trading at 16,000, the start of a mega bull market in 2009, and the financial crash of 2008. Please click here to sign up for a free forever Generate Wealth Newsletter.\",\n",
       "   \"Alphabet, Inc. (NASDAQ:GOOGL) (NASDAQ:GOOG) last week flagged higher capex spending as it battles to gain supremacy in the artificial intelligence arena, and nervy investors sold off the stock on worries concerning a potential margin contraction. A tech venture capitalist said on Monday that Apple Inc. (NASDAQ:AAPL) could be fairly insulated because of the strategy it has chosen. What Happened: Alphabet, Amazon, Inc. (NASDAQ:AMZN), Microsoft Corp. (NASDAQ:MSFT) and Meta Platforms, Inc. (NASDAQ:META) are on track to increase capex by about 43% this year, said Deepwater Asset Management&#8217;s Gene Munster in a post on X, formerly Twitter. Apple is a standout among the mega-cap techs, he suggested. &#8220;In what seems like it's operating in an alternate universe, $AAPL's CapEx is expected to be down 9% this year as the company monetizes its distribution in exchange for OpenAI's models and infrastructure,&#8221; he said. &#8220;This is one of the reasons why Apple should see record margins sometime in the middle of next year.&#8221; In the March quarter, the company reported gross margin of 46.6%. Talk about bang for your buck: $GOOG $AMZN $MSFT $META will on average increase CapEx this year by 43%. In what seems like it's operating in an alternate universe, $AAPL's CapEx is expected to be down 9% this year as the company monetizes its distribution in exchange for&mdash; Gene Munster (@munster_gene) July 29, 2024 See Also: Best Artificial Intelligence Stocks Why It&#8217;s Important: Apple lagged behind its mega-cap tech peers in embracing AI. On Monday, Cupertino released a new software called Apple Intelligence in the developer beta of iOS 18.1 and the suite of AI features made available will help improve Siri, automatically generate emails and images and sort notifications. The software is expected to be released to the public later this year but it may not be part of the iPhone 16 that will be launched this fall and will be powered by the iOS 18. As Munster said, Apple announced in mid-June that it has forged a partnership with Sam Altman-led OpenAI to integrate ChatGPT into the iPhone, iPad and Mac. The arrangement reportedly does not require Apple to pay for the OpenAI association, with the latter making money through distribution. Apple ended Monday&#8217;s session up 0.13% at $218.24, according to Benzinga Pro data. Read Next: Apple Rolls Out iOS 18.1 Developer Beta With Apple Intelligence, Ahead Of Q3 Earnings Image via Apple\",\n",
       "   'American Airlines Group Inc.(NASDAQ:AAL) shares are trading nearly flat today. The company reportedly implemented a ground stop for all flights early today because of a communication problem. However, American Airlines stated earlier that the outage did not affect its operations, reported Reuters. Related: Microsoft Outage Wreaks Havoc On World As 911, International Airlines, Banks And Airport Services Disrupted (UPDATED) The outage began at approximately 6 p.m. ET on Thursday, affecting a subset of its customers with issues in multiple Azure services in the Central U.S. region. Azure is a cloud computing platform that offers services for building, deploying, and managing applications and services. Other low-cost carriers, including Frontier Group Holdings Inc. (NASDAQ:ULCC), Allegiant Travel Company (NASDAQ:ALGT), and&nbsp;Sun Country Airlines Holdings, Inc. (NASDAQ:SNCY), experienced outages that affected their day-to-day operations. Investors can&nbsp;gain access to&nbsp;the stock via&nbsp;U.S.&nbsp;Global Jets ETF (NYSE:JETS) and&nbsp;First Trust Nasdaq Transportation ETF (NASDAQ:FTXR). Also Read: CrowdStrike Shares Trim Heavy Losses As Microsoft Announces Resolution Of Global Tech Outage: &#8216;This Is Clearly A Major Black Eye&#8217; Price Action: AAL shares are up 0.09% at $10.61 premarket at the last check Friday. Disclaimer: This content was partially produced with the help of AI tools and was reviewed and published by Benzinga editors. Photo via Shutterstock',\n",
       "   \"Shares of Apple, Inc. (NASDAQ:AAPL) fell modestly in premarket trading on Friday, and this assumes importance because all of its Magnificent 7 peers are staring down the barrel. On Thursday, after the market closed, Apple announced that its fiscal year 2024 third-quarter revenue and earnings per share both surpassed expectations and showed growth compared to the previous year. The stock did not respond positively in the after-hours session, as skeptics highlighted concerns about weakness in China. On the earnings call, Team Tim Cook guided September quarter revenue above the Street estimate and also talked up the company&#8217;s AI prospects. Reacting to the results, Wedbush analyst Daniel Ives upped his price target for the stock from $275 to $28 and maintained an Outperform rating. The analyst said it was a &#8220;Gold-medal performance,&#8221; adding that the conference call was upbeat. He sees the stronger September guidance as just the &#8220;opening act for the main event which is an AI-driven super cycle starting with iPhone 16 launching in mid-September.&#8221; Tech venture capitalist and Deepwater Asset Management Managing Partner Gene Munster said, &#8220;Apple's flywheel is flying,&#8221; said Munster, referring to the active installed base that hit a new record. &#8220;Big picture is it's all about FY25 and FY26 iPhone, Mac and iPad powered by Apple Intelligence.&#8221; See Also: Everything You Need to Know About Apple Stock In premarket trading, Apple stock edged down 0.09% to $218.17, according to Benzinga Pro data. Among peers: Nvidia Corp. (NASDAQ:NVDA) fell 4.40% to $104.40. Alphabet Inc. (NASDAQ:GOOGL) (NASDAQ:GOOG) fell 1.94% to $167.45. Microsoft Corporation (NASDAQ:MSFT) slipped 1.88% to $409.25. Amazon.com, Inc. (NASDAQ:AMZN) tumbled 8.36% to $168.68. Meta Platforms, Inc. (NASDAQ:META) slipped a more modest 0.72% to $494.12. Tesla, Inc. (NASDAQ:TSLA) fell 0.82% to $215.09. Read Next: Chip Stocks Staring At Another Bloodbath As Intel Tumbles, Nvidia Dips 4%, ASML Crumbles Over 6%: What&#8217;s Ailing The Sector Friday Photo: Peppinuzzo/Shutterstock\",\n",
       "   'Apple Inc. (NASDAQ:AAPL) is losing its mojo in China&#8217;s crucial market as its domestic players gain ground. The uncertainty regarding the availability of the Apple Intelligence feature in the country is an additional downer. The iPhone maker&#8217;s market share in China plunged to sixth place from third in the second quarter of 2024. According to Canalys, Apple had a market share of 14%, down by two basis points year-on-year. Also Read: China&#8217;s Markets Still Manage To Get Nvidia AI Chips Via Smuggling: Report China&#8217;s smartphone shipment grew 10% year-on-year to over 70 million units in the second quarter. Vivo emerged as the number one with a 19% market share by shipping 13.1 million units, up by 15% year-on-year, driven by solid performance in offline channels and robust online sales during the Chinese e-commerce festival. OPPO remained in second position with a 16% market share after shipping 11.3 million units. HONOR came third with a market share of 15%, backed by shipments of 10.7 million units, implying a 4% growth year-on-year. Huawei Technologies Co bagged the fourth position with a 15% market share supported by shipments of 10.6 million units, which grew by 41% year-on-year. Xiaomi Corp (OTC:XIACF) (OTC:XIACY) came fifth with a market share of 14%, backed by a 17% year-on-year shipment increase to 10 million units. Canalys attributed the local brands&#8217; success to the early significant discounts and promotions backed by offline channel enhancements. The local brands continue to tap the Chinese premium smartphone market by integrating generative artificial intelligence, and their deep collaboration with regional supply chains is a significant advantage, Canalys noted. Canalys also flagged Apple&#8217;s struggle to maintain adequate inventory levels, keep retail prices in check, and maintain the margins of channel partners. Huawei&#8217;s $2,800 Mate XT trifold phone launching on September 20 coincides with the release of the iPhone 16 models. Apple&#8217;s iPhone 16 Pro Max&nbsp;starts at $1,199, while the standard iPhone 16 is $799. International Data Corporation (IDC)&nbsp;expects global smartphone shipments to increase by 5.8% to 1.23 billion units in 2024, marking a recovery with generative AI posing as a significant catalyst. However, due to higher competition in China, Android growth is expected to beat Apple iOS. As per IDC, Apple&#8217;s success hinges on its capability to forge&nbsp;local AI partnerships&nbsp;in China. Ivan Lam, senior analyst at Counterpoint Research told SCMP that iPhone market share in the premium segment will likely decline as Huawei and other Chinese brands gain traction. Apple has not yet revealed its plans for AI integration in China, which could place it at a disadvantage in the race to implement AI, SCMP cites Canalys analyst Lucas Zhong. However, Lam noted that pent-up demand for iPhone upgrades may still boost sales in China. Price Action: AAPL stock closed at $222.66 on Wednesday. image via Shutterstock']]}"
      ]
     },
     "execution_count": 8,
     "metadata": {},
     "output_type": "execute_result"
    }
   ],
   "source": [
    "d = {}\n",
    "d['val'] = s1['key']\n",
    "d"
   ]
  },
  {
   "cell_type": "code",
   "execution_count": 3,
   "metadata": {},
   "outputs": [],
   "source": [
    "import ast\n",
    "s1 = ast.literal_eval(s)"
   ]
  },
  {
   "cell_type": "code",
   "execution_count": 6,
   "metadata": {},
   "outputs": [
    {
     "data": {
      "text/plain": [
       "\"To gain an edge, this is what you need to know today. Hope Pinned On Apple Intelligence Please click here for an enlarged chart of Apple Inc (NASDAQ:AAPL). Note the following: This article is about the big picture, not an individual stock.&nbsp; The chart of AAPL stock is being used to illustrate the point. The chart shows when the iPhone 15 was launched. The chart shows the move from iPhone 15 launch to today's iPhone 16 launch. Investors are hopeful that the move in AAPL stock from the iPhone 16 launch to the iPhone 17 will be much bigger compared to the stock move between the launch of iPhone 15 and iPhone 16. The chart shows that even though investors have stars in their eyes, for the short term, AAPL stock has traced a negative pattern. The chart shows that AAPL stock hit the top of the resistance zone in July. The chart shows that AAPL stock failed to penetrate the resistance zone. The chart shows that after AAPL stock failed to penetrate the resistance zone, it fell all the way to the bottom band of the support zone. The chart shows that AAPL stock rallied after falling to the bottom of the support zone. The chart shows that the rally stopped at the low band of the resistance zone. Investors are mostly focused on hopes that Apple Intelligence, the name for Apple's artificial intelligence, will start a new super cycle of iPhone sales, and thus lift Apple sales from being sluggish for a long time. Even though there is a lot of exuberance about Apple Intelligence, prudent investors need to remember that the momo crowd focuses only on the bullish factors and ignores the negative factors.&nbsp; In contrast, smart money takes into account both positive and negative factors. There are several negative factors about Apple that the stock market is ignoring right now that prudent investors should be aware of: Apple intelligence will likely not be available in the European Union and China. Even in the U.S., most Apple Intelligence features will not be available right away. The launch of all Apple Intelligence features is staggered over a long period of time. The fact that Apple Intelligence that will initially be present in the iPhone is only half baked may delay the super cycle. The marketing hype about Apple Intelligence is way more than reality. Apple does not own its AI.&nbsp; Apple is licensing its AI from OpenAI. The model behind the AI that Apple is offering is not running on the iPhone or on Apple servers.&nbsp; The model appears to be running on &nbsp;NVIDIA Corp (NASDAQ:NVDA) based servers owned by Microsoft Corp (NASDAQ:MSFT). Apple has been receiving $20B per year from Alphabet Inc Class C (NASDAQ:GOOG) to make Google the default search.&nbsp; A judge has ruled that Google is a monopolist.&nbsp; In due course, the government may force Google to stop paying $20B to Apple. In China, Apple is losing market share to Huawei. Many Chinese believe that Huawei phones are superior to the iPhone. Huawei is trying to crash Apple's iPhone part by introducing the world's first tri-fold phone. Due to geopolitics between the U.S. and China, nationalist sentiment in China is rising against the U.S.&nbsp; This poses a significant risk to Apple since about 20% of Apple sales come from China. We understand that investors are very loyal to Apple.&nbsp; Before sending us hate email for doing a comprehensive analysis, note that Apple is the largest position in The Arora Report&#8217;s ZYX Buy Model Portfolio.&nbsp; Long time members of The Arora Report are long AAPL stock from $4.68. Note that Warren Buffett has been selling AAPL stock. Prudent investors should also be aware that Apple can easily manipulate its stock.&nbsp; After the last Apple event when Apple had carefully staged to run up its stock, Apple stock started falling.&nbsp; Apple aggressively bought its own stock to cause a technical breakout.&nbsp;&nbsp; Apple is clearly anxious about today's event, as demonstrated by the fact that this event is taking place on a Monday, whereas Apple generally does not hold major events on Mondays.&nbsp; Apple is trying to get ahead of a potential European Commission decision on Apple being forced to pay $14B in taxes.&nbsp;&nbsp; There is aggressive buying in stocks this morning due to two reasons: A short squeeze is occurring. The technical pattern with the stock market, especially AI stocks traced on Friday afternoon, historically leads to a selloff on Monday.&nbsp;&nbsp;When stock futures did not open much lower on Sunday night, a short squeeze started.&nbsp; As the night went on, the short squeeze accelerated. The reason stock futures did not open much lower is because Japanese yen weakened.&nbsp; The weakening yen has saved AI stocks from a blood bath this morning.&nbsp;&nbsp; The fact that a short squeeze and weakening yen saved the stock market means that prudent investors should not become complacent.&nbsp; Pay attention to the protection band.&nbsp; See the Protection Band And What To Do Now section below.&nbsp;&nbsp;&nbsp;&nbsp; Magnificent Seven Money Flows In the early trade, money flows are positive in Amazon.com, Inc. (NASDAQ:AMZN), NVDA, MSFT, GOOG, Meta Platforms Inc (NASDAQ:META), and Tesla Inc (NASDAQ:TSLA). In the early trade, money flows are negative in AAPL. In the early trade, money flows are positive in SPDR S&amp;P 500 ETF Trust (NYSE:SPY) and Invesco QQQ Trust Series 1 (NASDAQ:QQQ). Momo Crowd And Smart Money In Stocks Investors can gain an edge by knowing money flows in SPY and QQQ. Investors can get a bigger edge by knowing when smart money is buying stocks, gold, and oil. The most popular ETF for gold is SPDR Gold Trust (NYSE:GLD). The most popular ETF for silver is iShares Silver Trust (NYSE:SLV). The most popular ETF for oil is United States Oil ETF (NYSE:USO). Bitcoin Bitcoin (CRYPTO: BTC) is range bound.&nbsp; Bitcoin ETFs have seen a negative money flow of $1.2B in the last eight days.&nbsp; This is the longest streak of negative money flows in bitcoins ETFs.&nbsp;&nbsp;&nbsp; Protection Band And What To Do Now It is important for investors to look ahead and not in the rearview mirror. Consider continuing to hold good, very long term, existing positions. Based on individual risk preference, consider a protection band consisting of cash or Treasury bills or short-term tactical trades as well as short to medium term hedges and short term hedges. This is a good way to protect yourself and participate in the upside at the same time. You can determine your protection bands by adding cash to hedges.&nbsp; The high band of the protection is appropriate for those who are older or conservative. The low band of the protection is appropriate for those who are younger or aggressive.&nbsp; If you do not hedge, the total cash level should be more than stated above but significantly less than cash plus hedges. A protection band of 0% would be very bullish and would indicate full investment with 0% in cash.&nbsp; A protection band of 100% would be very bearish and would indicate a need for aggressive protection with cash and hedges or aggressive short selling. It is worth reminding that you cannot take advantage of new upcoming opportunities if you are not holding enough cash.&nbsp; When adjusting hedge levels, consider adjusting partial stop quantities for stock positions (non ETF); consider using wider stops on remaining quantities and also allowing more room for high beta stocks.&nbsp; High beta stocks are the ones that move more than the market. Traditional 60/40 Portfolio Probability based risk reward adjusted for inflation does not favor long duration strategic bond allocation at this time. Those who want to stick to traditional 60% allocation to stocks and 40% to bonds may consider focusing on only high quality bonds and bonds of five year duration or less.&nbsp; Those willing to bring sophistication to their investing may consider using bond ETFs as tactical positions and not strategic positions at this time. The Arora Report is known for its accurate calls. The Arora Report correctly called the big artificial intelligence rally before anyone else, the new bull market of 2023, the bear market of 2022, new stock market highs right after the virus low in 2020, the virus drop in 2020, the DJIA rally to 30,000 when it was trading at 16,000, the start of a mega bull market in 2009, and the financial crash of 2008. Please click here to sign up for a free forever Generate Wealth Newsletter.\""
      ]
     },
     "execution_count": 6,
     "metadata": {},
     "output_type": "execute_result"
    }
   ],
   "source": [
    "s1['key'][0][0]"
   ]
  },
  {
   "cell_type": "code",
   "execution_count": 6,
   "metadata": {},
   "outputs": [
    {
     "name": "stderr",
     "output_type": "stream",
     "text": [
      "d:\\Raghu Studies\\FinancialAdvisor\\.src_financial_advisor\\Lib\\site-packages\\tqdm\\auto.py:21: TqdmWarning: IProgress not found. Please update jupyter and ipywidgets. See https://ipywidgets.readthedocs.io/en/stable/user_install.html\n",
      "  from .autonotebook import tqdm as notebook_tqdm\n",
      "You are using the default legacy behaviour of the <class 'transformers.models.t5.tokenization_t5.T5Tokenizer'>. This is expected, and simply means that the `legacy` (previous) behavior will be used so nothing changes for you. If you want to use the new behaviour, set `legacy=False`. This should only be set if you understand what it means, and thoroughly read the reason why this was added as explained in https://github.com/huggingface/transformers/pull/24565\n"
     ]
    }
   ],
   "source": [
    "from transformers import T5Tokenizer, T5ForConditionalGeneration\n",
    "\n",
    "# Load the T5 model and tokenizer\n",
    "model_name = \"t5-base\"\n",
    "tokenizer = T5Tokenizer.from_pretrained(model_name)\n",
    "model = T5ForConditionalGeneration.from_pretrained(model_name)"
   ]
  },
  {
   "cell_type": "code",
   "execution_count": 7,
   "metadata": {},
   "outputs": [],
   "source": [
    "text = \" \".join(results['documents'][0])"
   ]
  },
  {
   "cell_type": "code",
   "execution_count": 8,
   "metadata": {},
   "outputs": [],
   "source": [
    "inputs=tokenizer.encode(\"sumarize: \" +text,return_tensors='pt', max_length=2048, truncation=True)"
   ]
  },
  {
   "cell_type": "code",
   "execution_count": 9,
   "metadata": {},
   "outputs": [],
   "source": [
    "output = model.generate(inputs, min_length=80, max_length=512)"
   ]
  },
  {
   "cell_type": "code",
   "execution_count": 11,
   "metadata": {},
   "outputs": [
    {
     "name": "stdout",
     "output_type": "stream",
     "text": [
      "('a short squeeze is occurring in the stock market, and the weakening yen has '\n",
      " 'saved the stock. smart money is buying stocks, silver, and oil. a protection '\n",
      " 'band of 0% would be bullish and would indicate full investment with 0% in '\n",
      " 'cash. a protection band of 100% would be bearish and would indicate a need '\n",
      " 'for aggressive short selling.')\n"
     ]
    }
   ],
   "source": [
    "from pprint import pprint\n",
    "summary=tokenizer.decode(output[0], skip_special_tokens=True)\n",
    "pprint(summary)"
   ]
  },
  {
   "cell_type": "code",
   "execution_count": 23,
   "metadata": {},
   "outputs": [],
   "source": [
    "type(summary)\n",
    "import json"
   ]
  },
  {
   "cell_type": "code",
   "execution_count": 24,
   "metadata": {},
   "outputs": [
    {
     "data": {
      "text/plain": [
       "'a short squeeze is occurring in the stock market, and the weakening yen has saved the stock. smart money is buying stocks, silver, and oil. a protection band of 0% would be bullish and would indicate full investment with 0% in cash. a protection band of 100% would be bearish and would indicate a need for aggressive short selling.'"
      ]
     },
     "execution_count": 24,
     "metadata": {},
     "output_type": "execute_result"
    }
   ],
   "source": [
    "summary"
   ]
  },
  {
   "cell_type": "code",
   "execution_count": 25,
   "metadata": {},
   "outputs": [],
   "source": [
    "from kafka import KafkaProducer\n",
    "producer = KafkaProducer(\n",
    "        bootstrap_servers='localhost:9092',\n",
    "        value_serializer=lambda v: json.dumps(v).encode('utf-8')\n",
    "    )\n",
    "    \n",
    "producer.send('quickstart-events', summary)\n",
    "producer.flush()"
   ]
  },
  {
   "cell_type": "code",
   "execution_count": 26,
   "metadata": {},
   "outputs": [],
   "source": [
    "from kafka import KafkaConsumer"
   ]
  },
  {
   "cell_type": "code",
   "execution_count": 27,
   "metadata": {},
   "outputs": [],
   "source": [
    "consumer = KafkaConsumer(\n",
    "    'quickstart-events',               # Topic name\n",
    "    bootstrap_servers='localhost:9092',  # Kafka broker\n",
    "    auto_offset_reset='earliest',        # Start at the earliest available message\n",
    "    enable_auto_commit=True,             # Automatically commit offsets\n",
    "    group_id='my-quickstart-group',      # Consumer group ID\n",
    "    value_deserializer=lambda x: x.decode('utf-8')  # Decode message from bytes to string\n",
    "    )"
   ]
  },
  {
   "cell_type": "code",
   "execution_count": 28,
   "metadata": {},
   "outputs": [
    {
     "ename": "KeyboardInterrupt",
     "evalue": "",
     "output_type": "error",
     "traceback": [
      "\u001b[1;31m---------------------------------------------------------------------------\u001b[0m",
      "\u001b[1;31mKeyboardInterrupt\u001b[0m                         Traceback (most recent call last)",
      "Cell \u001b[1;32mIn[28], line 1\u001b[0m\n\u001b[1;32m----> 1\u001b[0m \u001b[38;5;28;43;01mfor\u001b[39;49;00m\u001b[43m \u001b[49m\u001b[43mmessage\u001b[49m\u001b[43m \u001b[49m\u001b[38;5;129;43;01min\u001b[39;49;00m\u001b[43m \u001b[49m\u001b[43mconsumer\u001b[49m\u001b[43m:\u001b[49m\n\u001b[0;32m      2\u001b[0m \u001b[43m    \u001b[49m\u001b[38;5;66;43;03m# Print consumed message\u001b[39;49;00m\n\u001b[0;32m      3\u001b[0m \u001b[43m    \u001b[49m\u001b[38;5;28;43mprint\u001b[39;49m\u001b[43m(\u001b[49m\u001b[38;5;124;43mf\u001b[39;49m\u001b[38;5;124;43m\"\u001b[39;49m\u001b[38;5;124;43mMessage consumed: \u001b[39;49m\u001b[38;5;132;43;01m{\u001b[39;49;00m\u001b[43mmessage\u001b[49m\u001b[38;5;241;43m.\u001b[39;49m\u001b[43mvalue\u001b[49m\u001b[38;5;132;43;01m}\u001b[39;49;00m\u001b[38;5;124;43m of type \u001b[39;49m\u001b[38;5;132;43;01m{\u001b[39;49;00m\u001b[38;5;28;43mtype\u001b[39;49m\u001b[43m(\u001b[49m\u001b[43mmessage\u001b[49m\u001b[43m)\u001b[49m\u001b[38;5;132;43;01m}\u001b[39;49;00m\u001b[38;5;124;43m from partition \u001b[39;49m\u001b[38;5;132;43;01m{\u001b[39;49;00m\u001b[43mmessage\u001b[49m\u001b[38;5;241;43m.\u001b[39;49m\u001b[43mpartition\u001b[49m\u001b[38;5;132;43;01m}\u001b[39;49;00m\u001b[38;5;124;43m, offset \u001b[39;49m\u001b[38;5;132;43;01m{\u001b[39;49;00m\u001b[43mmessage\u001b[49m\u001b[38;5;241;43m.\u001b[39;49m\u001b[43moffset\u001b[49m\u001b[38;5;132;43;01m}\u001b[39;49;00m\u001b[38;5;124;43m\"\u001b[39;49m\u001b[43m)\u001b[49m\n\u001b[0;32m      4\u001b[0m \u001b[43m    \u001b[49m\u001b[43mdata\u001b[49m\u001b[43m \u001b[49m\u001b[38;5;241;43m=\u001b[39;49m\u001b[43m \u001b[49m\u001b[43mmessage\u001b[49m\u001b[38;5;241;43m.\u001b[39;49m\u001b[43mvalue\u001b[49m\n",
      "File \u001b[1;32md:\\Raghu Studies\\FinancialAdvisor\\.src_financial_advisor\\Lib\\site-packages\\kafka\\consumer\\group.py:1193\u001b[0m, in \u001b[0;36mKafkaConsumer.__next__\u001b[1;34m(self)\u001b[0m\n\u001b[0;32m   1191\u001b[0m     \u001b[38;5;28;01mreturn\u001b[39;00m \u001b[38;5;28mself\u001b[39m\u001b[38;5;241m.\u001b[39mnext_v1()\n\u001b[0;32m   1192\u001b[0m \u001b[38;5;28;01melse\u001b[39;00m:\n\u001b[1;32m-> 1193\u001b[0m     \u001b[38;5;28;01mreturn\u001b[39;00m \u001b[38;5;28;43mself\u001b[39;49m\u001b[38;5;241;43m.\u001b[39;49m\u001b[43mnext_v2\u001b[49m\u001b[43m(\u001b[49m\u001b[43m)\u001b[49m\n",
      "File \u001b[1;32md:\\Raghu Studies\\FinancialAdvisor\\.src_financial_advisor\\Lib\\site-packages\\kafka\\consumer\\group.py:1201\u001b[0m, in \u001b[0;36mKafkaConsumer.next_v2\u001b[1;34m(self)\u001b[0m\n\u001b[0;32m   1199\u001b[0m     \u001b[38;5;28mself\u001b[39m\u001b[38;5;241m.\u001b[39m_iterator \u001b[38;5;241m=\u001b[39m \u001b[38;5;28mself\u001b[39m\u001b[38;5;241m.\u001b[39m_message_generator_v2()\n\u001b[0;32m   1200\u001b[0m \u001b[38;5;28;01mtry\u001b[39;00m:\n\u001b[1;32m-> 1201\u001b[0m     \u001b[38;5;28;01mreturn\u001b[39;00m \u001b[38;5;28;43mnext\u001b[39;49m\u001b[43m(\u001b[49m\u001b[38;5;28;43mself\u001b[39;49m\u001b[38;5;241;43m.\u001b[39;49m\u001b[43m_iterator\u001b[49m\u001b[43m)\u001b[49m\n\u001b[0;32m   1202\u001b[0m \u001b[38;5;28;01mexcept\u001b[39;00m \u001b[38;5;167;01mStopIteration\u001b[39;00m:\n\u001b[0;32m   1203\u001b[0m     \u001b[38;5;28mself\u001b[39m\u001b[38;5;241m.\u001b[39m_iterator \u001b[38;5;241m=\u001b[39m \u001b[38;5;28;01mNone\u001b[39;00m\n",
      "File \u001b[1;32md:\\Raghu Studies\\FinancialAdvisor\\.src_financial_advisor\\Lib\\site-packages\\kafka\\consumer\\group.py:1116\u001b[0m, in \u001b[0;36mKafkaConsumer._message_generator_v2\u001b[1;34m(self)\u001b[0m\n\u001b[0;32m   1114\u001b[0m \u001b[38;5;28;01mdef\u001b[39;00m \u001b[38;5;21m_message_generator_v2\u001b[39m(\u001b[38;5;28mself\u001b[39m):\n\u001b[0;32m   1115\u001b[0m     timeout_ms \u001b[38;5;241m=\u001b[39m \u001b[38;5;241m1000\u001b[39m \u001b[38;5;241m*\u001b[39m (\u001b[38;5;28mself\u001b[39m\u001b[38;5;241m.\u001b[39m_consumer_timeout \u001b[38;5;241m-\u001b[39m time\u001b[38;5;241m.\u001b[39mtime())\n\u001b[1;32m-> 1116\u001b[0m     record_map \u001b[38;5;241m=\u001b[39m \u001b[38;5;28;43mself\u001b[39;49m\u001b[38;5;241;43m.\u001b[39;49m\u001b[43mpoll\u001b[49m\u001b[43m(\u001b[49m\u001b[43mtimeout_ms\u001b[49m\u001b[38;5;241;43m=\u001b[39;49m\u001b[43mtimeout_ms\u001b[49m\u001b[43m,\u001b[49m\u001b[43m \u001b[49m\u001b[43mupdate_offsets\u001b[49m\u001b[38;5;241;43m=\u001b[39;49m\u001b[38;5;28;43;01mFalse\u001b[39;49;00m\u001b[43m)\u001b[49m\n\u001b[0;32m   1117\u001b[0m     \u001b[38;5;28;01mfor\u001b[39;00m tp, records \u001b[38;5;129;01min\u001b[39;00m six\u001b[38;5;241m.\u001b[39miteritems(record_map):\n\u001b[0;32m   1118\u001b[0m         \u001b[38;5;66;03m# Generators are stateful, and it is possible that the tp / records\u001b[39;00m\n\u001b[0;32m   1119\u001b[0m         \u001b[38;5;66;03m# here may become stale during iteration -- i.e., we seek to a\u001b[39;00m\n\u001b[0;32m   1120\u001b[0m         \u001b[38;5;66;03m# different offset, pause consumption, or lose assignment.\u001b[39;00m\n\u001b[0;32m   1121\u001b[0m         \u001b[38;5;28;01mfor\u001b[39;00m record \u001b[38;5;129;01min\u001b[39;00m records:\n\u001b[0;32m   1122\u001b[0m             \u001b[38;5;66;03m# is_fetchable(tp) should handle assignment changes and offset\u001b[39;00m\n\u001b[0;32m   1123\u001b[0m             \u001b[38;5;66;03m# resets; for all other changes (e.g., seeks) we'll rely on the\u001b[39;00m\n\u001b[0;32m   1124\u001b[0m             \u001b[38;5;66;03m# outer function destroying the existing iterator/generator\u001b[39;00m\n\u001b[0;32m   1125\u001b[0m             \u001b[38;5;66;03m# via self._iterator = None\u001b[39;00m\n",
      "File \u001b[1;32md:\\Raghu Studies\\FinancialAdvisor\\.src_financial_advisor\\Lib\\site-packages\\kafka\\consumer\\group.py:655\u001b[0m, in \u001b[0;36mKafkaConsumer.poll\u001b[1;34m(self, timeout_ms, max_records, update_offsets)\u001b[0m\n\u001b[0;32m    653\u001b[0m remaining \u001b[38;5;241m=\u001b[39m timeout_ms\n\u001b[0;32m    654\u001b[0m \u001b[38;5;28;01mwhile\u001b[39;00m \u001b[38;5;28;01mTrue\u001b[39;00m:\n\u001b[1;32m--> 655\u001b[0m     records \u001b[38;5;241m=\u001b[39m \u001b[38;5;28;43mself\u001b[39;49m\u001b[38;5;241;43m.\u001b[39;49m\u001b[43m_poll_once\u001b[49m\u001b[43m(\u001b[49m\u001b[43mremaining\u001b[49m\u001b[43m,\u001b[49m\u001b[43m \u001b[49m\u001b[43mmax_records\u001b[49m\u001b[43m,\u001b[49m\u001b[43m \u001b[49m\u001b[43mupdate_offsets\u001b[49m\u001b[38;5;241;43m=\u001b[39;49m\u001b[43mupdate_offsets\u001b[49m\u001b[43m)\u001b[49m\n\u001b[0;32m    656\u001b[0m     \u001b[38;5;28;01mif\u001b[39;00m records:\n\u001b[0;32m    657\u001b[0m         \u001b[38;5;28;01mreturn\u001b[39;00m records\n",
      "File \u001b[1;32md:\\Raghu Studies\\FinancialAdvisor\\.src_financial_advisor\\Lib\\site-packages\\kafka\\consumer\\group.py:675\u001b[0m, in \u001b[0;36mKafkaConsumer._poll_once\u001b[1;34m(self, timeout_ms, max_records, update_offsets)\u001b[0m\n\u001b[0;32m    665\u001b[0m \u001b[38;5;28;01mdef\u001b[39;00m \u001b[38;5;21m_poll_once\u001b[39m(\u001b[38;5;28mself\u001b[39m, timeout_ms, max_records, update_offsets\u001b[38;5;241m=\u001b[39m\u001b[38;5;28;01mTrue\u001b[39;00m):\n\u001b[0;32m    666\u001b[0m \u001b[38;5;250m    \u001b[39m\u001b[38;5;124;03m\"\"\"Do one round of polling. In addition to checking for new data, this does\u001b[39;00m\n\u001b[0;32m    667\u001b[0m \u001b[38;5;124;03m    any needed heart-beating, auto-commits, and offset updates.\u001b[39;00m\n\u001b[0;32m    668\u001b[0m \n\u001b[1;32m   (...)\u001b[0m\n\u001b[0;32m    673\u001b[0m \u001b[38;5;124;03m        dict: Map of topic to list of records (may be empty).\u001b[39;00m\n\u001b[0;32m    674\u001b[0m \u001b[38;5;124;03m    \"\"\"\u001b[39;00m\n\u001b[1;32m--> 675\u001b[0m     \u001b[38;5;28;43mself\u001b[39;49m\u001b[38;5;241;43m.\u001b[39;49m\u001b[43m_coordinator\u001b[49m\u001b[38;5;241;43m.\u001b[39;49m\u001b[43mpoll\u001b[49m\u001b[43m(\u001b[49m\u001b[43m)\u001b[49m\n\u001b[0;32m    677\u001b[0m     \u001b[38;5;66;03m# Fetch positions if we have partitions we're subscribed to that we\u001b[39;00m\n\u001b[0;32m    678\u001b[0m     \u001b[38;5;66;03m# don't know the offset for\u001b[39;00m\n\u001b[0;32m    679\u001b[0m     \u001b[38;5;28;01mif\u001b[39;00m \u001b[38;5;129;01mnot\u001b[39;00m \u001b[38;5;28mself\u001b[39m\u001b[38;5;241m.\u001b[39m_subscription\u001b[38;5;241m.\u001b[39mhas_all_fetch_positions():\n",
      "File \u001b[1;32md:\\Raghu Studies\\FinancialAdvisor\\.src_financial_advisor\\Lib\\site-packages\\kafka\\coordinator\\consumer.py:289\u001b[0m, in \u001b[0;36mConsumerCoordinator.poll\u001b[1;34m(self)\u001b[0m\n\u001b[0;32m    286\u001b[0m             metadata_update \u001b[38;5;241m=\u001b[39m \u001b[38;5;28mself\u001b[39m\u001b[38;5;241m.\u001b[39m_client\u001b[38;5;241m.\u001b[39mcluster\u001b[38;5;241m.\u001b[39mrequest_update()\n\u001b[0;32m    287\u001b[0m             \u001b[38;5;28mself\u001b[39m\u001b[38;5;241m.\u001b[39m_client\u001b[38;5;241m.\u001b[39mpoll(future\u001b[38;5;241m=\u001b[39mmetadata_update)\n\u001b[1;32m--> 289\u001b[0m         \u001b[38;5;28;43mself\u001b[39;49m\u001b[38;5;241;43m.\u001b[39;49m\u001b[43mensure_active_group\u001b[49m\u001b[43m(\u001b[49m\u001b[43m)\u001b[49m\n\u001b[0;32m    291\u001b[0m     \u001b[38;5;28mself\u001b[39m\u001b[38;5;241m.\u001b[39mpoll_heartbeat()\n\u001b[0;32m    293\u001b[0m \u001b[38;5;28mself\u001b[39m\u001b[38;5;241m.\u001b[39m_maybe_auto_commit_offsets_async()\n",
      "File \u001b[1;32md:\\Raghu Studies\\FinancialAdvisor\\.src_financial_advisor\\Lib\\site-packages\\kafka\\coordinator\\base.py:407\u001b[0m, in \u001b[0;36mBaseCoordinator.ensure_active_group\u001b[1;34m(self)\u001b[0m\n\u001b[0;32m    404\u001b[0m \u001b[38;5;28;01melse\u001b[39;00m:\n\u001b[0;32m    405\u001b[0m     future \u001b[38;5;241m=\u001b[39m \u001b[38;5;28mself\u001b[39m\u001b[38;5;241m.\u001b[39mjoin_future\n\u001b[1;32m--> 407\u001b[0m \u001b[38;5;28;43mself\u001b[39;49m\u001b[38;5;241;43m.\u001b[39;49m\u001b[43m_client\u001b[49m\u001b[38;5;241;43m.\u001b[39;49m\u001b[43mpoll\u001b[49m\u001b[43m(\u001b[49m\u001b[43mfuture\u001b[49m\u001b[38;5;241;43m=\u001b[39;49m\u001b[43mfuture\u001b[49m\u001b[43m)\u001b[49m\n\u001b[0;32m    409\u001b[0m \u001b[38;5;28;01mif\u001b[39;00m future\u001b[38;5;241m.\u001b[39msucceeded():\n\u001b[0;32m    410\u001b[0m     \u001b[38;5;28mself\u001b[39m\u001b[38;5;241m.\u001b[39m_on_join_complete(\u001b[38;5;28mself\u001b[39m\u001b[38;5;241m.\u001b[39m_generation\u001b[38;5;241m.\u001b[39mgeneration_id,\n\u001b[0;32m    411\u001b[0m                            \u001b[38;5;28mself\u001b[39m\u001b[38;5;241m.\u001b[39m_generation\u001b[38;5;241m.\u001b[39mmember_id,\n\u001b[0;32m    412\u001b[0m                            \u001b[38;5;28mself\u001b[39m\u001b[38;5;241m.\u001b[39m_generation\u001b[38;5;241m.\u001b[39mprotocol,\n\u001b[0;32m    413\u001b[0m                            future\u001b[38;5;241m.\u001b[39mvalue)\n",
      "File \u001b[1;32md:\\Raghu Studies\\FinancialAdvisor\\.src_financial_advisor\\Lib\\site-packages\\kafka\\client_async.py:602\u001b[0m, in \u001b[0;36mKafkaClient.poll\u001b[1;34m(self, timeout_ms, future)\u001b[0m\n\u001b[0;32m    599\u001b[0m             timeout \u001b[38;5;241m=\u001b[39m \u001b[38;5;28mmin\u001b[39m(timeout, \u001b[38;5;28mself\u001b[39m\u001b[38;5;241m.\u001b[39mconfig[\u001b[38;5;124m'\u001b[39m\u001b[38;5;124mretry_backoff_ms\u001b[39m\u001b[38;5;124m'\u001b[39m])\n\u001b[0;32m    600\u001b[0m         timeout \u001b[38;5;241m=\u001b[39m \u001b[38;5;28mmax\u001b[39m(\u001b[38;5;241m0\u001b[39m, timeout)  \u001b[38;5;66;03m# avoid negative timeouts\u001b[39;00m\n\u001b[1;32m--> 602\u001b[0m     \u001b[38;5;28;43mself\u001b[39;49m\u001b[38;5;241;43m.\u001b[39;49m\u001b[43m_poll\u001b[49m\u001b[43m(\u001b[49m\u001b[43mtimeout\u001b[49m\u001b[43m \u001b[49m\u001b[38;5;241;43m/\u001b[39;49m\u001b[43m \u001b[49m\u001b[38;5;241;43m1000\u001b[39;49m\u001b[43m)\u001b[49m\n\u001b[0;32m    604\u001b[0m \u001b[38;5;66;03m# called without the lock to avoid deadlock potential\u001b[39;00m\n\u001b[0;32m    605\u001b[0m \u001b[38;5;66;03m# if handlers need to acquire locks\u001b[39;00m\n\u001b[0;32m    606\u001b[0m responses\u001b[38;5;241m.\u001b[39mextend(\u001b[38;5;28mself\u001b[39m\u001b[38;5;241m.\u001b[39m_fire_pending_completed_requests())\n",
      "File \u001b[1;32md:\\Raghu Studies\\FinancialAdvisor\\.src_financial_advisor\\Lib\\site-packages\\kafka\\client_async.py:634\u001b[0m, in \u001b[0;36mKafkaClient._poll\u001b[1;34m(self, timeout)\u001b[0m\n\u001b[0;32m    631\u001b[0m \u001b[38;5;28mself\u001b[39m\u001b[38;5;241m.\u001b[39m_register_send_sockets()\n\u001b[0;32m    633\u001b[0m start_select \u001b[38;5;241m=\u001b[39m time\u001b[38;5;241m.\u001b[39mtime()\n\u001b[1;32m--> 634\u001b[0m ready \u001b[38;5;241m=\u001b[39m \u001b[38;5;28;43mself\u001b[39;49m\u001b[38;5;241;43m.\u001b[39;49m\u001b[43m_selector\u001b[49m\u001b[38;5;241;43m.\u001b[39;49m\u001b[43mselect\u001b[49m\u001b[43m(\u001b[49m\u001b[43mtimeout\u001b[49m\u001b[43m)\u001b[49m\n\u001b[0;32m    635\u001b[0m end_select \u001b[38;5;241m=\u001b[39m time\u001b[38;5;241m.\u001b[39mtime()\n\u001b[0;32m    636\u001b[0m \u001b[38;5;28;01mif\u001b[39;00m \u001b[38;5;28mself\u001b[39m\u001b[38;5;241m.\u001b[39m_sensors:\n",
      "File \u001b[1;32m~\\AppData\\Local\\Programs\\Python\\Python311\\Lib\\selectors.py:323\u001b[0m, in \u001b[0;36mSelectSelector.select\u001b[1;34m(self, timeout)\u001b[0m\n\u001b[0;32m    321\u001b[0m ready \u001b[38;5;241m=\u001b[39m []\n\u001b[0;32m    322\u001b[0m \u001b[38;5;28;01mtry\u001b[39;00m:\n\u001b[1;32m--> 323\u001b[0m     r, w, _ \u001b[38;5;241m=\u001b[39m \u001b[38;5;28;43mself\u001b[39;49m\u001b[38;5;241;43m.\u001b[39;49m\u001b[43m_select\u001b[49m\u001b[43m(\u001b[49m\u001b[38;5;28;43mself\u001b[39;49m\u001b[38;5;241;43m.\u001b[39;49m\u001b[43m_readers\u001b[49m\u001b[43m,\u001b[49m\u001b[43m \u001b[49m\u001b[38;5;28;43mself\u001b[39;49m\u001b[38;5;241;43m.\u001b[39;49m\u001b[43m_writers\u001b[49m\u001b[43m,\u001b[49m\u001b[43m \u001b[49m\u001b[43m[\u001b[49m\u001b[43m]\u001b[49m\u001b[43m,\u001b[49m\u001b[43m \u001b[49m\u001b[43mtimeout\u001b[49m\u001b[43m)\u001b[49m\n\u001b[0;32m    324\u001b[0m \u001b[38;5;28;01mexcept\u001b[39;00m \u001b[38;5;167;01mInterruptedError\u001b[39;00m:\n\u001b[0;32m    325\u001b[0m     \u001b[38;5;28;01mreturn\u001b[39;00m ready\n",
      "File \u001b[1;32m~\\AppData\\Local\\Programs\\Python\\Python311\\Lib\\selectors.py:314\u001b[0m, in \u001b[0;36mSelectSelector._select\u001b[1;34m(self, r, w, _, timeout)\u001b[0m\n\u001b[0;32m    313\u001b[0m \u001b[38;5;28;01mdef\u001b[39;00m \u001b[38;5;21m_select\u001b[39m(\u001b[38;5;28mself\u001b[39m, r, w, _, timeout\u001b[38;5;241m=\u001b[39m\u001b[38;5;28;01mNone\u001b[39;00m):\n\u001b[1;32m--> 314\u001b[0m     r, w, x \u001b[38;5;241m=\u001b[39m select\u001b[38;5;241m.\u001b[39mselect(r, w, w, timeout)\n\u001b[0;32m    315\u001b[0m     \u001b[38;5;28;01mreturn\u001b[39;00m r, w \u001b[38;5;241m+\u001b[39m x, []\n",
      "\u001b[1;31mKeyboardInterrupt\u001b[0m: "
     ]
    }
   ],
   "source": [
    "for message in consumer:\n",
    "    # Print consumed message\n",
    "    print(f\"Message consumed: {message.value} of type {type(message)} from partition {message.partition}, offset {message.offset}\")\n",
    "    data = message.value\n",
    "    break"
   ]
  },
  {
   "cell_type": "code",
   "execution_count": 1,
   "metadata": {},
   "outputs": [
    {
     "data": {
      "text/plain": [
       "{'text': 'mykey', 'key': 'value'}"
      ]
     },
     "execution_count": 1,
     "metadata": {},
     "output_type": "execute_result"
    }
   ],
   "source": [
    "import ast\n",
    "ast.literal_eval('{\"text\":\"mykey\",\"key\":\"value\"}')"
   ]
  },
  {
   "cell_type": "code",
   "execution_count": null,
   "metadata": {},
   "outputs": [],
   "source": []
  }
 ],
 "metadata": {
  "kernelspec": {
   "display_name": ".src_fin_advisor",
   "language": "python",
   "name": "python3"
  },
  "language_info": {
   "codemirror_mode": {
    "name": "ipython",
    "version": 3
   },
   "file_extension": ".py",
   "mimetype": "text/x-python",
   "name": "python",
   "nbconvert_exporter": "python",
   "pygments_lexer": "ipython3",
   "version": "3.11.5"
  }
 },
 "nbformat": 4,
 "nbformat_minor": 2
}
