{
 "cells": [
  {
   "cell_type": "code",
   "execution_count": null,
   "metadata": {},
   "outputs": [],
   "source": [
    "#https://docs.unsloth.ai/tutorials/how-to-finetune-llama-3-and-export-to-ollama\n",
    "#https://www.datacamp.com/tutorial/llama3-fine-tuning-locally"
   ]
  },
  {
   "cell_type": "markdown",
   "metadata": {},
   "source": [
    "# Pull using OLLAMA"
   ]
  },
  {
   "cell_type": "code",
   "execution_count": null,
   "metadata": {},
   "outputs": [],
   "source": [
    "# once the model is finetuned, download the gguf file and modelfile \n",
    "# Edit the model file to point to the actual file name\n",
    "# For windows, you can locate the keys in C:\\Users\\USER\\.ollama\n",
    "# Open the public key file id_ed25519 (starting with ssh)\n",
    "# add this public key to your ollama account (settings--> add public key)\n",
    "# Then push the model to ollama server"
   ]
  },
  {
   "cell_type": "code",
   "execution_count": 1,
   "metadata": {},
   "outputs": [],
   "source": [
    "merged_prompt = \"ABOUT_ME:{}QUESTION:{}CONTEXT:{}\""
   ]
  },
  {
   "cell_type": "code",
   "execution_count": 2,
   "metadata": {},
   "outputs": [],
   "source": [
    "import ollama\n",
    "client = ollama.Client()\n",
    "\n",
    "\n",
    "response = ollama.chat(model='mosrihari/unsloth_finance_alpaca', messages=[\n",
    "  {\"role\": \"user\", \"content\": merged_prompt.format(\n",
    "        \"I am 30 yeard old and I am planning on a long term investment\",\n",
    "        \"Should I invest in CDSL?\",\n",
    "        \"CDSL is a Central Depository where all the stocks when people invest go through that channel. Its a monopoly in India\"\n",
    "    )},\n",
    "])"
   ]
  },
  {
   "cell_type": "code",
   "execution_count": 3,
   "metadata": {},
   "outputs": [
    {
     "data": {
      "text/plain": [
       "{'model': 'mosrihari/unsloth_finance_alpaca',\n",
       " 'created_at': '2024-08-12T01:06:12.3753424Z',\n",
       " 'message': {'role': 'assistant',\n",
       "  'content': ' Invest in CDSL for long-term stability due to its monopoly status in Indian securities depository.'},\n",
       " 'done_reason': 'stop',\n",
       " 'done': True,\n",
       " 'total_duration': 7431760900,\n",
       " 'load_duration': 34114600,\n",
       " 'prompt_eval_count': 177,\n",
       " 'prompt_eval_duration': 716266000,\n",
       " 'eval_count': 20,\n",
       " 'eval_duration': 6666924000}"
      ]
     },
     "execution_count": 3,
     "metadata": {},
     "output_type": "execute_result"
    }
   ],
   "source": [
    "response"
   ]
  },
  {
   "cell_type": "code",
   "execution_count": null,
   "metadata": {},
   "outputs": [],
   "source": []
  }
 ],
 "metadata": {
  "kernelspec": {
   "display_name": ".src_financial_advisor",
   "language": "python",
   "name": "python3"
  },
  "language_info": {
   "codemirror_mode": {
    "name": "ipython",
    "version": 3
   },
   "file_extension": ".py",
   "mimetype": "text/x-python",
   "name": "python",
   "nbconvert_exporter": "python",
   "pygments_lexer": "ipython3",
   "version": "3.11.5"
  }
 },
 "nbformat": 4,
 "nbformat_minor": 2
}
