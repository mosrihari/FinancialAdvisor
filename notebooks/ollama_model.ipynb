{
 "cells": [
  {
   "cell_type": "code",
   "execution_count": null,
   "metadata": {},
   "outputs": [],
   "source": [
    "#https://docs.unsloth.ai/tutorials/how-to-finetune-llama-3-and-export-to-ollama\n",
    "#https://www.datacamp.com/tutorial/llama3-fine-tuning-locally"
   ]
  },
  {
   "cell_type": "code",
   "execution_count": 1,
   "metadata": {},
   "outputs": [],
   "source": [
    "import ollama"
   ]
  },
  {
   "cell_type": "code",
   "execution_count": 4,
   "metadata": {},
   "outputs": [
    {
     "data": {
      "text/plain": [
       "{'status': 'success'}"
      ]
     },
     "execution_count": 4,
     "metadata": {},
     "output_type": "execute_result"
    }
   ],
   "source": [
    "ollama.pull('llama3')"
   ]
  },
  {
   "cell_type": "code",
   "execution_count": 9,
   "metadata": {},
   "outputs": [],
   "source": [
    "messages = [\n",
    "  {\n",
    "    'role': 'user',\n",
    "    'content': 'What is the best way to learn anything?',\n",
    "  },\n",
    "]\n",
    "response = ollama.chat('llama3', messages=messages)"
   ]
  },
  {
   "cell_type": "code",
   "execution_count": 11,
   "metadata": {},
   "outputs": [
    {
     "data": {
      "text/plain": [
       "{'model': 'llama3',\n",
       " 'created_at': '2024-07-17T01:51:49.0606717Z',\n",
       " 'message': {'role': 'assistant',\n",
       "  'content': \"There are many effective ways to learn anything, and the best approach often depends on the individual, the subject matter, and personal learning style. Here are some of the most popular and effective methods:\\n\\n1. **Spaced repetition**: Review material at increasingly longer intervals to help solidify it in your long-term memory.\\n2. **Active recall**: Actively try to remember information rather than simply re-reading it. Quiz yourself or test your understanding with flashcards.\\n3. **Chunking**: Break down complex information into smaller, manageable chunks. This helps to reduce overwhelm and improve comprehension.\\n4. **Mnemonics**: Use associations, acronyms, or other memory aids to help encode information in your brain.\\n5. **Practice testing**: Test yourself on the material you're trying to learn. This helps to identify areas where you need to focus your studying.\\n6. **Real-world application**: Try to apply what you're learning to real-life situations. This helps to deepen understanding and build connections between concepts.\\n7. **Collaborative learning**: Learn with others, whether it's through group study sessions or online forums. Interacting with peers can stimulate new insights and perspectives.\\n8. **Multisensory approach**: Engage multiple senses (e.g., sight, sound, touch) when learning to help solidify information in your brain.\\n9. **Storytelling**: Use narratives or anecdotes to make complex concepts more relatable and memorable.\\n10. **Gamification**: Incorporate game-like elements, such as rewards or challenges, to make learning more engaging and enjoyable.\\n11. **Micro-learning**: Break down learning into shorter, focused chunks (e.g., 5-15 minute sessions). This can help improve retention and reduce burnout.\\n12. **Emotional connection**: Connect with the material emotionally by identifying its relevance to your goals, values, or passions.\\n13. **Reflective learning**: Reflect on what you've learned, what worked well, and what didn't. Adjust your approach as needed to optimize your learning process.\\n14. **Seeking feedback**: Seek feedback from others, whether it's through peer review, mentorship, or self-assessment. This helps to identify areas for improvement and refine your learning strategy.\\n15. **Consistency**: Make learning a regular habit by setting aside dedicated time each day or week. Consistency can help build momentum and improve retention.\\n\\nRemember that everyone learns differently, so it's essential to experiment with various methods to find what works best for you.\"},\n",
       " 'done_reason': 'stop',\n",
       " 'done': True,\n",
       " 'total_duration': 376683290700,\n",
       " 'load_duration': 4517372700,\n",
       " 'prompt_eval_count': 19,\n",
       " 'prompt_eval_duration': 8963861000,\n",
       " 'eval_count': 509,\n",
       " 'eval_duration': 363195556000}"
      ]
     },
     "execution_count": 11,
     "metadata": {},
     "output_type": "execute_result"
    }
   ],
   "source": [
    "response"
   ]
  },
  {
   "cell_type": "code",
   "execution_count": null,
   "metadata": {},
   "outputs": [],
   "source": []
  }
 ],
 "metadata": {
  "kernelspec": {
   "display_name": ".src_financial_advisor",
   "language": "python",
   "name": "python3"
  },
  "language_info": {
   "codemirror_mode": {
    "name": "ipython",
    "version": 3
   },
   "file_extension": ".py",
   "mimetype": "text/x-python",
   "name": "python",
   "nbconvert_exporter": "python",
   "pygments_lexer": "ipython3",
   "version": "3.11.5"
  }
 },
 "nbformat": 4,
 "nbformat_minor": 2
}
